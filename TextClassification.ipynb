{
 "cells": [
  {
   "cell_type": "markdown",
   "metadata": {},
   "source": [
    "# Introduction\n",
    "This notebook is intended to showcase a text classification proof-of-concept model, developed in TensorFlow.\n",
    "\n",
    "The dataset used for this notebook is the [Cornell Movie Review dataset](http://www.cs.cornell.edu/people/pabo/movie-review-data/)."
   ]
  },
  {
   "cell_type": "markdown",
   "metadata": {},
   "source": [
    "# Data Exploration and Analysis\n",
    "First, let's load our dataset into a `pandas` dataframe."
   ]
  },
  {
   "cell_type": "code",
   "execution_count": 1,
   "metadata": {},
   "outputs": [],
   "source": [
    "import pandas as pd\n",
    "%matplotlib inline"
   ]
  },
  {
   "cell_type": "code",
   "execution_count": 2,
   "metadata": {},
   "outputs": [],
   "source": [
    "df = pd.read_csv(\"./data/cornell_movie_review.csv\", index_col=0)"
   ]
  },
  {
   "cell_type": "markdown",
   "metadata": {},
   "source": [
    "Let's get an idea of what the dataset looks like here."
   ]
  },
  {
   "cell_type": "code",
   "execution_count": 3,
   "metadata": {},
   "outputs": [
    {
     "data": {
      "text/html": [
       "<div>\n",
       "<style scoped>\n",
       "    .dataframe tbody tr th:only-of-type {\n",
       "        vertical-align: middle;\n",
       "    }\n",
       "\n",
       "    .dataframe tbody tr th {\n",
       "        vertical-align: top;\n",
       "    }\n",
       "\n",
       "    .dataframe thead th {\n",
       "        text-align: right;\n",
       "    }\n",
       "</style>\n",
       "<table border=\"1\" class=\"dataframe\">\n",
       "  <thead>\n",
       "    <tr style=\"text-align: right;\">\n",
       "      <th></th>\n",
       "      <th>label</th>\n",
       "      <th>review</th>\n",
       "    </tr>\n",
       "    <tr>\n",
       "      <th>id</th>\n",
       "      <th></th>\n",
       "      <th></th>\n",
       "    </tr>\n",
       "  </thead>\n",
       "  <tbody>\n",
       "    <tr>\n",
       "      <th>1</th>\n",
       "      <td>pos</td>\n",
       "      <td>films adapted from comic books have had plenty...</td>\n",
       "    </tr>\n",
       "    <tr>\n",
       "      <th>2</th>\n",
       "      <td>pos</td>\n",
       "      <td>every now and then a movie comes along from a ...</td>\n",
       "    </tr>\n",
       "    <tr>\n",
       "      <th>3</th>\n",
       "      <td>pos</td>\n",
       "      <td>you've got mail works alot better than it dese...</td>\n",
       "    </tr>\n",
       "    <tr>\n",
       "      <th>4</th>\n",
       "      <td>pos</td>\n",
       "      <td>\" jaws \" is a rare film that grabs your atten...</td>\n",
       "    </tr>\n",
       "    <tr>\n",
       "      <th>5</th>\n",
       "      <td>pos</td>\n",
       "      <td>moviemaking is a lot like being the general ma...</td>\n",
       "    </tr>\n",
       "  </tbody>\n",
       "</table>\n",
       "</div>"
      ],
      "text/plain": [
       "   label                                             review\n",
       "id                                                         \n",
       "1    pos  films adapted from comic books have had plenty...\n",
       "2    pos  every now and then a movie comes along from a ...\n",
       "3    pos  you've got mail works alot better than it dese...\n",
       "4    pos   \" jaws \" is a rare film that grabs your atten...\n",
       "5    pos  moviemaking is a lot like being the general ma..."
      ]
     },
     "execution_count": 3,
     "metadata": {},
     "output_type": "execute_result"
    }
   ],
   "source": [
    "df.head()"
   ]
  },
  {
   "cell_type": "markdown",
   "metadata": {},
   "source": [
    "Hmm, it looks like **review** can't fully fit in the above table.  \n",
    "Let's grab the first review (1-indexed!) and see what it looks like:"
   ]
  },
  {
   "cell_type": "code",
   "execution_count": 4,
   "metadata": {},
   "outputs": [
    {
     "data": {
      "text/plain": [
       "'films adapted from comic books have had plenty of success , whether they\\'re about superheroes ( batman , superman , spawn ) , or geared toward kids ( casper ) or the arthouse crowd ( ghost world ) , but there\\'s never really been a comic book like from hell before .  for starters , it was created by alan moore ( and eddie campbell ) , who brought the medium to a whole new level in the mid \\'80s with a 12-part series called the watchmen .  to say moore and campbell thoroughly researched the subject of jack the ripper would be like saying michael jackson is starting to look a little odd .  the book ( or \" graphic novel , \" if you will ) is over 500 pages long and includes nearly 30 more that consist of nothing but footnotes .  in other words , don\\'t dismiss this film because of its source .  if you can get past the whole comic book thing , you might find another stumbling block in from hell\\'s directors , albert and allen hughes .  getting the hughes brothers to direct this seems almost as ludicrous as casting carrot top in , well , anything , but riddle me this : who better to direct a film that\\'s set in the ghetto and features really violent street crime than the mad geniuses behind menace ii society ?  the ghetto in question is , of course , whitechapel in 1888 london\\'s east end .  it\\'s a filthy , sooty place where the whores ( called \" unfortunates \" ) are starting to get a little nervous about this mysterious psychopath who has been carving through their profession with surgical precision .  when the first stiff turns up , copper peter godley ( robbie coltrane , the world is not enough ) calls in inspector frederick abberline ( johnny depp , blow ) to crack the case .  abberline , a widower , has prophetic dreams he unsuccessfully tries to quell with copious amounts of absinthe and opium .  upon arriving in whitechapel , he befriends an unfortunate named mary kelly ( heather graham , say it isn\\'t so ) and proceeds to investigate the horribly gruesome crimes that even the police surgeon can\\'t stomach .  i don\\'t think anyone needs to be briefed on jack the ripper , so i won\\'t go into the particulars here , other than to say moore and campbell have a unique and interesting theory about both the identity of the killer and the reasons he chooses to slay .  in the comic , they don\\'t bother cloaking the identity of the ripper , but screenwriters terry hayes ( vertical limit ) and rafael yglesias ( les mis ? rables ) do a good job of keeping him hidden from viewers until the very end .  it\\'s funny to watch the locals blindly point the finger of blame at jews and indians because , after all , an englishman could never be capable of committing such ghastly acts .  and from hell\\'s ending had me whistling the stonecutters song from the simpsons for days ( \" who holds back the electric car/who made steve guttenberg a star ? \" ) .  don\\'t worry - it\\'ll all make sense when you see it .  now onto from hell\\'s appearance : it\\'s certainly dark and bleak enough , and it\\'s surprising to see how much more it looks like a tim burton film than planet of the apes did ( at times , it seems like sleepy hollow 2 ) .  the print i saw wasn\\'t completely finished ( both color and music had not been finalized , so no comments about marilyn manson ) , but cinematographer peter deming ( don\\'t say a word ) ably captures the dreariness of victorian-era london and helped make the flashy killing scenes remind me of the crazy flashbacks in twin peaks , even though the violence in the film pales in comparison to that in the black-and-white comic .  oscar winner martin childs\\' ( shakespeare in love ) production design turns the original prague surroundings into one creepy place .  even the acting in from hell is solid , with the dreamy depp turning in a typically strong performance and deftly handling a british accent .  ians holm ( joe gould\\'s secret ) and richardson ( 102 dalmatians ) log in great supporting roles , but the big surprise here is graham .  i cringed the first time she opened her mouth , imagining her attempt at an irish accent , but it actually wasn\\'t half bad .  the film , however , is all good .  2 : 00 - r for strong violence/gore , sexuality , language and drug content '"
      ]
     },
     "execution_count": 4,
     "metadata": {},
     "output_type": "execute_result"
    }
   ],
   "source": [
    "df['review'][1]"
   ]
  },
  {
   "cell_type": "markdown",
   "metadata": {},
   "source": [
    "Wow, that's a lengthy review.  \n",
    "Let's check how many reviews there are in the dataset:"
   ]
  },
  {
   "cell_type": "code",
   "execution_count": 5,
   "metadata": {},
   "outputs": [
    {
     "data": {
      "text/plain": [
       "2000"
      ]
     },
     "execution_count": 5,
     "metadata": {},
     "output_type": "execute_result"
    }
   ],
   "source": [
    "len(df)"
   ]
  },
  {
   "cell_type": "markdown",
   "metadata": {},
   "source": [
    "The [Cornell Movie Review dataset](http://www.cs.cornell.edu/people/pabo/movie-review-data/) is divided into positive and negative reviews.  \n",
    "Let's check how many positive, and how many negative, reviews there are in this dataset:"
   ]
  },
  {
   "cell_type": "code",
   "execution_count": 6,
   "metadata": {},
   "outputs": [
    {
     "data": {
      "text/plain": [
       "<matplotlib.axes._subplots.AxesSubplot at 0x7f8c44e80710>"
      ]
     },
     "execution_count": 6,
     "metadata": {},
     "output_type": "execute_result"
    },
    {
     "data": {
      "image/png": "[encoded data removed]",
      "text/plain": [
       "<matplotlib.figure.Figure at 0x7f8c44ed8e80>"
      ]
     },
     "metadata": {},
     "output_type": "display_data"
    }
   ],
   "source": [
    "df['label'].hist()"
   ]
  },
  {
   "cell_type": "markdown",
   "metadata": {},
   "source": [
    "Excellent, the dataset is already balanced.  \n",
    "Having a balanced dataset makes it easier to train a deep learning model, because it's less likely that the model will focus on one of the classes, and ignore the other.\n",
    "\n",
    "Now, let's see what the distribution of review lengths is, in numbers of characters:"
   ]
  },
  {
   "cell_type": "code",
   "execution_count": 7,
   "metadata": {},
   "outputs": [
    {
     "data": {
      "text/plain": [
       "<matplotlib.axes._subplots.AxesSubplot at 0x7f8c42e6b748>"
      ]
     },
     "execution_count": 7,
     "metadata": {},
     "output_type": "execute_result"
    },
    {
     "data": {
      "image/png": "[encoded data removed]",
      "text/plain": [
       "<matplotlib.figure.Figure at 0x7f8c44eba0b8>"
      ]
     },
     "metadata": {},
     "output_type": "display_data"
    }
   ],
   "source": [
    "df['review'].apply(len).hist()"
   ]
  },
  {
   "cell_type": "markdown",
   "metadata": {},
   "source": [
    "Ok, there are some much longer reviews in this dataset than the ~4,000 character review above, but most of them are under 6,000 characters."
   ]
  },
  {
   "cell_type": "markdown",
   "metadata": {},
   "source": [
    "# Data Preprocessing\n",
    "The problem we are trying to solve here is called **sentiment analysis**, that is, whether the given text is positive or negative.\n",
    "\n",
    "More broadly, this is a type of machine learning problem known as classification.\n",
    "\n",
    "There are numerous different ways to think about the above dataset.  \n",
    "We can think of it as a collection of characters, a sequence of characters, a collection of words, or a sequence of words.  \n",
    "It turns out that the sequence-of-words approach has gotten good results on sentiment analysis problems, so let's think about the above dataset in those terms.\n",
    "\n",
    "Let's consider another review in the dataset:"
   ]
  },
  {
   "cell_type": "code",
   "execution_count": 8,
   "metadata": {},
   "outputs": [
    {
     "data": {
      "text/plain": [
       "'moviemaking is a lot like being the general manager of an nfl team in the post-salary cap era -- you\\'ve got to know how to allocate your resources .  every dollar spent on a free-agent defensive tackle is one less dollar than you can spend on linebackers or safeties or centers .  in the nfl , this leads to teams like the detroit lions , who boast a superstar running back with a huge contract , but can only field five guys named herb to block for him .  in the movies , you end up with films like \" spawn \" , with a huge special-effects budget but not enough money to hire any recognizable actors .  jackie chan is the barry sanders of moviemaking .  he spins and darts across the screen like sanders cutting back through the defensive line .  watching jackie in operation condor as he drives his motorcycle through the crowded streets of madrid , fleeing an armada of pursuers in identical black compact cars , is reminiscent of sanders running for daylight with the chicago bears in hot pursuit , except that sanders doesn\\'t have to worry about rescuing runaway baby carriages .  but like the lions star , jackie doesn\\'t have anybody to block for him .  almost every cent that\\'s invested in a jackie chan movie goes for stunts , and as chan does his own stunts , the rest of the money goes to pay his hospital bills .  this leaves about 75 cents to pay for things like directors ( chan directs ) , scripts and dubbing and supporting characters , not to mention the hideous title sequence .  this also explains why the movie was shot in odd places like morocco and spain .   ( chan\\'s first release in this country , \" rumble in the bronx \" , was supposedly set in new york , but was filmed in vancouver , and in the chase scenes the canadian rockies are clearly visible . )  heck , jackie doesn\\'t even have enough money for a haircut , looks like , much less a personal hairstylist .  in condor , chan plays the same character he\\'s always played , himself , a mixture of bruce lee and tim allen , a master of both kung-fu and slapstick-fu .  jackie is sent by the un to retrieve a cache of lost nazi gold in the north african desert , and is chased by a horde of neo-nazi sympathizers and two stereotypical arabs ( one of the things i like about jackie chan movies : no political correctness ) .  he is joined by three women , who have little to do except scream , \" jackie , save us ! \" , and misuse firearms .  the villain is an old nazi whose legs were broken in the secret base so that he has to be carried everywhere , and he\\'s more pathetic than evil .  en route , we have an extended motorcycle chase scene , a hilarious fight in the moroccan version of motel 6 with the neo-nazis , and two confrontations with savage natives .  once at the secret desert base , there is a long chop-socky sequence , followed by the film\\'s centerpiece , a wind-tunnel fight that\\'s even better than the one in face/off .  this is where the money was spent , on well-choreographed kung-fu sequences , on giant kevlar hamster balls , on smashed-up crates of bananas , and on scorpions .  ignore the gaping holes in the plot ( how , exactly , if the villain\\'s legs were broken , did he escape from the secret nazi base , and why didn\\'t he take the key with him ? ) .  don\\'t worry about the production values , or what , exactly , the japanese girl was doing hitchhiking across the sahara .  just go see the movie .  operation condor has pretentions of being a \" raiders of the lost ark \" knockoff , but one wonders what jackie could do with the raiders franchise blocking for him -- with a lawrence kazdan screenplay , a john williams score , spielberg directing and george lucas producing , condor might be an a+ movie .  however , you\\'ve got to go with what you\\'ve got , and what you\\'ve got in jackie chan is something special -- a talent that mainstream hollywood should , could , and ought to utilize . '"
      ]
     },
     "execution_count": 8,
     "metadata": {},
     "output_type": "execute_result"
    }
   ],
   "source": [
    "df['review'][5]"
   ]
  },
  {
   "cell_type": "markdown",
   "metadata": {},
   "source": [
    "## Tokenization\n",
    "What we would like to do is to turn the text above into a fixed-length sequence of numbers, which is what our TensorFlow model will expect in order to train on.\n",
    "\n",
    "The basic idea behind working with text data is that we want to create a number for each unique \"token\" that we see, then we can just substitute a \"token\"'s number for the token itself, and arrive at a fixed-length sequence of numbers for TensorFlow to work with.\n",
    "\n",
    "As can be seen above, it's not just words that are present, but also punctuation.  \n",
    "\n",
    "Thankfully, the [natural language toolkit](http://www.nltk.org/) is excellent at turning a string of text into a list of tokens.\n",
    "\n",
    "Let's see how it behaves on the above review:"
   ]
  },
  {
   "cell_type": "code",
   "execution_count": 9,
   "metadata": {},
   "outputs": [],
   "source": [
    "import nltk"
   ]
  },
  {
   "cell_type": "code",
   "execution_count": 10,
   "metadata": {},
   "outputs": [
    {
     "data": {
      "text/plain": [
       "['moviemaking',\n",
       " 'is',\n",
       " 'a',\n",
       " 'lot',\n",
       " 'like',\n",
       " 'being',\n",
       " 'the',\n",
       " 'general',\n",
       " 'manager',\n",
       " 'of']"
      ]
     },
     "execution_count": 10,
     "metadata": {},
     "output_type": "execute_result"
    }
   ],
   "source": [
    "nltk.tokenize.word_tokenize(df['review'][5])[:10]"
   ]
  },
  {
   "cell_type": "markdown",
   "metadata": {},
   "source": [
    "The above is perfectly sufficient tokenization for our purposes.  \n",
    "Perhaps it could be improved upon slightly, but this breaks up our review into enough unique tokens that our model will be able to learn which ones to use and which ones to discount (more on that in the [Architecture](#Model-Architecture) section)\n",
    "\n",
    "Now, let's create a set of all the words in all of the reviews in our dataset.  \n",
    "We will use this set to create a lookup table of tokens to their \"IDs\"."
   ]
  },
  {
   "cell_type": "code",
   "execution_count": 11,
   "metadata": {},
   "outputs": [],
   "source": [
    "review_word_set = set()\n",
    "for r in df['review']:\n",
    "    review_word_set.update(nltk.tokenize.word_tokenize(r))"
   ]
  },
  {
   "cell_type": "code",
   "execution_count": 12,
   "metadata": {},
   "outputs": [
    {
     "data": {
      "text/plain": [
       "46716"
      ]
     },
     "execution_count": 12,
     "metadata": {},
     "output_type": "execute_result"
    }
   ],
   "source": [
    "len(review_word_set)"
   ]
  },
  {
   "cell_type": "markdown",
   "metadata": {},
   "source": [
    "Excellent, in our 2,000-review dataset, only some ~47,000 unique \"tokens\" have been used.  \n",
    "## Token Encoding\n",
    "Now, let's use this set to assign IDs to our tokens, so that we can easily go from a token to its ID, and vice versa.\n",
    "\n",
    "First though, let's reserve ID `0` for reasons that will become clear in the [Padding](#Padding) section below, and start at ID `1`."
   ]
  },
  {
   "cell_type": "code",
   "execution_count": 13,
   "metadata": {},
   "outputs": [],
   "source": [
    "word_to_id = {word: i for i, word in enumerate(review_word_set, 1)}"
   ]
  },
  {
   "cell_type": "code",
   "execution_count": 14,
   "metadata": {},
   "outputs": [
    {
     "data": {
      "text/plain": [
       "{'35-years-old': 1,\n",
       " 'retain': 2,\n",
       " 'keegan': 3,\n",
       " 'seducing': 4,\n",
       " 'off-the-cuff': 5,\n",
       " 'silences': 6,\n",
       " 'naked': 7,\n",
       " 'mcclurg': 8,\n",
       " 'marauding': 9,\n",
       " 'elizondo': 10,\n",
       " 'manero': 11,\n",
       " 'spares': 12,\n",
       " 'observant': 13,\n",
       " 'wholesome': 14,\n",
       " 'monty': 15,\n",
       " 'gi': 16,\n",
       " 'super-judgmental': 17,\n",
       " 'holders': 18,\n",
       " 'rogers-would-be-proud': 19,\n",
       " 'peanuts': 20,\n",
       " 'bumpkinisms': 21,\n",
       " 'exaggerations': 22,\n",
       " 'ratt': 23,\n",
       " 'eamonn': 24,\n",
       " 'grabs': 25,\n",
       " 'privet-sculpted': 26,\n",
       " 'envious': 27,\n",
       " 'amongst': 28,\n",
       " 'fergus': 29,\n",
       " 'slowed': 30,\n",
       " 'bad-boy': 31,\n",
       " 'commodity': 32,\n",
       " 'prohibition': 33,\n",
       " 'ooooooooh': 34,\n",
       " 'topics': 35,\n",
       " 'forgo': 36,\n",
       " 'ping': 37,\n",
       " 'deposits': 38,\n",
       " 'antiquated': 39,\n",
       " 'mardi': 40,\n",
       " 'mgm/ua': 41,\n",
       " 'triggers': 42,\n",
       " 'exorbitantly': 43,\n",
       " 'preparation': 44,\n",
       " 'stead': 45,\n",
       " 'trophies': 46,\n",
       " 'sillier': 47,\n",
       " 'smirks': 48,\n",
       " '137': 49,\n",
       " 'mars': 50,\n",
       " 'procures': 51,\n",
       " 'self-described': 52,\n",
       " 'danger/attempted': 53,\n",
       " 'sock': 54,\n",
       " 'embittered': 55,\n",
       " 'yielded': 56,\n",
       " 'rachel': 57,\n",
       " 'soft-spoken': 58,\n",
       " 'debbie': 59,\n",
       " 'sabine': 60,\n",
       " 'knockoff': 61,\n",
       " 'rumbles': 62,\n",
       " 'uneven': 63,\n",
       " 'millions-esque': 64,\n",
       " 'delicately-narrated': 65,\n",
       " 'unpaved': 66,\n",
       " 'scaffolding': 67,\n",
       " 'malcontents': 68,\n",
       " 'garfunkel': 69,\n",
       " 'mis-steps': 70,\n",
       " 'hammer': 71,\n",
       " 'equally': 72,\n",
       " 'carol': 73,\n",
       " 'fairfolk': 74,\n",
       " 'represent': 75,\n",
       " 'loyalty': 76,\n",
       " 'smart-alec': 77,\n",
       " 'dim-bulb': 78,\n",
       " 'incongruous': 79,\n",
       " 'show-unrelated': 80,\n",
       " 'breaking': 81,\n",
       " 'ferociously': 82,\n",
       " 'graphically': 83,\n",
       " 'persian': 84,\n",
       " 're-examine': 85,\n",
       " 'rider': 86,\n",
       " 'titanic': 87,\n",
       " 'underhanded': 88,\n",
       " 'establishment': 89,\n",
       " 'prejudice': 90,\n",
       " 'hobo': 91,\n",
       " 'scotty': 92,\n",
       " '1600s': 93,\n",
       " 'comely': 94,\n",
       " 'mould': 95,\n",
       " 'highs': 96,\n",
       " 'preoccupied': 97,\n",
       " 'detrimental': 98,\n",
       " 'videoshelves': 99,\n",
       " 'hum-drum': 100,\n",
       " 'involving': 101,\n",
       " 'thwart': 102,\n",
       " 'album': 103,\n",
       " 'products': 104,\n",
       " 'culture-clash': 105,\n",
       " 'noir-ish': 106,\n",
       " 'weeks': 107,\n",
       " 'ami': 108,\n",
       " 'modes': 109,\n",
       " 'critic-mode': 110,\n",
       " 'low-caliber': 111,\n",
       " 'vinterberg': 112,\n",
       " 'had': 113,\n",
       " 'pagniacci': 114,\n",
       " 'cramped': 115,\n",
       " 'cosmonaut': 116,\n",
       " 'deserter': 117,\n",
       " 'idolize': 118,\n",
       " 'dictatorships': 119,\n",
       " 'damnit': 120,\n",
       " 'non-matinee': 121,\n",
       " 'uncanny': 122,\n",
       " 'retrospect': 123,\n",
       " 'lurks': 124,\n",
       " 'self-reflexivity': 125,\n",
       " 'adoption': 126,\n",
       " 'packs': 127,\n",
       " 'double-natured': 128,\n",
       " 'baddass': 129,\n",
       " 'bickering': 130,\n",
       " 'zuehlke': 131,\n",
       " 'perfectly': 132,\n",
       " 'constrast': 133,\n",
       " 'sykes': 134,\n",
       " 'toothy': 135,\n",
       " 'zoe': 136,\n",
       " 'interviews': 137,\n",
       " 'thee': 138,\n",
       " 'star': 139,\n",
       " 'swallows': 140,\n",
       " 'centers': 141,\n",
       " 'bilk': 142,\n",
       " 'manipulating': 143,\n",
       " 'sacrifices': 144,\n",
       " 'resonance': 145,\n",
       " 'gone': 146,\n",
       " 'seemingly-strange': 147,\n",
       " 'cristal': 148,\n",
       " 'lollipop': 149,\n",
       " 'vigil': 150,\n",
       " 'die-hard': 151,\n",
       " 'tailor': 152,\n",
       " 'apprehended': 153,\n",
       " 'lastly': 154,\n",
       " 'lift': 155,\n",
       " 'reverting': 156,\n",
       " 'ammo': 157,\n",
       " 'labrynthine': 158,\n",
       " 're-team': 159,\n",
       " 'savior': 160,\n",
       " 'salsa': 161,\n",
       " 'moat-filled': 162,\n",
       " 'harsh': 163,\n",
       " 'unarmed': 164,\n",
       " 'dramatically': 165,\n",
       " 'now-uma': 166,\n",
       " 'comparisons': 167,\n",
       " 'sans': 168,\n",
       " 'tightly-edited': 169,\n",
       " 'no-no': 170,\n",
       " 'courted': 171,\n",
       " 'technician': 172,\n",
       " '_mortal': 173,\n",
       " 'closely': 174,\n",
       " 'loli': 175,\n",
       " 'tracking': 176,\n",
       " 'bartenders': 177,\n",
       " 'republicans': 178,\n",
       " 'failure': 179,\n",
       " 'delivers': 180,\n",
       " 'anthrax': 181,\n",
       " 'garners': 182,\n",
       " 'investments': 183,\n",
       " 'foisted': 184,\n",
       " 'proclivities': 185,\n",
       " 'instinctive': 186,\n",
       " 'fares': 187,\n",
       " 'majestic': 188,\n",
       " 'silva': 189,\n",
       " 'berendt': 190,\n",
       " 'candies': 191,\n",
       " 'skinner': 192,\n",
       " 'havilland': 193,\n",
       " 'constipated': 194,\n",
       " 'excessive': 195,\n",
       " 'suspensefully': 196,\n",
       " 'fire-retardant': 197,\n",
       " 'artist-speak': 198,\n",
       " 'colombian': 199,\n",
       " 'diaz': 200,\n",
       " 'discouragingly': 201,\n",
       " 'gladiator-like': 202,\n",
       " 'finzi': 203,\n",
       " 'films': 204,\n",
       " 'out-smarted': 205,\n",
       " 'gara': 206,\n",
       " 'build-up': 207,\n",
       " 'plight': 208,\n",
       " 'humbug': 209,\n",
       " 'in-habit': 210,\n",
       " 'desparate': 211,\n",
       " '_huge_': 212,\n",
       " 'described': 213,\n",
       " 'etch': 214,\n",
       " 'splendor': 215,\n",
       " 'uhhm': 216,\n",
       " 'outsmarting': 217,\n",
       " 'also': 218,\n",
       " 'bridge': 219,\n",
       " 'cryo-tubes': 220,\n",
       " 'unerving': 221,\n",
       " 'expressway': 222,\n",
       " 'sow': 223,\n",
       " 'assumptions': 224,\n",
       " 'disgust': 225,\n",
       " 'gillian': 226,\n",
       " 'exhilerating': 227,\n",
       " 'dyer': 228,\n",
       " 'genetically': 229,\n",
       " 'pronouncing': 230,\n",
       " 'beseeches': 231,\n",
       " 'cropduster': 232,\n",
       " 'staying': 233,\n",
       " 'ivy': 234,\n",
       " 'off-chance': 235,\n",
       " 'ufo': 236,\n",
       " 'mediator': 237,\n",
       " 'rekall': 238,\n",
       " 'someone': 239,\n",
       " 'implores': 240,\n",
       " 'conceptualization': 241,\n",
       " 'trysha': 242,\n",
       " '`6': 243,\n",
       " 'keenen': 244,\n",
       " 'placed': 245,\n",
       " 'wars_': 246,\n",
       " 'hallstr': 247,\n",
       " 'disconnects': 248,\n",
       " 'spots': 249,\n",
       " 'script-writers': 250,\n",
       " 'toback': 251,\n",
       " 'mtv-generation': 252,\n",
       " 'skye': 253,\n",
       " 'scavenge': 254,\n",
       " 'projected': 255,\n",
       " 'dedicate': 256,\n",
       " 'animal-skin': 257,\n",
       " 'starving': 258,\n",
       " 'lawford': 259,\n",
       " 'then-diana': 260,\n",
       " 'disection': 261,\n",
       " 'patillo': 262,\n",
       " 'punishment': 263,\n",
       " 'self-styled': 264,\n",
       " 'wiesz': 265,\n",
       " 'predators': 266,\n",
       " 'inept': 267,\n",
       " 'administrator': 268,\n",
       " 'shakespeare-obsessed': 269,\n",
       " 'cristoffer': 270,\n",
       " 'darlene': 271,\n",
       " 'harbinger': 272,\n",
       " 'casually': 273,\n",
       " 'smoked': 274,\n",
       " 'armstrong': 275,\n",
       " 'gesserits': 276,\n",
       " 'hirt': 277,\n",
       " 'jet-powered': 278,\n",
       " 'doubtfire': 279,\n",
       " 'markie': 280,\n",
       " 'blood': 281,\n",
       " 'dawns': 282,\n",
       " 'race': 283,\n",
       " 'lama': 284,\n",
       " 'creatures': 285,\n",
       " 'forerunner': 286,\n",
       " 'herbert': 287,\n",
       " 'sobieski': 288,\n",
       " 'spacesuit': 289,\n",
       " 'coogan': 290,\n",
       " 'muldoon': 291,\n",
       " 'momentarily': 292,\n",
       " 'england': 293,\n",
       " 'stylishness': 294,\n",
       " 'charlie': 295,\n",
       " 'televisions': 296,\n",
       " 'e-mails': 297,\n",
       " 'tip': 298,\n",
       " 'mckee': 299,\n",
       " 'perpetual-motion': 300,\n",
       " 'proctor': 301,\n",
       " 'epitaph': 302,\n",
       " 'violates': 303,\n",
       " 'bodacious': 304,\n",
       " 'visualized': 305,\n",
       " 'attacks': 306,\n",
       " 'ever-attentive': 307,\n",
       " 'balloons': 308,\n",
       " 'godzila': 309,\n",
       " 'she-ra': 310,\n",
       " 'dissect': 311,\n",
       " 'demise': 312,\n",
       " 'roxane': 313,\n",
       " 'goldfish': 314,\n",
       " 'hypnotherapist': 315,\n",
       " 'interpol': 316,\n",
       " 'endeavor': 317,\n",
       " 'jew': 318,\n",
       " 'maggie': 319,\n",
       " 'kang-sheng': 320,\n",
       " 'alchemy': 321,\n",
       " 'rococo': 322,\n",
       " 'camelot': 323,\n",
       " 'nineteen': 324,\n",
       " 'dribble': 325,\n",
       " 'tyra': 326,\n",
       " 'fruition': 327,\n",
       " '`': 328,\n",
       " 'double-spaced': 329,\n",
       " 'mind-boggling': 330,\n",
       " 'mugs': 331,\n",
       " 'evacuate': 332,\n",
       " 'messes': 333,\n",
       " 'stellar': 334,\n",
       " 'leghorn': 335,\n",
       " 'yonkers': 336,\n",
       " 'participation': 337,\n",
       " 'pucker': 338,\n",
       " 'stunt-work': 339,\n",
       " 'contradicts': 340,\n",
       " 'baptizes': 341,\n",
       " 'rail-laying': 342,\n",
       " 'pompous': 343,\n",
       " 'pysche': 344,\n",
       " 'cheater': 345,\n",
       " 'attuned': 346,\n",
       " 'steen': 347,\n",
       " 'economical': 348,\n",
       " 'non-supernatural': 349,\n",
       " 'mega-budgeted': 350,\n",
       " 'hate-mail': 351,\n",
       " 'illuminate': 352,\n",
       " 'evenly': 353,\n",
       " 'yanni': 354,\n",
       " 'heil': 355,\n",
       " 'cross': 356,\n",
       " 'chcaracters': 357,\n",
       " 'innit': 358,\n",
       " 'memories': 359,\n",
       " 'previously-used': 360,\n",
       " 'jeffries': 361,\n",
       " 'mufasa': 362,\n",
       " 'undoing': 363,\n",
       " 'exposed': 364,\n",
       " 'hipper': 365,\n",
       " 'dabbling': 366,\n",
       " 'border-jumpers': 367,\n",
       " 'disturbingly': 368,\n",
       " 'toss': 369,\n",
       " 'pansexual': 370,\n",
       " 'shortage': 371,\n",
       " '175-million': 372,\n",
       " 'parenting': 373,\n",
       " 'bitchiest': 374,\n",
       " 'topping': 375,\n",
       " 'prize': 376,\n",
       " 'hazzard': 377,\n",
       " 'longshanks': 378,\n",
       " 'donald': 379,\n",
       " 'svelte': 380,\n",
       " 'foul-mouthed': 381,\n",
       " \"'thing\": 382,\n",
       " 'holy': 383,\n",
       " 'scariest-looking': 384,\n",
       " 'existence': 385,\n",
       " 'analysis': 386,\n",
       " 'administered': 387,\n",
       " 'vincent': 388,\n",
       " 'trump': 389,\n",
       " 'unrefined': 390,\n",
       " 'realizes': 391,\n",
       " 'calvin': 392,\n",
       " 'cesspool': 393,\n",
       " 'bestial': 394,\n",
       " 'frosting': 395,\n",
       " 'nut-cake': 396,\n",
       " 'fails': 397,\n",
       " 'celestrial': 398,\n",
       " 'pants-wetting': 399,\n",
       " 'evars': 400,\n",
       " 'confederation': 401,\n",
       " 'characterize': 402,\n",
       " 'receiving': 403,\n",
       " 'unoriginality': 404,\n",
       " 'crusoe': 405,\n",
       " 'moxon': 406,\n",
       " 'sal': 407,\n",
       " 'teary-eyed': 408,\n",
       " 'crowned': 409,\n",
       " 'teach': 410,\n",
       " 'fanatics': 411,\n",
       " 'investigative': 412,\n",
       " 'abruptly': 413,\n",
       " 'grabbing': 414,\n",
       " 'interrupts': 415,\n",
       " 'spheres': 416,\n",
       " 'facto': 417,\n",
       " 'shunned': 418,\n",
       " 'shou': 419,\n",
       " 'whould': 420,\n",
       " \"'if\": 421,\n",
       " 'mergers': 422,\n",
       " 'psychopaths': 423,\n",
       " 'landslide': 424,\n",
       " 'nominated': 425,\n",
       " 'faltered': 426,\n",
       " 'drama/comedy': 427,\n",
       " 'role': 428,\n",
       " \"'only\": 429,\n",
       " 'bucket': 430,\n",
       " 'leigh': 431,\n",
       " 'battered': 432,\n",
       " 'full-out': 433,\n",
       " 'renard': 434,\n",
       " 'adagio': 435,\n",
       " 'glitzy': 436,\n",
       " 'pasty-faced': 437,\n",
       " 'detonation': 438,\n",
       " 'instict': 439,\n",
       " 'monkey-like': 440,\n",
       " 'parliamentary': 441,\n",
       " \"'rest\": 442,\n",
       " 'chappy': 443,\n",
       " 'roche': 444,\n",
       " 'crept': 445,\n",
       " 'incision': 446,\n",
       " 'beautician': 447,\n",
       " 'zhuangzhuang': 448,\n",
       " 'filing': 449,\n",
       " 'heartwarming-nuzzly-follow-your-dreams': 450,\n",
       " 'tear': 451,\n",
       " 'upkeep': 452,\n",
       " 'hatcher': 453,\n",
       " 'shucking': 454,\n",
       " 'golfer': 455,\n",
       " 'repulsion': 456,\n",
       " 'monsoon': 457,\n",
       " 'chestnuts': 458,\n",
       " 'warned': 459,\n",
       " 'lemay': 460,\n",
       " 'lunacy': 461,\n",
       " 'cyberkillers': 462,\n",
       " 'utterly': 463,\n",
       " 'filmy': 464,\n",
       " 'grander': 465,\n",
       " 'well-plotted': 466,\n",
       " 'squirm': 467,\n",
       " 'never': 468,\n",
       " 'riggs': 469,\n",
       " 'stuffs': 470,\n",
       " 'not-quite-kosher': 471,\n",
       " 'companion': 472,\n",
       " 'dart': 473,\n",
       " 'paramour': 474,\n",
       " 'lol': 475,\n",
       " 'reprises': 476,\n",
       " 'triton': 477,\n",
       " 'half-jokingly': 478,\n",
       " \"'master\": 479,\n",
       " 'action/horror/paranoia': 480,\n",
       " 'benevolent': 481,\n",
       " 'one-upmanship': 482,\n",
       " 'caron': 483,\n",
       " 'washed': 484,\n",
       " 'erosion': 485,\n",
       " 'marvelling': 486,\n",
       " 'paean': 487,\n",
       " 'unwittingly': 488,\n",
       " 'obi-wan': 489,\n",
       " 'humphrey': 490,\n",
       " 'sliced-off': 491,\n",
       " 'goode': 492,\n",
       " 'hesitance': 493,\n",
       " '96-minute': 494,\n",
       " 'translations': 495,\n",
       " 'fx-heavy': 496,\n",
       " 'momma': 497,\n",
       " 'blurb': 498,\n",
       " 'eng': 499,\n",
       " 'pendleton': 500,\n",
       " 'burp': 501,\n",
       " 'carrey-annoying': 502,\n",
       " 'rossi': 503,\n",
       " 'kung': 504,\n",
       " 'interred': 505,\n",
       " 'statistical': 506,\n",
       " 'bondish': 507,\n",
       " 'wispy': 508,\n",
       " 'mega-hot': 509,\n",
       " 'subjecting': 510,\n",
       " 'agent/pop': 511,\n",
       " \"'70s\": 512,\n",
       " 'shea': 513,\n",
       " 'chase-riboud': 514,\n",
       " 'havisham': 515,\n",
       " 'chestnut': 516,\n",
       " 'supporter': 517,\n",
       " 'junk-bonds': 518,\n",
       " 'knife': 519,\n",
       " 'hurlyburly': 520,\n",
       " 'fireballs': 521,\n",
       " 'cold-hearted': 522,\n",
       " 'riches': 523,\n",
       " 'sides': 524,\n",
       " 'rollicking': 525,\n",
       " 'crunchily': 526,\n",
       " 'through': 527,\n",
       " \"'philosophy\": 528,\n",
       " 'zakharov': 529,\n",
       " 'chopped': 530,\n",
       " 'stomachs': 531,\n",
       " 'marketplace': 532,\n",
       " 'deux': 533,\n",
       " 'art-imitates-life': 534,\n",
       " 'warheads': 535,\n",
       " 'walhberg': 536,\n",
       " 'am': 537,\n",
       " 'steven': 538,\n",
       " 'ex-rolling': 539,\n",
       " 'leroi': 540,\n",
       " 'hillary': 541,\n",
       " 'arupting': 542,\n",
       " 'beebe': 543,\n",
       " '47': 544,\n",
       " 'chilly': 545,\n",
       " 'escadapes': 546,\n",
       " 'smashes': 547,\n",
       " '_saved_by_the_bell_': 548,\n",
       " 'immortalizing': 549,\n",
       " 'theatrics': 550,\n",
       " 'grounding': 551,\n",
       " 'churlishness': 552,\n",
       " 'lang': 553,\n",
       " 'audacious': 554,\n",
       " 'tampopo': 555,\n",
       " 'gasmask': 556,\n",
       " 'demonstrations': 557,\n",
       " 'chins': 558,\n",
       " 'consisting': 559,\n",
       " 'puppy': 560,\n",
       " 'snippets': 561,\n",
       " 'mixing': 562,\n",
       " 'proft': 563,\n",
       " 'hunts': 564,\n",
       " 'lien': 565,\n",
       " 'online': 566,\n",
       " 'rake': 567,\n",
       " 'treacherous': 568,\n",
       " 'subtexts': 569,\n",
       " 'deems': 570,\n",
       " 'shaman': 571,\n",
       " 'tutus': 572,\n",
       " 'voids': 573,\n",
       " 'stolz': 574,\n",
       " 'produced': 575,\n",
       " 'blatz': 576,\n",
       " 'rushon': 577,\n",
       " 'crinkled': 578,\n",
       " \"'green\": 579,\n",
       " 'half-brother': 580,\n",
       " 'followings': 581,\n",
       " 'microphone': 582,\n",
       " 'broadcast': 583,\n",
       " 'bezucha': 584,\n",
       " 'conciliatory': 585,\n",
       " 'vice': 586,\n",
       " 'shoulders': 587,\n",
       " 'rainer': 588,\n",
       " 'kaela': 589,\n",
       " 'processes': 590,\n",
       " 'aghast': 591,\n",
       " 'squirtle': 592,\n",
       " 'dino': 593,\n",
       " 'entertaining': 594,\n",
       " 'sub-standardly': 595,\n",
       " 'actionfest': 596,\n",
       " 'familial': 597,\n",
       " 'barnacles': 598,\n",
       " 'deus-ex-machina': 599,\n",
       " 'mussolini': 600,\n",
       " 'shade': 601,\n",
       " 'nod': 602,\n",
       " 'stiles': 603,\n",
       " 'tri-annual': 604,\n",
       " 'sigourney': 605,\n",
       " 'ie': 606,\n",
       " 'versatility': 607,\n",
       " 'employees': 608,\n",
       " 'whipped': 609,\n",
       " 'harshest': 610,\n",
       " '1940s': 611,\n",
       " 'believably': 612,\n",
       " '1869': 613,\n",
       " 'ten-minutes': 614,\n",
       " 'gruff': 615,\n",
       " 'sub-human': 616,\n",
       " 'flawlessly-acted': 617,\n",
       " 'water': 618,\n",
       " \"'matron\": 619,\n",
       " 'typecasting': 620,\n",
       " 'thierry': 621,\n",
       " 'elwood': 622,\n",
       " 'professor/archeologist': 623,\n",
       " 'ndorff': 624,\n",
       " 'faith': 625,\n",
       " 'grossie': 626,\n",
       " 'kingpins': 627,\n",
       " 'threat': 628,\n",
       " 'stretched': 629,\n",
       " 'irina': 630,\n",
       " 'faltering': 631,\n",
       " 'receipts': 632,\n",
       " 'diminish': 633,\n",
       " 'cruder': 634,\n",
       " 'backstory': 635,\n",
       " 'stand-by': 636,\n",
       " 'goth-style': 637,\n",
       " 'multiples': 638,\n",
       " 'buenos': 639,\n",
       " 'typewriter': 640,\n",
       " '80s': 641,\n",
       " 'attending': 642,\n",
       " 'shrewdly': 643,\n",
       " 'lowest-brow': 644,\n",
       " 'mckinney': 645,\n",
       " 'slinks': 646,\n",
       " 'fulfillment': 647,\n",
       " 'plently': 648,\n",
       " 'zenith': 649,\n",
       " '44-year-old': 650,\n",
       " 'overwrought': 651,\n",
       " 'lightheartedness': 652,\n",
       " 'futz': 653,\n",
       " 'stockwell': 654,\n",
       " 'elevated': 655,\n",
       " 'donne': 656,\n",
       " 'baroque': 657,\n",
       " 'sideshow': 658,\n",
       " 'orgasms': 659,\n",
       " 'trailed': 660,\n",
       " 'artistically': 661,\n",
       " 'life-form': 662,\n",
       " 'astride': 663,\n",
       " 'luciano': 664,\n",
       " '-or': 665,\n",
       " 'exist': 666,\n",
       " 'dainty': 667,\n",
       " 'deep-space': 668,\n",
       " 'by-passes': 669,\n",
       " 'cop/fbi': 670,\n",
       " '65-year-old': 671,\n",
       " 'manhood': 672,\n",
       " 'catalyze': 673,\n",
       " 'horror-action': 674,\n",
       " 'courtesy': 675,\n",
       " 'quincy': 676,\n",
       " 'unfortunately': 677,\n",
       " 'intercourse': 678,\n",
       " 'shrasta': 679,\n",
       " \"don'tcha\": 680,\n",
       " 'ping-pong': 681,\n",
       " 'magruder': 682,\n",
       " 'breakdancing': 683,\n",
       " 'hitchhiked': 684,\n",
       " 'sympathise': 685,\n",
       " 'dionysius': 686,\n",
       " 'woe': 687,\n",
       " 'somethine': 688,\n",
       " 'fast-talker': 689,\n",
       " 'mindel': 690,\n",
       " 'benj': 691,\n",
       " 'well-noted': 692,\n",
       " 'gazon': 693,\n",
       " 'carriage': 694,\n",
       " 'hook-laden': 695,\n",
       " 'terrify': 696,\n",
       " 'duke': 697,\n",
       " 'regret': 698,\n",
       " 'admirers': 699,\n",
       " 'quashing': 700,\n",
       " 'central': 701,\n",
       " 'multihued': 702,\n",
       " 'sanitary': 703,\n",
       " 'amounted': 704,\n",
       " 'permanent': 705,\n",
       " 'binges': 706,\n",
       " 'off-kilter': 707,\n",
       " 'teaches': 708,\n",
       " 'silky': 709,\n",
       " 'shown': 710,\n",
       " '8216': 711,\n",
       " \"'cripple\": 712,\n",
       " 'consoles': 713,\n",
       " '`flaunt': 714,\n",
       " 'slapstick': 715,\n",
       " 'marino': 716,\n",
       " 'july': 717,\n",
       " 'meteoric': 718,\n",
       " 'cockroach-like': 719,\n",
       " 'gayle': 720,\n",
       " 'slugging': 721,\n",
       " 'mispronounced': 722,\n",
       " 'root': 723,\n",
       " 'owning': 724,\n",
       " 'hitches': 725,\n",
       " 'miraculously': 726,\n",
       " 'huston': 727,\n",
       " 'freaky': 728,\n",
       " 'ex-special': 729,\n",
       " 'neglects': 730,\n",
       " 'rewarded': 731,\n",
       " 'forgot': 732,\n",
       " 'boy-drinks-entire-bottle-of-shampoo-and-may-or-may-not-get-girl-back': 733,\n",
       " 'embodied': 734,\n",
       " 'sappiest': 735,\n",
       " 'arcand': 736,\n",
       " 'reporters': 737,\n",
       " 'uberhack': 738,\n",
       " 'brady': 739,\n",
       " 'cycle': 740,\n",
       " 'gretchen': 741,\n",
       " 'litefoot': 742,\n",
       " 'schuster': 743,\n",
       " 'bumps': 744,\n",
       " 'notches': 745,\n",
       " \"'snuffed\": 746,\n",
       " 'one-dimension': 747,\n",
       " \"ba'ku\": 748,\n",
       " 'tarantino': 749,\n",
       " '60+': 750,\n",
       " 'clippings': 751,\n",
       " 'knock-offs': 752,\n",
       " 'over-acting': 753,\n",
       " 'sadism': 754,\n",
       " '`biggest': 755,\n",
       " 'strategize': 756,\n",
       " 'frisbees': 757,\n",
       " 'impales': 758,\n",
       " 'line-': 759,\n",
       " 'dancing': 760,\n",
       " 'bodied': 761,\n",
       " 'egar': 762,\n",
       " 'advertising': 763,\n",
       " 'arrgh': 764,\n",
       " 'grandiose': 765,\n",
       " 'flash-backs': 766,\n",
       " 'abandon': 767,\n",
       " 'beta': 768,\n",
       " 'infinitely': 769,\n",
       " 'debutante': 770,\n",
       " \"'scrubbers\": 771,\n",
       " 'beanfield': 772,\n",
       " 'declines': 773,\n",
       " 'copybook': 774,\n",
       " \"'comical\": 775,\n",
       " 'zach': 776,\n",
       " 'female-fearing': 777,\n",
       " 'measured': 778,\n",
       " 'fraidy-cat': 779,\n",
       " 'danes': 780,\n",
       " 'eyes': 781,\n",
       " 'schwarz': 782,\n",
       " 'possessions': 783,\n",
       " 'liberal': 784,\n",
       " 'not-so-darkest': 785,\n",
       " '139': 786,\n",
       " 'tasha': 787,\n",
       " 'unanticipated': 788,\n",
       " 'slammed': 789,\n",
       " 'good-bye': 790,\n",
       " 'crushing': 791,\n",
       " 'attentions': 792,\n",
       " 'earthbound': 793,\n",
       " 'farmhouse': 794,\n",
       " 'chugs': 795,\n",
       " 'anti-': 796,\n",
       " 'inversion': 797,\n",
       " 'blue-screening': 798,\n",
       " 'abandoned': 799,\n",
       " 'skims': 800,\n",
       " 'benton': 801,\n",
       " 'outstripped': 802,\n",
       " 'ripoff': 803,\n",
       " 'highwaymen': 804,\n",
       " 'stinking': 805,\n",
       " 'eagles': 806,\n",
       " 'bathes': 807,\n",
       " 'bitchie': 808,\n",
       " 'consumed': 809,\n",
       " 'oneders': 810,\n",
       " 'annaud': 811,\n",
       " 'life_': 812,\n",
       " 'yavin': 813,\n",
       " 'thewlis': 814,\n",
       " 'comparitive': 815,\n",
       " 'tigher': 816,\n",
       " 'wartime': 817,\n",
       " 'doesnut': 818,\n",
       " 'ch': 819,\n",
       " 'sherriff': 820,\n",
       " '1865': 821,\n",
       " 'bees': 822,\n",
       " 'back-street': 823,\n",
       " 'tardio': 824,\n",
       " 'pumped-up': 825,\n",
       " 'copolla': 826,\n",
       " 'untraditional': 827,\n",
       " 'nirto-est': 828,\n",
       " 'mutated': 829,\n",
       " 'eminent': 830,\n",
       " \"i'm-going-to-stare-you-down\": 831,\n",
       " 'spun': 832,\n",
       " 'gaul': 833,\n",
       " '_mafia_': 834,\n",
       " 'hughley': 835,\n",
       " 'smack': 836,\n",
       " 'detour': 837,\n",
       " 'inception': 838,\n",
       " 'blackest': 839,\n",
       " 'sewed': 840,\n",
       " 'jackass': 841,\n",
       " 'turner-owned': 842,\n",
       " 'licked': 843,\n",
       " 'provide': 844,\n",
       " 'all': 845,\n",
       " 'unexploitive': 846,\n",
       " 'lot': 847,\n",
       " 'defeat': 848,\n",
       " 'nothingness': 849,\n",
       " 'pefect': 850,\n",
       " 'slow-burn': 851,\n",
       " 'sacrificed': 852,\n",
       " 'gala': 853,\n",
       " 'dumb': 854,\n",
       " 'bizarro': 855,\n",
       " 'brawl': 856,\n",
       " 'church': 857,\n",
       " 'violation': 858,\n",
       " 'duvall': 859,\n",
       " 'much-macho': 860,\n",
       " 'installations': 861,\n",
       " 'dealers': 862,\n",
       " 'tomaso': 863,\n",
       " '_animal': 864,\n",
       " 'remove': 865,\n",
       " 'plucks': 866,\n",
       " 'buchman': 867,\n",
       " 'trashily': 868,\n",
       " 'metamorphoses': 869,\n",
       " 'tightens': 870,\n",
       " 'journalist-turned-screenwriter': 871,\n",
       " 'outsiders': 872,\n",
       " 'sppedboat': 873,\n",
       " 'acceptable': 874,\n",
       " 'innocently': 875,\n",
       " 'jung': 876,\n",
       " 'victory': 877,\n",
       " 'codpieces': 878,\n",
       " 'entailing': 879,\n",
       " 'floored': 880,\n",
       " 'solo-flight': 881,\n",
       " 'semi-clothed': 882,\n",
       " 'jiving': 883,\n",
       " 'anyhow': 884,\n",
       " 'brakes': 885,\n",
       " 'lili': 886,\n",
       " 'stepsons': 887,\n",
       " 'puttingly': 888,\n",
       " 'pick-ups': 889,\n",
       " 'elementary': 890,\n",
       " 'winded': 891,\n",
       " 'crutch-carrying': 892,\n",
       " 'vaguely': 893,\n",
       " 'mocking': 894,\n",
       " 'stench': 895,\n",
       " 'offers': 896,\n",
       " 'prominant': 897,\n",
       " 'perversion': 898,\n",
       " 'tacky': 899,\n",
       " 'riviting': 900,\n",
       " 'clever': 901,\n",
       " 'horror-action-comedy': 902,\n",
       " 'coming': 903,\n",
       " 'moranis': 904,\n",
       " 'nutcracker': 905,\n",
       " 'isolation': 906,\n",
       " 'hesitates': 907,\n",
       " 'knuckleheaded': 908,\n",
       " 'damsel-in-distress': 909,\n",
       " 'perplexes': 910,\n",
       " '1590': 911,\n",
       " 'visa': 912,\n",
       " 'seedier': 913,\n",
       " 'hyperreal': 914,\n",
       " 'defiantly': 915,\n",
       " 'babysitter': 916,\n",
       " 'emotional': 917,\n",
       " 'hurriedly': 918,\n",
       " 'windmill': 919,\n",
       " 'kirsebom': 920,\n",
       " 'oppressive': 921,\n",
       " 'snickers': 922,\n",
       " 'ministry': 923,\n",
       " 'seattle-based': 924,\n",
       " 'adrenaline/testosterone': 925,\n",
       " 'saga': 926,\n",
       " 'unrelated': 927,\n",
       " 'directorial': 928,\n",
       " 'underestimated': 929,\n",
       " 'ups-and-downs': 930,\n",
       " 'jonnie': 931,\n",
       " 'incredibility': 932,\n",
       " 'phantom': 933,\n",
       " 'state-of-the-art': 934,\n",
       " 'brannon': 935,\n",
       " 'bertolini': 936,\n",
       " 'lincoln': 937,\n",
       " 'aria': 938,\n",
       " 'egotism': 939,\n",
       " 'post-twin': 940,\n",
       " 'appointment': 941,\n",
       " 'off-putting': 942,\n",
       " 'loomis': 943,\n",
       " 'no-holds-': 944,\n",
       " 'seas': 945,\n",
       " 'alec': 946,\n",
       " 'urges': 947,\n",
       " 'pikser': 948,\n",
       " 'frightful': 949,\n",
       " 'parasailing': 950,\n",
       " 'turks': 951,\n",
       " 'assignment': 952,\n",
       " 'too-cheesy-to-be-accidental': 953,\n",
       " 'dian': 954,\n",
       " 'department': 955,\n",
       " 'depresses': 956,\n",
       " 'decor': 957,\n",
       " 'recorder': 958,\n",
       " 'prayed': 959,\n",
       " 'dwarfed': 960,\n",
       " 'pluck': 961,\n",
       " 'one-of-a-kind': 962,\n",
       " 'tao': 963,\n",
       " 'bloodline': 964,\n",
       " 'land-owning': 965,\n",
       " 'torrance': 966,\n",
       " 'folly': 967,\n",
       " 'search': 968,\n",
       " 'interrelate': 969,\n",
       " 'johner': 970,\n",
       " 'kinka': 971,\n",
       " 'wanda_': 972,\n",
       " 'anderson': 973,\n",
       " 'prefontaine': 974,\n",
       " 'woo-fest': 975,\n",
       " 'kickoff': 976,\n",
       " 'edie': 977,\n",
       " 'out-perform': 978,\n",
       " 'succumbs': 979,\n",
       " 'dryer': 980,\n",
       " 'mexican': 981,\n",
       " 'laughs': 982,\n",
       " 'kink': 983,\n",
       " 'leaks': 984,\n",
       " 'wasp': 985,\n",
       " 'stabbed': 986,\n",
       " 'oracles': 987,\n",
       " 'dumbed': 988,\n",
       " 'shelmikedmu': 989,\n",
       " 'evoking': 990,\n",
       " 'walk-ons': 991,\n",
       " 'tolerant': 992,\n",
       " 'wristwatch': 993,\n",
       " 'high': 994,\n",
       " 'nancy': 995,\n",
       " 'sudden': 996,\n",
       " 'unhappy': 997,\n",
       " 'northwestern': 998,\n",
       " 'tenley': 999,\n",
       " 'alvarado': 1000,\n",
       " ...}"
      ]
     },
     "execution_count": 14,
     "metadata": {},
     "output_type": "execute_result"
    }
   ],
   "source": [
    "word_to_id"
   ]
  },
  {
   "cell_type": "markdown",
   "metadata": {},
   "source": [
    "Excellent, we're much closer to being able to having our dataset in a form that TensorFlow can work with.  \n",
    "Just for sanity, let's see what the review above would look like as a list of the IDs above:"
   ]
  },
  {
   "cell_type": "code",
   "execution_count": 15,
   "metadata": {},
   "outputs": [
    {
     "data": {
      "text/plain": [
       "[39581, 14085, 33722, 847, 15362, 16128, 37758, 30339, 37319, 16098]"
      ]
     },
     "execution_count": 15,
     "metadata": {},
     "output_type": "execute_result"
    }
   ],
   "source": [
    "[word_to_id[word] for word in nltk.tokenize.word_tokenize(df['review'][5])][:10]"
   ]
  },
  {
   "cell_type": "markdown",
   "metadata": {},
   "source": [
    "I'm going to trust that the above is mostly correct, but let's at least check that `moviemaking` matches the first index in the above list:"
   ]
  },
  {
   "cell_type": "code",
   "execution_count": 16,
   "metadata": {},
   "outputs": [
    {
     "data": {
      "text/plain": [
       "39581"
      ]
     },
     "execution_count": 16,
     "metadata": {},
     "output_type": "execute_result"
    }
   ],
   "source": [
    "word_to_id[\"moviemaking\"]"
   ]
  },
  {
   "cell_type": "markdown",
   "metadata": {},
   "source": [
    "Perfect.  Now, let's convert all of the tokenized reviews into lists of `ID`s"
   ]
  },
  {
   "cell_type": "code",
   "execution_count": 17,
   "metadata": {},
   "outputs": [],
   "source": [
    "reviews_as_ids = []\n",
    "for review in df['review']:\n",
    "    reviews_as_ids.append([word_to_id[word] for word in nltk.tokenize.word_tokenize(review)])"
   ]
  },
  {
   "cell_type": "markdown",
   "metadata": {},
   "source": [
    "Again, as a sanity check, the 5th item in the `reviews_as_ids` list should be the same as the list that we see two cells above:"
   ]
  },
  {
   "cell_type": "code",
   "execution_count": 18,
   "metadata": {},
   "outputs": [
    {
     "data": {
      "text/plain": [
       "[39581, 14085, 33722, 847, 15362, 16128, 37758, 30339, 37319, 16098]"
      ]
     },
     "execution_count": 18,
     "metadata": {},
     "output_type": "execute_result"
    }
   ],
   "source": [
    "reviews_as_ids[4][:10]"
   ]
  },
  {
   "cell_type": "markdown",
   "metadata": {},
   "source": [
    "Excellent, we have now transformed our dataset of movie reviews into a list of integers.  "
   ]
  },
  {
   "cell_type": "markdown",
   "metadata": {},
   "source": [
    "## Label Encoding\n",
    "Now, let's generate an array that we can use with TensorFlow from the labels in the dataset."
   ]
  },
  {
   "cell_type": "code",
   "execution_count": 19,
   "metadata": {},
   "outputs": [],
   "source": [
    "import numpy as np"
   ]
  },
  {
   "cell_type": "code",
   "execution_count": 20,
   "metadata": {},
   "outputs": [
    {
     "data": {
      "text/html": [
       "<div>\n",
       "<style scoped>\n",
       "    .dataframe tbody tr th:only-of-type {\n",
       "        vertical-align: middle;\n",
       "    }\n",
       "\n",
       "    .dataframe tbody tr th {\n",
       "        vertical-align: top;\n",
       "    }\n",
       "\n",
       "    .dataframe thead th {\n",
       "        text-align: right;\n",
       "    }\n",
       "</style>\n",
       "<table border=\"1\" class=\"dataframe\">\n",
       "  <thead>\n",
       "    <tr style=\"text-align: right;\">\n",
       "      <th></th>\n",
       "      <th>label</th>\n",
       "      <th>review</th>\n",
       "    </tr>\n",
       "    <tr>\n",
       "      <th>id</th>\n",
       "      <th></th>\n",
       "      <th></th>\n",
       "    </tr>\n",
       "  </thead>\n",
       "  <tbody>\n",
       "    <tr>\n",
       "      <th>1</th>\n",
       "      <td>pos</td>\n",
       "      <td>films adapted from comic books have had plenty...</td>\n",
       "    </tr>\n",
       "    <tr>\n",
       "      <th>2</th>\n",
       "      <td>pos</td>\n",
       "      <td>every now and then a movie comes along from a ...</td>\n",
       "    </tr>\n",
       "    <tr>\n",
       "      <th>3</th>\n",
       "      <td>pos</td>\n",
       "      <td>you've got mail works alot better than it dese...</td>\n",
       "    </tr>\n",
       "    <tr>\n",
       "      <th>4</th>\n",
       "      <td>pos</td>\n",
       "      <td>\" jaws \" is a rare film that grabs your atten...</td>\n",
       "    </tr>\n",
       "    <tr>\n",
       "      <th>5</th>\n",
       "      <td>pos</td>\n",
       "      <td>moviemaking is a lot like being the general ma...</td>\n",
       "    </tr>\n",
       "  </tbody>\n",
       "</table>\n",
       "</div>"
      ],
      "text/plain": [
       "   label                                             review\n",
       "id                                                         \n",
       "1    pos  films adapted from comic books have had plenty...\n",
       "2    pos  every now and then a movie comes along from a ...\n",
       "3    pos  you've got mail works alot better than it dese...\n",
       "4    pos   \" jaws \" is a rare film that grabs your atten...\n",
       "5    pos  moviemaking is a lot like being the general ma..."
      ]
     },
     "execution_count": 20,
     "metadata": {},
     "output_type": "execute_result"
    }
   ],
   "source": [
    "df.head()"
   ]
  },
  {
   "cell_type": "code",
   "execution_count": 21,
   "metadata": {},
   "outputs": [
    {
     "data": {
      "text/html": [
       "<div>\n",
       "<style scoped>\n",
       "    .dataframe tbody tr th:only-of-type {\n",
       "        vertical-align: middle;\n",
       "    }\n",
       "\n",
       "    .dataframe tbody tr th {\n",
       "        vertical-align: top;\n",
       "    }\n",
       "\n",
       "    .dataframe thead th {\n",
       "        text-align: right;\n",
       "    }\n",
       "</style>\n",
       "<table border=\"1\" class=\"dataframe\">\n",
       "  <thead>\n",
       "    <tr style=\"text-align: right;\">\n",
       "      <th></th>\n",
       "      <th>label</th>\n",
       "      <th>review</th>\n",
       "    </tr>\n",
       "    <tr>\n",
       "      <th>id</th>\n",
       "      <th></th>\n",
       "      <th></th>\n",
       "    </tr>\n",
       "  </thead>\n",
       "  <tbody>\n",
       "    <tr>\n",
       "      <th>1996</th>\n",
       "      <td>neg</td>\n",
       "      <td>if anything , \" stigmata \" should be taken as ...</td>\n",
       "    </tr>\n",
       "    <tr>\n",
       "      <th>1997</th>\n",
       "      <td>neg</td>\n",
       "      <td>john boorman's \" zardoz \" is a goofy cinematic...</td>\n",
       "    </tr>\n",
       "    <tr>\n",
       "      <th>1998</th>\n",
       "      <td>neg</td>\n",
       "      <td>the kids in the hall are an acquired taste .  ...</td>\n",
       "    </tr>\n",
       "    <tr>\n",
       "      <th>1999</th>\n",
       "      <td>neg</td>\n",
       "      <td>there was a time when john carpenter was a gre...</td>\n",
       "    </tr>\n",
       "    <tr>\n",
       "      <th>2000</th>\n",
       "      <td>neg</td>\n",
       "      <td>two party guys bob their heads to haddaway's d...</td>\n",
       "    </tr>\n",
       "  </tbody>\n",
       "</table>\n",
       "</div>"
      ],
      "text/plain": [
       "     label                                             review\n",
       "id                                                           \n",
       "1996   neg  if anything , \" stigmata \" should be taken as ...\n",
       "1997   neg  john boorman's \" zardoz \" is a goofy cinematic...\n",
       "1998   neg  the kids in the hall are an acquired taste .  ...\n",
       "1999   neg  there was a time when john carpenter was a gre...\n",
       "2000   neg  two party guys bob their heads to haddaway's d..."
      ]
     },
     "execution_count": 21,
     "metadata": {},
     "output_type": "execute_result"
    }
   ],
   "source": [
    "df.tail()"
   ]
  },
  {
   "cell_type": "markdown",
   "metadata": {},
   "source": [
    "We have a list of the reviews which have been integer-tokenized, now let's generate a parallel numpy array of whether the review is positive or negative."
   ]
  },
  {
   "cell_type": "code",
   "execution_count": 22,
   "metadata": {},
   "outputs": [],
   "source": [
    "review_labels = np.array(df['label'] == 'pos', dtype=int)"
   ]
  },
  {
   "cell_type": "code",
   "execution_count": 23,
   "metadata": {},
   "outputs": [
    {
     "data": {
      "text/plain": [
       "array([1, 1, 1, 1, 1])"
      ]
     },
     "execution_count": 23,
     "metadata": {},
     "output_type": "execute_result"
    }
   ],
   "source": [
    "review_labels[:5]"
   ]
  },
  {
   "cell_type": "code",
   "execution_count": 24,
   "metadata": {},
   "outputs": [
    {
     "data": {
      "text/plain": [
       "array([0, 0, 0, 0, 0])"
      ]
     },
     "execution_count": 24,
     "metadata": {},
     "output_type": "execute_result"
    }
   ],
   "source": [
    "review_labels[-5:]"
   ]
  },
  {
   "cell_type": "markdown",
   "metadata": {},
   "source": [
    "As a sanity check, the length of this numpy array should be `2000`."
   ]
  },
  {
   "cell_type": "code",
   "execution_count": 25,
   "metadata": {},
   "outputs": [
    {
     "data": {
      "text/plain": [
       "2000"
      ]
     },
     "execution_count": 25,
     "metadata": {},
     "output_type": "execute_result"
    }
   ],
   "source": [
    "len(review_labels)"
   ]
  },
  {
   "cell_type": "markdown",
   "metadata": {},
   "source": [
    "## Padding\n",
    "The reviews in our dataset contain a different length of tokens."
   ]
  },
  {
   "cell_type": "code",
   "execution_count": 26,
   "metadata": {
    "scrolled": true
   },
   "outputs": [
    {
     "data": {
      "text/plain": [
       "<matplotlib.axes._subplots.AxesSubplot at 0x7f8c4086f780>"
      ]
     },
     "execution_count": 26,
     "metadata": {},
     "output_type": "execute_result"
    },
    {
     "data": {
      "image/png": "[encoded data removed]",
      "text/plain": [
       "<matplotlib.figure.Figure at 0x7f8c4086fc50>"
      ]
     },
     "metadata": {},
     "output_type": "display_data"
    }
   ],
   "source": [
    "pd.Series(reviews_as_ids).apply(len).hist()"
   ]
  },
  {
   "cell_type": "markdown",
   "metadata": {},
   "source": [
    "Most of our reviews are under ~1,200 tokens long, and a few are over 2,500 tokens.\n",
    "\n",
    "The problem is that TensorFlow accepts only inputs of fixed length.  \n",
    "Further, LSTMs often have a practical limitation of only working with sequences that are a few hundred items long.\n",
    "\n",
    "This requires us to pick **a single token length** for our reviews as inputs.  \n",
    "Reviews which are shorter than this will be padded on the **right** with `0`s, and reviews which are longer will have to be truncated before being fed to TensorFlow.\n",
    "\n",
    "This is not as serious a limitation as it sounds, but it does have to be dealt with, or TensorFlow will throw errors during training.\n",
    "\n",
    "Accordingly, let's define a **sequence length** that we will fit every review into."
   ]
  },
  {
   "cell_type": "code",
   "execution_count": 27,
   "metadata": {},
   "outputs": [],
   "source": [
    "seq_len = 300\n",
    "\n",
    "x = np.zeros((len(reviews_as_ids), seq_len), dtype=int)\n",
    "for i, review_as_id in enumerate(reviews_as_ids):\n",
    "    x[i, :len(review_as_id)] = np.array(review_as_id)[:seq_len]"
   ]
  },
  {
   "cell_type": "markdown",
   "metadata": {},
   "source": [
    "Shown below are two such sequences, one originally longer than the sequence length, and one shorter."
   ]
  },
  {
   "cell_type": "code",
   "execution_count": 28,
   "metadata": {},
   "outputs": [
    {
     "data": {
      "text/plain": [
       "(array([28485, 14186, 43139, 17366, 33722, 39322, 19701, 33875, 32278,\n",
       "        33722,  2977, 38244, 46303, 39776, 28485, 43614, 19312, 45744,\n",
       "        11460, 40001, 33722, 42254, 46303, 43139, 44408, 10614, 46625,\n",
       "         7574,  3514,  1181, 42575, 37758, 38244, 25854, 37758, 32739,\n",
       "        31712, 33722, 37492, 43261,  4465, 25397,   204, 27831, 24067,\n",
       "        46303, 33722,   994, 31082,  9852, 18849, 45383, 29864, 43139,\n",
       "         4824, 46448, 46303, 14085, 33722, 22017, 27337,  4465,  5560,\n",
       "         7054, 40871, 14873, 32739,  1752, 33722, 23196, 28411, 45744,\n",
       "        32955,  3060, 37758,  4809, 14085, 18072,  3122,  4465, 10979,\n",
       "        42238, 11269,   994, 31082, 14085, 40839,  5991, 14051,  4465,\n",
       "        22841, 24649,  3514,  4824, 46448, 25854, 14085, 24091, 11189,\n",
       "        39776,  2390, 20602, 17068, 43033, 27060, 28485, 13997, 46303,\n",
       "        39277, 46303, 39277, 46303,   994,  4465,  3730,  4465, 24302,\n",
       "        39560, 24302,  3514, 45383, 29864, 25854, 46303, 30050, 16098,\n",
       "        37758, 24300,  5991, 46303, 28912,  5824, 46303, 33722, 40554,\n",
       "         6101, 44408, 42900,  4465, 43139,  5824, 46625,  4167, 44793,\n",
       "         1282, 33649, 37758,   283, 13398, 33022, 46303, 38140, 21305,\n",
       "        12744,  4465, 37758,  2702, 37407, 16098, 33215, 43452,  7994,\n",
       "        14085, 19312, 46303, 25805, 40762, 11839, 43236,  3324,  3661,\n",
       "        33649, 46303, 37758, 33175, 19312, 14873,  5512, 11572, 19193,\n",
       "        10402, 37758,  2709, 42575, 39772, 45147,  2193, 15804, 12975,\n",
       "        14622, 41941, 44408, 40001,  4465, 16426, 39541,  3807, 22252,\n",
       "         3661, 33649, 39776, 37758, 29468, 16098, 38303,  2709, 46303,\n",
       "        13338, 14085, 33649, 20813, 44408, 37758,  5040, 29468, 19312,\n",
       "        37758, 20107, 11839, 11698, 44408, 12975,  4465, 24067, 46303,\n",
       "        33722,  7129, 32739, 46303,  5656,  2320,  6036, 29261, 44408,\n",
       "        46235, 25811,  4465, 20564,  2093, 31864, 43236, 23989, 14085,\n",
       "        19312, 45744, 20970, 20928,  4809,  8910, 33890, 37674, 32278,\n",
       "        30528, 46303, 23117, 33722, 32820,  3565, 22133,  4465, 37758,\n",
       "        19850, 40764, 38485, 44421, 22841, 24649,  3514, 31864, 25854,\n",
       "        14085, 37758, 42220, 16098, 24091, 40312, 45637, 16098, 38572,\n",
       "        46303, 43139, 14085, 25026, 39776, 37758, 31082, 14197,  4465,\n",
       "        36437, 29084,  3514, 30528, 25854, 14085, 37758, 42220, 16098,\n",
       "        24091, 40312, 45637]),\n",
       " array([13730,  9852, 46303, 16143, 25401, 46303, 19328, 14209, 19485,\n",
       "        44421, 33758, 13730, 18849, 44421, 46444, 12560, 46303,  6892,\n",
       "        42161, 46303, 43139, 33722, 22521, 16098, 12091, 13730, 40358,\n",
       "        34446, 14836, 32027, 43139,  7487, 34446, 34183,  6039, 13730,\n",
       "        23519, 44421, 14481, 31270,  3514, 46444, 12560, 25854, 26018,\n",
       "        33582,  1393, 33632, 32739, 17028, 19656, 44408, 15120,     0,\n",
       "            0,     0,     0,     0,     0,     0,     0,     0,     0,\n",
       "            0,     0,     0,     0,     0,     0,     0,     0,     0,\n",
       "            0,     0,     0,     0,     0,     0,     0,     0,     0,\n",
       "            0,     0,     0,     0,     0,     0,     0,     0,     0,\n",
       "            0,     0,     0,     0,     0,     0,     0,     0,     0,\n",
       "            0,     0,     0,     0,     0,     0,     0,     0,     0,\n",
       "            0,     0,     0,     0,     0,     0,     0,     0,     0,\n",
       "            0,     0,     0,     0,     0,     0,     0,     0,     0,\n",
       "            0,     0,     0,     0,     0,     0,     0,     0,     0,\n",
       "            0,     0,     0,     0,     0,     0,     0,     0,     0,\n",
       "            0,     0,     0,     0,     0,     0,     0,     0,     0,\n",
       "            0,     0,     0,     0,     0,     0,     0,     0,     0,\n",
       "            0,     0,     0,     0,     0,     0,     0,     0,     0,\n",
       "            0,     0,     0,     0,     0,     0,     0,     0,     0,\n",
       "            0,     0,     0,     0,     0,     0,     0,     0,     0,\n",
       "            0,     0,     0,     0,     0,     0,     0,     0,     0,\n",
       "            0,     0,     0,     0,     0,     0,     0,     0,     0,\n",
       "            0,     0,     0,     0,     0,     0,     0,     0,     0,\n",
       "            0,     0,     0,     0,     0,     0,     0,     0,     0,\n",
       "            0,     0,     0,     0,     0,     0,     0,     0,     0,\n",
       "            0,     0,     0,     0,     0,     0,     0,     0,     0,\n",
       "            0,     0,     0,     0,     0,     0,     0,     0,     0,\n",
       "            0,     0,     0,     0,     0,     0,     0,     0,     0,\n",
       "            0,     0,     0,     0,     0,     0,     0,     0,     0,\n",
       "            0,     0,     0,     0,     0,     0,     0,     0,     0,\n",
       "            0,     0,     0,     0,     0,     0,     0,     0,     0,\n",
       "            0,     0,     0,     0,     0,     0,     0,     0,     0,\n",
       "            0,     0,     0]))"
      ]
     },
     "execution_count": 28,
     "metadata": {},
     "output_type": "execute_result"
    }
   ],
   "source": [
    "x[1], x[47]"
   ]
  },
  {
   "cell_type": "markdown",
   "metadata": {},
   "source": [
    "# Data Splitting and Shuffling\n",
    "\n",
    "Now that we have transformed our dataset into a format that TensorFlow can work with, we need to split the dataset into training, testing, and validation sets, so that we can better evaluate the model's performance.\n",
    "\n",
    "Let's use numpy to help us randomize here"
   ]
  },
  {
   "cell_type": "code",
   "execution_count": 29,
   "metadata": {},
   "outputs": [],
   "source": [
    "## Use a seed for reproducibility of results\n",
    "np.random.seed(42)\n",
    "permute = np.random.permutation(range(len(x)))"
   ]
  },
  {
   "cell_type": "code",
   "execution_count": 30,
   "metadata": {
    "scrolled": true
   },
   "outputs": [],
   "source": [
    "## Generate shuffled versions of our data and labels\n",
    "x_shuffled = x[permute]\n",
    "y_shuffled = review_labels[permute]"
   ]
  },
  {
   "cell_type": "code",
   "execution_count": 31,
   "metadata": {},
   "outputs": [],
   "source": [
    "## Use an 80% : 10% : 10% split into training : testing : validation sets\n",
    "train_split = int(0.8*len(x))\n",
    "test_split = int(0.9*len(x))\n",
    "\n",
    "train_x = x_shuffled[:train_split]\n",
    "test_x = x_shuffled[train_split:test_split]\n",
    "val_x = x_shuffled[test_split:]\n",
    "\n",
    "train_y = y_shuffled[:train_split]\n",
    "test_y = y_shuffled[train_split:test_split]\n",
    "val_y = y_shuffled[test_split:]"
   ]
  },
  {
   "cell_type": "markdown",
   "metadata": {},
   "source": [
    "As a sanity check, recall that the original dataset was 1000 positive reviews followed by 1000 negative reviews.  \n",
    "If we've truly shuffled, then the beginning of each of the training, testing, and validation sets should be a mixture of positive or negative:"
   ]
  },
  {
   "cell_type": "code",
   "execution_count": 32,
   "metadata": {},
   "outputs": [
    {
     "data": {
      "text/plain": [
       "array([0, 1, 0, 1, 0, 0])"
      ]
     },
     "execution_count": 32,
     "metadata": {},
     "output_type": "execute_result"
    }
   ],
   "source": [
    "train_y[:6]"
   ]
  },
  {
   "cell_type": "code",
   "execution_count": 33,
   "metadata": {},
   "outputs": [
    {
     "data": {
      "text/plain": [
       "array([1, 1, 0, 1, 1, 0])"
      ]
     },
     "execution_count": 33,
     "metadata": {},
     "output_type": "execute_result"
    }
   ],
   "source": [
    "test_y[:6]"
   ]
  },
  {
   "cell_type": "code",
   "execution_count": 34,
   "metadata": {},
   "outputs": [
    {
     "data": {
      "text/plain": [
       "array([0, 1, 0, 0, 1, 0])"
      ]
     },
     "execution_count": 34,
     "metadata": {},
     "output_type": "execute_result"
    }
   ],
   "source": [
    "val_y[:6]"
   ]
  },
  {
   "cell_type": "markdown",
   "metadata": {},
   "source": [
    "As a final sanity check, note that an 80%, 10%, 10% split should yield numpy arrays of size `1600`, `200`, and `200`"
   ]
  },
  {
   "cell_type": "code",
   "execution_count": 35,
   "metadata": {},
   "outputs": [
    {
     "data": {
      "text/plain": [
       "(1600, 200, 200)"
      ]
     },
     "execution_count": 35,
     "metadata": {},
     "output_type": "execute_result"
    }
   ],
   "source": [
    "len(train_x), len(test_x), len(val_x)"
   ]
  },
  {
   "cell_type": "markdown",
   "metadata": {},
   "source": [
    "# Checkpointing\n",
    "We will use this opportunity to save our training, testing, and validation sets to disk, so that we can quickly load them in the future.\n",
    "\n",
    "Should this notebook need to be run in the future, it can start from the [Loading](#Loading) cells below.\n",
    "## Saving"
   ]
  },
  {
   "cell_type": "code",
   "execution_count": 36,
   "metadata": {},
   "outputs": [],
   "source": [
    "import pickle"
   ]
  },
  {
   "cell_type": "code",
   "execution_count": 37,
   "metadata": {},
   "outputs": [],
   "source": [
    "np.save(\"train_x\", train_x)\n",
    "np.save(\"train_y\", train_y)\n",
    "np.save(\"test_x\", test_x)\n",
    "np.save(\"test_y\", test_y)\n",
    "np.save(\"val_x\", val_x)\n",
    "np.save(\"val_y\", val_y)\n",
    "with open(\"review_word_set.pkl\", 'wb') as f:\n",
    "    pickle.dump(review_word_set, f)"
   ]
  },
  {
   "cell_type": "markdown",
   "metadata": {},
   "source": [
    "## Loading"
   ]
  },
  {
   "cell_type": "code",
   "execution_count": 38,
   "metadata": {},
   "outputs": [],
   "source": [
    "import numpy as np\n",
    "import pickle\n",
    "import matplotlib.pyplot as plt\n",
    "%matplotlib inline"
   ]
  },
  {
   "cell_type": "code",
   "execution_count": 39,
   "metadata": {},
   "outputs": [],
   "source": [
    "train_x = np.load(\"train_x.npy\")\n",
    "train_y = np.load(\"train_y.npy\")\n",
    "test_x = np.load(\"test_x.npy\")\n",
    "test_y = np.load(\"test_y.npy\")\n",
    "val_x = np.load(\"val_x.npy\")\n",
    "val_y = np.load(\"val_y.npy\")\n",
    "with open(\"review_word_set.pkl\", 'rb') as f:\n",
    "    review_word_set = pickle.load(f)"
   ]
  },
  {
   "cell_type": "markdown",
   "metadata": {},
   "source": [
    "# Model Architecture\n",
    "In this section, we will be defining a model architecture that we will use to \"learn\" the task of sentiment analysis.\n",
    "\n",
    "As a broad overview, this will be a neural network that takes a sequence as input, and produces a value of either 0 (a negative review) or 1 (a positive review).\n",
    "\n",
    "From the model's perspective, it will be seeing a vector of the above-defined **sequence length**, which is comprised of non-negative integers.\n",
    "\n",
    "After the input, the first layer of the model will be \"embedding\" these non-negative integers into a smaller representational space of only a few hundred floating-point numbers, to allow it to learn which sequences are important, and which are mere noise.\n",
    "\n",
    "Following this embedding layer, the \"embedded\" word vector will then pass into two parallel \"stacks\" of Long Short-Term Memory (LSTM) cells.\n",
    "\n",
    "The advantage of an LSTM cell is that, throughout time, it is able to remember better what came several dozen items earlier in the sequence than is a typical \"feed-forward\" network.  A broad overview of the machinery that allows an LSTM cell to accomplish this memory throughout a time sequence is shown below.\n",
    "![LSTM Cell, from colah's blog](http://colah.github.io/posts/2015-08-Understanding-LSTMs/img/LSTM3-chain.png)\n",
    "\n",
    "Since our dataset is a sequence of words, it makes sense that the model would benefit from knowing about both the sequence going forward, and going backward.  Intuitively, the review \"This movie has everything that you would expect.  And nothing you wouldn't,\" starts off very positive, and only at the end of the sequence would we start to think that the review is negative.  Knowing that from the beginning would make parsing the sequence easier.  \n",
    "Language parsing is a [complicated task](https://research.googleblog.com/2016/05/announcing-syntaxnet-worlds-most.html) that is outside the scope of this notebook, but having this bi-directional parsing typically helps models to pick out what's important for sentiment classification.\n",
    "\n",
    "The bi-directional stacked LSTM architecture that we implement below will be similar to (though not exactly the same as) the following architecture:\n",
    "![bi-directional stacked LSTM, from WildML](http://www.wildml.com/wp-content/uploads/2015/09/Screen-Shot-2015-09-16-at-2.21.51-PM.png)\n",
    "\n",
    "In the above architecture, each successive black dot may be thought of as a token in our reviews.  After embedding this token, we then pass it to a forward group of LSTM cells, and a backward stack of LSTM cells (both in orange), and then perhaps to more of the same \"stacked\" on top, which then generates outputs (red) at the top.\n",
    "\n",
    "We then connect the red \"output\" cells to a single cell, since we want a single answer from the model, namely whether the given input review has a positive or a negative sentiment.\n",
    "\n",
    "Thankfully, TensorFlow provides an API to implement the above, which we will explore below."
   ]
  },
  {
   "cell_type": "markdown",
   "metadata": {},
   "source": [
    "## Placeholders\n",
    "Let's define the necessary placeholders in order for us to feed our pre-processed data from above into a TensorFlow model:"
   ]
  },
  {
   "cell_type": "code",
   "execution_count": 40,
   "metadata": {},
   "outputs": [
    {
     "name": "stderr",
     "output_type": "stream",
     "text": [
      "/home/human/miniconda3/envs/ProofOfConcept/lib/python3.6/importlib/_bootstrap.py:219: RuntimeWarning: compiletime version 3.5 of module 'tensorflow.python.framework.fast_tensor_util' does not match runtime version 3.6\n",
      "  return f(*args, **kwds)\n"
     ]
    }
   ],
   "source": [
    "import tensorflow as tf"
   ]
  },
  {
   "cell_type": "code",
   "execution_count": 41,
   "metadata": {},
   "outputs": [],
   "source": [
    "graph = tf.Graph()"
   ]
  },
  {
   "cell_type": "code",
   "execution_count": 42,
   "metadata": {},
   "outputs": [],
   "source": [
    "with graph.as_default():\n",
    "    # Define placeholders to accept batches of token-sequences\n",
    "    inputs = tf.placeholder(tf.int32, [None, None], name = \"inputs\")\n",
    "    labels = tf.placeholder(tf.int32, [None, None], name = \"labels\")\n",
    "    \n",
    "    # Define a placeholder to allow us to tweak the dropout hyperparameter\n",
    "    keep_prob = tf.placeholder(tf.float32, name=\"keep_prob\")"
   ]
  },
  {
   "cell_type": "markdown",
   "metadata": {},
   "source": [
    "## Embedding\n",
    "Many of the unique tokens that exist in our dataset, and thus have been assigned an `ID`, occur rarely.  \n",
    "Things that occur rarely don't give a deep learning model much chance to learn what they mean, and so generally they hurt performance unless we take special steps to combat them.\n",
    "\n",
    "As it turns out, we can probably condense the above ~47,000 unique tokens into a few hundred tokens, and still have the model perform well.  \n",
    "\n",
    "This is done through the use of an [\"embedding\"](https://www.tensorflow.org/versions/master/tutorials/seq2seq#embedding) layer, which lets our model decide which of the tokens it sees are important, and which are just noise.\n",
    "\n",
    "Thankfully, TensorFlow provides a compact way to define and use embeddings:"
   ]
  },
  {
   "cell_type": "code",
   "execution_count": 43,
   "metadata": {},
   "outputs": [],
   "source": [
    "embedding_size = 300\n",
    "\n",
    "with graph.as_default():\n",
    "    # Define an embedding that allows us to map our ~47,000 review tokens to our embedding size\n",
    "    # Our model will \"learn\" a good embedding during training\n",
    "    embedding = tf.Variable(tf.random_uniform((len(review_word_set) + 1, embedding_size), -1, 1))\n",
    "    embed = tf.nn.embedding_lookup(embedding, inputs)"
   ]
  },
  {
   "cell_type": "markdown",
   "metadata": {},
   "source": [
    "## Encoder\n",
    "Now that we have defined an embedding to squash our input token sequences into a more manageable space, we now define an encoder that will be the heart of this bi-directional stacked LSTM model:"
   ]
  },
  {
   "cell_type": "code",
   "execution_count": 44,
   "metadata": {},
   "outputs": [],
   "source": [
    "lstm_layers = 2\n",
    "\n",
    "with graph.as_default():\n",
    "    \n",
    "    def getLSTMlist(num_layers):\n",
    "        \"\"\"\n",
    "        Returns a list containing num_layers LSTM cells,\n",
    "        wrapped in dropout.\n",
    "        \n",
    "        This is to avoid TensorFlow syntax errors with the\n",
    "        [cell] * num_layers construction\n",
    "        \"\"\"\n",
    "        cell_list = []\n",
    "        for _ in range(num_layers):\n",
    "            # Your basic LSTM cell\n",
    "            lstm = tf.contrib.rnn.BasicLSTMCell(num_units=256)\n",
    "            \n",
    "            # Add dropout to the cell, using the keep_prob tensor\n",
    "            drop = tf.contrib.rnn.DropoutWrapper(lstm, output_keep_prob=keep_prob)\n",
    "            cell_list.append(drop)\n",
    "            \n",
    "        return cell_list\n",
    "    \n",
    "    forward_LSTMs = getLSTMlist(2)\n",
    "    backward_LSTMs = getLSTMlist(2)\n",
    "    \n",
    "    # Stack up multiple bidirectional LSTM layers\n",
    "    # Use dynamic to handle the unpacking of non-sequential input (embed)\n",
    "    outputs, output_state_fw, output_state_bw = \\\n",
    "        tf.contrib.rnn.stack_bidirectional_dynamic_rnn(forward_LSTMs, backward_LSTMs, embed, dtype=tf.float32)"
   ]
  },
  {
   "cell_type": "markdown",
   "metadata": {},
   "source": [
    "TensorBoard visualizes the above as follows:  \n",
    "![stack_bidirectional_rnn](img/stack.png)"
   ]
  },
  {
   "cell_type": "markdown",
   "metadata": {},
   "source": [
    "## Loss Function and Optimizer\n",
    "Finally, we will need to specify a loss function for our model so that it learns properly."
   ]
  },
  {
   "cell_type": "code",
   "execution_count": 45,
   "metadata": {},
   "outputs": [],
   "source": [
    "learning_rate = 1e-3\n",
    "\n",
    "with graph.as_default():\n",
    "    # Squash outputs to a single integer in the range of 0 to 1\n",
    "    predictions = tf.contrib.layers.fully_connected(outputs[:, -1], 1, activation_fn=tf.sigmoid)\n",
    "     \n",
    "    loss = tf.losses.mean_squared_error(labels, predictions)\n",
    "    \n",
    "    # Optimizer for training, using gradient clipping to control exploding gradients\n",
    "    tvars = tf.trainable_variables()\n",
    "    grads, _ = tf.clip_by_global_norm(tf.gradients(loss, tvars), 5) # clip gradients to 5\n",
    "    train_op = tf.train.AdamOptimizer(learning_rate)\n",
    "    optimizer = train_op.apply_gradients(zip(grads, tvars))"
   ]
  },
  {
   "cell_type": "markdown",
   "metadata": {},
   "source": [
    "## Evaluation Operations"
   ]
  },
  {
   "cell_type": "code",
   "execution_count": 46,
   "metadata": {},
   "outputs": [],
   "source": [
    "with graph.as_default():\n",
    "\n",
    "    ## Round our sigmoid [0,1] output to be either 0 or 1\n",
    "    predictions_integer = tf.cast(tf.round(predictions), tf.int32, name=\"Prediction_Integers\")\n",
    "\n",
    "    ## Define operations for {true, false} {positive, negative} predictions\n",
    "    TP = tf.count_nonzero(predictions_integer * labels, name='True_Positives', dtype=tf.int32)\n",
    "    TN = tf.count_nonzero((predictions_integer - 1) * (labels - 1), name=\"True_Negatives\", dtype=tf.int32)\n",
    "    FP = tf.count_nonzero(predictions_integer * (labels - 1), name=\"False_Positives\", dtype=tf.int32)\n",
    "    FN = tf.count_nonzero((predictions_integer - 1) * labels, name=\"False_Negatives\", dtype=tf.int32)\n",
    "\n",
    "    ## Define operations for accuracy, precision, recall, and F1 score\n",
    "\n",
    "    # accuracy ::= (TP + TN) / (TN + FN + TP + FP)\n",
    "    accuracy = tf.divide(tf.add(TP, TN), tf.add(TN, tf.add(FN, tf.add(TP, FP))), name=\"Accuracy\")\n",
    "\n",
    "    # precision ::= TP / (TP + FP)\n",
    "    precision = tf.divide(TP, tf.add(TP, FP), name=\"Precision\")\n",
    "\n",
    "    # recall::= TP / (TP + FN)\n",
    "    recall = tf.divide(TP, tf.add(TP, FN), name=\"Recall\")\n",
    "\n",
    "    # F1 score ::= 2 * precision * recall / (precision + recall)\n",
    "    f1 = tf.divide((2 * precision * recall), (precision + recall), name=\"F1_score\")\n",
    "\n",
    "    # To also record this information in TensorBoard, we'll define scalar summaries here\n",
    "    with tf.name_scope('summaries'):\n",
    "        tf.summary.scalar('Loss', loss)\n",
    "        tf.summary.scalar('Accuracy', accuracy)\n",
    "        tf.summary.scalar('Precision', precision)\n",
    "        tf.summary.scalar('Recall', recall)\n",
    "        tf.summary.scalar('F1_score', f1)"
   ]
  },
  {
   "cell_type": "markdown",
   "metadata": {},
   "source": [
    "# Training the Model\n",
    "We're almost ready to start training our model.\n",
    "\n",
    "Before we begin training, let's define a function that we can use to generate batches of our training data, so that we don't risk running out of memory by loading everything into the model at once."
   ]
  },
  {
   "cell_type": "code",
   "execution_count": 47,
   "metadata": {},
   "outputs": [],
   "source": [
    "def get_batches(x, y, batch_size=100):\n",
    "    '''\n",
    "    Given a set of features x, and a set of labels y,\n",
    "    return a generator yields shuffled batch_size tuples of x and y.\n",
    "    \n",
    "    Note that this function truncates x and y, if necessary,\n",
    "    so that it only returns full batches.\n",
    "    '''\n",
    "    ## Truncate x and y so that no batch is empty\n",
    "    num_batches = len(x) // batch_size\n",
    "    x, y = x[:num_batches * batch_size], y[:num_batches * batch_size]\n",
    "    \n",
    "    ## Shuffle x and y on the same index permutation\n",
    "    permute = np.random.permutation(range(len(x)))\n",
    "    x = x[permute]\n",
    "    y = y[permute]\n",
    "    \n",
    "    for i in range(0, len(x), batch_size):\n",
    "        yield x[i:i + batch_size], y[i:i + batch_size]"
   ]
  },
  {
   "cell_type": "code",
   "execution_count": 48,
   "metadata": {},
   "outputs": [],
   "source": [
    "# To keep our summary directories separate\n",
    "from datetime import datetime"
   ]
  },
  {
   "cell_type": "code",
   "execution_count": 49,
   "metadata": {
    "scrolled": false
   },
   "outputs": [
    {
     "name": "stdout",
     "output_type": "stream",
     "text": [
      "Epoch:  0/10 Iteration:    5 Training loss: 0.241 accuracy: 0.560 precision: 0.549 recall: 0.865 f1: 0.672\n",
      "Epoch:  0/10 Iteration:   10 Training loss: 0.239 accuracy: 0.620 precision: 0.692 recall: 0.621 f1: 0.655\n",
      "Epoch:  0/10 Iteration:   15 Training loss: 0.258 accuracy: 0.520 precision: 0.611 recall: 0.393 f1: 0.478\n",
      "Epoch:  1/10 Iteration:   20 Training loss: 0.223 accuracy: 0.620 precision: 0.583 recall: 0.942 f1: 0.721\n",
      "Epoch:  1/10 Iteration:   25 Training loss: 0.246 accuracy: 0.600 precision: 0.615 recall: 0.490 f1: 0.545\n",
      "                           Validation loss: 0.255 accuracy: 0.520 precision: 0.541 recall: 0.406 f1: 0.461\n",
      "Epoch:  1/10 Iteration:   30 Training loss: 0.227 accuracy: 0.630 precision: 0.705 recall: 0.694 f1: 0.699\n",
      "Epoch:  2/10 Iteration:   35 Training loss: 0.178 accuracy: 0.730 precision: 0.800 recall: 0.627 f1: 0.703\n",
      "Epoch:  2/10 Iteration:   40 Training loss: 0.157 accuracy: 0.770 precision: 0.878 recall: 0.667 f1: 0.758\n",
      "Epoch:  2/10 Iteration:   45 Training loss: 0.156 accuracy: 0.780 precision: 0.810 recall: 0.708 f1: 0.756\n",
      "Epoch:  3/10 Iteration:   50 Training loss: 0.112 accuracy: 0.840 precision: 0.812 recall: 0.929 f1: 0.867\n",
      "                           Validation loss: 0.311 accuracy: 0.525 precision: 0.523 recall: 0.680 f1: 0.589\n",
      "Epoch:  3/10 Iteration:   55 Training loss: 0.110 accuracy: 0.860 precision: 0.891 recall: 0.820 f1: 0.854\n",
      "Epoch:  3/10 Iteration:   60 Training loss: 0.088 accuracy: 0.890 precision: 0.979 recall: 0.821 f1: 0.893\n",
      "Epoch:  4/10 Iteration:   65 Training loss: 0.067 accuracy: 0.920 precision: 0.961 recall: 0.891 f1: 0.925\n",
      "Epoch:  4/10 Iteration:   70 Training loss: 0.065 accuracy: 0.900 precision: 0.914 recall: 0.914 f1: 0.914\n",
      "Epoch:  4/10 Iteration:   75 Training loss: 0.046 accuracy: 0.940 precision: 0.931 recall: 0.964 f1: 0.947\n",
      "                           Validation loss: 0.333 accuracy: 0.570 precision: 0.555 recall: 0.732 f1: 0.631\n",
      "Epoch:  4/10 Iteration:   80 Training loss: 0.047 accuracy: 0.920 precision: 0.943 recall: 0.909 f1: 0.926\n",
      "Epoch:  5/10 Iteration:   85 Training loss: 0.021 accuracy: 0.980 precision: 1.000 recall: 0.962 f1: 0.980\n",
      "Epoch:  5/10 Iteration:   90 Training loss: 0.036 accuracy: 0.960 precision: 0.976 recall: 0.932 f1: 0.953\n",
      "Epoch:  5/10 Iteration:   95 Training loss: 0.019 accuracy: 0.980 precision: 1.000 recall: 0.962 f1: 0.981\n",
      "Epoch:  6/10 Iteration:  100 Training loss: 0.033 accuracy: 0.940 precision: 0.964 recall: 0.931 f1: 0.947\n",
      "                           Validation loss: 0.359 accuracy: 0.560 precision: 0.559 recall: 0.616 f1: 0.584\n",
      "Epoch:  6/10 Iteration:  105 Training loss: 0.020 accuracy: 0.980 precision: 1.000 recall: 0.962 f1: 0.980\n",
      "Epoch:  6/10 Iteration:  110 Training loss: 0.036 accuracy: 0.970 precision: 0.957 recall: 0.978 f1: 0.967\n",
      "Epoch:  7/10 Iteration:  115 Training loss: 0.006 accuracy: 1.000 precision: 1.000 recall: 1.000 f1: 1.000\n",
      "Epoch:  7/10 Iteration:  120 Training loss: 0.033 accuracy: 0.950 precision: 0.981 recall: 0.927 f1: 0.953\n",
      "Epoch:  7/10 Iteration:  125 Training loss: 0.031 accuracy: 0.960 precision: 0.968 recall: 0.968 f1: 0.968\n",
      "                           Validation loss: 0.366 accuracy: 0.555 precision: 0.556 recall: 0.565 f1: 0.560\n",
      "Epoch:  8/10 Iteration:  130 Training loss: 0.014 accuracy: 0.970 precision: 1.000 recall: 0.939 f1: 0.968\n",
      "Epoch:  8/10 Iteration:  135 Training loss: 0.010 accuracy: 0.990 precision: 1.000 recall: 0.977 f1: 0.989\n",
      "Epoch:  8/10 Iteration:  140 Training loss: 0.003 accuracy: 1.000 precision: 1.000 recall: 1.000 f1: 1.000\n",
      "Epoch:  9/10 Iteration:  145 Training loss: 0.004 accuracy: 1.000 precision: 1.000 recall: 1.000 f1: 1.000\n",
      "Epoch:  9/10 Iteration:  150 Training loss: 0.012 accuracy: 0.980 precision: 1.000 recall: 0.957 f1: 0.978\n",
      "                           Validation loss: 0.376 accuracy: 0.580 precision: 0.585 recall: 0.633 f1: 0.604\n",
      "Epoch:  9/10 Iteration:  155 Training loss: 0.026 accuracy: 0.970 precision: 0.977 recall: 0.955 f1: 0.966\n",
      "Epoch:  9/10 Iteration:  160 Training loss: 0.013 accuracy: 0.990 precision: 1.000 recall: 0.978 f1: 0.989\n"
     ]
    }
   ],
   "source": [
    "epochs = 10\n",
    "batch_size = 100\n",
    "\n",
    "summaries_dir = \"./summaries/\" + datetime.now().strftime(\"%Y%m%d%H%M%S\")\n",
    "\n",
    "with graph.as_default():\n",
    "    saver = tf.train.Saver()\n",
    "\n",
    "with tf.Session(graph=graph) as sess:\n",
    "    merged = tf.summary.merge_all()\n",
    "    train_writer = tf.summary.FileWriter(summaries_dir + '/train',\n",
    "                                          sess.graph)\n",
    "    test_writer = tf.summary.FileWriter(summaries_dir + '/test')\n",
    "    val_writer = tf.summary.FileWriter(summaries_dir + '/val')\n",
    "    \n",
    "    sess.run(tf.global_variables_initializer())\n",
    "    iteration = 1\n",
    "    for e in range(epochs):\n",
    "        for x, y in get_batches(train_x, train_y, batch_size):\n",
    "            feed = {inputs: x,\n",
    "                    labels: y[:, None],\n",
    "                    keep_prob: 0.5}\n",
    "            summary, tr_loss, tr_acc, tr_prec, tr_rec, tr_f1, _ = \\\n",
    "                sess.run([merged, loss, accuracy, precision, recall, f1, optimizer], feed_dict=feed)\n",
    "            train_writer.add_summary(summary, iteration)\n",
    "            \n",
    "            # Print training information\n",
    "            if iteration%5==0:\n",
    "                print(\"Epoch:{: 3d}/{}\".format(e, epochs),\n",
    "                      \"Iteration: {: 4d} Training\".format(iteration),\n",
    "                      \"loss: {:.3f}\".format(tr_loss),\n",
    "                     \"accuracy: {:.3f}\".format(tr_acc),\n",
    "                     \"precision: {:.3f}\".format(tr_prec),\n",
    "                     \"recall: {:.3f}\".format(tr_rec),\n",
    "                     \"f1: {:.3f}\".format(tr_f1))\n",
    "            \n",
    "            # Evaluate the validation set\n",
    "            if iteration%25==0:\n",
    "                running_stats = []\n",
    "                for x, y in get_batches(val_x, val_y, batch_size):\n",
    "                    feed = {inputs: x,\n",
    "                            labels: y[:, None],\n",
    "                            keep_prob: 1}\n",
    "                    summary, v_loss, v_acc, v_prec, v_rec, v_f1 = \\\n",
    "                        sess.run([merged, loss, accuracy, precision, recall, f1], feed_dict=feed)\n",
    "                    val_writer.add_summary(summary, iteration)\n",
    "                    running_stats.append([v_loss, v_acc, v_prec, v_rec, v_f1])\n",
    "                running_stats = np.array(running_stats)\n",
    "                val_averages = running_stats.mean(axis=0)\n",
    "                print(\" \"*26,\n",
    "                      \"Validation loss: {:.3f}\".format(val_averages[0]),\n",
    "                     \"accuracy: {:.3f}\".format(val_averages[1]),\n",
    "                     \"precision: {:.3f}\".format(val_averages[2]),\n",
    "                     \"recall: {:.3f}\".format(val_averages[3]),\n",
    "                     \"f1: {:.3f}\".format(val_averages[4]))\n",
    "            iteration +=1\n",
    "    saver.save(sess, \"checkpoints/sentiment.ckpt\")"
   ]
  },
  {
   "cell_type": "markdown",
   "metadata": {},
   "source": [
    "# Evaluating Performance\n",
    "Below are some screen captures from TensorBoard, to show how the model's Accuracy, Precision, Recall, F1 Score, and Loss progressed on the training and validation sets during training:  \n",
    "**Photo goes here**"
   ]
  },
  {
   "cell_type": "markdown",
   "metadata": {},
   "source": [
    "Now, let's see how our model performed on the test set that we held out earlier.\n",
    "\n",
    "In order to do this, we will plot a \"confusion matrix,\" which concisely displays how many false positives, false negatives, true positives, and true negatives the model yielded.\n",
    "\n",
    "First, let's define our helper code for printing a confusion matrix"
   ]
  },
  {
   "cell_type": "code",
   "execution_count": 10,
   "metadata": {},
   "outputs": [],
   "source": [
    "import itertools"
   ]
  },
  {
   "cell_type": "code",
   "execution_count": 25,
   "metadata": {},
   "outputs": [],
   "source": [
    "def plot_confusion_matrix(cm, classes,\n",
    "                          normalize=False,\n",
    "                          title='Confusion matrix',\n",
    "                          cmap=plt.cm.Blues):\n",
    "    \"\"\"\n",
    "    This function prints and plots the confusion matrix.\n",
    "    Normalization can be applied by setting `normalize=True`.\n",
    "    \n",
    "    http://scikit-learn.org/stable/auto_examples/model_selection/plot_confusion_matrix.html#sphx-glr-auto-examples-model-selection-plot-confusion-matrix-py\n",
    "    \"\"\"\n",
    "    if normalize:\n",
    "        cm = cm.astype('float') / cm.sum(axis=1)[:, np.newaxis]\n",
    "\n",
    "    print(cm)\n",
    "\n",
    "    plt.imshow(cm, interpolation='nearest', cmap=cmap)\n",
    "    plt.title(title)\n",
    "    plt.colorbar()\n",
    "    tick_marks = np.arange(len(classes))\n",
    "    plt.xticks(tick_marks, classes, rotation=45)\n",
    "    plt.yticks(tick_marks, classes)\n",
    "\n",
    "    fmt = '.3f' if normalize else 'd'\n",
    "    thresh = cm.max() / 2.\n",
    "    for i, j in itertools.product(range(cm.shape[0]), range(cm.shape[1])):\n",
    "        plt.text(j, i, format(cm[i, j], fmt),\n",
    "                 horizontalalignment=\"center\",\n",
    "                 color=\"white\" if cm[i, j] > thresh else \"black\")\n",
    "\n",
    "    plt.tight_layout()\n",
    "    plt.ylabel('True label')\n",
    "    plt.xlabel('Predicted label')"
   ]
  },
  {
   "cell_type": "code",
   "execution_count": 55,
   "metadata": {},
   "outputs": [
    {
     "name": "stdout",
     "output_type": "stream",
     "text": [
      "[[ 0.8  0.2]\n",
      " [ 0.4  0.6]]\n"
     ]
    },
    {
     "data": {
      "image/png": "[encoded data removed]",
      "text/plain": [
       "<matplotlib.figure.Figure at 0x7f0e1431c4a8>"
      ]
     },
     "metadata": {},
     "output_type": "display_data"
    }
   ],
   "source": [
    "cnf_matrix = np.array([[8,2],[8,12]])\n",
    "# [TP, FN], [FP, TN]\n",
    "class_names = [\"Positive\", \"Negative\"]\n",
    "\n",
    "np.set_printoptions(precision=3)\n",
    "# Plot normalized confusion matrix\n",
    "\n",
    "plt.Figure()\n",
    "plot_confusion_matrix(cnf_matrix, classes=class_names, normalize=True,\n",
    "                      title='Normalized confusion matrix, Dummy Values')\n",
    "\n",
    "plt.show()"
   ]
  },
  {
   "cell_type": "markdown",
   "metadata": {},
   "source": [
    "Now, let's reload our model from disk, and run it on the test set:"
   ]
  },
  {
   "cell_type": "code",
   "execution_count": 52,
   "metadata": {},
   "outputs": [
    {
     "name": "stdout",
     "output_type": "stream",
     "text": [
      "INFO:tensorflow:Restoring parameters from checkpoints/sentiment.ckpt\n",
      "Test accuracy: 0.570\n"
     ]
    }
   ],
   "source": [
    "running_stats = []\n",
    "with tf.Session(graph=graph) as sess:\n",
    "    saver.restore(sess, tf.train.latest_checkpoint('checkpoints'))\n",
    "    conf_mat = np.zeros(4, dtype=int)\n",
    "    for i, (x, y) in enumerate(get_batches(test_x, test_y, batch_size), 1):\n",
    "        feed = {inputs: x,\n",
    "                labels: y[:, None],\n",
    "                keep_prob: 1}\n",
    "        batch_acc, true_pos, false_neg, false_pos, true_neg,  = sess.run([accuracy, TP, FN, FP, TN], feed_dict=feed)\n",
    "        conf_mat += (true_pos, true_neg, false_pos, false_neg)\n",
    "        running_stats.append(batch_acc)\n",
    "        \n",
    "    print(\"Test accuracy: {:.3f}\".format(np.mean(running_stats)))"
   ]
  },
  {
   "cell_type": "code",
   "execution_count": 54,
   "metadata": {},
   "outputs": [
    {
     "name": "stdout",
     "output_type": "stream",
     "text": [
      "[[ 0.482  0.518]\n",
      " [ 0.698  0.302]]\n"
     ]
    },
    {
     "data": {
      "image/png": "[encoded data removed]",
      "text/plain": [
       "<matplotlib.figure.Figure at 0x7f0dfd3fe0f0>"
      ]
     },
     "metadata": {},
     "output_type": "display_data"
    }
   ],
   "source": [
    "# Reshape into 2 x 2 matrix\n",
    "conf_mat = conf_mat.reshape((2,2))\n",
    "\n",
    "class_names = [\"Positive\", \"Negative\"]\n",
    "\n",
    "# Plot normalized confusion matrix\n",
    "\n",
    "plt.Figure()\n",
    "plot_confusion_matrix(conf_mat, classes=class_names, normalize=True,\n",
    "                      title='Normalized confusion matrix, Test Set')\n",
    "\n",
    "plt.show()"
   ]
  },
  {
   "cell_type": "code",
   "execution_count": null,
   "metadata": {},
   "outputs": [],
   "source": []
  }
 ],
 "metadata": {
  "kernelspec": {
   "display_name": "Python 3",
   "language": "python",
   "name": "python3"
  },
  "language_info": {
   "codemirror_mode": {
    "name": "ipython",
    "version": 3
   },
   "file_extension": ".py",
   "mimetype": "text/x-python",
   "name": "python",
   "nbconvert_exporter": "python",
   "pygments_lexer": "ipython3",
   "version": "3.6.3"
  }
 },
 "nbformat": 4,
 "nbformat_minor": 2
}
