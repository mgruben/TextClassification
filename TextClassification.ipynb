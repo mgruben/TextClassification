{
 "cells": [
  {
   "cell_type": "markdown",
   "metadata": {},
   "source": [
    "# Introduction\n",
    "This notebook is intended to showcase a text classification proof-of-concept model, developed in TensorFlow.\n",
    "\n",
    "The dataset used for this notebook is the [Cornell Movie Review dataset](http://www.cs.cornell.edu/people/pabo/movie-review-data/)."
   ]
  },
  {
   "cell_type": "markdown",
   "metadata": {},
   "source": [
    "# Data Exploration and Analysis\n",
    "First, let's load our dataset into a `pandas` dataframe."
   ]
  },
  {
   "cell_type": "code",
   "execution_count": 1,
   "metadata": {},
   "outputs": [],
   "source": [
    "import pandas as pd\n",
    "%matplotlib inline"
   ]
  },
  {
   "cell_type": "code",
   "execution_count": 2,
   "metadata": {},
   "outputs": [],
   "source": [
    "df = pd.read_csv(\"./data/cornell_movie_review.csv\", index_col=0)"
   ]
  },
  {
   "cell_type": "markdown",
   "metadata": {},
   "source": [
    "Let's get an idea of what the dataset looks like here."
   ]
  },
  {
   "cell_type": "code",
   "execution_count": 3,
   "metadata": {},
   "outputs": [
    {
     "data": {
      "text/html": [
       "<div>\n",
       "<style scoped>\n",
       "    .dataframe tbody tr th:only-of-type {\n",
       "        vertical-align: middle;\n",
       "    }\n",
       "\n",
       "    .dataframe tbody tr th {\n",
       "        vertical-align: top;\n",
       "    }\n",
       "\n",
       "    .dataframe thead th {\n",
       "        text-align: right;\n",
       "    }\n",
       "</style>\n",
       "<table border=\"1\" class=\"dataframe\">\n",
       "  <thead>\n",
       "    <tr style=\"text-align: right;\">\n",
       "      <th></th>\n",
       "      <th>label</th>\n",
       "      <th>review</th>\n",
       "    </tr>\n",
       "    <tr>\n",
       "      <th>id</th>\n",
       "      <th></th>\n",
       "      <th></th>\n",
       "    </tr>\n",
       "  </thead>\n",
       "  <tbody>\n",
       "    <tr>\n",
       "      <th>1</th>\n",
       "      <td>pos</td>\n",
       "      <td>films adapted from comic books have had plenty...</td>\n",
       "    </tr>\n",
       "    <tr>\n",
       "      <th>2</th>\n",
       "      <td>pos</td>\n",
       "      <td>every now and then a movie comes along from a ...</td>\n",
       "    </tr>\n",
       "    <tr>\n",
       "      <th>3</th>\n",
       "      <td>pos</td>\n",
       "      <td>you've got mail works alot better than it dese...</td>\n",
       "    </tr>\n",
       "    <tr>\n",
       "      <th>4</th>\n",
       "      <td>pos</td>\n",
       "      <td>\" jaws \" is a rare film that grabs your atten...</td>\n",
       "    </tr>\n",
       "    <tr>\n",
       "      <th>5</th>\n",
       "      <td>pos</td>\n",
       "      <td>moviemaking is a lot like being the general ma...</td>\n",
       "    </tr>\n",
       "  </tbody>\n",
       "</table>\n",
       "</div>"
      ],
      "text/plain": [
       "   label                                             review\n",
       "id                                                         \n",
       "1    pos  films adapted from comic books have had plenty...\n",
       "2    pos  every now and then a movie comes along from a ...\n",
       "3    pos  you've got mail works alot better than it dese...\n",
       "4    pos   \" jaws \" is a rare film that grabs your atten...\n",
       "5    pos  moviemaking is a lot like being the general ma..."
      ]
     },
     "execution_count": 3,
     "metadata": {},
     "output_type": "execute_result"
    }
   ],
   "source": [
    "df.head()"
   ]
  },
  {
   "cell_type": "markdown",
   "metadata": {},
   "source": [
    "Hmm, it looks like **review** can't fully fit in the above table.  \n",
    "Let's grab the first review (1-indexed!) and see what it looks like:"
   ]
  },
  {
   "cell_type": "code",
   "execution_count": 4,
   "metadata": {},
   "outputs": [
    {
     "data": {
      "text/plain": [
       "'films adapted from comic books have had plenty of success , whether they\\'re about superheroes ( batman , superman , spawn ) , or geared toward kids ( casper ) or the arthouse crowd ( ghost world ) , but there\\'s never really been a comic book like from hell before .  for starters , it was created by alan moore ( and eddie campbell ) , who brought the medium to a whole new level in the mid \\'80s with a 12-part series called the watchmen .  to say moore and campbell thoroughly researched the subject of jack the ripper would be like saying michael jackson is starting to look a little odd .  the book ( or \" graphic novel , \" if you will ) is over 500 pages long and includes nearly 30 more that consist of nothing but footnotes .  in other words , don\\'t dismiss this film because of its source .  if you can get past the whole comic book thing , you might find another stumbling block in from hell\\'s directors , albert and allen hughes .  getting the hughes brothers to direct this seems almost as ludicrous as casting carrot top in , well , anything , but riddle me this : who better to direct a film that\\'s set in the ghetto and features really violent street crime than the mad geniuses behind menace ii society ?  the ghetto in question is , of course , whitechapel in 1888 london\\'s east end .  it\\'s a filthy , sooty place where the whores ( called \" unfortunates \" ) are starting to get a little nervous about this mysterious psychopath who has been carving through their profession with surgical precision .  when the first stiff turns up , copper peter godley ( robbie coltrane , the world is not enough ) calls in inspector frederick abberline ( johnny depp , blow ) to crack the case .  abberline , a widower , has prophetic dreams he unsuccessfully tries to quell with copious amounts of absinthe and opium .  upon arriving in whitechapel , he befriends an unfortunate named mary kelly ( heather graham , say it isn\\'t so ) and proceeds to investigate the horribly gruesome crimes that even the police surgeon can\\'t stomach .  i don\\'t think anyone needs to be briefed on jack the ripper , so i won\\'t go into the particulars here , other than to say moore and campbell have a unique and interesting theory about both the identity of the killer and the reasons he chooses to slay .  in the comic , they don\\'t bother cloaking the identity of the ripper , but screenwriters terry hayes ( vertical limit ) and rafael yglesias ( les mis ? rables ) do a good job of keeping him hidden from viewers until the very end .  it\\'s funny to watch the locals blindly point the finger of blame at jews and indians because , after all , an englishman could never be capable of committing such ghastly acts .  and from hell\\'s ending had me whistling the stonecutters song from the simpsons for days ( \" who holds back the electric car/who made steve guttenberg a star ? \" ) .  don\\'t worry - it\\'ll all make sense when you see it .  now onto from hell\\'s appearance : it\\'s certainly dark and bleak enough , and it\\'s surprising to see how much more it looks like a tim burton film than planet of the apes did ( at times , it seems like sleepy hollow 2 ) .  the print i saw wasn\\'t completely finished ( both color and music had not been finalized , so no comments about marilyn manson ) , but cinematographer peter deming ( don\\'t say a word ) ably captures the dreariness of victorian-era london and helped make the flashy killing scenes remind me of the crazy flashbacks in twin peaks , even though the violence in the film pales in comparison to that in the black-and-white comic .  oscar winner martin childs\\' ( shakespeare in love ) production design turns the original prague surroundings into one creepy place .  even the acting in from hell is solid , with the dreamy depp turning in a typically strong performance and deftly handling a british accent .  ians holm ( joe gould\\'s secret ) and richardson ( 102 dalmatians ) log in great supporting roles , but the big surprise here is graham .  i cringed the first time she opened her mouth , imagining her attempt at an irish accent , but it actually wasn\\'t half bad .  the film , however , is all good .  2 : 00 - r for strong violence/gore , sexuality , language and drug content '"
      ]
     },
     "execution_count": 4,
     "metadata": {},
     "output_type": "execute_result"
    }
   ],
   "source": [
    "df['review'][1]"
   ]
  },
  {
   "cell_type": "markdown",
   "metadata": {},
   "source": [
    "Wow, that's a lengthy review.  \n",
    "Let's check how many reviews there are in the dataset:"
   ]
  },
  {
   "cell_type": "code",
   "execution_count": 5,
   "metadata": {},
   "outputs": [
    {
     "data": {
      "text/plain": [
       "2000"
      ]
     },
     "execution_count": 5,
     "metadata": {},
     "output_type": "execute_result"
    }
   ],
   "source": [
    "len(df)"
   ]
  },
  {
   "cell_type": "markdown",
   "metadata": {},
   "source": [
    "The [Cornell Movie Review dataset](http://www.cs.cornell.edu/people/pabo/movie-review-data/) is divided into positive and negative reviews.  \n",
    "Let's check how many positive, and how many negative, reviews there are in this dataset:"
   ]
  },
  {
   "cell_type": "code",
   "execution_count": 6,
   "metadata": {},
   "outputs": [
    {
     "data": {
      "text/plain": [
       "<matplotlib.axes._subplots.AxesSubplot at 0x7f751d87f748>"
      ]
     },
     "execution_count": 6,
     "metadata": {},
     "output_type": "execute_result"
    },
    {
     "data": {
      "image/png": "[encoded data removed]",
      "text/plain": [
       "<matplotlib.figure.Figure at 0x7f751d8d8f28>"
      ]
     },
     "metadata": {},
     "output_type": "display_data"
    }
   ],
   "source": [
    "df['label'].hist()"
   ]
  },
  {
   "cell_type": "markdown",
   "metadata": {},
   "source": [
    "Excellent, the dataset is already balanced.  \n",
    "Having a balanced dataset makes it easier to train a deep learning model, because it's less likely that the model will focus on one of the classes, and ignore the other.\n",
    "\n",
    "Now, let's see what the distribution of review lengths is, in numbers of characters:"
   ]
  },
  {
   "cell_type": "code",
   "execution_count": 7,
   "metadata": {},
   "outputs": [
    {
     "data": {
      "text/plain": [
       "<matplotlib.axes._subplots.AxesSubplot at 0x7f751d87f6d8>"
      ]
     },
     "execution_count": 7,
     "metadata": {},
     "output_type": "execute_result"
    },
    {
     "data": {
      "image/png": "[encoded data removed]",
      "text/plain": [
       "<matplotlib.figure.Figure at 0x7f751d8b7128>"
      ]
     },
     "metadata": {},
     "output_type": "display_data"
    }
   ],
   "source": [
    "df['review'].apply(len).hist()"
   ]
  },
  {
   "cell_type": "markdown",
   "metadata": {},
   "source": [
    "Ok, there are some much longer reviews in this dataset than the ~4,000 character review above, but most of them are under 6,000 characters."
   ]
  },
  {
   "cell_type": "markdown",
   "metadata": {},
   "source": [
    "# Data Preprocessing\n",
    "The problem we are trying to solve here is called **sentiment analysis**, that is, whether the given text is positive or negative.\n",
    "\n",
    "More broadly, this is a type of machine learning problem known as classification.\n",
    "\n",
    "There are numerous different ways to think about the above dataset.  \n",
    "We can think of it as a collection of characters, a sequence of characters, a collection of words, or a sequence of words.  \n",
    "It turns out that the sequence-of-words approach has gotten good results on sentiment analysis problems, so let's think about the above dataset in those terms.\n",
    "\n",
    "Let's consider another review in the dataset:"
   ]
  },
  {
   "cell_type": "code",
   "execution_count": 8,
   "metadata": {},
   "outputs": [
    {
     "data": {
      "text/plain": [
       "'moviemaking is a lot like being the general manager of an nfl team in the post-salary cap era -- you\\'ve got to know how to allocate your resources .  every dollar spent on a free-agent defensive tackle is one less dollar than you can spend on linebackers or safeties or centers .  in the nfl , this leads to teams like the detroit lions , who boast a superstar running back with a huge contract , but can only field five guys named herb to block for him .  in the movies , you end up with films like \" spawn \" , with a huge special-effects budget but not enough money to hire any recognizable actors .  jackie chan is the barry sanders of moviemaking .  he spins and darts across the screen like sanders cutting back through the defensive line .  watching jackie in operation condor as he drives his motorcycle through the crowded streets of madrid , fleeing an armada of pursuers in identical black compact cars , is reminiscent of sanders running for daylight with the chicago bears in hot pursuit , except that sanders doesn\\'t have to worry about rescuing runaway baby carriages .  but like the lions star , jackie doesn\\'t have anybody to block for him .  almost every cent that\\'s invested in a jackie chan movie goes for stunts , and as chan does his own stunts , the rest of the money goes to pay his hospital bills .  this leaves about 75 cents to pay for things like directors ( chan directs ) , scripts and dubbing and supporting characters , not to mention the hideous title sequence .  this also explains why the movie was shot in odd places like morocco and spain .   ( chan\\'s first release in this country , \" rumble in the bronx \" , was supposedly set in new york , but was filmed in vancouver , and in the chase scenes the canadian rockies are clearly visible . )  heck , jackie doesn\\'t even have enough money for a haircut , looks like , much less a personal hairstylist .  in condor , chan plays the same character he\\'s always played , himself , a mixture of bruce lee and tim allen , a master of both kung-fu and slapstick-fu .  jackie is sent by the un to retrieve a cache of lost nazi gold in the north african desert , and is chased by a horde of neo-nazi sympathizers and two stereotypical arabs ( one of the things i like about jackie chan movies : no political correctness ) .  he is joined by three women , who have little to do except scream , \" jackie , save us ! \" , and misuse firearms .  the villain is an old nazi whose legs were broken in the secret base so that he has to be carried everywhere , and he\\'s more pathetic than evil .  en route , we have an extended motorcycle chase scene , a hilarious fight in the moroccan version of motel 6 with the neo-nazis , and two confrontations with savage natives .  once at the secret desert base , there is a long chop-socky sequence , followed by the film\\'s centerpiece , a wind-tunnel fight that\\'s even better than the one in face/off .  this is where the money was spent , on well-choreographed kung-fu sequences , on giant kevlar hamster balls , on smashed-up crates of bananas , and on scorpions .  ignore the gaping holes in the plot ( how , exactly , if the villain\\'s legs were broken , did he escape from the secret nazi base , and why didn\\'t he take the key with him ? ) .  don\\'t worry about the production values , or what , exactly , the japanese girl was doing hitchhiking across the sahara .  just go see the movie .  operation condor has pretentions of being a \" raiders of the lost ark \" knockoff , but one wonders what jackie could do with the raiders franchise blocking for him -- with a lawrence kazdan screenplay , a john williams score , spielberg directing and george lucas producing , condor might be an a+ movie .  however , you\\'ve got to go with what you\\'ve got , and what you\\'ve got in jackie chan is something special -- a talent that mainstream hollywood should , could , and ought to utilize . '"
      ]
     },
     "execution_count": 8,
     "metadata": {},
     "output_type": "execute_result"
    }
   ],
   "source": [
    "df['review'][5]"
   ]
  },
  {
   "cell_type": "markdown",
   "metadata": {},
   "source": [
    "## Tokenization\n",
    "What we would like to do is to turn the text above into a fixed-length sequence of numbers, which is what our TensorFlow model will expect in order to train on.\n",
    "\n",
    "The basic idea behind working with text data is that we want to create a number for each unique \"token\" that we see, then we can just substitute a \"token\"'s number for the token itself, and arrive at a fixed-length sequence of numbers for TensorFlow to work with.\n",
    "\n",
    "As can be seen above, it's not just words that are present, but also punctuation.  \n",
    "\n",
    "Thankfully, the [natural language toolkit](http://www.nltk.org/) is excellent at turning a string of text into a list of tokens.\n",
    "\n",
    "Let's see how it behaves on the above review:"
   ]
  },
  {
   "cell_type": "code",
   "execution_count": 9,
   "metadata": {},
   "outputs": [],
   "source": [
    "import nltk"
   ]
  },
  {
   "cell_type": "code",
   "execution_count": 10,
   "metadata": {},
   "outputs": [
    {
     "data": {
      "text/plain": [
       "['moviemaking',\n",
       " 'is',\n",
       " 'a',\n",
       " 'lot',\n",
       " 'like',\n",
       " 'being',\n",
       " 'the',\n",
       " 'general',\n",
       " 'manager',\n",
       " 'of']"
      ]
     },
     "execution_count": 10,
     "metadata": {},
     "output_type": "execute_result"
    }
   ],
   "source": [
    "nltk.tokenize.word_tokenize(df['review'][5])[:10]"
   ]
  },
  {
   "cell_type": "markdown",
   "metadata": {},
   "source": [
    "The above is perfectly sufficient tokenization for our purposes.  \n",
    "Perhaps it could be improved upon slightly, but this breaks up our review into enough unique tokens that our model will be able to learn which ones to use and which ones to discount (more on that in the [Architecture](#Model-Architecture) section)\n",
    "\n",
    "Now, let's create a set of all the words in all of the reviews in our dataset.  \n",
    "We will use this set to create a lookup table of tokens to their \"IDs\"."
   ]
  },
  {
   "cell_type": "code",
   "execution_count": 11,
   "metadata": {},
   "outputs": [],
   "source": [
    "review_word_set = set()\n",
    "for r in df['review']:\n",
    "    review_word_set.update(nltk.tokenize.word_tokenize(r))"
   ]
  },
  {
   "cell_type": "code",
   "execution_count": 12,
   "metadata": {},
   "outputs": [
    {
     "data": {
      "text/plain": [
       "46716"
      ]
     },
     "execution_count": 12,
     "metadata": {},
     "output_type": "execute_result"
    }
   ],
   "source": [
    "len(review_word_set)"
   ]
  },
  {
   "cell_type": "markdown",
   "metadata": {},
   "source": [
    "Excellent, in our 2,000-review dataset, only some ~47,000 unique \"tokens\" have been used.  \n",
    "## Token Encoding\n",
    "Now, let's use this set to assign IDs to our tokens, so that we can easily go from a token to its ID, and vice versa.\n",
    "\n",
    "First though, let's reserve ID `0` for reasons that will become clear in the [Padding](#Padding) section below, and start at ID `1`."
   ]
  },
  {
   "cell_type": "code",
   "execution_count": 13,
   "metadata": {},
   "outputs": [],
   "source": [
    "word_to_id = {word: i for i, word in enumerate(review_word_set, 1)}"
   ]
  },
  {
   "cell_type": "code",
   "execution_count": 14,
   "metadata": {},
   "outputs": [
    {
     "data": {
      "text/plain": [
       "{'benji-like': 1,\n",
       " 'voges': 2,\n",
       " 'valderrama': 3,\n",
       " 'lark': 4,\n",
       " 'mandel': 5,\n",
       " 'manuscript': 6,\n",
       " 'addresses': 7,\n",
       " 'retinal': 8,\n",
       " 'succumbed': 9,\n",
       " \"'judge\": 10,\n",
       " 'couture': 11,\n",
       " 'ex-champion': 12,\n",
       " 'pre-intellectualizing': 13,\n",
       " 'degrees': 14,\n",
       " 'husk': 15,\n",
       " 'caribbean': 16,\n",
       " 'book': 17,\n",
       " 'onwards': 18,\n",
       " 'syd': 19,\n",
       " 'abolish': 20,\n",
       " '_the': 21,\n",
       " 'uneasy': 22,\n",
       " 'reflexivity': 23,\n",
       " 'lie': 24,\n",
       " 'remaning': 25,\n",
       " 'lesbianism': 26,\n",
       " 'caron': 27,\n",
       " 'deities': 28,\n",
       " 'deconstruct': 29,\n",
       " 'assisting': 30,\n",
       " 'staros': 31,\n",
       " 'committee': 32,\n",
       " 'intertwines': 33,\n",
       " 'edward': 34,\n",
       " 'lopez': 35,\n",
       " 'harvesting': 36,\n",
       " 'reichle': 37,\n",
       " 'shaker': 38,\n",
       " 'klein': 39,\n",
       " 'never-before-seen': 40,\n",
       " 'wahlberg': 41,\n",
       " 'interview': 42,\n",
       " 'candle-lighting': 43,\n",
       " 'tennille': 44,\n",
       " 'bereaved': 45,\n",
       " 'absence': 46,\n",
       " 'brainy': 47,\n",
       " 'meany': 48,\n",
       " 'toothy': 49,\n",
       " 'unwed': 50,\n",
       " 'tips': 51,\n",
       " 'rasping': 52,\n",
       " 'loosing': 53,\n",
       " 'avenged': 54,\n",
       " 'oprah': 55,\n",
       " 'tania': 56,\n",
       " 'kevin': 57,\n",
       " 'once-simple': 58,\n",
       " 'cops-on-the-trail-of-serial-killer': 59,\n",
       " 'marksman': 60,\n",
       " 'pronto': 61,\n",
       " 'donate': 62,\n",
       " 'jane': 63,\n",
       " 'permeated': 64,\n",
       " 'one-tone': 65,\n",
       " 'kings': 66,\n",
       " 'hoist': 67,\n",
       " 'depraved': 68,\n",
       " 'populous': 69,\n",
       " 'conor': 70,\n",
       " 'kidnapper/killer': 71,\n",
       " 're-drawn': 72,\n",
       " 'leguizimo': 73,\n",
       " 'wo-ping': 74,\n",
       " 'tidyman': 75,\n",
       " 'hyper-real': 76,\n",
       " 'separates': 77,\n",
       " 'outdated': 78,\n",
       " 'funny': 79,\n",
       " 'irritates': 80,\n",
       " 'dumbest': 81,\n",
       " 'roma': 82,\n",
       " 'movie/tv': 83,\n",
       " 'boyish': 84,\n",
       " '29-year-old': 85,\n",
       " 'tribe': 86,\n",
       " 'larger-theme': 87,\n",
       " 'funneled': 88,\n",
       " 'seeked': 89,\n",
       " 'kung': 90,\n",
       " 'vastness': 91,\n",
       " 'heart-warming': 92,\n",
       " 'diplomat': 93,\n",
       " 'procreate': 94,\n",
       " 'eye-catcher': 95,\n",
       " 'ex-new': 96,\n",
       " 'serbedzija': 97,\n",
       " 'sacrificing': 98,\n",
       " 'jere': 99,\n",
       " 'penn': 100,\n",
       " 'successive': 101,\n",
       " 'drying': 102,\n",
       " 'assitance': 103,\n",
       " 'goldbergesque': 104,\n",
       " 'wanker': 105,\n",
       " 'filer': 106,\n",
       " 'scare-thrillers': 107,\n",
       " 'babies': 108,\n",
       " 'guevera': 109,\n",
       " 'tread': 110,\n",
       " 'navarro': 111,\n",
       " 'roshomon': 112,\n",
       " 'thrift': 113,\n",
       " 'mannerisms': 114,\n",
       " 'noticing': 115,\n",
       " 'scraping': 116,\n",
       " 'retched': 117,\n",
       " 'dialect': 118,\n",
       " 'proceedings': 119,\n",
       " 'space-faring': 120,\n",
       " 'dorn': 121,\n",
       " 'dorky-looking': 122,\n",
       " 'istvan': 123,\n",
       " 'manifesting': 124,\n",
       " 'seemingly-endless': 125,\n",
       " 'nonfans': 126,\n",
       " 'revenge-for-hire': 127,\n",
       " 'convinced': 128,\n",
       " 'pyre': 129,\n",
       " 'bernsen': 130,\n",
       " 'naturalness': 131,\n",
       " 'athos': 132,\n",
       " 'winces': 133,\n",
       " '12-year': 134,\n",
       " 'hark': 135,\n",
       " 'envisioned': 136,\n",
       " 'anti-apartheid': 137,\n",
       " 'wendt': 138,\n",
       " 'noctis': 139,\n",
       " 'lama': 140,\n",
       " 'abnormal': 141,\n",
       " 'jewelry': 142,\n",
       " 'flare': 143,\n",
       " 'violations': 144,\n",
       " 'ethnic': 145,\n",
       " 'begging': 146,\n",
       " 'braddock': 147,\n",
       " 'took': 148,\n",
       " 'darwinism-': 149,\n",
       " 'terribly': 150,\n",
       " 'yatf': 151,\n",
       " 'wither': 152,\n",
       " 'concoction': 153,\n",
       " 'comprehendably': 154,\n",
       " 'lamppost': 155,\n",
       " 'imaginations': 156,\n",
       " 'talent': 157,\n",
       " 'each': 158,\n",
       " 'bedroom': 159,\n",
       " 'redone': 160,\n",
       " 'benefactors': 161,\n",
       " 'mulroney': 162,\n",
       " 'deceptions': 163,\n",
       " 'out-of-nowhere': 164,\n",
       " 'barbs': 165,\n",
       " 'mousetrap': 166,\n",
       " '`bonnie': 167,\n",
       " 'skarsgaard': 168,\n",
       " 'uprising': 169,\n",
       " 'eternally': 170,\n",
       " 'happenning': 171,\n",
       " 'possessions': 172,\n",
       " 'codger': 173,\n",
       " 'straightest': 174,\n",
       " 'light-saber': 175,\n",
       " 'reviewer': 176,\n",
       " 'unextraordinary': 177,\n",
       " 'gunfire': 178,\n",
       " 'princesses': 179,\n",
       " 'romantically': 180,\n",
       " 'geri': 181,\n",
       " 'catfights': 182,\n",
       " 'mum': 183,\n",
       " 'schoolchildren': 184,\n",
       " 'ac3': 185,\n",
       " 'bouyant': 186,\n",
       " 'choses': 187,\n",
       " 'romancing': 188,\n",
       " 'someone-else': 189,\n",
       " 'duffle': 190,\n",
       " 'sables': 191,\n",
       " 'dig': 192,\n",
       " 'harrigan': 193,\n",
       " 'nonchalant': 194,\n",
       " 'colour': 195,\n",
       " 'tycoon/villain': 196,\n",
       " 'hurricanes': 197,\n",
       " 'beaudene': 198,\n",
       " 'bijou': 199,\n",
       " 'firth': 200,\n",
       " 'excusable': 201,\n",
       " 'wishful': 202,\n",
       " 'projecting': 203,\n",
       " 'farces': 204,\n",
       " 'unhappy': 205,\n",
       " 'greenaway': 206,\n",
       " 'inky': 207,\n",
       " 'seduces': 208,\n",
       " 'self-worth': 209,\n",
       " 'crusades': 210,\n",
       " 'living-and-breathing': 211,\n",
       " 'forbes': 212,\n",
       " 'prolonged': 213,\n",
       " 'zeltser': 214,\n",
       " 'sabotaged': 215,\n",
       " 'moons': 216,\n",
       " 'unsatisying': 217,\n",
       " 'complicity': 218,\n",
       " 'deposit': 219,\n",
       " 'howard=92s': 220,\n",
       " 'warner-brothers-coyote-fall-off-the-cliff': 221,\n",
       " 'give': 222,\n",
       " 'pastoral': 223,\n",
       " 'heart-tug': 224,\n",
       " 'whispered': 225,\n",
       " 'commentary': 226,\n",
       " 'snowstorm': 227,\n",
       " 'cake-walk': 228,\n",
       " 'post-industrial': 229,\n",
       " 'superhuman': 230,\n",
       " 'missive': 231,\n",
       " 'blatherings': 232,\n",
       " 'sail': 233,\n",
       " 'dragonlike': 234,\n",
       " 'utility': 235,\n",
       " \"'titanic\": 236,\n",
       " 'downplaying': 237,\n",
       " 'wander': 238,\n",
       " 'one-night': 239,\n",
       " 'nonfiction': 240,\n",
       " 'understand': 241,\n",
       " 'rio': 242,\n",
       " 'therapy': 243,\n",
       " 'always-reliable': 244,\n",
       " 'compassion': 245,\n",
       " 'vestiges': 246,\n",
       " 'raided': 247,\n",
       " 'share': 248,\n",
       " 'half-bad': 249,\n",
       " 'lucidity': 250,\n",
       " 'slawomir': 251,\n",
       " 'obeys': 252,\n",
       " 'tommy': 253,\n",
       " 'expelled': 254,\n",
       " 'foisted': 255,\n",
       " 'stella': 256,\n",
       " 'like_blade': 257,\n",
       " 'inelegantly': 258,\n",
       " 'hank': 259,\n",
       " 'conversations': 260,\n",
       " 'frivilous': 261,\n",
       " 'drumroll': 262,\n",
       " 'barrel': 263,\n",
       " 'extermination': 264,\n",
       " 'rigour': 265,\n",
       " 'chainsaws': 266,\n",
       " 'surfboards': 267,\n",
       " 'quandary': 268,\n",
       " 'fullyloaded': 269,\n",
       " 'ninth': 270,\n",
       " 'ole': 271,\n",
       " 'deviating': 272,\n",
       " 'formulaic': 273,\n",
       " 'tumbleweeds': 274,\n",
       " 'tolerating': 275,\n",
       " 'calculated': 276,\n",
       " 'statues': 277,\n",
       " 'whales/triangle': 278,\n",
       " 'gassner': 279,\n",
       " 'must-sees': 280,\n",
       " 'inconsistencies': 281,\n",
       " 'australian': 282,\n",
       " 'analyzes': 283,\n",
       " 'especially': 284,\n",
       " 'obsessive/compulsive': 285,\n",
       " 'comedies': 286,\n",
       " 'rebounding': 287,\n",
       " 'mack': 288,\n",
       " 'long-long': 289,\n",
       " 'flinging': 290,\n",
       " 'bussing': 291,\n",
       " 'hoblit': 292,\n",
       " 'welfare': 293,\n",
       " 'excepting': 294,\n",
       " 'nostromo': 295,\n",
       " 'deleting': 296,\n",
       " 'roxy': 297,\n",
       " 'wreaks': 298,\n",
       " 'battering': 299,\n",
       " '`sophisticated': 300,\n",
       " 'agony': 301,\n",
       " 'legal-drug': 302,\n",
       " 'railings': 303,\n",
       " 'lasting': 304,\n",
       " 'smacked': 305,\n",
       " 'sibling': 306,\n",
       " 'duties': 307,\n",
       " 'yorick': 308,\n",
       " 'gyrations': 309,\n",
       " 'mcglone': 310,\n",
       " 'developer': 311,\n",
       " 'disguise': 312,\n",
       " 'over-extended': 313,\n",
       " 'mattes': 314,\n",
       " 'psychotherapy': 315,\n",
       " 'grades': 316,\n",
       " 'blane': 317,\n",
       " 'heberle': 318,\n",
       " 'pulpy': 319,\n",
       " 'kurtwood': 320,\n",
       " 'grier': 321,\n",
       " 'snub': 322,\n",
       " 'hitmen': 323,\n",
       " 'objectionable': 324,\n",
       " 'egar': 325,\n",
       " 'affirming': 326,\n",
       " 'apparitions': 327,\n",
       " 'loeb': 328,\n",
       " 'opposition': 329,\n",
       " 'certain': 330,\n",
       " 'cat-and-mouse': 331,\n",
       " 'carmel': 332,\n",
       " 'mood': 333,\n",
       " 'discordant': 334,\n",
       " 'brinkley': 335,\n",
       " 'linz': 336,\n",
       " 'yell': 337,\n",
       " 'raises': 338,\n",
       " 'trash-talking': 339,\n",
       " 'uphill': 340,\n",
       " 'psychotically': 341,\n",
       " 'depak': 342,\n",
       " 'grenier': 343,\n",
       " 'recipient': 344,\n",
       " 'venora': 345,\n",
       " 'unleashes': 346,\n",
       " 'deapens': 347,\n",
       " 'cathy': 348,\n",
       " 'glorious': 349,\n",
       " 'hootworthy': 350,\n",
       " 'man-animals': 351,\n",
       " 'hawtrey': 352,\n",
       " 'lili': 353,\n",
       " 'thang': 354,\n",
       " 'animatronics': 355,\n",
       " 'phi': 356,\n",
       " 'overlong': 357,\n",
       " 'exasperation': 358,\n",
       " 'keaton': 359,\n",
       " 'avenging': 360,\n",
       " 'reheal': 361,\n",
       " 'argonians': 362,\n",
       " 'shacking': 363,\n",
       " 'thereus': 364,\n",
       " 'seige': 365,\n",
       " 'wall': 366,\n",
       " 'antennae-like': 367,\n",
       " '35mm': 368,\n",
       " 'limon': 369,\n",
       " 'port': 370,\n",
       " 'potted': 371,\n",
       " 'fray': 372,\n",
       " 'automaton': 373,\n",
       " 'manouvering': 374,\n",
       " 'low-caliber': 375,\n",
       " 'self-deprecating': 376,\n",
       " 'daily': 377,\n",
       " 'battery-charging': 378,\n",
       " 'eloi': 379,\n",
       " 'deconstructs': 380,\n",
       " 'consummated': 381,\n",
       " 'mis-': 382,\n",
       " 'wilds': 383,\n",
       " 'curmudgeon': 384,\n",
       " 'sluts': 385,\n",
       " 'redoubtable': 386,\n",
       " 'absorbs': 387,\n",
       " 'prevent': 388,\n",
       " 'righting': 389,\n",
       " 'chat': 390,\n",
       " 'partnered': 391,\n",
       " 'joon': 392,\n",
       " 'barbarino': 393,\n",
       " 'verbatim': 394,\n",
       " 'soft-': 395,\n",
       " 'infallibility': 396,\n",
       " 'drugged-out': 397,\n",
       " 'reworkings': 398,\n",
       " 'sutton': 399,\n",
       " 'panoramas': 400,\n",
       " 'siphoned': 401,\n",
       " 'instant-gratification': 402,\n",
       " 'terk': 403,\n",
       " 'budgets': 404,\n",
       " 'connect-the-dots': 405,\n",
       " 'sleaziness': 406,\n",
       " 'pacha': 407,\n",
       " 'grader': 408,\n",
       " 'may': 409,\n",
       " '_casablanca_': 410,\n",
       " 'drug-induced': 411,\n",
       " 'institutes': 412,\n",
       " 'big-': 413,\n",
       " 'decay': 414,\n",
       " '19th-century': 415,\n",
       " 'criticisms': 416,\n",
       " 'sparing': 417,\n",
       " 'conservative': 418,\n",
       " 'contentiousness': 419,\n",
       " 'turgeon': 420,\n",
       " 'awhile': 421,\n",
       " 'sneeze': 422,\n",
       " 'structuring': 423,\n",
       " 'ratzenberger': 424,\n",
       " 'semester': 425,\n",
       " 'hollywood': 426,\n",
       " 'over-stylized': 427,\n",
       " 'longbaugh': 428,\n",
       " 'com/~corona/films/details/sw4': 429,\n",
       " '_in': 430,\n",
       " 'juliette': 431,\n",
       " 'deplorable': 432,\n",
       " 'regulations': 433,\n",
       " 'adores': 434,\n",
       " 'incoherence': 435,\n",
       " 'one-word': 436,\n",
       " 'tumbles': 437,\n",
       " 'cutouts': 438,\n",
       " 'hay': 439,\n",
       " 'unrated': 440,\n",
       " 'explantion': 441,\n",
       " 'indie-rock': 442,\n",
       " 'vartan': 443,\n",
       " 'dave-good': 444,\n",
       " 'tri-star': 445,\n",
       " 'rocket': 446,\n",
       " 'existent': 447,\n",
       " 'incisive': 448,\n",
       " 'thrilling': 449,\n",
       " 'bandies': 450,\n",
       " 're': 451,\n",
       " 'unlike': 452,\n",
       " 'moustached': 453,\n",
       " 'bateman': 454,\n",
       " 'streep': 455,\n",
       " 'foretold': 456,\n",
       " 'flaunt': 457,\n",
       " 'nebbish': 458,\n",
       " 'courthouse': 459,\n",
       " 'abides': 460,\n",
       " 'katzenberg': 461,\n",
       " 'fibe': 462,\n",
       " 'deathcamps': 463,\n",
       " 'gunned': 464,\n",
       " 'disco': 465,\n",
       " 'incompletely': 466,\n",
       " 'wormwoods': 467,\n",
       " 'grenade': 468,\n",
       " 'spader': 469,\n",
       " 'deux': 470,\n",
       " 'victims': 471,\n",
       " 'carjacking': 472,\n",
       " 'awright': 473,\n",
       " 'gigi': 474,\n",
       " 'bouquet': 475,\n",
       " 'lifespan': 476,\n",
       " 'boys': 477,\n",
       " 'culp': 478,\n",
       " 'xtdl': 479,\n",
       " 'roam': 480,\n",
       " 'barges': 481,\n",
       " 'doomsaying': 482,\n",
       " 'chit': 483,\n",
       " 'wright-penn': 484,\n",
       " '170': 485,\n",
       " 'kamikaze': 486,\n",
       " 'catalyst': 487,\n",
       " 'lip-smacking': 488,\n",
       " 'acres': 489,\n",
       " 'offed': 490,\n",
       " 'death-defying': 491,\n",
       " 'bottles': 492,\n",
       " 'stumbles': 493,\n",
       " 'fatboy': 494,\n",
       " 'street-wise': 495,\n",
       " 'crunchem': 496,\n",
       " 'disqualified': 497,\n",
       " 'uptown': 498,\n",
       " 'montage-backed': 499,\n",
       " 'rafts': 500,\n",
       " 'furry': 501,\n",
       " 'fanatically': 502,\n",
       " 'centre': 503,\n",
       " 'dian': 504,\n",
       " \"'psycho\": 505,\n",
       " 'crouched': 506,\n",
       " 'newlywed': 507,\n",
       " 'novicorp': 508,\n",
       " '11-year': 509,\n",
       " 'unmatched': 510,\n",
       " 'impolite': 511,\n",
       " 'charbanic': 512,\n",
       " 'lead-faced': 513,\n",
       " '10': 514,\n",
       " 'seeming': 515,\n",
       " 'kingston': 516,\n",
       " 'sims': 517,\n",
       " 'disguises': 518,\n",
       " 'frenetically': 519,\n",
       " 'medak': 520,\n",
       " 'massage': 521,\n",
       " 'swarm': 522,\n",
       " 'zephram': 523,\n",
       " 'agricultural': 524,\n",
       " 'expressionism': 525,\n",
       " 'astaire': 526,\n",
       " 'jackman': 527,\n",
       " 'snap-brim': 528,\n",
       " 'decades': 529,\n",
       " 'on-the-spot': 530,\n",
       " 'arrangement': 531,\n",
       " 'permanence': 532,\n",
       " 'cross': 533,\n",
       " 'computer-simulated': 534,\n",
       " 'nonsensical': 535,\n",
       " 'client': 536,\n",
       " 'criticize': 537,\n",
       " 'mcgoohan': 538,\n",
       " 'enwrapped': 539,\n",
       " 'abbreviated': 540,\n",
       " 'computer-assisted': 541,\n",
       " 'sleepy': 542,\n",
       " 'eastward': 543,\n",
       " 'cuz': 544,\n",
       " 'ape': 545,\n",
       " \"year's-open\": 546,\n",
       " 'protective': 547,\n",
       " 'hypnotically': 548,\n",
       " 'something-or-the-other': 549,\n",
       " 'fetishistic': 550,\n",
       " 'amrriage': 551,\n",
       " 'stirs': 552,\n",
       " 'paup': 553,\n",
       " 'erupts': 554,\n",
       " 'decoys': 555,\n",
       " 'tritt': 556,\n",
       " 'solomon': 557,\n",
       " 'annual': 558,\n",
       " 'dizzyingly': 559,\n",
       " 'satisfactory': 560,\n",
       " 'low-brow': 561,\n",
       " 'acknowledge': 562,\n",
       " 'beetles': 563,\n",
       " 'phrases': 564,\n",
       " 'chestnuts': 565,\n",
       " 'spaceship': 566,\n",
       " 'subjectivity': 567,\n",
       " 'simplistically': 568,\n",
       " 'winslett': 569,\n",
       " '_a': 570,\n",
       " 'outstripped': 571,\n",
       " 'reestablishing': 572,\n",
       " '-': 573,\n",
       " 'debates': 574,\n",
       " 'mystically': 575,\n",
       " 'bombay': 576,\n",
       " 'signal': 577,\n",
       " 'kowalski': 578,\n",
       " 'garnish': 579,\n",
       " 'singe': 580,\n",
       " 'motown': 581,\n",
       " 'campaign': 582,\n",
       " 'portia': 583,\n",
       " 'wincing': 584,\n",
       " 'sputtering': 585,\n",
       " 'wile': 586,\n",
       " 'knockoff': 587,\n",
       " 'raiment': 588,\n",
       " 'oriented': 589,\n",
       " 'writer/directors': 590,\n",
       " 'half-man': 591,\n",
       " 'stewardess': 592,\n",
       " 'pre-conceived': 593,\n",
       " \"'hollow\": 594,\n",
       " 'munchkin': 595,\n",
       " 'ignorable': 596,\n",
       " '23rd': 597,\n",
       " 'schumann': 598,\n",
       " 'jerusalem': 599,\n",
       " 'supporting': 600,\n",
       " 'set-up': 601,\n",
       " 'yim': 602,\n",
       " 'unempathetic': 603,\n",
       " 'maunau': 604,\n",
       " 'helgenberger': 605,\n",
       " '13-20': 606,\n",
       " 'rubber': 607,\n",
       " 'ergonomics': 608,\n",
       " 'adult': 609,\n",
       " 'corrects': 610,\n",
       " 'come-uppance': 611,\n",
       " 'lost': 612,\n",
       " 'german': 613,\n",
       " 'twenty-five': 614,\n",
       " 'carelessly': 615,\n",
       " 'wags': 616,\n",
       " 'smog': 617,\n",
       " 'calderon': 618,\n",
       " 'rolfe': 619,\n",
       " 'mourned': 620,\n",
       " 'irascible': 621,\n",
       " 'risking': 622,\n",
       " 'vapors': 623,\n",
       " 'previewed': 624,\n",
       " 're-delivering': 625,\n",
       " 'bewildering': 626,\n",
       " 'homefront': 627,\n",
       " 'far-side': 628,\n",
       " 'neutralize': 629,\n",
       " 'materialist': 630,\n",
       " 'sharing': 631,\n",
       " 'prejudiced': 632,\n",
       " 'necrophilia': 633,\n",
       " 'construed': 634,\n",
       " 'rustic': 635,\n",
       " 'fegan': 636,\n",
       " 'swigert': 637,\n",
       " 'walkers': 638,\n",
       " 'lurking': 639,\n",
       " 'wendkos': 640,\n",
       " 'terminate': 641,\n",
       " 'persecuted': 642,\n",
       " 'brigante': 643,\n",
       " 'fantasized': 644,\n",
       " 'fairy-tale': 645,\n",
       " 'semi-thorough': 646,\n",
       " 'miscommunicated': 647,\n",
       " 'slasher-movie': 648,\n",
       " 'myrick': 649,\n",
       " 'passport': 650,\n",
       " 'lowbrow': 651,\n",
       " 'double-camera': 652,\n",
       " 'noisily': 653,\n",
       " 'cassavettes': 654,\n",
       " 'sloppiest': 655,\n",
       " 'pounder': 656,\n",
       " 'separatist': 657,\n",
       " 'warehouse': 658,\n",
       " 'entertainingly': 659,\n",
       " 'called': 660,\n",
       " 'oppposed': 661,\n",
       " 'chipmunks': 662,\n",
       " 'vigil': 663,\n",
       " 'claw': 664,\n",
       " 'burnt-out': 665,\n",
       " 'wrong-side-of-the-tracks': 666,\n",
       " 'wrongdoing': 667,\n",
       " 'giveaway': 668,\n",
       " 'dissertations': 669,\n",
       " 'kari': 670,\n",
       " 'senile': 671,\n",
       " 'risk-taking': 672,\n",
       " 'malick': 673,\n",
       " 'overly-noisy': 674,\n",
       " 'unhappily': 675,\n",
       " 'comedies-': 676,\n",
       " 'helpfulness': 677,\n",
       " 'groaned': 678,\n",
       " 'smirky': 679,\n",
       " 'nifty': 680,\n",
       " 'dropout': 681,\n",
       " 'skirt': 682,\n",
       " 'probgram': 683,\n",
       " 'outacts': 684,\n",
       " 'well-deserving': 685,\n",
       " 'smug': 686,\n",
       " 'overcome': 687,\n",
       " 'saracastic': 688,\n",
       " 'quirky-but-realistic': 689,\n",
       " 'organization': 690,\n",
       " 'josef': 691,\n",
       " 'pigeonholing': 692,\n",
       " 'alluringly': 693,\n",
       " 'parading': 694,\n",
       " 'golden': 695,\n",
       " 'sales-pitch': 696,\n",
       " 'luhrman': 697,\n",
       " 'mohr': 698,\n",
       " 'one-celled': 699,\n",
       " 'sword': 700,\n",
       " 'sacrament': 701,\n",
       " 'blockbusters': 702,\n",
       " 'canna': 703,\n",
       " 'eaisly': 704,\n",
       " 'anxiety-ridden': 705,\n",
       " 'unusable': 706,\n",
       " 'horror-drama': 707,\n",
       " 'farmers': 708,\n",
       " 'sluizer': 709,\n",
       " 'miners': 710,\n",
       " 'howitt': 711,\n",
       " 'pos': 712,\n",
       " 'replacing': 713,\n",
       " 'fritz': 714,\n",
       " 'attachs': 715,\n",
       " 'conn': 716,\n",
       " 'dietl': 717,\n",
       " 're-connect': 718,\n",
       " 'cringes': 719,\n",
       " 'breached': 720,\n",
       " 'politicos': 721,\n",
       " 'vampire-films': 722,\n",
       " 'neo-noirs': 723,\n",
       " 'proposes': 724,\n",
       " 'gere\\x12s': 725,\n",
       " 'runner-esque': 726,\n",
       " 'noooo': 727,\n",
       " 'supervisor': 728,\n",
       " 'love-dependent': 729,\n",
       " 'fandom': 730,\n",
       " 'teen-dominated': 731,\n",
       " 'splatter': 732,\n",
       " 'humbert': 733,\n",
       " 'pertains': 734,\n",
       " 'clarence': 735,\n",
       " 'foible': 736,\n",
       " 'tough-talking': 737,\n",
       " \"o'day\": 738,\n",
       " 'experiencing': 739,\n",
       " 'chainsmoking': 740,\n",
       " 'dredges': 741,\n",
       " 'paramedic': 742,\n",
       " 'zhuangzhuang': 743,\n",
       " 'lined': 744,\n",
       " 'love-interest': 745,\n",
       " 'auditorium': 746,\n",
       " 'good-guy': 747,\n",
       " 'gunshots': 748,\n",
       " 'lean': 749,\n",
       " 'world': 750,\n",
       " 'analyst': 751,\n",
       " 'juices': 752,\n",
       " 'blind': 753,\n",
       " 'reforms': 754,\n",
       " 'cassanova-ness': 755,\n",
       " 'anti-matter': 756,\n",
       " 'go-round': 757,\n",
       " 'festive': 758,\n",
       " 'influence': 759,\n",
       " 'appliances': 760,\n",
       " 'adrianne': 761,\n",
       " 'rifle-ly': 762,\n",
       " 'oed': 763,\n",
       " 'thumbs': 764,\n",
       " 'signatures': 765,\n",
       " 'campell': 766,\n",
       " '1930s': 767,\n",
       " 'stereoscopic': 768,\n",
       " 'lot': 769,\n",
       " 'once-married-but-now-estranged': 770,\n",
       " 'glamorous': 771,\n",
       " 'barker': 772,\n",
       " 'tasteless': 773,\n",
       " 'disbelieving': 774,\n",
       " 'artificial': 775,\n",
       " 'up-beat': 776,\n",
       " 'inconveniences': 777,\n",
       " 'sobel': 778,\n",
       " 'hooper': 779,\n",
       " 'goat': 780,\n",
       " 'movies': 781,\n",
       " 'month-long': 782,\n",
       " 'karloff': 783,\n",
       " 'protectionist': 784,\n",
       " 'storyboard-to-scene': 785,\n",
       " 'pardon': 786,\n",
       " '+3': 787,\n",
       " 'mare': 788,\n",
       " 'e': 789,\n",
       " 'babboons': 790,\n",
       " 'bio-mechanical': 791,\n",
       " '/cinematographer/editor': 792,\n",
       " 'rain-soaked': 793,\n",
       " 'composer/lyricist': 794,\n",
       " 'camerons': 795,\n",
       " 'hypocritical': 796,\n",
       " \"'original\": 797,\n",
       " 'pledges': 798,\n",
       " 'wittliff': 799,\n",
       " '3/4': 800,\n",
       " 'breakdances': 801,\n",
       " '1812': 802,\n",
       " 'stake': 803,\n",
       " '_star': 804,\n",
       " 'interrotron': 805,\n",
       " 'play/movie': 806,\n",
       " 'personal': 807,\n",
       " 'eye-popper': 808,\n",
       " 'loners': 809,\n",
       " 'charlatans': 810,\n",
       " 'mentionable': 811,\n",
       " 'nether': 812,\n",
       " 'boggles': 813,\n",
       " 'near-pornographic': 814,\n",
       " 'gershwin': 815,\n",
       " 'division': 816,\n",
       " 'scrutinize': 817,\n",
       " 'schoolteacher': 818,\n",
       " 'whoever': 819,\n",
       " 'rooker': 820,\n",
       " 'manage': 821,\n",
       " \"o'toole\": 822,\n",
       " 'consideration': 823,\n",
       " 'ren': 824,\n",
       " 'mains': 825,\n",
       " '_roxbury_': 826,\n",
       " 'spunk': 827,\n",
       " 'rapping': 828,\n",
       " 'half-million': 829,\n",
       " 'wiseguys': 830,\n",
       " 'howled': 831,\n",
       " 'father/david': 832,\n",
       " 'vessels': 833,\n",
       " 'blatancy': 834,\n",
       " 'outside-in': 835,\n",
       " 'heinous': 836,\n",
       " 'combat': 837,\n",
       " 'dubarry': 838,\n",
       " 'interlinked': 839,\n",
       " 'goldeneye': 840,\n",
       " 'wowing': 841,\n",
       " 'overachieving': 842,\n",
       " 'interrogative': 843,\n",
       " 'upright': 844,\n",
       " 'profundities': 845,\n",
       " 'catch-22': 846,\n",
       " 'roan': 847,\n",
       " 'ineffectuality': 848,\n",
       " 'invigorate': 849,\n",
       " 'lianna': 850,\n",
       " 'merle': 851,\n",
       " 'legged': 852,\n",
       " 'non-existant': 853,\n",
       " 'wehrmacht': 854,\n",
       " 'flop-house': 855,\n",
       " 'brauvara': 856,\n",
       " 'strocker': 857,\n",
       " 'flaky': 858,\n",
       " 'paraphrase': 859,\n",
       " 'defends': 860,\n",
       " 'sexiest': 861,\n",
       " 'distrusts': 862,\n",
       " 'clashing': 863,\n",
       " 'cronenberg': 864,\n",
       " 'giacomo': 865,\n",
       " 'tee-shirt': 866,\n",
       " 'overcooked': 867,\n",
       " 'schillings': 868,\n",
       " 'annoys': 869,\n",
       " 'cluttered': 870,\n",
       " 'misses/catches': 871,\n",
       " 'crichton': 872,\n",
       " 'uncomfortable': 873,\n",
       " 'resolutions': 874,\n",
       " 'harron': 875,\n",
       " 'headquarters': 876,\n",
       " 'up': 877,\n",
       " 'darkened': 878,\n",
       " 'hara-kiri': 879,\n",
       " 'blended': 880,\n",
       " 'prohibition': 881,\n",
       " 'messenger': 882,\n",
       " 'pools': 883,\n",
       " 'narc': 884,\n",
       " 'woof': 885,\n",
       " 'computech': 886,\n",
       " 'we\\x12ll': 887,\n",
       " 'deceiver': 888,\n",
       " 'ruffini': 889,\n",
       " 'hardball': 890,\n",
       " 'laconic': 891,\n",
       " 'victorian-era': 892,\n",
       " 'complemented': 893,\n",
       " 'phew': 894,\n",
       " 'discard': 895,\n",
       " 'rewarded': 896,\n",
       " 'mentally-challenged': 897,\n",
       " 'mispronouncing': 898,\n",
       " 'non-criminal': 899,\n",
       " 'shot-for-shot': 900,\n",
       " 'fielder': 901,\n",
       " 'play': 902,\n",
       " 'shoulder-length': 903,\n",
       " 'simonesque': 904,\n",
       " 'cindy': 905,\n",
       " 'doubts': 906,\n",
       " \"'friend\": 907,\n",
       " 'portland': 908,\n",
       " 'drunk': 909,\n",
       " 'mainly': 910,\n",
       " 'decieving': 911,\n",
       " 'foreground': 912,\n",
       " 'heavenly': 913,\n",
       " 'quinland': 914,\n",
       " 'ex-gangsta': 915,\n",
       " 'likeness': 916,\n",
       " 'toro': 917,\n",
       " 'exchanged': 918,\n",
       " 'oilrig': 919,\n",
       " 'pistol': 920,\n",
       " 'outworld': 921,\n",
       " 'careen': 922,\n",
       " 'indescribable': 923,\n",
       " 'tsui': 924,\n",
       " 'dummy': 925,\n",
       " 'jawas': 926,\n",
       " 'clea': 927,\n",
       " 'stage': 928,\n",
       " 'antarctica': 929,\n",
       " 'thirtysomething': 930,\n",
       " 'bawling': 931,\n",
       " 'bears': 932,\n",
       " 'full-price': 933,\n",
       " 'bracing': 934,\n",
       " 'kennedy': 935,\n",
       " 'teachers': 936,\n",
       " 'reconsiders': 937,\n",
       " 'fetishized': 938,\n",
       " 'coolidge': 939,\n",
       " 'devote': 940,\n",
       " 'opts': 941,\n",
       " 'dreamer': 942,\n",
       " 'ferrari': 943,\n",
       " 'held': 944,\n",
       " 'maryam': 945,\n",
       " 'wizard': 946,\n",
       " 'hoggett': 947,\n",
       " 'signify': 948,\n",
       " 'contemptuous': 949,\n",
       " 'sliced': 950,\n",
       " 'titshots': 951,\n",
       " 'costuming': 952,\n",
       " 'handbook': 953,\n",
       " 'overfills': 954,\n",
       " 'unique': 955,\n",
       " 'crackles': 956,\n",
       " 'braga': 957,\n",
       " 'measurements': 958,\n",
       " 'favored': 959,\n",
       " 'scoundrels': 960,\n",
       " 'thigh-high': 961,\n",
       " 'naturally': 962,\n",
       " 'jimkendrick': 963,\n",
       " 'plimpton': 964,\n",
       " 'debris': 965,\n",
       " 'patronize': 966,\n",
       " 'necessity': 967,\n",
       " 'carrol': 968,\n",
       " 'anytime': 969,\n",
       " 'suppression': 970,\n",
       " 'pianist': 971,\n",
       " 'dorian': 972,\n",
       " 'overscore': 973,\n",
       " 'perking': 974,\n",
       " 'egoyan': 975,\n",
       " 'endora': 976,\n",
       " 'unacceptable': 977,\n",
       " 'insanely': 978,\n",
       " 'meerson': 979,\n",
       " 'eastwood-esque': 980,\n",
       " 'close-to-awful': 981,\n",
       " '15-year': 982,\n",
       " 'further': 983,\n",
       " '`come': 984,\n",
       " 'smuggle': 985,\n",
       " '_hard_ware': 986,\n",
       " 'purr': 987,\n",
       " 'cleopatra': 988,\n",
       " 'crust': 989,\n",
       " 'ismael': 990,\n",
       " 'gut-wrenching': 991,\n",
       " 'yuks': 992,\n",
       " 'occupants': 993,\n",
       " 'occurrences': 994,\n",
       " 'vulcan': 995,\n",
       " 'brody': 996,\n",
       " 'crunchily': 997,\n",
       " 'internet-like': 998,\n",
       " 'vulture-like': 999,\n",
       " 'child-support': 1000,\n",
       " ...}"
      ]
     },
     "execution_count": 14,
     "metadata": {},
     "output_type": "execute_result"
    }
   ],
   "source": [
    "word_to_id"
   ]
  },
  {
   "cell_type": "markdown",
   "metadata": {},
   "source": [
    "Excellent, we're much closer to being able to having our dataset in a form that TensorFlow can work with.  \n",
    "Just for sanity, let's see what the review above would look like as a list of the IDs above:"
   ]
  },
  {
   "cell_type": "code",
   "execution_count": 15,
   "metadata": {},
   "outputs": [
    {
     "data": {
      "text/plain": [
       "[28510, 34424, 27745, 769, 40164, 18179, 14530, 8939, 32409, 19416]"
      ]
     },
     "execution_count": 15,
     "metadata": {},
     "output_type": "execute_result"
    }
   ],
   "source": [
    "[word_to_id[word] for word in nltk.tokenize.word_tokenize(df['review'][5])][:10]"
   ]
  },
  {
   "cell_type": "markdown",
   "metadata": {},
   "source": [
    "I'm going to trust that the above is mostly correct, but let's at least check that `moviemaking` matches the first index in the above list:"
   ]
  },
  {
   "cell_type": "code",
   "execution_count": 16,
   "metadata": {},
   "outputs": [
    {
     "data": {
      "text/plain": [
       "28510"
      ]
     },
     "execution_count": 16,
     "metadata": {},
     "output_type": "execute_result"
    }
   ],
   "source": [
    "word_to_id[\"moviemaking\"]"
   ]
  },
  {
   "cell_type": "markdown",
   "metadata": {},
   "source": [
    "Perfect.  Now, let's convert all of the tokenized reviews into lists of `ID`s"
   ]
  },
  {
   "cell_type": "code",
   "execution_count": 17,
   "metadata": {},
   "outputs": [],
   "source": [
    "reviews_as_ids = []\n",
    "for review in df['review']:\n",
    "    reviews_as_ids.append([word_to_id[word] for word in nltk.tokenize.word_tokenize(review)])"
   ]
  },
  {
   "cell_type": "markdown",
   "metadata": {},
   "source": [
    "Again, as a sanity check, the 5th item in the `reviews_as_ids` list should be the same as the list that we see two cells above:"
   ]
  },
  {
   "cell_type": "code",
   "execution_count": 18,
   "metadata": {},
   "outputs": [
    {
     "data": {
      "text/plain": [
       "[28510, 34424, 27745, 769, 40164, 18179, 14530, 8939, 32409, 19416]"
      ]
     },
     "execution_count": 18,
     "metadata": {},
     "output_type": "execute_result"
    }
   ],
   "source": [
    "reviews_as_ids[4][:10]"
   ]
  },
  {
   "cell_type": "markdown",
   "metadata": {},
   "source": [
    "Excellent, we have now transformed our dataset of movie reviews into a list of integers.  "
   ]
  },
  {
   "cell_type": "markdown",
   "metadata": {},
   "source": [
    "## Label Encoding\n",
    "Now, let's generate an array that we can use with TensorFlow from the labels in the dataset."
   ]
  },
  {
   "cell_type": "code",
   "execution_count": 19,
   "metadata": {},
   "outputs": [],
   "source": [
    "import numpy as np"
   ]
  },
  {
   "cell_type": "code",
   "execution_count": 20,
   "metadata": {},
   "outputs": [
    {
     "data": {
      "text/html": [
       "<div>\n",
       "<style scoped>\n",
       "    .dataframe tbody tr th:only-of-type {\n",
       "        vertical-align: middle;\n",
       "    }\n",
       "\n",
       "    .dataframe tbody tr th {\n",
       "        vertical-align: top;\n",
       "    }\n",
       "\n",
       "    .dataframe thead th {\n",
       "        text-align: right;\n",
       "    }\n",
       "</style>\n",
       "<table border=\"1\" class=\"dataframe\">\n",
       "  <thead>\n",
       "    <tr style=\"text-align: right;\">\n",
       "      <th></th>\n",
       "      <th>label</th>\n",
       "      <th>review</th>\n",
       "    </tr>\n",
       "    <tr>\n",
       "      <th>id</th>\n",
       "      <th></th>\n",
       "      <th></th>\n",
       "    </tr>\n",
       "  </thead>\n",
       "  <tbody>\n",
       "    <tr>\n",
       "      <th>1</th>\n",
       "      <td>pos</td>\n",
       "      <td>films adapted from comic books have had plenty...</td>\n",
       "    </tr>\n",
       "    <tr>\n",
       "      <th>2</th>\n",
       "      <td>pos</td>\n",
       "      <td>every now and then a movie comes along from a ...</td>\n",
       "    </tr>\n",
       "    <tr>\n",
       "      <th>3</th>\n",
       "      <td>pos</td>\n",
       "      <td>you've got mail works alot better than it dese...</td>\n",
       "    </tr>\n",
       "    <tr>\n",
       "      <th>4</th>\n",
       "      <td>pos</td>\n",
       "      <td>\" jaws \" is a rare film that grabs your atten...</td>\n",
       "    </tr>\n",
       "    <tr>\n",
       "      <th>5</th>\n",
       "      <td>pos</td>\n",
       "      <td>moviemaking is a lot like being the general ma...</td>\n",
       "    </tr>\n",
       "  </tbody>\n",
       "</table>\n",
       "</div>"
      ],
      "text/plain": [
       "   label                                             review\n",
       "id                                                         \n",
       "1    pos  films adapted from comic books have had plenty...\n",
       "2    pos  every now and then a movie comes along from a ...\n",
       "3    pos  you've got mail works alot better than it dese...\n",
       "4    pos   \" jaws \" is a rare film that grabs your atten...\n",
       "5    pos  moviemaking is a lot like being the general ma..."
      ]
     },
     "execution_count": 20,
     "metadata": {},
     "output_type": "execute_result"
    }
   ],
   "source": [
    "df.head()"
   ]
  },
  {
   "cell_type": "code",
   "execution_count": 21,
   "metadata": {},
   "outputs": [
    {
     "data": {
      "text/html": [
       "<div>\n",
       "<style scoped>\n",
       "    .dataframe tbody tr th:only-of-type {\n",
       "        vertical-align: middle;\n",
       "    }\n",
       "\n",
       "    .dataframe tbody tr th {\n",
       "        vertical-align: top;\n",
       "    }\n",
       "\n",
       "    .dataframe thead th {\n",
       "        text-align: right;\n",
       "    }\n",
       "</style>\n",
       "<table border=\"1\" class=\"dataframe\">\n",
       "  <thead>\n",
       "    <tr style=\"text-align: right;\">\n",
       "      <th></th>\n",
       "      <th>label</th>\n",
       "      <th>review</th>\n",
       "    </tr>\n",
       "    <tr>\n",
       "      <th>id</th>\n",
       "      <th></th>\n",
       "      <th></th>\n",
       "    </tr>\n",
       "  </thead>\n",
       "  <tbody>\n",
       "    <tr>\n",
       "      <th>1996</th>\n",
       "      <td>neg</td>\n",
       "      <td>if anything , \" stigmata \" should be taken as ...</td>\n",
       "    </tr>\n",
       "    <tr>\n",
       "      <th>1997</th>\n",
       "      <td>neg</td>\n",
       "      <td>john boorman's \" zardoz \" is a goofy cinematic...</td>\n",
       "    </tr>\n",
       "    <tr>\n",
       "      <th>1998</th>\n",
       "      <td>neg</td>\n",
       "      <td>the kids in the hall are an acquired taste .  ...</td>\n",
       "    </tr>\n",
       "    <tr>\n",
       "      <th>1999</th>\n",
       "      <td>neg</td>\n",
       "      <td>there was a time when john carpenter was a gre...</td>\n",
       "    </tr>\n",
       "    <tr>\n",
       "      <th>2000</th>\n",
       "      <td>neg</td>\n",
       "      <td>two party guys bob their heads to haddaway's d...</td>\n",
       "    </tr>\n",
       "  </tbody>\n",
       "</table>\n",
       "</div>"
      ],
      "text/plain": [
       "     label                                             review\n",
       "id                                                           \n",
       "1996   neg  if anything , \" stigmata \" should be taken as ...\n",
       "1997   neg  john boorman's \" zardoz \" is a goofy cinematic...\n",
       "1998   neg  the kids in the hall are an acquired taste .  ...\n",
       "1999   neg  there was a time when john carpenter was a gre...\n",
       "2000   neg  two party guys bob their heads to haddaway's d..."
      ]
     },
     "execution_count": 21,
     "metadata": {},
     "output_type": "execute_result"
    }
   ],
   "source": [
    "df.tail()"
   ]
  },
  {
   "cell_type": "markdown",
   "metadata": {},
   "source": [
    "We have a list of the reviews which have been integer-tokenized, now let's generate a parallel numpy array of whether the review is positive or negative."
   ]
  },
  {
   "cell_type": "code",
   "execution_count": 22,
   "metadata": {},
   "outputs": [],
   "source": [
    "review_labels = np.array(df['label'] == 'pos', dtype=int)"
   ]
  },
  {
   "cell_type": "code",
   "execution_count": 23,
   "metadata": {},
   "outputs": [
    {
     "data": {
      "text/plain": [
       "array([1, 1, 1, 1, 1])"
      ]
     },
     "execution_count": 23,
     "metadata": {},
     "output_type": "execute_result"
    }
   ],
   "source": [
    "review_labels[:5]"
   ]
  },
  {
   "cell_type": "code",
   "execution_count": 24,
   "metadata": {},
   "outputs": [
    {
     "data": {
      "text/plain": [
       "array([0, 0, 0, 0, 0])"
      ]
     },
     "execution_count": 24,
     "metadata": {},
     "output_type": "execute_result"
    }
   ],
   "source": [
    "review_labels[-5:]"
   ]
  },
  {
   "cell_type": "markdown",
   "metadata": {},
   "source": [
    "As a sanity check, the length of this numpy array should be `2000`."
   ]
  },
  {
   "cell_type": "code",
   "execution_count": 25,
   "metadata": {},
   "outputs": [
    {
     "data": {
      "text/plain": [
       "2000"
      ]
     },
     "execution_count": 25,
     "metadata": {},
     "output_type": "execute_result"
    }
   ],
   "source": [
    "len(review_labels)"
   ]
  },
  {
   "cell_type": "markdown",
   "metadata": {},
   "source": [
    "## Padding\n",
    "The reviews in our dataset contain a different length of tokens."
   ]
  },
  {
   "cell_type": "code",
   "execution_count": 26,
   "metadata": {
    "scrolled": true
   },
   "outputs": [
    {
     "data": {
      "text/plain": [
       "<matplotlib.axes._subplots.AxesSubplot at 0x7f7519208080>"
      ]
     },
     "execution_count": 26,
     "metadata": {},
     "output_type": "execute_result"
    },
    {
     "data": {
      "image/png": "[encoded data removed]",
      "text/plain": [
       "<matplotlib.figure.Figure at 0x7f7519208fd0>"
      ]
     },
     "metadata": {},
     "output_type": "display_data"
    }
   ],
   "source": [
    "pd.Series(reviews_as_ids).apply(len).hist()"
   ]
  },
  {
   "cell_type": "markdown",
   "metadata": {},
   "source": [
    "Most of our reviews are under ~1,200 tokens long, and a few are over 2,500 tokens.\n",
    "\n",
    "The problem is that TensorFlow accepts only inputs of fixed length.  \n",
    "Further, LSTMs often have a practical limitation of only working with sequences that are a few hundred items long.\n",
    "\n",
    "This requires us to pick **a single token length** for our reviews as inputs.  \n",
    "Reviews which are shorter than this will be padded on the **right** with `0`s, and reviews which are longer will have to be truncated before being fed to TensorFlow.\n",
    "\n",
    "This is not as serious a limitation as it sounds, but it does have to be dealt with, or TensorFlow will throw errors during training.\n",
    "\n",
    "Accordingly, let's define a **sequence length** that we will fit every review into."
   ]
  },
  {
   "cell_type": "code",
   "execution_count": 27,
   "metadata": {},
   "outputs": [],
   "source": [
    "seq_len = 200\n",
    "\n",
    "x = np.zeros((len(reviews_as_ids), seq_len), dtype=int)\n",
    "for i, review_as_id in enumerate(reviews_as_ids):\n",
    "    x[i, :len(review_as_id)] = np.array(review_as_id)[:seq_len]"
   ]
  },
  {
   "cell_type": "markdown",
   "metadata": {},
   "source": [
    "Shown below are two such sequences, one originally longer than the sequence length, and one shorter."
   ]
  },
  {
   "cell_type": "code",
   "execution_count": 28,
   "metadata": {
    "scrolled": true
   },
   "outputs": [
    {
     "data": {
      "text/plain": [
       "(array([34629, 46469, 45217,  5444, 14530, 14327, 17706, 34629, 46469,\n",
       "        17969,  5444, 32708, 45347,   573, 41074,  7881, 33691, 14530,\n",
       "        38298, 27717,  8969,  8914, 19166, 18815, 33235, 28045, 33691,\n",
       "        28286, 14841, 39090, 27717,  8969, 38266, 11916, 18815, 40262,\n",
       "        19948, 33691, 35462, 27717,  8969, 17531, 17522, 18815,  4467,\n",
       "        11215, 20317, 33691, 33094,  5444, 14530, 18377, 27717,  8969,\n",
       "        29655, 15039,  6995, 17706, 41561, 34629, 46469,  5178, 14829,\n",
       "        32502, 18815, 34629, 46469, 36452, 39837, 45217, 14578, 24736,\n",
       "        21956, 10839, 32511, 24833,   877, 32511, 14530, 13935,  4467,\n",
       "        32422, 19416, 14530,  9430, 23150, 17706, 34629, 36452,   409,\n",
       "        38216, 45217, 14578, 24736, 36088, 14841, 34946, 29146, 18815,\n",
       "         4467, 38000, 12024, 38216, 41069, 38434, 30771, 27370, 17706,\n",
       "        44381, 14530, 14327, 17706, 14530,  2385, 19010,  7695, 18815,\n",
       "        14530, 17296, 36533, 19010,  6405, 38967, 18815, 14530, 35951,\n",
       "        39946, 19010, 30714, 18815,  4467,  8914, 19166, 14841, 11376,\n",
       "        31489, 19010,  7629, 32511, 12133, 39212, 17495,  8914,  3955,\n",
       "        17706, 42968, 12258, 14841, 25101, 27180, 36262, 18815,  4467,\n",
       "        34182, 34424, 12024,  9241, 12571,  2385,   573, 34182, 14841,\n",
       "        19063, 43756, 29139, 29579, 12024, 29139, 16885, 17706, 14530,\n",
       "        19842, 29337,  8969,  4180, 37275, 44902, 32511,  1669, 22036,\n",
       "         3404,  4467, 45525, 35626, 17706, 14530, 20177, 29327, 14492,\n",
       "        24736, 34424, 33235, 28045, 10646, 18815,  8969, 38266, 11916,\n",
       "        18815, 27745]),\n",
       " array([24736, 33072, 34424, 44544, 43976,  4467, 22737, 26570, 35208,\n",
       "        16943, 32511, 20886, 14829, 31137, 25040, 26229, 34182, 17706,\n",
       "            0,     0,     0,     0,     0,     0,     0,     0,     0,\n",
       "            0,     0,     0,     0,     0,     0,     0,     0,     0,\n",
       "            0,     0,     0,     0,     0,     0,     0,     0,     0,\n",
       "            0,     0,     0,     0,     0,     0,     0,     0,     0,\n",
       "            0,     0,     0,     0,     0,     0,     0,     0,     0,\n",
       "            0,     0,     0,     0,     0,     0,     0,     0,     0,\n",
       "            0,     0,     0,     0,     0,     0,     0,     0,     0,\n",
       "            0,     0,     0,     0,     0,     0,     0,     0,     0,\n",
       "            0,     0,     0,     0,     0,     0,     0,     0,     0,\n",
       "            0,     0,     0,     0,     0,     0,     0,     0,     0,\n",
       "            0,     0,     0,     0,     0,     0,     0,     0,     0,\n",
       "            0,     0,     0,     0,     0,     0,     0,     0,     0,\n",
       "            0,     0,     0,     0,     0,     0,     0,     0,     0,\n",
       "            0,     0,     0,     0,     0,     0,     0,     0,     0,\n",
       "            0,     0,     0,     0,     0,     0,     0,     0,     0,\n",
       "            0,     0,     0,     0,     0,     0,     0,     0,     0,\n",
       "            0,     0,     0,     0,     0,     0,     0,     0,     0,\n",
       "            0,     0,     0,     0,     0,     0,     0,     0,     0,\n",
       "            0,     0,     0,     0,     0,     0,     0,     0,     0,\n",
       "            0,     0,     0,     0,     0,     0,     0,     0,     0,\n",
       "            0,     0]))"
      ]
     },
     "execution_count": 28,
     "metadata": {},
     "output_type": "execute_result"
    }
   ],
   "source": [
    "x[31], x[1506]"
   ]
  },
  {
   "cell_type": "markdown",
   "metadata": {},
   "source": [
    "# Data Splitting and Shuffling\n",
    "\n",
    "Now that we have transformed our dataset into a format that TensorFlow can work with, we need to split the dataset into training, testing, and validation sets, so that we can better evaluate the model's performance.\n",
    "\n",
    "Let's use numpy to help us randomize here"
   ]
  },
  {
   "cell_type": "code",
   "execution_count": 29,
   "metadata": {},
   "outputs": [],
   "source": [
    "## Use a seed for reproducibility of results\n",
    "np.random.seed(42)\n",
    "permute = np.random.permutation(range(len(x)))"
   ]
  },
  {
   "cell_type": "code",
   "execution_count": 30,
   "metadata": {
    "scrolled": true
   },
   "outputs": [],
   "source": [
    "## Generate shuffled versions of our data and labels\n",
    "x_shuffled = x[permute]\n",
    "y_shuffled = review_labels[permute]"
   ]
  },
  {
   "cell_type": "code",
   "execution_count": 31,
   "metadata": {},
   "outputs": [],
   "source": [
    "## Use an 80% : 10% : 10% split into training : testing : validation sets\n",
    "train_split = int(0.8*len(x))\n",
    "test_split = int(0.9*len(x))\n",
    "\n",
    "train_x = x_shuffled[:train_split]\n",
    "test_x = x_shuffled[train_split:test_split]\n",
    "val_x = x_shuffled[test_split:]\n",
    "\n",
    "train_y = y_shuffled[:train_split]\n",
    "test_y = y_shuffled[train_split:test_split]\n",
    "val_y = y_shuffled[test_split:]"
   ]
  },
  {
   "cell_type": "markdown",
   "metadata": {},
   "source": [
    "As a sanity check, recall that the original dataset was 1000 positive reviews followed by 1000 negative reviews.  \n",
    "If we've truly shuffled, then the beginning of each of the training, testing, and validation sets should be a mixture of positive or negative:"
   ]
  },
  {
   "cell_type": "code",
   "execution_count": 32,
   "metadata": {},
   "outputs": [
    {
     "data": {
      "text/plain": [
       "array([0, 1, 0, 1, 0, 0])"
      ]
     },
     "execution_count": 32,
     "metadata": {},
     "output_type": "execute_result"
    }
   ],
   "source": [
    "train_y[:6]"
   ]
  },
  {
   "cell_type": "code",
   "execution_count": 33,
   "metadata": {},
   "outputs": [
    {
     "data": {
      "text/plain": [
       "array([1, 1, 0, 1, 1, 0])"
      ]
     },
     "execution_count": 33,
     "metadata": {},
     "output_type": "execute_result"
    }
   ],
   "source": [
    "test_y[:6]"
   ]
  },
  {
   "cell_type": "code",
   "execution_count": 34,
   "metadata": {},
   "outputs": [
    {
     "data": {
      "text/plain": [
       "array([0, 1, 0, 0, 1, 0])"
      ]
     },
     "execution_count": 34,
     "metadata": {},
     "output_type": "execute_result"
    }
   ],
   "source": [
    "val_y[:6]"
   ]
  },
  {
   "cell_type": "markdown",
   "metadata": {},
   "source": [
    "As a final sanity check, note that an 80%, 10%, 10% split should yield numpy arrays of size `1600`, `200`, and `200`"
   ]
  },
  {
   "cell_type": "code",
   "execution_count": 35,
   "metadata": {},
   "outputs": [
    {
     "data": {
      "text/plain": [
       "(1600, 200, 200)"
      ]
     },
     "execution_count": 35,
     "metadata": {},
     "output_type": "execute_result"
    }
   ],
   "source": [
    "len(train_x), len(test_x), len(val_x)"
   ]
  },
  {
   "cell_type": "markdown",
   "metadata": {},
   "source": [
    "# Checkpointing\n",
    "We will use this opportunity to save our training, testing, and validation sets to disk, so that we can quickly load them in the future.\n",
    "\n",
    "Should this notebook need to be run in the future, it can start from the [Loading](#Loading) cells below.\n",
    "## Saving"
   ]
  },
  {
   "cell_type": "code",
   "execution_count": 36,
   "metadata": {},
   "outputs": [],
   "source": [
    "import pickle"
   ]
  },
  {
   "cell_type": "code",
   "execution_count": 37,
   "metadata": {},
   "outputs": [],
   "source": [
    "np.save(\"train_x\", train_x)\n",
    "np.save(\"train_y\", train_y)\n",
    "np.save(\"test_x\", test_x)\n",
    "np.save(\"test_y\", test_y)\n",
    "np.save(\"val_x\", val_x)\n",
    "np.save(\"val_y\", val_y)\n",
    "with open(\"review_word_set.pkl\", 'wb') as f:\n",
    "    pickle.dump(review_word_set, f)"
   ]
  },
  {
   "cell_type": "markdown",
   "metadata": {},
   "source": [
    "## Loading"
   ]
  },
  {
   "cell_type": "code",
   "execution_count": 1,
   "metadata": {},
   "outputs": [],
   "source": [
    "import numpy as np\n",
    "import pickle\n",
    "import matplotlib.pyplot as plt\n",
    "%matplotlib inline"
   ]
  },
  {
   "cell_type": "code",
   "execution_count": 2,
   "metadata": {},
   "outputs": [],
   "source": [
    "train_x = np.load(\"train_x.npy\")\n",
    "train_y = np.load(\"train_y.npy\")\n",
    "test_x = np.load(\"test_x.npy\")\n",
    "test_y = np.load(\"test_y.npy\")\n",
    "val_x = np.load(\"val_x.npy\")\n",
    "val_y = np.load(\"val_y.npy\")\n",
    "with open(\"review_word_set.pkl\", 'rb') as f:\n",
    "    review_word_set = pickle.load(f)"
   ]
  },
  {
   "cell_type": "markdown",
   "metadata": {},
   "source": [
    "# Model Architecture\n",
    "In this section, we will be defining a model architecture that we will use to \"learn\" the task of sentiment analysis.\n",
    "\n",
    "As a broad overview, this will be a neural network that takes a sequence as input, and produces a value of either 0 (a negative review) or 1 (a positive review).\n",
    "\n",
    "From the model's perspective, it will be seeing a vector of the above-defined **sequence length**, which is comprised of non-negative integers.\n",
    "\n",
    "After the input, the first layer of the model will be \"embedding\" these non-negative integers into a smaller representational space of only a few hundred floating-point numbers, to allow it to learn which sequences are important, and which are mere noise.\n",
    "\n",
    "Following this embedding layer, the \"embedded\" word vector will then pass into two parallel \"stacks\" of Long Short-Term Memory (LSTM) cells.\n",
    "\n",
    "The advantage of an LSTM cell is that, throughout time, it is able to remember better what came several dozen items earlier in the sequence than is a typical \"feed-forward\" network.  A broad overview of the machinery that allows an LSTM cell to accomplish this memory throughout a time sequence is shown below.\n",
    "![LSTM Cell, from colah's blog](http://colah.github.io/posts/2015-08-Understanding-LSTMs/img/LSTM3-chain.png)\n",
    "\n",
    "Since our dataset is a sequence of words, it makes sense that the model would benefit from knowing about both the sequence going forward, and going backward.  Intuitively, the review \"This movie has everything that you would expect.  And nothing you wouldn't,\" starts off very positive, and only at the end of the sequence would we start to think that the review is negative.  Knowing that from the beginning would make parsing the sequence easier.  \n",
    "Language parsing is a [complicated task](https://research.googleblog.com/2016/05/announcing-syntaxnet-worlds-most.html) that is outside the scope of this notebook, but having this bi-directional parsing typically helps models to pick out what's important for sentiment classification.\n",
    "\n",
    "The bi-directional stacked LSTM architecture that we implement below will be similar to (though not exactly the same as) the following architecture:\n",
    "![bi-directional stacked LSTM, from WildML](http://www.wildml.com/wp-content/uploads/2015/09/Screen-Shot-2015-09-16-at-2.21.51-PM.png)\n",
    "\n",
    "In the above architecture, each successive black dot may be thought of as a token in our reviews.  After embedding this token, we then pass it to a forward group of LSTM cells, and a backward stack of LSTM cells (both in orange), and then perhaps to more of the same \"stacked\" on top, which then generates outputs (red) at the top.\n",
    "\n",
    "We then connect the red \"output\" cells to a single cell, since we want a single answer from the model, namely whether the given input review has a positive or a negative sentiment.\n",
    "\n",
    "Thankfully, TensorFlow provides an API to implement the above, which we will explore below."
   ]
  },
  {
   "cell_type": "markdown",
   "metadata": {},
   "source": [
    "## Placeholders\n",
    "Let's define the necessary placeholders in order for us to feed our pre-processed data from above into a TensorFlow model:"
   ]
  },
  {
   "cell_type": "code",
   "execution_count": 3,
   "metadata": {},
   "outputs": [
    {
     "name": "stderr",
     "output_type": "stream",
     "text": [
      "/home/human/miniconda3/envs/ProofOfConcept/lib/python3.6/importlib/_bootstrap.py:219: RuntimeWarning: compiletime version 3.5 of module 'tensorflow.python.framework.fast_tensor_util' does not match runtime version 3.6\n",
      "  return f(*args, **kwds)\n"
     ]
    }
   ],
   "source": [
    "import tensorflow as tf"
   ]
  },
  {
   "cell_type": "code",
   "execution_count": 4,
   "metadata": {},
   "outputs": [],
   "source": [
    "graph = tf.Graph()"
   ]
  },
  {
   "cell_type": "code",
   "execution_count": 5,
   "metadata": {},
   "outputs": [],
   "source": [
    "with graph.as_default():\n",
    "    # Define placeholders to accept batches of token-sequences\n",
    "    inputs = tf.placeholder(tf.int32, [None, None], name = \"inputs\")\n",
    "    labels = tf.placeholder(tf.int32, [None, None], name = \"labels\")\n",
    "    \n",
    "    # Define a placeholder to allow us to tweak the dropout hyperparameter\n",
    "    keep_prob = tf.placeholder(tf.float32, name=\"keep_prob\")"
   ]
  },
  {
   "cell_type": "markdown",
   "metadata": {},
   "source": [
    "## Embedding\n",
    "Many of the unique tokens that exist in our dataset, and thus have been assigned an `ID`, occur rarely.  \n",
    "Things that occur rarely don't give a deep learning model much chance to learn what they mean, and so generally they hurt performance unless we take special steps to combat them.\n",
    "\n",
    "As it turns out, we can probably condense the above ~47,000 unique tokens into a few hundred tokens, and still have the model perform well.  \n",
    "\n",
    "This is done through the use of an [\"embedding\"](https://www.tensorflow.org/versions/master/tutorials/seq2seq#embedding) layer, which lets our model decide which of the tokens it sees are important, and which are just noise.\n",
    "\n",
    "Thankfully, TensorFlow provides a compact way to define and use embeddings:"
   ]
  },
  {
   "cell_type": "code",
   "execution_count": 6,
   "metadata": {},
   "outputs": [],
   "source": [
    "embedding_size = 200\n",
    "\n",
    "with graph.as_default():\n",
    "    # Define an embedding that allows us to map our ~47,000 review tokens to our embedding size\n",
    "    # Our model will \"learn\" a good embedding during training\n",
    "    embedding = tf.Variable(tf.random_uniform((len(review_word_set) + 1, embedding_size), -1, 1), name=\"Embedding\")\n",
    "    embed = tf.nn.embedding_lookup(embedding, inputs, name=\"Embedding_Lookup\")"
   ]
  },
  {
   "cell_type": "markdown",
   "metadata": {},
   "source": [
    "## Encoder\n",
    "Now that we have defined an embedding to squash our input token sequences into a more manageable space, we now define an encoder that will be the heart of this bi-directional stacked LSTM model:"
   ]
  },
  {
   "cell_type": "code",
   "execution_count": 7,
   "metadata": {},
   "outputs": [],
   "source": [
    "num_lstm_layers = 2\n",
    "num_lstm_units = 128\n",
    "\n",
    "with graph.as_default():\n",
    "    \n",
    "    def getLSTMlist(num_layers):\n",
    "        \"\"\"\n",
    "        Returns a list containing num_layers LSTM cells,\n",
    "        wrapped in dropout.\n",
    "        \n",
    "        This is to avoid TensorFlow syntax errors with the\n",
    "        [cell] * num_layers construction\n",
    "        \"\"\"\n",
    "        cell_list = []\n",
    "        for _ in range(num_layers):\n",
    "            # Your basic LSTM cell, with L2 regularization\n",
    "            lstm = tf.contrib.rnn.BasicLSTMCell(num_units=num_lstm_units)\n",
    "            \n",
    "            # Add dropout to the cell, using the keep_prob tensor\n",
    "            drop = tf.contrib.rnn.DropoutWrapper(lstm, output_keep_prob=keep_prob)\n",
    "            cell_list.append(drop)\n",
    "            \n",
    "        return cell_list\n",
    "    \n",
    "    forward_LSTMs = getLSTMlist(num_lstm_layers)\n",
    "    backward_LSTMs = getLSTMlist(num_lstm_layers)\n",
    "    \n",
    "    # Stack up multiple bidirectional LSTM layers\n",
    "    # Use dynamic to handle the unpacking of non-sequential input (embed)\n",
    "    outputs, output_state_fw, output_state_bw = \\\n",
    "        tf.contrib.rnn.stack_bidirectional_dynamic_rnn(forward_LSTMs, backward_LSTMs, embed, dtype=tf.float32)"
   ]
  },
  {
   "cell_type": "markdown",
   "metadata": {},
   "source": [
    "TensorBoard visualizes the above as follows:  \n",
    "![stack_bidirectional_rnn](img/stack.png)"
   ]
  },
  {
   "cell_type": "markdown",
   "metadata": {},
   "source": [
    "## Loss Function and Optimizer\n",
    "Finally, we will need to specify a loss function for our model so that it learns properly."
   ]
  },
  {
   "cell_type": "code",
   "execution_count": 8,
   "metadata": {},
   "outputs": [],
   "source": [
    "learning_rate = 1e-3\n",
    "alpha = 1e-2 # the factor by which to scale our L2 losses\n",
    "use_L2 = False\n",
    "\n",
    "with graph.as_default():\n",
    "    # Squash outputs to a single real number in the range of 0 to 1\n",
    "    predictions = tf.contrib.layers.fully_connected(outputs[:, -1], 1, activation_fn=tf.sigmoid)\n",
    "     \n",
    "    loss = tf.losses.mean_squared_error(labels, predictions)\n",
    "    \n",
    "    # Optimizer for training, using gradient clipping to control exploding gradients\n",
    "    tvars = tf.trainable_variables()\n",
    "    \n",
    "    # Get the L2 losses for weights, kernels, and biases, to discourage memorizing the training set\n",
    "    if use_L2:\n",
    "        for tensor in tvars:\n",
    "            if \"kernel\" in tensor.name or \"weights\" in tensor.name or \"bias\" in tensor.name:\n",
    "                loss += alpha * tf.nn.l2_loss(tensor)\n",
    "    \n",
    "    grads, _ = tf.clip_by_global_norm(tf.gradients(loss, tvars), 5) # clip gradients to 5\n",
    "    optimizer = tf.train.AdamOptimizer(learning_rate).minimize(loss, var_list=tvars)"
   ]
  },
  {
   "cell_type": "markdown",
   "metadata": {},
   "source": [
    "## Evaluation Operations"
   ]
  },
  {
   "cell_type": "code",
   "execution_count": 9,
   "metadata": {},
   "outputs": [],
   "source": [
    "with graph.as_default():\n",
    "\n",
    "    ## Round our sigmoid [0,1] output to be either 0 or 1\n",
    "    predictions_integer = tf.cast(tf.round(predictions), tf.int32, name=\"Prediction_Integers\")\n",
    "\n",
    "    ## Define operations for {true, false} {positive, negative} predictions\n",
    "    TP = tf.count_nonzero(predictions_integer * labels, name='True_Positives', dtype=tf.int32)\n",
    "    TN = tf.count_nonzero((predictions_integer - 1) * (labels - 1), name=\"True_Negatives\", dtype=tf.int32)\n",
    "    FP = tf.count_nonzero(predictions_integer * (labels - 1), name=\"False_Positives\", dtype=tf.int32)\n",
    "    FN = tf.count_nonzero((predictions_integer - 1) * labels, name=\"False_Negatives\", dtype=tf.int32)\n",
    "\n",
    "    ## Define operations for accuracy, precision, recall, and F1 score\n",
    "\n",
    "    # accuracy ::= (TP + TN) / (TN + FN + TP + FP)\n",
    "    accuracy = tf.divide(TP + TN, TN + FN + TP + FP, name=\"Accuracy\")\n",
    "\n",
    "    # precision ::= TP / (TP + FP)\n",
    "    precision = tf.divide(TP, TP + FP, name=\"Precision\")\n",
    "\n",
    "    # recall::= TP / (TP + FN)\n",
    "    recall = tf.divide(TP, TP + FN, name=\"Recall\")\n",
    "\n",
    "    # F1 score ::= 2 * precision * recall / (precision + recall)\n",
    "    f1 = tf.divide((2 * precision * recall), (precision + recall), name=\"F1_score\")\n",
    "\n",
    "    # To also record this information in TensorBoard, we'll define scalar summaries here\n",
    "    with tf.name_scope('summaries'):\n",
    "        tf.summary.scalar('Loss', loss)\n",
    "        tf.summary.scalar('Accuracy', accuracy)\n",
    "        tf.summary.scalar('Precision', precision)\n",
    "        tf.summary.scalar('Recall', recall)\n",
    "        tf.summary.scalar('F1_score', f1)"
   ]
  },
  {
   "cell_type": "markdown",
   "metadata": {},
   "source": [
    "# Training the Model\n",
    "We're almost ready to start training our model.\n",
    "\n",
    "Before we begin training, let's define a function that we can use to generate batches of our training data, so that we don't risk running out of memory by loading everything into the model at once."
   ]
  },
  {
   "cell_type": "code",
   "execution_count": 10,
   "metadata": {},
   "outputs": [],
   "source": [
    "def get_batches(x, y, batch_size=100):\n",
    "    '''\n",
    "    Given a set of features x, and a set of labels y,\n",
    "    return a generator yields shuffled batch_size tuples of x and y.\n",
    "    \n",
    "    Note that this function truncates x and y, if necessary,\n",
    "    so that it only returns full batches.\n",
    "    '''\n",
    "    ## Truncate x and y so that no batch is empty\n",
    "    num_batches = len(x) // batch_size\n",
    "    x, y = x[:num_batches * batch_size], y[:num_batches * batch_size]\n",
    "    \n",
    "    ## Shuffle x and y on the same index permutation\n",
    "    permute = np.random.permutation(range(len(x)))\n",
    "    x = x[permute]\n",
    "    y = y[permute]\n",
    "    \n",
    "    for i in range(0, len(x), batch_size):\n",
    "        yield x[i:i + batch_size], y[i:i + batch_size]"
   ]
  },
  {
   "cell_type": "code",
   "execution_count": 11,
   "metadata": {},
   "outputs": [],
   "source": [
    "# To keep our summary directories separate\n",
    "from datetime import datetime"
   ]
  },
  {
   "cell_type": "code",
   "execution_count": 13,
   "metadata": {
    "scrolled": false
   },
   "outputs": [
    {
     "name": "stdout",
     "output_type": "stream",
     "text": [
      "Epoch:  0/50 Iteration:    5 Training loss: 0.253 accuracy: 0.500 precision: 0.574 recall: 0.650 f1: 0.609\n",
      "Epoch:  0/50 Iteration:   10 Training loss: 0.256 accuracy: 0.440 precision: 0.477 recall: 0.585 f1: 0.525\n",
      "Epoch:  0/50 Iteration:   15 Training loss: 0.255 accuracy: 0.470 precision: 0.404 recall: 0.432 f1: 0.418\n",
      "Epoch:  1/50 Iteration:   20 Training loss: 0.246 accuracy: 0.590 precision: 0.672 recall: 0.661 f1: 0.667\n",
      "Epoch:  1/50 Iteration:   25 Training loss: 0.239 accuracy: 0.580 precision: 0.576 recall: 0.667 f1: 0.618\n",
      "                          Validation loss: 0.251 accuracy: 0.505 precision: 0.505 recall: 0.650 f1: 0.567\n",
      "Epoch:  1/50 Iteration:   30 Training loss: 0.241 accuracy: 0.620 precision: 0.569 recall: 0.717 f1: 0.635\n",
      "Epoch:  2/50 Iteration:   35 Training loss: 0.239 accuracy: 0.580 precision: 0.582 recall: 0.627 f1: 0.604\n",
      "Epoch:  2/50 Iteration:   40 Training loss: 0.227 accuracy: 0.650 precision: 0.638 recall: 0.815 f1: 0.715\n",
      "Epoch:  2/50 Iteration:   45 Training loss: 0.238 accuracy: 0.600 precision: 0.625 recall: 0.500 f1: 0.556\n",
      "Epoch:  3/50 Iteration:   50 Training loss: 0.210 accuracy: 0.660 precision: 0.600 recall: 0.682 f1: 0.638\n",
      "                          Validation loss: 0.254 accuracy: 0.545 precision: 0.543 recall: 0.624 f1: 0.581\n",
      "Epoch:  3/50 Iteration:   55 Training loss: 0.179 accuracy: 0.750 precision: 0.714 recall: 0.816 f1: 0.762\n",
      "Epoch:  3/50 Iteration:   60 Training loss: 0.151 accuracy: 0.810 precision: 0.764 recall: 0.875 f1: 0.816\n",
      "Epoch:  4/50 Iteration:   65 Training loss: 0.146 accuracy: 0.820 precision: 0.855 recall: 0.825 f1: 0.839\n",
      "Epoch:  4/50 Iteration:   70 Training loss: 0.140 accuracy: 0.790 precision: 0.830 recall: 0.750 f1: 0.788\n",
      "Epoch:  4/50 Iteration:   75 Training loss: 0.153 accuracy: 0.780 precision: 0.769 recall: 0.800 f1: 0.784\n",
      "                          Validation loss: 0.304 accuracy: 0.575 precision: 0.610 recall: 0.424 f1: 0.500\n",
      "Epoch:  4/50 Iteration:   80 Training loss: 0.122 accuracy: 0.830 precision: 0.850 recall: 0.864 f1: 0.857\n",
      "Epoch:  5/50 Iteration:   85 Training loss: 0.079 accuracy: 0.970 precision: 0.979 recall: 0.959 f1: 0.969\n",
      "Epoch:  5/50 Iteration:   90 Training loss: 0.090 accuracy: 0.870 precision: 0.870 recall: 0.887 f1: 0.879\n",
      "Epoch:  5/50 Iteration:   95 Training loss: 0.090 accuracy: 0.880 precision: 0.913 recall: 0.840 f1: 0.875\n",
      "Epoch:  6/50 Iteration:  100 Training loss: 0.047 accuracy: 0.940 precision: 0.959 recall: 0.922 f1: 0.940\n",
      "                          Validation loss: 0.348 accuracy: 0.525 precision: 0.526 recall: 0.597 f1: 0.558\n",
      "Epoch:  6/50 Iteration:  105 Training loss: 0.042 accuracy: 0.970 precision: 1.000 recall: 0.942 f1: 0.970\n",
      "Epoch:  6/50 Iteration:  110 Training loss: 0.040 accuracy: 0.960 precision: 0.976 recall: 0.930 f1: 0.952\n",
      "Epoch:  7/50 Iteration:  115 Training loss: 0.030 accuracy: 0.960 precision: 0.979 recall: 0.940 f1: 0.959\n",
      "Epoch:  7/50 Iteration:  120 Training loss: 0.050 accuracy: 0.930 precision: 0.889 recall: 0.980 f1: 0.932\n",
      "Epoch:  7/50 Iteration:  125 Training loss: 0.049 accuracy: 0.940 precision: 1.000 recall: 0.893 f1: 0.943\n",
      "                          Validation loss: 0.378 accuracy: 0.525 precision: 0.530 recall: 0.550 f1: 0.537\n",
      "Epoch:  8/50 Iteration:  130 Training loss: 0.016 accuracy: 0.990 precision: 0.977 recall: 1.000 f1: 0.988\n"
     ]
    },
    {
     "ename": "KeyboardInterrupt",
     "evalue": "",
     "output_type": "error",
     "traceback": [
      "\u001b[0;31m---------------------------------------------------------------------------\u001b[0m",
      "\u001b[0;31mKeyboardInterrupt\u001b[0m                         Traceback (most recent call last)",
      "\u001b[0;32m<ipython-input-13-57cefafd97bf>\u001b[0m in \u001b[0;36m<module>\u001b[0;34m()\u001b[0m\n\u001b[1;32m     23\u001b[0m                     \u001b[0mlabels\u001b[0m\u001b[0;34m:\u001b[0m \u001b[0my\u001b[0m\u001b[0;34m[\u001b[0m\u001b[0;34m:\u001b[0m\u001b[0;34m,\u001b[0m \u001b[0;32mNone\u001b[0m\u001b[0;34m]\u001b[0m\u001b[0;34m,\u001b[0m\u001b[0;34m\u001b[0m\u001b[0m\n\u001b[1;32m     24\u001b[0m                     keep_prob: train_keep_prob}\n\u001b[0;32m---> 25\u001b[0;31m             \u001b[0msummary\u001b[0m\u001b[0;34m,\u001b[0m \u001b[0mtr_loss\u001b[0m\u001b[0;34m,\u001b[0m \u001b[0mtr_acc\u001b[0m\u001b[0;34m,\u001b[0m \u001b[0mtr_prec\u001b[0m\u001b[0;34m,\u001b[0m \u001b[0mtr_rec\u001b[0m\u001b[0;34m,\u001b[0m \u001b[0mtr_f1\u001b[0m\u001b[0;34m,\u001b[0m \u001b[0m_\u001b[0m \u001b[0;34m=\u001b[0m                 \u001b[0msess\u001b[0m\u001b[0;34m.\u001b[0m\u001b[0mrun\u001b[0m\u001b[0;34m(\u001b[0m\u001b[0;34m[\u001b[0m\u001b[0mmerged\u001b[0m\u001b[0;34m,\u001b[0m \u001b[0mloss\u001b[0m\u001b[0;34m,\u001b[0m \u001b[0maccuracy\u001b[0m\u001b[0;34m,\u001b[0m \u001b[0mprecision\u001b[0m\u001b[0;34m,\u001b[0m \u001b[0mrecall\u001b[0m\u001b[0;34m,\u001b[0m \u001b[0mf1\u001b[0m\u001b[0;34m,\u001b[0m \u001b[0moptimizer\u001b[0m\u001b[0;34m]\u001b[0m\u001b[0;34m,\u001b[0m \u001b[0mfeed_dict\u001b[0m\u001b[0;34m=\u001b[0m\u001b[0mfeed\u001b[0m\u001b[0;34m)\u001b[0m\u001b[0;34m\u001b[0m\u001b[0m\n\u001b[0m\u001b[1;32m     26\u001b[0m             \u001b[0mtrain_writer\u001b[0m\u001b[0;34m.\u001b[0m\u001b[0madd_summary\u001b[0m\u001b[0;34m(\u001b[0m\u001b[0msummary\u001b[0m\u001b[0;34m,\u001b[0m \u001b[0miteration\u001b[0m\u001b[0;34m)\u001b[0m\u001b[0;34m\u001b[0m\u001b[0m\n\u001b[1;32m     27\u001b[0m \u001b[0;34m\u001b[0m\u001b[0m\n",
      "\u001b[0;32m~/miniconda3/envs/ProofOfConcept/lib/python3.6/site-packages/tensorflow/python/client/session.py\u001b[0m in \u001b[0;36mrun\u001b[0;34m(self, fetches, feed_dict, options, run_metadata)\u001b[0m\n\u001b[1;32m    887\u001b[0m     \u001b[0;32mtry\u001b[0m\u001b[0;34m:\u001b[0m\u001b[0;34m\u001b[0m\u001b[0m\n\u001b[1;32m    888\u001b[0m       result = self._run(None, fetches, feed_dict, options_ptr,\n\u001b[0;32m--> 889\u001b[0;31m                          run_metadata_ptr)\n\u001b[0m\u001b[1;32m    890\u001b[0m       \u001b[0;32mif\u001b[0m \u001b[0mrun_metadata\u001b[0m\u001b[0;34m:\u001b[0m\u001b[0;34m\u001b[0m\u001b[0m\n\u001b[1;32m    891\u001b[0m         \u001b[0mproto_data\u001b[0m \u001b[0;34m=\u001b[0m \u001b[0mtf_session\u001b[0m\u001b[0;34m.\u001b[0m\u001b[0mTF_GetBuffer\u001b[0m\u001b[0;34m(\u001b[0m\u001b[0mrun_metadata_ptr\u001b[0m\u001b[0;34m)\u001b[0m\u001b[0;34m\u001b[0m\u001b[0m\n",
      "\u001b[0;32m~/miniconda3/envs/ProofOfConcept/lib/python3.6/site-packages/tensorflow/python/client/session.py\u001b[0m in \u001b[0;36m_run\u001b[0;34m(self, handle, fetches, feed_dict, options, run_metadata)\u001b[0m\n\u001b[1;32m   1118\u001b[0m     \u001b[0;32mif\u001b[0m \u001b[0mfinal_fetches\u001b[0m \u001b[0;32mor\u001b[0m \u001b[0mfinal_targets\u001b[0m \u001b[0;32mor\u001b[0m \u001b[0;34m(\u001b[0m\u001b[0mhandle\u001b[0m \u001b[0;32mand\u001b[0m \u001b[0mfeed_dict_tensor\u001b[0m\u001b[0;34m)\u001b[0m\u001b[0;34m:\u001b[0m\u001b[0;34m\u001b[0m\u001b[0m\n\u001b[1;32m   1119\u001b[0m       results = self._do_run(handle, final_targets, final_fetches,\n\u001b[0;32m-> 1120\u001b[0;31m                              feed_dict_tensor, options, run_metadata)\n\u001b[0m\u001b[1;32m   1121\u001b[0m     \u001b[0;32melse\u001b[0m\u001b[0;34m:\u001b[0m\u001b[0;34m\u001b[0m\u001b[0m\n\u001b[1;32m   1122\u001b[0m       \u001b[0mresults\u001b[0m \u001b[0;34m=\u001b[0m \u001b[0;34m[\u001b[0m\u001b[0;34m]\u001b[0m\u001b[0;34m\u001b[0m\u001b[0m\n",
      "\u001b[0;32m~/miniconda3/envs/ProofOfConcept/lib/python3.6/site-packages/tensorflow/python/client/session.py\u001b[0m in \u001b[0;36m_do_run\u001b[0;34m(self, handle, target_list, fetch_list, feed_dict, options, run_metadata)\u001b[0m\n\u001b[1;32m   1315\u001b[0m     \u001b[0;32mif\u001b[0m \u001b[0mhandle\u001b[0m \u001b[0;32mis\u001b[0m \u001b[0;32mNone\u001b[0m\u001b[0;34m:\u001b[0m\u001b[0;34m\u001b[0m\u001b[0m\n\u001b[1;32m   1316\u001b[0m       return self._do_call(_run_fn, self._session, feeds, fetches, targets,\n\u001b[0;32m-> 1317\u001b[0;31m                            options, run_metadata)\n\u001b[0m\u001b[1;32m   1318\u001b[0m     \u001b[0;32melse\u001b[0m\u001b[0;34m:\u001b[0m\u001b[0;34m\u001b[0m\u001b[0m\n\u001b[1;32m   1319\u001b[0m       \u001b[0;32mreturn\u001b[0m \u001b[0mself\u001b[0m\u001b[0;34m.\u001b[0m\u001b[0m_do_call\u001b[0m\u001b[0;34m(\u001b[0m\u001b[0m_prun_fn\u001b[0m\u001b[0;34m,\u001b[0m \u001b[0mself\u001b[0m\u001b[0;34m.\u001b[0m\u001b[0m_session\u001b[0m\u001b[0;34m,\u001b[0m \u001b[0mhandle\u001b[0m\u001b[0;34m,\u001b[0m \u001b[0mfeeds\u001b[0m\u001b[0;34m,\u001b[0m \u001b[0mfetches\u001b[0m\u001b[0;34m)\u001b[0m\u001b[0;34m\u001b[0m\u001b[0m\n",
      "\u001b[0;32m~/miniconda3/envs/ProofOfConcept/lib/python3.6/site-packages/tensorflow/python/client/session.py\u001b[0m in \u001b[0;36m_do_call\u001b[0;34m(self, fn, *args)\u001b[0m\n\u001b[1;32m   1321\u001b[0m   \u001b[0;32mdef\u001b[0m \u001b[0m_do_call\u001b[0m\u001b[0;34m(\u001b[0m\u001b[0mself\u001b[0m\u001b[0;34m,\u001b[0m \u001b[0mfn\u001b[0m\u001b[0;34m,\u001b[0m \u001b[0;34m*\u001b[0m\u001b[0margs\u001b[0m\u001b[0;34m)\u001b[0m\u001b[0;34m:\u001b[0m\u001b[0;34m\u001b[0m\u001b[0m\n\u001b[1;32m   1322\u001b[0m     \u001b[0;32mtry\u001b[0m\u001b[0;34m:\u001b[0m\u001b[0;34m\u001b[0m\u001b[0m\n\u001b[0;32m-> 1323\u001b[0;31m       \u001b[0;32mreturn\u001b[0m \u001b[0mfn\u001b[0m\u001b[0;34m(\u001b[0m\u001b[0;34m*\u001b[0m\u001b[0margs\u001b[0m\u001b[0;34m)\u001b[0m\u001b[0;34m\u001b[0m\u001b[0m\n\u001b[0m\u001b[1;32m   1324\u001b[0m     \u001b[0;32mexcept\u001b[0m \u001b[0merrors\u001b[0m\u001b[0;34m.\u001b[0m\u001b[0mOpError\u001b[0m \u001b[0;32mas\u001b[0m \u001b[0me\u001b[0m\u001b[0;34m:\u001b[0m\u001b[0;34m\u001b[0m\u001b[0m\n\u001b[1;32m   1325\u001b[0m       \u001b[0mmessage\u001b[0m \u001b[0;34m=\u001b[0m \u001b[0mcompat\u001b[0m\u001b[0;34m.\u001b[0m\u001b[0mas_text\u001b[0m\u001b[0;34m(\u001b[0m\u001b[0me\u001b[0m\u001b[0;34m.\u001b[0m\u001b[0mmessage\u001b[0m\u001b[0;34m)\u001b[0m\u001b[0;34m\u001b[0m\u001b[0m\n",
      "\u001b[0;32m~/miniconda3/envs/ProofOfConcept/lib/python3.6/site-packages/tensorflow/python/client/session.py\u001b[0m in \u001b[0;36m_run_fn\u001b[0;34m(session, feed_dict, fetch_list, target_list, options, run_metadata)\u001b[0m\n\u001b[1;32m   1300\u001b[0m           return tf_session.TF_Run(session, options,\n\u001b[1;32m   1301\u001b[0m                                    \u001b[0mfeed_dict\u001b[0m\u001b[0;34m,\u001b[0m \u001b[0mfetch_list\u001b[0m\u001b[0;34m,\u001b[0m \u001b[0mtarget_list\u001b[0m\u001b[0;34m,\u001b[0m\u001b[0;34m\u001b[0m\u001b[0m\n\u001b[0;32m-> 1302\u001b[0;31m                                    status, run_metadata)\n\u001b[0m\u001b[1;32m   1303\u001b[0m \u001b[0;34m\u001b[0m\u001b[0m\n\u001b[1;32m   1304\u001b[0m     \u001b[0;32mdef\u001b[0m \u001b[0m_prun_fn\u001b[0m\u001b[0;34m(\u001b[0m\u001b[0msession\u001b[0m\u001b[0;34m,\u001b[0m \u001b[0mhandle\u001b[0m\u001b[0;34m,\u001b[0m \u001b[0mfeed_dict\u001b[0m\u001b[0;34m,\u001b[0m \u001b[0mfetch_list\u001b[0m\u001b[0;34m)\u001b[0m\u001b[0;34m:\u001b[0m\u001b[0;34m\u001b[0m\u001b[0m\n",
      "\u001b[0;31mKeyboardInterrupt\u001b[0m: "
     ]
    }
   ],
   "source": [
    "epochs = 10\n",
    "batch_size = 100\n",
    "train_keep_prob = 0.5\n",
    "\n",
    "# Define a time-stamped directory in which to keep the TensorBoard data for this run\n",
    "summaries_dir = \"./summaries/\" + datetime.now().strftime(\"%Y%m%d%H%M%S\")\n",
    "\n",
    "with graph.as_default():\n",
    "    saver = tf.train.Saver()\n",
    "\n",
    "with tf.Session(graph=graph) as sess:\n",
    "    merged = tf.summary.merge_all()\n",
    "    train_writer = tf.summary.FileWriter(summaries_dir + '/train',\n",
    "                                          sess.graph)\n",
    "    test_writer = tf.summary.FileWriter(summaries_dir + '/test')\n",
    "    val_writer = tf.summary.FileWriter(summaries_dir + '/val')\n",
    "    \n",
    "    sess.run(tf.global_variables_initializer())\n",
    "    iteration = 1\n",
    "    for e in range(epochs):\n",
    "        for x, y in get_batches(train_x, train_y, batch_size):\n",
    "            feed = {inputs: x,\n",
    "                    labels: y[:, None],\n",
    "                    keep_prob: train_keep_prob}\n",
    "            summary, tr_loss, tr_acc, tr_prec, tr_rec, tr_f1, _ = \\\n",
    "                sess.run([merged, loss, accuracy, precision, recall, f1, optimizer], feed_dict=feed)\n",
    "            train_writer.add_summary(summary, iteration)\n",
    "            \n",
    "            # Print training information\n",
    "            if iteration%5==0:\n",
    "                print(\"Epoch:{: 3d}/{}\".format(e, epochs),\n",
    "                      \"Iteration: {: 4d} Training\".format(iteration),\n",
    "                      \"loss: {:.3f}\".format(tr_loss),\n",
    "                     \"accuracy: {:.3f}\".format(tr_acc),\n",
    "                     \"precision: {:.3f}\".format(tr_prec),\n",
    "                     \"recall: {:.3f}\".format(tr_rec),\n",
    "                     \"f1: {:.3f}\".format(tr_f1))\n",
    "            \n",
    "            # Evaluate the validation set\n",
    "            if iteration%25==0:\n",
    "                running_stats = []\n",
    "                for x, y in get_batches(val_x, val_y, batch_size):\n",
    "                    feed = {inputs: x,\n",
    "                            labels: y[:, None],\n",
    "                            keep_prob: 1}\n",
    "                    summary, v_loss, v_acc, v_prec, v_rec, v_f1 = \\\n",
    "                        sess.run([merged, loss, accuracy, precision, recall, f1], feed_dict=feed)\n",
    "                    val_writer.add_summary(summary, iteration)\n",
    "                    running_stats.append([v_loss, v_acc, v_prec, v_rec, v_f1])\n",
    "                running_stats = np.array(running_stats)\n",
    "                val_averages = running_stats.mean(axis=0)\n",
    "                print(\" \"*25,\n",
    "                      \"Validation loss: {:.3f}\".format(val_averages[0]),\n",
    "                     \"accuracy: {:.3f}\".format(val_averages[1]),\n",
    "                     \"precision: {:.3f}\".format(val_averages[2]),\n",
    "                     \"recall: {:.3f}\".format(val_averages[3]),\n",
    "                     \"f1: {:.3f}\".format(val_averages[4]))\n",
    "            iteration +=1\n",
    "    saver.save(sess, \"checkpoints/sentiment.ckpt\")"
   ]
  },
  {
   "cell_type": "markdown",
   "metadata": {},
   "source": [
    "# Evaluating Performance\n",
    "Below are some screen captures from TensorBoard, to show how the model's Accuracy, Precision, Recall, F1 Score, and Loss progressed on the training and validation sets during training:  \n",
    "**Photo goes here**"
   ]
  },
  {
   "cell_type": "markdown",
   "metadata": {},
   "source": [
    "Now, let's see how our model performed on the test set that we held out earlier.\n",
    "\n",
    "In order to do this, we will plot a \"confusion matrix,\" which concisely displays how many false positives, false negatives, true positives, and true negatives the model yielded.\n",
    "\n",
    "First, let's define our helper code for printing a confusion matrix"
   ]
  },
  {
   "cell_type": "code",
   "execution_count": 13,
   "metadata": {},
   "outputs": [],
   "source": [
    "import itertools"
   ]
  },
  {
   "cell_type": "code",
   "execution_count": 14,
   "metadata": {},
   "outputs": [],
   "source": [
    "def plot_confusion_matrix(cm, classes,\n",
    "                          normalize=False,\n",
    "                          title='Confusion matrix',\n",
    "                          cmap=plt.cm.Blues):\n",
    "    \"\"\"\n",
    "    This function prints and plots the confusion matrix.\n",
    "    Normalization can be applied by setting `normalize=True`.\n",
    "    \n",
    "    http://scikit-learn.org/stable/auto_examples/model_selection/plot_confusion_matrix.html#sphx-glr-auto-examples-model-selection-plot-confusion-matrix-py\n",
    "    \"\"\"\n",
    "    if normalize:\n",
    "        cm = cm.astype('float') / cm.sum(axis=1)[:, np.newaxis]\n",
    "\n",
    "    print(cm)\n",
    "\n",
    "    plt.imshow(cm, interpolation='nearest', cmap=cmap)\n",
    "    plt.title(title)\n",
    "    plt.colorbar()\n",
    "    tick_marks = np.arange(len(classes))\n",
    "    plt.xticks(tick_marks, classes, rotation=45)\n",
    "    plt.yticks(tick_marks, classes)\n",
    "\n",
    "    fmt = '.3f' if normalize else 'd'\n",
    "    thresh = cm.max() / 2.\n",
    "    for i, j in itertools.product(range(cm.shape[0]), range(cm.shape[1])):\n",
    "        plt.text(j, i, format(cm[i, j], fmt),\n",
    "                 horizontalalignment=\"center\",\n",
    "                 color=\"white\" if cm[i, j] > thresh else \"black\")\n",
    "\n",
    "    plt.tight_layout()\n",
    "    plt.ylabel('True label')\n",
    "    plt.xlabel('Predicted label')"
   ]
  },
  {
   "cell_type": "code",
   "execution_count": 15,
   "metadata": {},
   "outputs": [
    {
     "name": "stdout",
     "output_type": "stream",
     "text": [
      "[[ 0.8  0.2]\n",
      " [ 0.4  0.6]]\n"
     ]
    },
    {
     "data": {
      "image/png": "[encoded data removed]",
      "text/plain": [
       "<matplotlib.figure.Figure at 0x7f714541da90>"
      ]
     },
     "metadata": {},
     "output_type": "display_data"
    }
   ],
   "source": [
    "cnf_matrix = np.array([[8,2],[8,12]])\n",
    "# [TP, FN], [FP, TN]\n",
    "class_names = [\"Positive\", \"Negative\"]\n",
    "\n",
    "np.set_printoptions(precision=3)\n",
    "# Plot normalized confusion matrix\n",
    "\n",
    "plt.Figure()\n",
    "plot_confusion_matrix(cnf_matrix, classes=class_names, normalize=True,\n",
    "                      title='Normalized confusion matrix, Dummy Values')\n",
    "\n",
    "plt.show()"
   ]
  },
  {
   "cell_type": "markdown",
   "metadata": {},
   "source": [
    "Now, let's reload our model from disk, and run it on the test set:"
   ]
  },
  {
   "cell_type": "code",
   "execution_count": 16,
   "metadata": {},
   "outputs": [
    {
     "name": "stdout",
     "output_type": "stream",
     "text": [
      "INFO:tensorflow:Restoring parameters from checkpoints/sentiment.ckpt\n",
      "Test loss: 0.337 accuracy: 0.595 precision: 0.497 recall: 0.675 f1: 0.570\n"
     ]
    }
   ],
   "source": [
    "running_stats = []\n",
    "with tf.Session(graph=graph) as sess:\n",
    "    saver.restore(sess, tf.train.latest_checkpoint('checkpoints'))\n",
    "    conf_mat = np.zeros(4, dtype=int)\n",
    "    running_stats = []\n",
    "    for i, (x, y) in enumerate(get_batches(test_x, test_y, batch_size), 1):\n",
    "        feed = {inputs: x,\n",
    "                labels: y[:, None],\n",
    "                keep_prob: 1}\n",
    "        v_loss, v_acc, v_prec, v_rec, v_f1, true_pos, false_neg, false_pos, true_neg = \\\n",
    "            sess.run([loss, accuracy, precision, recall, f1, TP, FN, FP, TN], feed_dict=feed)\n",
    "        running_stats.append([v_loss, v_acc, v_prec, v_rec, v_f1])\n",
    "        conf_mat += (true_pos, true_neg, false_pos, false_neg)\n",
    "        \n",
    "    running_stats = np.array(running_stats)\n",
    "    test_averages = running_stats.mean(axis=0)\n",
    "    print(\"Test loss: {:.3f}\".format(test_averages[0]),\n",
    "                 \"accuracy: {:.3f}\".format(test_averages[1]),\n",
    "                 \"precision: {:.3f}\".format(test_averages[2]),\n",
    "                 \"recall: {:.3f}\".format(test_averages[3]),\n",
    "                 \"f1: {:.3f}\".format(test_averages[4]))"
   ]
  },
  {
   "cell_type": "code",
   "execution_count": 19,
   "metadata": {},
   "outputs": [
    {
     "name": "stdout",
     "output_type": "stream",
     "text": [
      "[[ 0.519  0.481]\n",
      " [ 0.728  0.272]]\n"
     ]
    },
    {
     "data": {
      "image/png": "[encoded data removed]",
      "text/plain": [
       "<matplotlib.figure.Figure at 0x7f852417d160>"
      ]
     },
     "metadata": {},
     "output_type": "display_data"
    }
   ],
   "source": [
    "# Reshape into 2 x 2 matrix\n",
    "conf_mat = conf_mat.reshape((2,2))\n",
    "\n",
    "class_names = [\"Positive\", \"Negative\"]\n",
    "\n",
    "# Plot normalized confusion matrix\n",
    "\n",
    "plt.Figure()\n",
    "plot_confusion_matrix(conf_mat, classes=class_names, normalize=True,\n",
    "                      title='Normalized confusion matrix, Test Set')\n",
    "\n",
    "plt.show()"
   ]
  },
  {
   "cell_type": "markdown",
   "metadata": {},
   "source": [
    "# Conclusion\n"
   ]
  }
 ],
 "metadata": {
  "kernelspec": {
   "display_name": "Python 3",
   "language": "python",
   "name": "python3"
  },
  "language_info": {
   "codemirror_mode": {
    "name": "ipython",
    "version": 3
   },
   "file_extension": ".py",
   "mimetype": "text/x-python",
   "name": "python",
   "nbconvert_exporter": "python",
   "pygments_lexer": "ipython3",
   "version": "3.6.3"
  }
 },
 "nbformat": 4,
 "nbformat_minor": 2
}
