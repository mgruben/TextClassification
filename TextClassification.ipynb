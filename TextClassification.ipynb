{
 "cells": [
  {
   "cell_type": "markdown",
   "metadata": {},
   "source": [
    "# Introduction\n",
    "This notebook is intended to showcase a text classification proof-of-concept model, developed in TensorFlow.\n",
    "\n",
    "The dataset used for this notebook is the [Cornell Movie Review dataset](http://www.cs.cornell.edu/people/pabo/movie-review-data/)."
   ]
  },
  {
   "cell_type": "markdown",
   "metadata": {},
   "source": [
    "# Data Exploration and Analysis\n",
    "First, let's load our dataset into a `pandas` dataframe."
   ]
  },
  {
   "cell_type": "code",
   "execution_count": 9,
   "metadata": {},
   "outputs": [],
   "source": [
    "import pandas as pd\n",
    "%matplotlib inline"
   ]
  },
  {
   "cell_type": "code",
   "execution_count": 10,
   "metadata": {},
   "outputs": [],
   "source": [
    "df = pd.read_csv(\"./data/cornell_movie_review.csv\", index_col=0)"
   ]
  },
  {
   "cell_type": "markdown",
   "metadata": {},
   "source": [
    "Let's get an idea of what the dataset looks like here."
   ]
  },
  {
   "cell_type": "code",
   "execution_count": 11,
   "metadata": {},
   "outputs": [
    {
     "data": {
      "text/html": [
       "<div>\n",
       "<style scoped>\n",
       "    .dataframe tbody tr th:only-of-type {\n",
       "        vertical-align: middle;\n",
       "    }\n",
       "\n",
       "    .dataframe tbody tr th {\n",
       "        vertical-align: top;\n",
       "    }\n",
       "\n",
       "    .dataframe thead th {\n",
       "        text-align: right;\n",
       "    }\n",
       "</style>\n",
       "<table border=\"1\" class=\"dataframe\">\n",
       "  <thead>\n",
       "    <tr style=\"text-align: right;\">\n",
       "      <th></th>\n",
       "      <th>label</th>\n",
       "      <th>review</th>\n",
       "    </tr>\n",
       "    <tr>\n",
       "      <th>id</th>\n",
       "      <th></th>\n",
       "      <th></th>\n",
       "    </tr>\n",
       "  </thead>\n",
       "  <tbody>\n",
       "    <tr>\n",
       "      <th>1</th>\n",
       "      <td>pos</td>\n",
       "      <td>films adapted from comic books have had plenty...</td>\n",
       "    </tr>\n",
       "    <tr>\n",
       "      <th>2</th>\n",
       "      <td>pos</td>\n",
       "      <td>every now and then a movie comes along from a ...</td>\n",
       "    </tr>\n",
       "    <tr>\n",
       "      <th>3</th>\n",
       "      <td>pos</td>\n",
       "      <td>you've got mail works alot better than it dese...</td>\n",
       "    </tr>\n",
       "    <tr>\n",
       "      <th>4</th>\n",
       "      <td>pos</td>\n",
       "      <td>\" jaws \" is a rare film that grabs your atten...</td>\n",
       "    </tr>\n",
       "    <tr>\n",
       "      <th>5</th>\n",
       "      <td>pos</td>\n",
       "      <td>moviemaking is a lot like being the general ma...</td>\n",
       "    </tr>\n",
       "  </tbody>\n",
       "</table>\n",
       "</div>"
      ],
      "text/plain": [
       "   label                                             review\n",
       "id                                                         \n",
       "1    pos  films adapted from comic books have had plenty...\n",
       "2    pos  every now and then a movie comes along from a ...\n",
       "3    pos  you've got mail works alot better than it dese...\n",
       "4    pos   \" jaws \" is a rare film that grabs your atten...\n",
       "5    pos  moviemaking is a lot like being the general ma..."
      ]
     },
     "execution_count": 11,
     "metadata": {},
     "output_type": "execute_result"
    }
   ],
   "source": [
    "df.head()"
   ]
  },
  {
   "cell_type": "markdown",
   "metadata": {},
   "source": [
    "Hmm, it looks like **review** can't fully fit in the above table.  \n",
    "Let's grab the first review (1-indexed!) and see what it looks like:"
   ]
  },
  {
   "cell_type": "code",
   "execution_count": 12,
   "metadata": {},
   "outputs": [
    {
     "data": {
      "text/plain": [
       "'films adapted from comic books have had plenty of success , whether they\\'re about superheroes ( batman , superman , spawn ) , or geared toward kids ( casper ) or the arthouse crowd ( ghost world ) , but there\\'s never really been a comic book like from hell before .  for starters , it was created by alan moore ( and eddie campbell ) , who brought the medium to a whole new level in the mid \\'80s with a 12-part series called the watchmen .  to say moore and campbell thoroughly researched the subject of jack the ripper would be like saying michael jackson is starting to look a little odd .  the book ( or \" graphic novel , \" if you will ) is over 500 pages long and includes nearly 30 more that consist of nothing but footnotes .  in other words , don\\'t dismiss this film because of its source .  if you can get past the whole comic book thing , you might find another stumbling block in from hell\\'s directors , albert and allen hughes .  getting the hughes brothers to direct this seems almost as ludicrous as casting carrot top in , well , anything , but riddle me this : who better to direct a film that\\'s set in the ghetto and features really violent street crime than the mad geniuses behind menace ii society ?  the ghetto in question is , of course , whitechapel in 1888 london\\'s east end .  it\\'s a filthy , sooty place where the whores ( called \" unfortunates \" ) are starting to get a little nervous about this mysterious psychopath who has been carving through their profession with surgical precision .  when the first stiff turns up , copper peter godley ( robbie coltrane , the world is not enough ) calls in inspector frederick abberline ( johnny depp , blow ) to crack the case .  abberline , a widower , has prophetic dreams he unsuccessfully tries to quell with copious amounts of absinthe and opium .  upon arriving in whitechapel , he befriends an unfortunate named mary kelly ( heather graham , say it isn\\'t so ) and proceeds to investigate the horribly gruesome crimes that even the police surgeon can\\'t stomach .  i don\\'t think anyone needs to be briefed on jack the ripper , so i won\\'t go into the particulars here , other than to say moore and campbell have a unique and interesting theory about both the identity of the killer and the reasons he chooses to slay .  in the comic , they don\\'t bother cloaking the identity of the ripper , but screenwriters terry hayes ( vertical limit ) and rafael yglesias ( les mis ? rables ) do a good job of keeping him hidden from viewers until the very end .  it\\'s funny to watch the locals blindly point the finger of blame at jews and indians because , after all , an englishman could never be capable of committing such ghastly acts .  and from hell\\'s ending had me whistling the stonecutters song from the simpsons for days ( \" who holds back the electric car/who made steve guttenberg a star ? \" ) .  don\\'t worry - it\\'ll all make sense when you see it .  now onto from hell\\'s appearance : it\\'s certainly dark and bleak enough , and it\\'s surprising to see how much more it looks like a tim burton film than planet of the apes did ( at times , it seems like sleepy hollow 2 ) .  the print i saw wasn\\'t completely finished ( both color and music had not been finalized , so no comments about marilyn manson ) , but cinematographer peter deming ( don\\'t say a word ) ably captures the dreariness of victorian-era london and helped make the flashy killing scenes remind me of the crazy flashbacks in twin peaks , even though the violence in the film pales in comparison to that in the black-and-white comic .  oscar winner martin childs\\' ( shakespeare in love ) production design turns the original prague surroundings into one creepy place .  even the acting in from hell is solid , with the dreamy depp turning in a typically strong performance and deftly handling a british accent .  ians holm ( joe gould\\'s secret ) and richardson ( 102 dalmatians ) log in great supporting roles , but the big surprise here is graham .  i cringed the first time she opened her mouth , imagining her attempt at an irish accent , but it actually wasn\\'t half bad .  the film , however , is all good .  2 : 00 - r for strong violence/gore , sexuality , language and drug content '"
      ]
     },
     "execution_count": 12,
     "metadata": {},
     "output_type": "execute_result"
    }
   ],
   "source": [
    "df['review'][1]"
   ]
  },
  {
   "cell_type": "markdown",
   "metadata": {},
   "source": [
    "Wow, that's a lengthy review.  \n",
    "Let's check how many reviews there are in the dataset:"
   ]
  },
  {
   "cell_type": "code",
   "execution_count": 13,
   "metadata": {},
   "outputs": [
    {
     "data": {
      "text/plain": [
       "2000"
      ]
     },
     "execution_count": 13,
     "metadata": {},
     "output_type": "execute_result"
    }
   ],
   "source": [
    "len(df)"
   ]
  },
  {
   "cell_type": "markdown",
   "metadata": {},
   "source": [
    "The [Cornell Movie Review dataset](http://www.cs.cornell.edu/people/pabo/movie-review-data/) is divided into positive and negative reviews.  \n",
    "Let's check how many positive, and how many negative, reviews there are in this dataset:"
   ]
  },
  {
   "cell_type": "code",
   "execution_count": 14,
   "metadata": {},
   "outputs": [
    {
     "data": {
      "text/plain": [
       "<matplotlib.axes._subplots.AxesSubplot at 0x7fbb32934780>"
      ]
     },
     "execution_count": 14,
     "metadata": {},
     "output_type": "execute_result"
    },
    {
     "data": {
      "image/png": "[encoded data removed]",
      "text/plain": [
       "<matplotlib.figure.Figure at 0x7fbb3297b550>"
      ]
     },
     "metadata": {},
     "output_type": "display_data"
    }
   ],
   "source": [
    "df['label'].hist()"
   ]
  },
  {
   "cell_type": "markdown",
   "metadata": {},
   "source": [
    "Excellent, the dataset is already balanced.  \n",
    "Having a balanced dataset makes it easier to train a deep learning model, because it's less likely that the model will focus on one of the classes, and ignore the other.\n",
    "\n",
    "Now, let's see what the distribution of review lengths is, in numbers of characters:"
   ]
  },
  {
   "cell_type": "code",
   "execution_count": 15,
   "metadata": {},
   "outputs": [
    {
     "data": {
      "text/plain": [
       "<matplotlib.axes._subplots.AxesSubplot at 0x7fbb757efe48>"
      ]
     },
     "execution_count": 15,
     "metadata": {},
     "output_type": "execute_result"
    },
    {
     "data": {
      "image/png": "[encoded data removed]",
      "text/plain": [
       "<matplotlib.figure.Figure at 0x7fbb308b87f0>"
      ]
     },
     "metadata": {},
     "output_type": "display_data"
    }
   ],
   "source": [
    "df['review'].apply(len).hist()"
   ]
  },
  {
   "cell_type": "markdown",
   "metadata": {},
   "source": [
    "Ok, there are some much longer reviews in this dataset than the ~4,000 character review above, but most of them are under 6,000 characters."
   ]
  },
  {
   "cell_type": "markdown",
   "metadata": {},
   "source": [
    "# Data Preprocessing\n",
    "The problem we are trying to solve here is called **sentiment analysis**, that is, whether the given text is positive or negative.\n",
    "\n",
    "More broadly, this is a type of machine learning problem known as classification.\n",
    "\n",
    "There are numerous different ways to think about the above dataset.  \n",
    "We can think of it as a collection of characters, a sequence of characters, a collection of words, or a sequence of words.  \n",
    "It turns out that the sequence-of-words approach has gotten good results on sentiment analysis problems, so let's think about the above dataset in those terms.\n",
    "\n",
    "Let's consider another review in the dataset:"
   ]
  },
  {
   "cell_type": "code",
   "execution_count": 16,
   "metadata": {},
   "outputs": [
    {
     "data": {
      "text/plain": [
       "'moviemaking is a lot like being the general manager of an nfl team in the post-salary cap era -- you\\'ve got to know how to allocate your resources .  every dollar spent on a free-agent defensive tackle is one less dollar than you can spend on linebackers or safeties or centers .  in the nfl , this leads to teams like the detroit lions , who boast a superstar running back with a huge contract , but can only field five guys named herb to block for him .  in the movies , you end up with films like \" spawn \" , with a huge special-effects budget but not enough money to hire any recognizable actors .  jackie chan is the barry sanders of moviemaking .  he spins and darts across the screen like sanders cutting back through the defensive line .  watching jackie in operation condor as he drives his motorcycle through the crowded streets of madrid , fleeing an armada of pursuers in identical black compact cars , is reminiscent of sanders running for daylight with the chicago bears in hot pursuit , except that sanders doesn\\'t have to worry about rescuing runaway baby carriages .  but like the lions star , jackie doesn\\'t have anybody to block for him .  almost every cent that\\'s invested in a jackie chan movie goes for stunts , and as chan does his own stunts , the rest of the money goes to pay his hospital bills .  this leaves about 75 cents to pay for things like directors ( chan directs ) , scripts and dubbing and supporting characters , not to mention the hideous title sequence .  this also explains why the movie was shot in odd places like morocco and spain .   ( chan\\'s first release in this country , \" rumble in the bronx \" , was supposedly set in new york , but was filmed in vancouver , and in the chase scenes the canadian rockies are clearly visible . )  heck , jackie doesn\\'t even have enough money for a haircut , looks like , much less a personal hairstylist .  in condor , chan plays the same character he\\'s always played , himself , a mixture of bruce lee and tim allen , a master of both kung-fu and slapstick-fu .  jackie is sent by the un to retrieve a cache of lost nazi gold in the north african desert , and is chased by a horde of neo-nazi sympathizers and two stereotypical arabs ( one of the things i like about jackie chan movies : no political correctness ) .  he is joined by three women , who have little to do except scream , \" jackie , save us ! \" , and misuse firearms .  the villain is an old nazi whose legs were broken in the secret base so that he has to be carried everywhere , and he\\'s more pathetic than evil .  en route , we have an extended motorcycle chase scene , a hilarious fight in the moroccan version of motel 6 with the neo-nazis , and two confrontations with savage natives .  once at the secret desert base , there is a long chop-socky sequence , followed by the film\\'s centerpiece , a wind-tunnel fight that\\'s even better than the one in face/off .  this is where the money was spent , on well-choreographed kung-fu sequences , on giant kevlar hamster balls , on smashed-up crates of bananas , and on scorpions .  ignore the gaping holes in the plot ( how , exactly , if the villain\\'s legs were broken , did he escape from the secret nazi base , and why didn\\'t he take the key with him ? ) .  don\\'t worry about the production values , or what , exactly , the japanese girl was doing hitchhiking across the sahara .  just go see the movie .  operation condor has pretentions of being a \" raiders of the lost ark \" knockoff , but one wonders what jackie could do with the raiders franchise blocking for him -- with a lawrence kazdan screenplay , a john williams score , spielberg directing and george lucas producing , condor might be an a+ movie .  however , you\\'ve got to go with what you\\'ve got , and what you\\'ve got in jackie chan is something special -- a talent that mainstream hollywood should , could , and ought to utilize . '"
      ]
     },
     "execution_count": 16,
     "metadata": {},
     "output_type": "execute_result"
    }
   ],
   "source": [
    "df['review'][5]"
   ]
  },
  {
   "cell_type": "markdown",
   "metadata": {},
   "source": [
    "## Tokenization\n",
    "What we would like to do is to turn the text above into a fixed-length sequence of numbers, which is what our TensorFlow model will expect in order to train on.\n",
    "\n",
    "The basic idea behind working with text data is that we want to create a number for each unique \"token\" that we see, then we can just substitute a \"token\"'s number for the token itself, and arrive at a fixed-length sequence of numbers for TensorFlow to work with.\n",
    "\n",
    "As can be seen above, it's not just words that are present, but also punctuation.  \n",
    "\n",
    "Thankfully, the [natural language toolkit](http://www.nltk.org/) is excellent at turning a string of text into a list of tokens.\n",
    "\n",
    "Let's see how it behaves on the above review:"
   ]
  },
  {
   "cell_type": "code",
   "execution_count": 17,
   "metadata": {},
   "outputs": [],
   "source": [
    "import nltk"
   ]
  },
  {
   "cell_type": "code",
   "execution_count": 18,
   "metadata": {},
   "outputs": [
    {
     "data": {
      "text/plain": [
       "['moviemaking',\n",
       " 'is',\n",
       " 'a',\n",
       " 'lot',\n",
       " 'like',\n",
       " 'being',\n",
       " 'the',\n",
       " 'general',\n",
       " 'manager',\n",
       " 'of']"
      ]
     },
     "execution_count": 18,
     "metadata": {},
     "output_type": "execute_result"
    }
   ],
   "source": [
    "nltk.tokenize.word_tokenize(df['review'][5])[:10]"
   ]
  },
  {
   "cell_type": "markdown",
   "metadata": {},
   "source": [
    "The above is perfectly sufficient tokenization for our purposes.  \n",
    "Perhaps it could be improved upon slightly, but this breaks up our review into enough unique tokens that our model will be able to learn which ones to use and which ones to discount (more on that in the [Architecture](#Model-Architecture) section)\n",
    "\n",
    "Now, let's create a set of all the words in all of the reviews in our dataset.  \n",
    "We will use this set to create a lookup table of tokens to their \"IDs\"."
   ]
  },
  {
   "cell_type": "code",
   "execution_count": 19,
   "metadata": {},
   "outputs": [],
   "source": [
    "review_word_set = set()\n",
    "for r in df['review']:\n",
    "    review_word_set.update(nltk.tokenize.word_tokenize(r))"
   ]
  },
  {
   "cell_type": "code",
   "execution_count": 20,
   "metadata": {},
   "outputs": [
    {
     "data": {
      "text/plain": [
       "46716"
      ]
     },
     "execution_count": 20,
     "metadata": {},
     "output_type": "execute_result"
    }
   ],
   "source": [
    "len(review_word_set)"
   ]
  },
  {
   "cell_type": "markdown",
   "metadata": {},
   "source": [
    "Excellent, in our 2,000-review dataset, only some ~47,000 unique \"tokens\" have been used.  \n",
    "## Token Encoding\n",
    "Now, let's use this set to assign IDs to our tokens, so that we can easily go from a token to its ID, and vice versa.\n",
    "\n",
    "First though, let's reserve ID `0` for reasons that will become clear in the [Padding](#Padding) section below, and start at ID `1`."
   ]
  },
  {
   "cell_type": "code",
   "execution_count": 21,
   "metadata": {},
   "outputs": [],
   "source": [
    "word_to_id = {word: i for i, word in enumerate(review_word_set, 1)}"
   ]
  },
  {
   "cell_type": "code",
   "execution_count": 22,
   "metadata": {},
   "outputs": [
    {
     "data": {
      "text/plain": [
       "{'mentor': 1,\n",
       " 'pangs': 2,\n",
       " 'cringe-worhy': 3,\n",
       " 'coddling': 4,\n",
       " 'course-a': 5,\n",
       " 'disco-': 6,\n",
       " 'convalescence': 7,\n",
       " 'sunning': 8,\n",
       " 'tamara': 9,\n",
       " 'thompson-based': 10,\n",
       " 'unnamed': 11,\n",
       " 'risible': 12,\n",
       " 'outlining': 13,\n",
       " 'burning': 14,\n",
       " 'engrossingly': 15,\n",
       " 'spiers': 16,\n",
       " 'toting': 17,\n",
       " 'eroding': 18,\n",
       " 'flynt': 19,\n",
       " 'unblemished': 20,\n",
       " 'inc': 21,\n",
       " 'ky': 22,\n",
       " 'buzzes': 23,\n",
       " 'sillier': 24,\n",
       " 'sprocket': 25,\n",
       " 'chompin': 26,\n",
       " 'covering': 27,\n",
       " 'milhoan': 28,\n",
       " 'aid': 29,\n",
       " 'mariachi': 30,\n",
       " 'farming': 31,\n",
       " 'cocoons': 32,\n",
       " 'debut': 33,\n",
       " 'desktop': 34,\n",
       " 'ideologies': 35,\n",
       " 'six-stories': 36,\n",
       " 'immobile': 37,\n",
       " 'oscar-nomination-worthy': 38,\n",
       " 'dives': 39,\n",
       " 'manifestations': 40,\n",
       " 'transporters': 41,\n",
       " 'interlude': 42,\n",
       " 'melee': 43,\n",
       " 'belabored': 44,\n",
       " 'lansbury': 45,\n",
       " 'jealous': 46,\n",
       " 'geoff': 47,\n",
       " 'suburbs': 48,\n",
       " 'atkine': 49,\n",
       " 'dragon': 50,\n",
       " 'scrawling': 51,\n",
       " 'rape/murder': 52,\n",
       " 'ritalin': 53,\n",
       " 'nearest': 54,\n",
       " 'authoritive': 55,\n",
       " 'ipkiss': 56,\n",
       " 'fang-fest': 57,\n",
       " 'zeit': 58,\n",
       " 'franken': 59,\n",
       " 'begins': 60,\n",
       " 'protoplasmic': 61,\n",
       " 'kissing': 62,\n",
       " 'holm': 63,\n",
       " 'radar': 64,\n",
       " 'frolic': 65,\n",
       " 'hesitance': 66,\n",
       " 'meteors': 67,\n",
       " 'unexplored': 68,\n",
       " 'bare-chested': 69,\n",
       " 'prig': 70,\n",
       " 'loren': 71,\n",
       " 'damme/dennis': 72,\n",
       " 'co-authors': 73,\n",
       " 'marshmallows': 74,\n",
       " 'evan': 75,\n",
       " 'stacks': 76,\n",
       " 'supercilious': 77,\n",
       " 'oxygen': 78,\n",
       " 'worldview': 79,\n",
       " 'sapping': 80,\n",
       " 'inexplicably': 81,\n",
       " 'lap': 82,\n",
       " 'mcallister': 83,\n",
       " 'atheism': 84,\n",
       " 'bonfire': 85,\n",
       " 'authors-i': 86,\n",
       " 'neumann': 87,\n",
       " 'conductor': 88,\n",
       " 'zephram': 89,\n",
       " 'tone/mood': 90,\n",
       " 'kate': 91,\n",
       " 'tariq': 92,\n",
       " 'sorts': 93,\n",
       " 'interpersonal': 94,\n",
       " 'scrutiny': 95,\n",
       " 'signed': 96,\n",
       " 'pleasance': 97,\n",
       " 'robotic': 98,\n",
       " 'hootworthy': 99,\n",
       " 'lasting': 100,\n",
       " 'angeles': 101,\n",
       " 'dedicate': 102,\n",
       " 'unbeknown': 103,\n",
       " 'demographic': 104,\n",
       " 'clever-way': 105,\n",
       " 'gossip': 106,\n",
       " '1919': 107,\n",
       " 'welshman': 108,\n",
       " 'aurelius': 109,\n",
       " 'huddled': 110,\n",
       " 'buckle': 111,\n",
       " 'artsier': 112,\n",
       " 'dogsit': 113,\n",
       " 'vierny': 114,\n",
       " 'drug-op': 115,\n",
       " 'sickened': 116,\n",
       " 'shrug': 117,\n",
       " 'gracie': 118,\n",
       " 'punches': 119,\n",
       " 'teeny-bopper': 120,\n",
       " 'vigil': 121,\n",
       " 'guterman': 122,\n",
       " 'washed': 123,\n",
       " 'mask': 124,\n",
       " 'radmar': 125,\n",
       " 'southern-drawling': 126,\n",
       " 'warm-hearted': 127,\n",
       " 'voila': 128,\n",
       " 'themes': 129,\n",
       " 'tandem': 130,\n",
       " 'welder': 131,\n",
       " 'assessment': 132,\n",
       " 'ezio': 133,\n",
       " 'buns': 134,\n",
       " 'oed': 135,\n",
       " 'summary': 136,\n",
       " 'caan/bruce': 137,\n",
       " '300': 138,\n",
       " 'taunt': 139,\n",
       " 'clairvoyant': 140,\n",
       " 'witless': 141,\n",
       " 'heavy-on-fx': 142,\n",
       " 'setups': 143,\n",
       " 'tak': 144,\n",
       " 'non-cgi': 145,\n",
       " 'salutes': 146,\n",
       " 'aramis': 147,\n",
       " 'soundtracks': 148,\n",
       " 'tillman': 149,\n",
       " 'bakshi': 150,\n",
       " 'cockroaches': 151,\n",
       " 'distributing': 152,\n",
       " 'adamson': 153,\n",
       " 'stephanie': 154,\n",
       " 'slushee': 155,\n",
       " 'bram': 156,\n",
       " 'genetically': 157,\n",
       " 'existenz': 158,\n",
       " 'sermon': 159,\n",
       " 'hard-to-decipher': 160,\n",
       " '20-foot': 161,\n",
       " 'pic': 162,\n",
       " 'yuck': 163,\n",
       " 'spooked': 164,\n",
       " 'resignation': 165,\n",
       " 'hockey': 166,\n",
       " 'midsummer': 167,\n",
       " 'hard-headed': 168,\n",
       " 'crucial': 169,\n",
       " 'foolish': 170,\n",
       " 'communist': 171,\n",
       " 'effects-filled': 172,\n",
       " 'dressed': 173,\n",
       " 'febrile': 174,\n",
       " 'apathy': 175,\n",
       " 'dining': 176,\n",
       " 'surfer': 177,\n",
       " 'unpromisingly': 178,\n",
       " 'malcom': 179,\n",
       " 'madoka': 180,\n",
       " 'koster': 181,\n",
       " 'kitano': 182,\n",
       " 'satirize': 183,\n",
       " 'demanded': 184,\n",
       " 'mangalores': 185,\n",
       " 'skit': 186,\n",
       " 'rice': 187,\n",
       " 'transmits': 188,\n",
       " 'explorer/mariner': 189,\n",
       " 'preface': 190,\n",
       " 'springsteen': 191,\n",
       " 'bestial': 192,\n",
       " 'conejo': 193,\n",
       " 'crazed-looking': 194,\n",
       " 'a-changin': 195,\n",
       " 'co-worker': 196,\n",
       " 'deposited': 197,\n",
       " 'evaluate': 198,\n",
       " 'overlapping': 199,\n",
       " 'enumerates': 200,\n",
       " 'ming': 201,\n",
       " 'uniformly': 202,\n",
       " 'swank': 203,\n",
       " 'fincher': 204,\n",
       " 'limey': 205,\n",
       " 'scale': 206,\n",
       " 'lingering': 207,\n",
       " 'hallucination': 208,\n",
       " 'budget': 209,\n",
       " 'wind-bag': 210,\n",
       " '`mystery': 211,\n",
       " 'scripts': 212,\n",
       " 'doesn=92t': 213,\n",
       " 'cardshark': 214,\n",
       " 'kassovitz': 215,\n",
       " 'puzzled': 216,\n",
       " 'sequitur': 217,\n",
       " 'sabotage': 218,\n",
       " 'familiarity': 219,\n",
       " 'equaled': 220,\n",
       " 'valentin': 221,\n",
       " 'locale': 222,\n",
       " 'orientation': 223,\n",
       " 'trunk': 224,\n",
       " 'korda': 225,\n",
       " 'all-male': 226,\n",
       " 'asimov': 227,\n",
       " 'spook': 228,\n",
       " 'prix': 229,\n",
       " 'puzzling': 230,\n",
       " 'devon': 231,\n",
       " 'much-admired': 232,\n",
       " 'freshly': 233,\n",
       " 'specifically': 234,\n",
       " 'heart-wrenching': 235,\n",
       " 'lucas': 236,\n",
       " 'promiscuity': 237,\n",
       " 'stress-inducing': 238,\n",
       " 'wild-and-crazy': 239,\n",
       " 'layoffs': 240,\n",
       " 'pharmacological': 241,\n",
       " 'proposing': 242,\n",
       " 'revise': 243,\n",
       " 'steed': 244,\n",
       " 'diatribe': 245,\n",
       " 'brando': 246,\n",
       " 'disgusting': 247,\n",
       " 'spoon-fed': 248,\n",
       " 'appended': 249,\n",
       " 'dune': 250,\n",
       " 'baffled': 251,\n",
       " 'penciller': 252,\n",
       " 'underlit': 253,\n",
       " 'sonya': 254,\n",
       " 'vietnam': 255,\n",
       " 'heavy-metal': 256,\n",
       " 'decapitate': 257,\n",
       " 'dentures': 258,\n",
       " \"'deep\": 259,\n",
       " 'robes': 260,\n",
       " 'entrenched': 261,\n",
       " 'slapped-together': 262,\n",
       " 'faults': 263,\n",
       " 'femke': 264,\n",
       " 'goner': 265,\n",
       " 'frees': 266,\n",
       " 'butabis': 267,\n",
       " 'martians': 268,\n",
       " 'drapes': 269,\n",
       " 'ex-journalist': 270,\n",
       " 'trots': 271,\n",
       " 'faster-than-light': 272,\n",
       " 'merchandise': 273,\n",
       " 'willis': 274,\n",
       " 'hyde': 275,\n",
       " 'ridiculousness': 276,\n",
       " 'facet': 277,\n",
       " 'hypnotize': 278,\n",
       " 'fascist': 279,\n",
       " 'pities': 280,\n",
       " 'graduation': 281,\n",
       " 'brokers': 282,\n",
       " 'cryin': 283,\n",
       " 'complain': 284,\n",
       " 'sciora': 285,\n",
       " 'a-trois': 286,\n",
       " 'kgb': 287,\n",
       " 'eye-filling': 288,\n",
       " 'bandaged': 289,\n",
       " 'split-screen': 290,\n",
       " 'no-one': 291,\n",
       " 'military': 292,\n",
       " 'hitman': 293,\n",
       " 'tail': 294,\n",
       " 'davis': 295,\n",
       " 'bootlegged': 296,\n",
       " '2007': 297,\n",
       " 'julius': 298,\n",
       " 'avika': 299,\n",
       " 'henreid': 300,\n",
       " 'cassandra': 301,\n",
       " 'precinct': 302,\n",
       " 'ravenscroft': 303,\n",
       " 'estate': 304,\n",
       " 'strengths': 305,\n",
       " 'disabled': 306,\n",
       " 'organized': 307,\n",
       " 'calls': 308,\n",
       " 'jemima': 309,\n",
       " 'scheider': 310,\n",
       " 'theatrical': 311,\n",
       " 'oversappy': 312,\n",
       " 'uninitiated': 313,\n",
       " 'turbulence': 314,\n",
       " 'godzila': 315,\n",
       " 'fx-heavy': 316,\n",
       " 'avowed': 317,\n",
       " 'long-hampered': 318,\n",
       " '3-5': 319,\n",
       " '747s': 320,\n",
       " 'pacino': 321,\n",
       " 'enrages': 322,\n",
       " 'moment': 323,\n",
       " 'seasoned': 324,\n",
       " 'well-staged': 325,\n",
       " 'incubus': 326,\n",
       " 'big-shots': 327,\n",
       " 'clap': 328,\n",
       " 'condemning': 329,\n",
       " 'colonel': 330,\n",
       " 'stamp': 331,\n",
       " 'bright': 332,\n",
       " 'squandering': 333,\n",
       " 'salesmen-talk': 334,\n",
       " 'fiona': 335,\n",
       " 'miscarrying': 336,\n",
       " 'ahern': 337,\n",
       " 'imaginary': 338,\n",
       " 'crinkled': 339,\n",
       " 'blatancy': 340,\n",
       " 'mouthing': 341,\n",
       " 'emotionally-crippled': 342,\n",
       " 'humorously': 343,\n",
       " 'typhoon': 344,\n",
       " 'mer': 345,\n",
       " 'dinah': 346,\n",
       " 'jingo-all-the-way': 347,\n",
       " 'won': 348,\n",
       " 'muted': 349,\n",
       " 'gloss': 350,\n",
       " 'jolt-inducers': 351,\n",
       " 'scharzenegger': 352,\n",
       " 'unmoved': 353,\n",
       " 'insight': 354,\n",
       " 'exciting': 355,\n",
       " 'lyrical': 356,\n",
       " 'near-certain': 357,\n",
       " 'sicker': 358,\n",
       " 'caustic': 359,\n",
       " 'logo': 360,\n",
       " 'below': 361,\n",
       " 'narrators': 362,\n",
       " 'clinton': 363,\n",
       " 'hyams': 364,\n",
       " 'arouses': 365,\n",
       " 'unmemorable': 366,\n",
       " 'watery': 367,\n",
       " 'capitalist': 368,\n",
       " 'rubber-faced': 369,\n",
       " 'equally-innovative': 370,\n",
       " 'fla': 371,\n",
       " 'allegorically': 372,\n",
       " '-rated': 373,\n",
       " 'navarro': 374,\n",
       " 'me': 375,\n",
       " 'gauthier': 376,\n",
       " 'arabella': 377,\n",
       " 'prickly': 378,\n",
       " 'executives': 379,\n",
       " 'plunge': 380,\n",
       " 'revelled': 381,\n",
       " 'pankow': 382,\n",
       " 'outlined': 383,\n",
       " 'walked': 384,\n",
       " 'keach': 385,\n",
       " 'yugo': 386,\n",
       " 'gold-diggers': 387,\n",
       " '1885': 388,\n",
       " 'verhoeven': 389,\n",
       " 'brakes': 390,\n",
       " 'whatnot': 391,\n",
       " 'wesson': 392,\n",
       " 'unleashes': 393,\n",
       " 'doubtless': 394,\n",
       " 'autumn': 395,\n",
       " 'oops': 396,\n",
       " 'earl': 397,\n",
       " 'depp-type': 398,\n",
       " 'drawl': 399,\n",
       " 'excruciatingly': 400,\n",
       " 'lem': 401,\n",
       " '_happen_': 402,\n",
       " 'monstrosity': 403,\n",
       " 'beasly': 404,\n",
       " 'parlay': 405,\n",
       " 'electro-': 406,\n",
       " 'induces': 407,\n",
       " 'scarcely': 408,\n",
       " '1978': 409,\n",
       " 'denny': 410,\n",
       " 'pivotal': 411,\n",
       " 'mine-cart': 412,\n",
       " 'grants': 413,\n",
       " 'veterans': 414,\n",
       " 'openly': 415,\n",
       " 'watchful': 416,\n",
       " 'chomp': 417,\n",
       " 'erupt': 418,\n",
       " 'sinner': 419,\n",
       " 'department': 420,\n",
       " 'bear-like': 421,\n",
       " 'wakes': 422,\n",
       " 'canceled': 423,\n",
       " 'creepier': 424,\n",
       " 'shockwave': 425,\n",
       " 'emotion-charged': 426,\n",
       " 'adolescence': 427,\n",
       " 'marries': 428,\n",
       " 'deem': 429,\n",
       " 'rogaine-nightmare': 430,\n",
       " 'bolt': 431,\n",
       " 'echoing': 432,\n",
       " '1979': 433,\n",
       " 'tomorrow': 434,\n",
       " 'shuts': 435,\n",
       " 'amalgam': 436,\n",
       " 'unspectacular': 437,\n",
       " 'malevolence': 438,\n",
       " 'labyrinthine': 439,\n",
       " 'vexatiousness': 440,\n",
       " 'hans': 441,\n",
       " 'beekeeping': 442,\n",
       " 'inexcusably': 443,\n",
       " 'beer-drinking': 444,\n",
       " 'exasperated': 445,\n",
       " 'sacrificing': 446,\n",
       " 'foresee': 447,\n",
       " 'miserly': 448,\n",
       " 'unneccesary': 449,\n",
       " 'might': 450,\n",
       " 'story_': 451,\n",
       " 'moustached': 452,\n",
       " 'franklin': 453,\n",
       " '\\x13white\\x14': 454,\n",
       " 'malnutrition': 455,\n",
       " 'yahoo': 456,\n",
       " 'ventricle': 457,\n",
       " 'courtney': 458,\n",
       " 'au/~koukoula/': 459,\n",
       " 'outages': 460,\n",
       " 'fichtner': 461,\n",
       " 'kensington': 462,\n",
       " '_a_night_at_the_roxbury_': 463,\n",
       " 'butter': 464,\n",
       " 'smarmy': 465,\n",
       " 'categorized': 466,\n",
       " 'crossbows': 467,\n",
       " 'broad-based': 468,\n",
       " 'aunts': 469,\n",
       " 'risk': 470,\n",
       " 'mutated': 471,\n",
       " 'impersonated': 472,\n",
       " 'deemphasize': 473,\n",
       " 'overpopulation': 474,\n",
       " 'stitches': 475,\n",
       " 'regarding': 476,\n",
       " 'treasures': 477,\n",
       " 'butte': 478,\n",
       " '1998': 479,\n",
       " 'pond-': 480,\n",
       " 'admittedly': 481,\n",
       " 'heretofore': 482,\n",
       " 'homogenized': 483,\n",
       " 'debilitating': 484,\n",
       " 'emanate': 485,\n",
       " 'changwei': 486,\n",
       " 'diction': 487,\n",
       " \"'matron\": 488,\n",
       " 'hypnotherapist': 489,\n",
       " 'lonesome': 490,\n",
       " 'counselor': 491,\n",
       " 'talk': 492,\n",
       " 'carefully': 493,\n",
       " 'kalifornia': 494,\n",
       " 'shrift': 495,\n",
       " 'dressing': 496,\n",
       " 'colossal': 497,\n",
       " 'eastwood-esque': 498,\n",
       " 'ab': 499,\n",
       " 'career-topping': 500,\n",
       " 'bluescreen': 501,\n",
       " 'critic-type': 502,\n",
       " 'triumphs': 503,\n",
       " 'death-row': 504,\n",
       " 'hilarities': 505,\n",
       " 'combines': 506,\n",
       " 'us-mexico': 507,\n",
       " 'miyake': 508,\n",
       " 'jim': 509,\n",
       " 'mom': 510,\n",
       " 'unquestionably': 511,\n",
       " 'ads': 512,\n",
       " 'stupendously': 513,\n",
       " 'serpent': 514,\n",
       " 'circulation': 515,\n",
       " 'argues': 516,\n",
       " 'amundsen': 517,\n",
       " 'bottom': 518,\n",
       " 'namesakes': 519,\n",
       " 'myself': 520,\n",
       " 'humming': 521,\n",
       " 'grief-stricken': 522,\n",
       " 'nonexistent': 523,\n",
       " 'xiong': 524,\n",
       " 'kevil': 525,\n",
       " 'suggestion': 526,\n",
       " 'stove': 527,\n",
       " 'armor': 528,\n",
       " 'kissy-face': 529,\n",
       " 'arriving': 530,\n",
       " 'working-class': 531,\n",
       " 'stalks': 532,\n",
       " 'hallucinogen-fueled': 533,\n",
       " 'yugoslavia': 534,\n",
       " 'applied': 535,\n",
       " 'conelly': 536,\n",
       " 'cross-promotion': 537,\n",
       " 'instills': 538,\n",
       " 'topple': 539,\n",
       " 'moron-proof': 540,\n",
       " 'polluted': 541,\n",
       " 'became': 542,\n",
       " 'ago': 543,\n",
       " 'ruby': 544,\n",
       " 'mcinnerny': 545,\n",
       " 'sesame': 546,\n",
       " 'caped': 547,\n",
       " 'beantown': 548,\n",
       " 'prologues': 549,\n",
       " 'refuting': 550,\n",
       " 'mutually': 551,\n",
       " 'subgenre': 552,\n",
       " 'disservice': 553,\n",
       " 'ours': 554,\n",
       " 'reliant': 555,\n",
       " 'unpaid': 556,\n",
       " 'announcer': 557,\n",
       " 'firth': 558,\n",
       " 'happens': 559,\n",
       " 'maccormack': 560,\n",
       " 'saga': 561,\n",
       " 'bog': 562,\n",
       " 'americana': 563,\n",
       " 'prof': 564,\n",
       " 'philosopical': 565,\n",
       " 'envoke': 566,\n",
       " 'talking-directly-into-the-camera-schtick': 567,\n",
       " 'smashed': 568,\n",
       " 'haughtiness': 569,\n",
       " 'ostrich': 570,\n",
       " 'lomper': 571,\n",
       " 'atkinson': 572,\n",
       " 'bea': 573,\n",
       " 'passage': 574,\n",
       " 'unturned': 575,\n",
       " 'bandages': 576,\n",
       " 'zimmely': 577,\n",
       " 'sometimes-understated': 578,\n",
       " 'swarthy': 579,\n",
       " 'dental': 580,\n",
       " 'not-so-happily-married': 581,\n",
       " 'three-year': 582,\n",
       " 'indecisive': 583,\n",
       " 'moseys': 584,\n",
       " 'waitering': 585,\n",
       " 'insubstantial': 586,\n",
       " 'kong': 587,\n",
       " '`empire': 588,\n",
       " 'credits': 589,\n",
       " 'bendrix': 590,\n",
       " 'ordinary': 591,\n",
       " 'stepped': 592,\n",
       " 'self-discoveries': 593,\n",
       " 'squeak': 594,\n",
       " 'quarry': 595,\n",
       " 'prerelease': 596,\n",
       " 'mutual': 597,\n",
       " 'jettison': 598,\n",
       " 'captivatingly': 599,\n",
       " 'deeds': 600,\n",
       " '`faggot': 601,\n",
       " 'suffice': 602,\n",
       " 'comprises': 603,\n",
       " 'softhearted': 604,\n",
       " 'deleted': 605,\n",
       " 'humor': 606,\n",
       " '10000': 607,\n",
       " 'ashman': 608,\n",
       " 'oppressed': 609,\n",
       " 'heroics': 610,\n",
       " 'mousse': 611,\n",
       " 'sanches': 612,\n",
       " 'birch': 613,\n",
       " 'alternatively': 614,\n",
       " 'mayer': 615,\n",
       " 'juxtaposes': 616,\n",
       " 'movie-maker': 617,\n",
       " '180': 618,\n",
       " 'dullest': 619,\n",
       " 'genvieve': 620,\n",
       " 'awed': 621,\n",
       " '43-foot-long': 622,\n",
       " 'francesco': 623,\n",
       " 'fingerprint': 624,\n",
       " 'nntp-posting-host': 625,\n",
       " 'scholars': 626,\n",
       " 'tabloid-ish': 627,\n",
       " 'slapped': 628,\n",
       " 'townie': 629,\n",
       " 'seemlessly': 630,\n",
       " 'coaxes': 631,\n",
       " 'emax': 632,\n",
       " 'harry': 633,\n",
       " 'dropping': 634,\n",
       " 'waits': 635,\n",
       " 'employees': 636,\n",
       " 'instantaneously': 637,\n",
       " 'pubs': 638,\n",
       " 'tattered': 639,\n",
       " 'modify': 640,\n",
       " 'outcasts': 641,\n",
       " 'mimms': 642,\n",
       " 'murawski': 643,\n",
       " 'nookie': 644,\n",
       " 'achin': 645,\n",
       " 'church': 646,\n",
       " 'laser-beams': 647,\n",
       " 'beginnings': 648,\n",
       " \"'fuck\": 649,\n",
       " 'alessa': 650,\n",
       " 'everglades': 651,\n",
       " 'annoyances': 652,\n",
       " 'stray': 653,\n",
       " 'post-salary': 654,\n",
       " 'over-extended': 655,\n",
       " 'wrongdoing': 656,\n",
       " 'caldicott': 657,\n",
       " 'wheedon': 658,\n",
       " '24/12/99': 659,\n",
       " 'mobbed': 660,\n",
       " 'harrassing': 661,\n",
       " '53-year-old': 662,\n",
       " 'microcosm': 663,\n",
       " 'gristly': 664,\n",
       " 'identically-wrapped': 665,\n",
       " 'catsuit-clad': 666,\n",
       " 'streetwalker': 667,\n",
       " 'jordans': 668,\n",
       " 'shellulite': 669,\n",
       " 'afterglow': 670,\n",
       " 'sweatshirt': 671,\n",
       " 'pam': 672,\n",
       " 'blue-screens': 673,\n",
       " 'exemplifies': 674,\n",
       " 'meek': 675,\n",
       " 'adorably': 676,\n",
       " 'concentration': 677,\n",
       " 'methodology': 678,\n",
       " 'glop': 679,\n",
       " 'hitchhike': 680,\n",
       " 'jay': 681,\n",
       " 'previously-used': 682,\n",
       " 'pogue': 683,\n",
       " 'sportscar': 684,\n",
       " 'carlton': 685,\n",
       " 'affiliate': 686,\n",
       " 'semantic': 687,\n",
       " 'overarching': 688,\n",
       " 'morrison': 689,\n",
       " 'charmless': 690,\n",
       " 'fulfilment': 691,\n",
       " 'slug-like': 692,\n",
       " 'izabella': 693,\n",
       " 'nexus': 694,\n",
       " 'supplied': 695,\n",
       " 'father-and-son': 696,\n",
       " '_the_fugitive_': 697,\n",
       " 'robby': 698,\n",
       " 'sicken': 699,\n",
       " 'psychlo': 700,\n",
       " 'pebbles': 701,\n",
       " 'burlier': 702,\n",
       " '95': 703,\n",
       " 'guaranteed': 704,\n",
       " 'slightest': 705,\n",
       " 'joining': 706,\n",
       " 'neighbouring': 707,\n",
       " 'macfadyen': 708,\n",
       " 'scots': 709,\n",
       " \"'holocaust\": 710,\n",
       " 'arquette': 711,\n",
       " '165': 712,\n",
       " 'protesting': 713,\n",
       " 'best-executed': 714,\n",
       " 'barber': 715,\n",
       " 'specialized': 716,\n",
       " 'introversion': 717,\n",
       " 'pausing': 718,\n",
       " 'quit': 719,\n",
       " 'reverse': 720,\n",
       " 'joie': 721,\n",
       " '`father': 722,\n",
       " 'cheapened': 723,\n",
       " 'baring': 724,\n",
       " 'turtleneck': 725,\n",
       " 'platform': 726,\n",
       " 'sluttish': 727,\n",
       " 'emotions': 728,\n",
       " 'alignment': 729,\n",
       " '161': 730,\n",
       " 'appeased': 731,\n",
       " 'confirm': 732,\n",
       " 'tongues': 733,\n",
       " 'gamorreans': 734,\n",
       " 'highways': 735,\n",
       " 'above-par': 736,\n",
       " 'bespectacled': 737,\n",
       " 'quartet': 738,\n",
       " 'cues': 739,\n",
       " '-creator': 740,\n",
       " 'alek': 741,\n",
       " 'figaro': 742,\n",
       " 'yong': 743,\n",
       " 'cheekbones': 744,\n",
       " 'reconstructive': 745,\n",
       " 'soylent': 746,\n",
       " 'video-age': 747,\n",
       " 'milliken': 748,\n",
       " 'true-story': 749,\n",
       " 'wellington': 750,\n",
       " 'hmm': 751,\n",
       " 'disk': 752,\n",
       " 'kinetic': 753,\n",
       " 'interpol': 754,\n",
       " 'exuding': 755,\n",
       " 'louie': 756,\n",
       " 'kaige': 757,\n",
       " 'ozone': 758,\n",
       " 'establishments': 759,\n",
       " 'tycoon': 760,\n",
       " 'loca': 761,\n",
       " 'victoria': 762,\n",
       " 'skinhead': 763,\n",
       " 'hassidic': 764,\n",
       " 'big-city': 765,\n",
       " 'precedes': 766,\n",
       " 'slayings': 767,\n",
       " \"'dating\": 768,\n",
       " 'theorizing': 769,\n",
       " 'drummond': 770,\n",
       " 'worn': 771,\n",
       " 'hiroshima': 772,\n",
       " 'aspires': 773,\n",
       " 'falsetto': 774,\n",
       " 'skyrocket': 775,\n",
       " 'spontaneity': 776,\n",
       " 'xtdl': 777,\n",
       " 'pepperidge': 778,\n",
       " '+': 779,\n",
       " 'definately': 780,\n",
       " 'bratiness': 781,\n",
       " 'conciliatory': 782,\n",
       " 'kirstin': 783,\n",
       " 'sito': 784,\n",
       " 'gunfire': 785,\n",
       " 'crichton': 786,\n",
       " 'there\\x12s': 787,\n",
       " 'undercuts': 788,\n",
       " 'coercion': 789,\n",
       " 'splashy': 790,\n",
       " 'reconciles': 791,\n",
       " 'rifkin': 792,\n",
       " 'western-like': 793,\n",
       " '1980': 794,\n",
       " 'infancy': 795,\n",
       " 'fairy': 796,\n",
       " 'rethinks': 797,\n",
       " 'vesco': 798,\n",
       " 'out-of-place': 799,\n",
       " 'gear': 800,\n",
       " 'oscar-hungry': 801,\n",
       " 'bunyan': 802,\n",
       " '70-minute': 803,\n",
       " 'unmatched': 804,\n",
       " 'riviting': 805,\n",
       " 'youngsters': 806,\n",
       " 'theatre': 807,\n",
       " '_scream': 808,\n",
       " 'goo': 809,\n",
       " 'summertime': 810,\n",
       " 'moonlighting': 811,\n",
       " 'smash': 812,\n",
       " 'unfair': 813,\n",
       " 'arisen': 814,\n",
       " 'committments': 815,\n",
       " 'madam': 816,\n",
       " 'reclaiming': 817,\n",
       " 'marine': 818,\n",
       " 'manson': 819,\n",
       " 'clothing': 820,\n",
       " 'levitt': 821,\n",
       " 'taymor': 822,\n",
       " 'command-line': 823,\n",
       " 'full-well': 824,\n",
       " 'mccormack': 825,\n",
       " 'donal': 826,\n",
       " 'dusted': 827,\n",
       " 'disintegrate': 828,\n",
       " 'soft-spoken': 829,\n",
       " 'smack': 830,\n",
       " 'munster': 831,\n",
       " '`armageddon': 832,\n",
       " 'nihilist': 833,\n",
       " 'gyrations': 834,\n",
       " 'lastly': 835,\n",
       " 'pretenses': 836,\n",
       " \"'having\": 837,\n",
       " 'unflattering': 838,\n",
       " 'liners': 839,\n",
       " 'anti-gay': 840,\n",
       " '24th-century': 841,\n",
       " 'promoting': 842,\n",
       " 'narcotic': 843,\n",
       " 'head-bopping': 844,\n",
       " 'camembert': 845,\n",
       " \"i'm-having-a-mid-life-crisis\": 846,\n",
       " 'arguing': 847,\n",
       " 'traces': 848,\n",
       " 'salvati': 849,\n",
       " 'brothel': 850,\n",
       " 'huckleberry': 851,\n",
       " 'tarzan': 852,\n",
       " 'ninety-minute': 853,\n",
       " 'thieves': 854,\n",
       " 'citing': 855,\n",
       " 'killer-taunting-his-victim-on-the-phone': 856,\n",
       " 'wink-wink': 857,\n",
       " 'raffo': 858,\n",
       " 'fetishized': 859,\n",
       " 'borderlines': 860,\n",
       " 'un-named': 861,\n",
       " 'listens': 862,\n",
       " 'executing': 863,\n",
       " 'startup': 864,\n",
       " 'muppets': 865,\n",
       " 'tubercular': 866,\n",
       " 'ex-ira': 867,\n",
       " 'premises': 868,\n",
       " 'hearken': 869,\n",
       " 'outgrosses': 870,\n",
       " 'angering': 871,\n",
       " 'accolade': 872,\n",
       " '2hr': 873,\n",
       " 'ker': 874,\n",
       " 'ooooooooh': 875,\n",
       " 'reformers': 876,\n",
       " \"'leon\": 877,\n",
       " 'rewards': 878,\n",
       " 'appalls': 879,\n",
       " 'bin': 880,\n",
       " 'characteristically': 881,\n",
       " 'stringfield': 882,\n",
       " \"it's-so-bad-it's-good\": 883,\n",
       " 'cabin': 884,\n",
       " 'other': 885,\n",
       " 'out-of-print': 886,\n",
       " 'diverge': 887,\n",
       " 're-enactment': 888,\n",
       " 'mook': 889,\n",
       " 'widescale': 890,\n",
       " 'socialites': 891,\n",
       " 'mib': 892,\n",
       " 'vincenzo': 893,\n",
       " 'un-dicaprio-esque': 894,\n",
       " 'leila': 895,\n",
       " 'privet-sculpted': 896,\n",
       " 'altman': 897,\n",
       " 'grand-daddy': 898,\n",
       " 'mortgage': 899,\n",
       " 'android': 900,\n",
       " 'sweat-literally': 901,\n",
       " 'head-shaving': 902,\n",
       " 'mini-plots-within-plots': 903,\n",
       " 'tsk': 904,\n",
       " 'back-door': 905,\n",
       " 'mack': 906,\n",
       " 'mileage': 907,\n",
       " 'sanctuary': 908,\n",
       " 'phenomenal': 909,\n",
       " 'monster-instigated': 910,\n",
       " 'idolized': 911,\n",
       " 'preteen': 912,\n",
       " 'lerner': 913,\n",
       " 'smothered': 914,\n",
       " 'aria': 915,\n",
       " 'woman': 916,\n",
       " 'measurements': 917,\n",
       " 'doodyish': 918,\n",
       " 'shyer': 919,\n",
       " 'wrestled': 920,\n",
       " 'resoundingly': 921,\n",
       " 'crossword': 922,\n",
       " 'employ': 923,\n",
       " 'slots': 924,\n",
       " 'compassionate': 925,\n",
       " 'shags': 926,\n",
       " 'directing-wise': 927,\n",
       " 'casual': 928,\n",
       " 'revolving': 929,\n",
       " 'twenty-one': 930,\n",
       " 'carefully-stacked': 931,\n",
       " 'spiritualist': 932,\n",
       " 'melodramtic': 933,\n",
       " 'kwouk': 934,\n",
       " 'alabama': 935,\n",
       " 'artisan': 936,\n",
       " 'specifics': 937,\n",
       " '`last': 938,\n",
       " 'abundantly': 939,\n",
       " 'sherriff': 940,\n",
       " 'grinding': 941,\n",
       " 'giant': 942,\n",
       " 'thickened': 943,\n",
       " 'detector': 944,\n",
       " 'go-between': 945,\n",
       " 'genocide': 946,\n",
       " 'omit': 947,\n",
       " 'tight-budget': 948,\n",
       " 'lithuanian': 949,\n",
       " 'rotund': 950,\n",
       " 'obesity': 951,\n",
       " 'extremly': 952,\n",
       " 'ghibli': 953,\n",
       " 'enterprising': 954,\n",
       " 'side-kick': 955,\n",
       " 'mena': 956,\n",
       " 'radio/tv/film': 957,\n",
       " 'admirers': 958,\n",
       " 'rikiya': 959,\n",
       " 'astor': 960,\n",
       " 'humanist': 961,\n",
       " 'unknowing': 962,\n",
       " 'underlying': 963,\n",
       " 'hunters': 964,\n",
       " 'aspirations': 965,\n",
       " 'stringing': 966,\n",
       " 'dirk': 967,\n",
       " 'extensive': 968,\n",
       " 'highly-populated': 969,\n",
       " 'totatly': 970,\n",
       " 'best-and': 971,\n",
       " 'bendix': 972,\n",
       " 'sergio': 973,\n",
       " 'intoning': 974,\n",
       " 'jehan': 975,\n",
       " 'signaling': 976,\n",
       " 'niro/james': 977,\n",
       " 'submitted': 978,\n",
       " 'bloodshed': 979,\n",
       " 'romanticise': 980,\n",
       " 'soho': 981,\n",
       " 'bluntness': 982,\n",
       " 'balletic': 983,\n",
       " 'connect': 984,\n",
       " 'hensleigh': 985,\n",
       " 'meld': 986,\n",
       " 'somersets': 987,\n",
       " 'ac/dc': 988,\n",
       " 'sked': 989,\n",
       " 'hime': 990,\n",
       " 'satistfy': 991,\n",
       " 'jiang': 992,\n",
       " 'hildyard': 993,\n",
       " 'epectations': 994,\n",
       " 'heavy-rotation': 995,\n",
       " 'masterful': 996,\n",
       " 'frewer': 997,\n",
       " 'button-downed': 998,\n",
       " 'dialog': 999,\n",
       " 'new-born': 1000,\n",
       " ...}"
      ]
     },
     "execution_count": 22,
     "metadata": {},
     "output_type": "execute_result"
    }
   ],
   "source": [
    "word_to_id"
   ]
  },
  {
   "cell_type": "markdown",
   "metadata": {},
   "source": [
    "Excellent, we're much closer to being able to having our dataset in a form that TensorFlow can work with.  \n",
    "Just for sanity, let's see what the review above would look like as a list of the IDs above:"
   ]
  },
  {
   "cell_type": "code",
   "execution_count": 23,
   "metadata": {},
   "outputs": [
    {
     "data": {
      "text/plain": [
       "[35512, 19263, 34424, 9763, 43478, 34012, 13186, 18142, 13216, 33250]"
      ]
     },
     "execution_count": 23,
     "metadata": {},
     "output_type": "execute_result"
    }
   ],
   "source": [
    "[word_to_id[word] for word in nltk.tokenize.word_tokenize(df['review'][5])][:10]"
   ]
  },
  {
   "cell_type": "markdown",
   "metadata": {},
   "source": [
    "I'm going to trust that the above is mostly correct, but let's at least check that `moviemaking` matches the first index in the above list:"
   ]
  },
  {
   "cell_type": "code",
   "execution_count": 24,
   "metadata": {},
   "outputs": [
    {
     "data": {
      "text/plain": [
       "35512"
      ]
     },
     "execution_count": 24,
     "metadata": {},
     "output_type": "execute_result"
    }
   ],
   "source": [
    "word_to_id[\"moviemaking\"]"
   ]
  },
  {
   "cell_type": "markdown",
   "metadata": {},
   "source": [
    "Perfect.  Now, let's convert all of the tokenized reviews into lists of `ID`s"
   ]
  },
  {
   "cell_type": "code",
   "execution_count": 25,
   "metadata": {},
   "outputs": [],
   "source": [
    "reviews_as_ids = []\n",
    "for review in df['review']:\n",
    "    reviews_as_ids.append([word_to_id[word] for word in nltk.tokenize.word_tokenize(review)])"
   ]
  },
  {
   "cell_type": "markdown",
   "metadata": {},
   "source": [
    "Again, as a sanity check, the 5th item in the `reviews_as_ids` list should be the same as the list that we see two cells above:"
   ]
  },
  {
   "cell_type": "code",
   "execution_count": 26,
   "metadata": {},
   "outputs": [
    {
     "data": {
      "text/plain": [
       "[35512, 19263, 34424, 9763, 43478, 34012, 13186, 18142, 13216, 33250]"
      ]
     },
     "execution_count": 26,
     "metadata": {},
     "output_type": "execute_result"
    }
   ],
   "source": [
    "reviews_as_ids[4][:10]"
   ]
  },
  {
   "cell_type": "markdown",
   "metadata": {},
   "source": [
    "Excellent, we have now transformed our dataset of movie reviews into a list of integers.  "
   ]
  },
  {
   "cell_type": "markdown",
   "metadata": {},
   "source": [
    "## Label Encoding\n",
    "Now, let's generate an array that we can use with TensorFlow from the labels in the dataset."
   ]
  },
  {
   "cell_type": "code",
   "execution_count": 27,
   "metadata": {},
   "outputs": [],
   "source": [
    "import numpy as np"
   ]
  },
  {
   "cell_type": "code",
   "execution_count": 28,
   "metadata": {},
   "outputs": [
    {
     "data": {
      "text/html": [
       "<div>\n",
       "<style scoped>\n",
       "    .dataframe tbody tr th:only-of-type {\n",
       "        vertical-align: middle;\n",
       "    }\n",
       "\n",
       "    .dataframe tbody tr th {\n",
       "        vertical-align: top;\n",
       "    }\n",
       "\n",
       "    .dataframe thead th {\n",
       "        text-align: right;\n",
       "    }\n",
       "</style>\n",
       "<table border=\"1\" class=\"dataframe\">\n",
       "  <thead>\n",
       "    <tr style=\"text-align: right;\">\n",
       "      <th></th>\n",
       "      <th>label</th>\n",
       "      <th>review</th>\n",
       "    </tr>\n",
       "    <tr>\n",
       "      <th>id</th>\n",
       "      <th></th>\n",
       "      <th></th>\n",
       "    </tr>\n",
       "  </thead>\n",
       "  <tbody>\n",
       "    <tr>\n",
       "      <th>1</th>\n",
       "      <td>pos</td>\n",
       "      <td>films adapted from comic books have had plenty...</td>\n",
       "    </tr>\n",
       "    <tr>\n",
       "      <th>2</th>\n",
       "      <td>pos</td>\n",
       "      <td>every now and then a movie comes along from a ...</td>\n",
       "    </tr>\n",
       "    <tr>\n",
       "      <th>3</th>\n",
       "      <td>pos</td>\n",
       "      <td>you've got mail works alot better than it dese...</td>\n",
       "    </tr>\n",
       "    <tr>\n",
       "      <th>4</th>\n",
       "      <td>pos</td>\n",
       "      <td>\" jaws \" is a rare film that grabs your atten...</td>\n",
       "    </tr>\n",
       "    <tr>\n",
       "      <th>5</th>\n",
       "      <td>pos</td>\n",
       "      <td>moviemaking is a lot like being the general ma...</td>\n",
       "    </tr>\n",
       "  </tbody>\n",
       "</table>\n",
       "</div>"
      ],
      "text/plain": [
       "   label                                             review\n",
       "id                                                         \n",
       "1    pos  films adapted from comic books have had plenty...\n",
       "2    pos  every now and then a movie comes along from a ...\n",
       "3    pos  you've got mail works alot better than it dese...\n",
       "4    pos   \" jaws \" is a rare film that grabs your atten...\n",
       "5    pos  moviemaking is a lot like being the general ma..."
      ]
     },
     "execution_count": 28,
     "metadata": {},
     "output_type": "execute_result"
    }
   ],
   "source": [
    "df.head()"
   ]
  },
  {
   "cell_type": "code",
   "execution_count": 29,
   "metadata": {},
   "outputs": [
    {
     "data": {
      "text/html": [
       "<div>\n",
       "<style scoped>\n",
       "    .dataframe tbody tr th:only-of-type {\n",
       "        vertical-align: middle;\n",
       "    }\n",
       "\n",
       "    .dataframe tbody tr th {\n",
       "        vertical-align: top;\n",
       "    }\n",
       "\n",
       "    .dataframe thead th {\n",
       "        text-align: right;\n",
       "    }\n",
       "</style>\n",
       "<table border=\"1\" class=\"dataframe\">\n",
       "  <thead>\n",
       "    <tr style=\"text-align: right;\">\n",
       "      <th></th>\n",
       "      <th>label</th>\n",
       "      <th>review</th>\n",
       "    </tr>\n",
       "    <tr>\n",
       "      <th>id</th>\n",
       "      <th></th>\n",
       "      <th></th>\n",
       "    </tr>\n",
       "  </thead>\n",
       "  <tbody>\n",
       "    <tr>\n",
       "      <th>1996</th>\n",
       "      <td>neg</td>\n",
       "      <td>if anything , \" stigmata \" should be taken as ...</td>\n",
       "    </tr>\n",
       "    <tr>\n",
       "      <th>1997</th>\n",
       "      <td>neg</td>\n",
       "      <td>john boorman's \" zardoz \" is a goofy cinematic...</td>\n",
       "    </tr>\n",
       "    <tr>\n",
       "      <th>1998</th>\n",
       "      <td>neg</td>\n",
       "      <td>the kids in the hall are an acquired taste .  ...</td>\n",
       "    </tr>\n",
       "    <tr>\n",
       "      <th>1999</th>\n",
       "      <td>neg</td>\n",
       "      <td>there was a time when john carpenter was a gre...</td>\n",
       "    </tr>\n",
       "    <tr>\n",
       "      <th>2000</th>\n",
       "      <td>neg</td>\n",
       "      <td>two party guys bob their heads to haddaway's d...</td>\n",
       "    </tr>\n",
       "  </tbody>\n",
       "</table>\n",
       "</div>"
      ],
      "text/plain": [
       "     label                                             review\n",
       "id                                                           \n",
       "1996   neg  if anything , \" stigmata \" should be taken as ...\n",
       "1997   neg  john boorman's \" zardoz \" is a goofy cinematic...\n",
       "1998   neg  the kids in the hall are an acquired taste .  ...\n",
       "1999   neg  there was a time when john carpenter was a gre...\n",
       "2000   neg  two party guys bob their heads to haddaway's d..."
      ]
     },
     "execution_count": 29,
     "metadata": {},
     "output_type": "execute_result"
    }
   ],
   "source": [
    "df.tail()"
   ]
  },
  {
   "cell_type": "markdown",
   "metadata": {},
   "source": [
    "We have a list of the reviews which have been integer-tokenized, now let's generate a parallel numpy array of whether the review is positive or negative."
   ]
  },
  {
   "cell_type": "code",
   "execution_count": 30,
   "metadata": {},
   "outputs": [],
   "source": [
    "review_labels = np.array(df['label'] == 'pos', dtype=int)"
   ]
  },
  {
   "cell_type": "code",
   "execution_count": 31,
   "metadata": {},
   "outputs": [
    {
     "data": {
      "text/plain": [
       "array([1, 1, 1, 1, 1])"
      ]
     },
     "execution_count": 31,
     "metadata": {},
     "output_type": "execute_result"
    }
   ],
   "source": [
    "review_labels[:5]"
   ]
  },
  {
   "cell_type": "code",
   "execution_count": 32,
   "metadata": {},
   "outputs": [
    {
     "data": {
      "text/plain": [
       "array([0, 0, 0, 0, 0])"
      ]
     },
     "execution_count": 32,
     "metadata": {},
     "output_type": "execute_result"
    }
   ],
   "source": [
    "review_labels[-5:]"
   ]
  },
  {
   "cell_type": "markdown",
   "metadata": {},
   "source": [
    "As a sanity check, the length of this numpy array should be `2000`."
   ]
  },
  {
   "cell_type": "code",
   "execution_count": 33,
   "metadata": {},
   "outputs": [
    {
     "data": {
      "text/plain": [
       "2000"
      ]
     },
     "execution_count": 33,
     "metadata": {},
     "output_type": "execute_result"
    }
   ],
   "source": [
    "len(review_labels)"
   ]
  },
  {
   "cell_type": "markdown",
   "metadata": {},
   "source": [
    "## Padding\n",
    "The reviews in our dataset contain a different length of tokens."
   ]
  },
  {
   "cell_type": "code",
   "execution_count": 34,
   "metadata": {
    "scrolled": true
   },
   "outputs": [
    {
     "data": {
      "text/plain": [
       "<matplotlib.axes._subplots.AxesSubplot at 0x7fbb2e25dd68>"
      ]
     },
     "execution_count": 34,
     "metadata": {},
     "output_type": "execute_result"
    },
    {
     "data": {
      "image/png": "[encoded data removed]",
      "text/plain": [
       "<matplotlib.figure.Figure at 0x7fbb2e25d748>"
      ]
     },
     "metadata": {},
     "output_type": "display_data"
    }
   ],
   "source": [
    "pd.Series(reviews_as_ids).apply(len).hist()"
   ]
  },
  {
   "cell_type": "markdown",
   "metadata": {},
   "source": [
    "Most of our reviews are under ~1,200 tokens long, and a few are over 2,500 tokens.\n",
    "\n",
    "The problem is that TensorFlow accepts only inputs of fixed length.  \n",
    "Further, LSTMs often have a practical limitation of only working with sequences that are a few hundred items long.\n",
    "\n",
    "This requires us to pick **a single token length** for our reviews as inputs.  \n",
    "Reviews which are shorter than this will be padded on the **right** with `0`s, and reviews which are longer will have to be truncated before being fed to TensorFlow.\n",
    "\n",
    "This is not as serious a limitation as it sounds, but it does have to be dealt with, or TensorFlow will throw errors during training.\n",
    "\n",
    "Accordingly, let's define a **sequence length** that we will fit every review into."
   ]
  },
  {
   "cell_type": "code",
   "execution_count": 35,
   "metadata": {},
   "outputs": [],
   "source": [
    "seq_len = 200\n",
    "\n",
    "x = np.zeros((len(reviews_as_ids), seq_len), dtype=int)\n",
    "for i, review_as_id in enumerate(reviews_as_ids):\n",
    "    x[i, :len(review_as_id)] = np.array(review_as_id)[:seq_len]"
   ]
  },
  {
   "cell_type": "markdown",
   "metadata": {},
   "source": [
    "Shown below are two such sequences, one originally longer than 200 tokens, and one shorter."
   ]
  },
  {
   "cell_type": "code",
   "execution_count": 36,
   "metadata": {},
   "outputs": [
    {
     "data": {
      "text/plain": [
       "(array([10830, 15339, 19476, 32650, 34424, 10300,  6629, 24496, 30126,\n",
       "        34424, 21173, 43741, 29397, 14992, 10830, 11645, 40137, 14221,\n",
       "        10375, 12624, 34424, 11056, 29397, 19476, 18329, 19460, 21970,\n",
       "        20470, 22713, 40190, 40973, 13186, 43741, 24008, 13186,  1808,\n",
       "        29286, 34424, 27122,  9121, 37783, 38658, 40991,  8514,  7010,\n",
       "        29397, 34424, 40486, 37143, 16510, 39543,  3714, 23781, 19476,\n",
       "        43658,  4368, 29397, 19263, 34424, 15306, 33887, 37783, 26629,\n",
       "         2784, 38909, 32581,  1808, 45032, 34424, 22447, 20255, 14221,\n",
       "        38801, 45987, 13186, 28795, 19263,  8349,  1065, 37783,  4829,\n",
       "        21084, 36509, 40486, 37143, 19263,  8602, 34487,  1268, 37783,\n",
       "        36026, 14150, 22713, 43658,  4368, 24008, 19263, 11398,  6218,\n",
       "        14992, 37550, 15639, 39899, 42302, 21315, 10830, 11612, 29397,\n",
       "         4720, 29397,  4720, 29397, 40486, 37783, 22524, 37783, 38497,\n",
       "         4902, 38497, 22713,  3714, 23781, 24008, 29397,  5093, 33250,\n",
       "        13186, 15703, 34487, 29397, 35746, 31036, 29397, 34424,  9397,\n",
       "         7033, 18329, 38809, 37783, 19476, 31036, 21970, 41227,  3032,\n",
       "        17949, 28016, 13186, 36531, 18307, 11083, 29397,  9703, 40752,\n",
       "        45970, 37783, 13186, 32583, 41232, 33250, 28369, 27046, 39093,\n",
       "        19263, 40137, 29397,  8151, 44871, 43237,  4808, 45313, 29293,\n",
       "        28016, 29397, 13186, 27704, 40137, 32581, 19071, 28198,  6535,\n",
       "        23674, 13186, 21652, 40973, 28122, 25054, 33378, 19274, 29882,\n",
       "        15680,  6818, 18329, 12624, 37783, 37953, 41546, 40445, 19897,\n",
       "        29293, 28016]),\n",
       " array([15069, 16510, 29397, 40095, 44690, 29397,  6813, 44883, 45697,\n",
       "        41800, 40657, 15069, 39543, 41800,  1715, 24375, 29397, 17090,\n",
       "        40926, 29397, 19476, 34424, 36484, 33250,  8708, 15069, 34188,\n",
       "        43746, 26750, 23581, 19476, 34204, 43746, 32421, 32508, 15069,\n",
       "          136, 41800,  4437, 36216, 22713,  1715, 24375, 24008, 28876,\n",
       "        15412,  5362, 16365,  1808, 14140, 27957, 18329, 12739,     0,\n",
       "            0,     0,     0,     0,     0,     0,     0,     0,     0,\n",
       "            0,     0,     0,     0,     0,     0,     0,     0,     0,\n",
       "            0,     0,     0,     0,     0,     0,     0,     0,     0,\n",
       "            0,     0,     0,     0,     0,     0,     0,     0,     0,\n",
       "            0,     0,     0,     0,     0,     0,     0,     0,     0,\n",
       "            0,     0,     0,     0,     0,     0,     0,     0,     0,\n",
       "            0,     0,     0,     0,     0,     0,     0,     0,     0,\n",
       "            0,     0,     0,     0,     0,     0,     0,     0,     0,\n",
       "            0,     0,     0,     0,     0,     0,     0,     0,     0,\n",
       "            0,     0,     0,     0,     0,     0,     0,     0,     0,\n",
       "            0,     0,     0,     0,     0,     0,     0,     0,     0,\n",
       "            0,     0,     0,     0,     0,     0,     0,     0,     0,\n",
       "            0,     0,     0,     0,     0,     0,     0,     0,     0,\n",
       "            0,     0,     0,     0,     0,     0,     0,     0,     0,\n",
       "            0,     0,     0,     0,     0,     0,     0,     0,     0,\n",
       "            0,     0,     0,     0,     0,     0,     0,     0,     0,\n",
       "            0,     0]))"
      ]
     },
     "execution_count": 36,
     "metadata": {},
     "output_type": "execute_result"
    }
   ],
   "source": [
    "x[1], x[47]"
   ]
  },
  {
   "cell_type": "markdown",
   "metadata": {},
   "source": [
    "# Data Splitting and Shuffling\n",
    "\n",
    "Now that we have transformed our dataset into a format that TensorFlow can work with, we need to split the dataset into training, testing, and validation sets, so that we can better evaluate the model's performance.\n",
    "\n",
    "Let's use numpy to help us randomize here"
   ]
  },
  {
   "cell_type": "code",
   "execution_count": 37,
   "metadata": {},
   "outputs": [],
   "source": [
    "## Use a seed for reproducibility of results\n",
    "np.random.seed(42)\n",
    "permute = np.random.permutation(range(len(x)))"
   ]
  },
  {
   "cell_type": "code",
   "execution_count": 38,
   "metadata": {
    "scrolled": true
   },
   "outputs": [],
   "source": [
    "## Generate shuffled versions of our data and labels\n",
    "x_shuffled = x[permute]\n",
    "y_shuffled = review_labels[permute]"
   ]
  },
  {
   "cell_type": "code",
   "execution_count": 39,
   "metadata": {},
   "outputs": [],
   "source": [
    "## Use an 80% : 10% : 10% split into training : testing : validation sets\n",
    "train_split = int(0.8*len(x))\n",
    "test_split = int(0.9*len(x))\n",
    "\n",
    "train_x = x_shuffled[:train_split]\n",
    "test_x = x_shuffled[train_split:test_split]\n",
    "val_x = x_shuffled[test_split:]\n",
    "\n",
    "train_y = y_shuffled[:train_split]\n",
    "test_y = y_shuffled[train_split:test_split]\n",
    "val_y = y_shuffled[test_split:]"
   ]
  },
  {
   "cell_type": "markdown",
   "metadata": {},
   "source": [
    "As a sanity check, recall that the original dataset was 1000 positive reviews followed by 1000 negative reviews.  \n",
    "If we've truly shuffled, then the beginning of each of the training, testing, and validation sets should be a mixture of positive or negative:"
   ]
  },
  {
   "cell_type": "code",
   "execution_count": 40,
   "metadata": {},
   "outputs": [
    {
     "data": {
      "text/plain": [
       "array([0, 1, 0, 1, 0, 0])"
      ]
     },
     "execution_count": 40,
     "metadata": {},
     "output_type": "execute_result"
    }
   ],
   "source": [
    "train_y[:6]"
   ]
  },
  {
   "cell_type": "code",
   "execution_count": 41,
   "metadata": {},
   "outputs": [
    {
     "data": {
      "text/plain": [
       "array([1, 1, 0, 1, 1, 0])"
      ]
     },
     "execution_count": 41,
     "metadata": {},
     "output_type": "execute_result"
    }
   ],
   "source": [
    "test_y[:6]"
   ]
  },
  {
   "cell_type": "code",
   "execution_count": 42,
   "metadata": {},
   "outputs": [
    {
     "data": {
      "text/plain": [
       "array([0, 1, 0, 0, 1, 0])"
      ]
     },
     "execution_count": 42,
     "metadata": {},
     "output_type": "execute_result"
    }
   ],
   "source": [
    "val_y[:6]"
   ]
  },
  {
   "cell_type": "markdown",
   "metadata": {},
   "source": [
    "As a final sanity check, note that an 80%, 10%, 10% split should yield numpy arrays of size `1600`, `200`, and `200`"
   ]
  },
  {
   "cell_type": "code",
   "execution_count": 43,
   "metadata": {},
   "outputs": [
    {
     "data": {
      "text/plain": [
       "(1600, 200, 200)"
      ]
     },
     "execution_count": 43,
     "metadata": {},
     "output_type": "execute_result"
    }
   ],
   "source": [
    "len(train_x), len(test_x), len(val_x)"
   ]
  },
  {
   "cell_type": "markdown",
   "metadata": {},
   "source": [
    "# Checkpointing\n",
    "We will use this opportunity to save our training, testing, and validation sets to disk, so that we can quickly load them in the future.\n",
    "\n",
    "Should this notebook need to be run in the future, it can start from the [Loading](#Loading) cells below.\n",
    "## Saving"
   ]
  },
  {
   "cell_type": "code",
   "execution_count": 44,
   "metadata": {},
   "outputs": [],
   "source": [
    "import pickle"
   ]
  },
  {
   "cell_type": "code",
   "execution_count": 46,
   "metadata": {},
   "outputs": [],
   "source": [
    "np.save(\"train_x\", train_x)\n",
    "np.save(\"train_y\", train_y)\n",
    "np.save(\"test_x\", test_x)\n",
    "np.save(\"test_y\", test_y)\n",
    "np.save(\"val_x\", val_x)\n",
    "np.save(\"val_y\", val_y)\n",
    "with open(\"review_word_set.pkl\", 'wb') as f:\n",
    "    pickle.dump(review_word_set, f)"
   ]
  },
  {
   "cell_type": "markdown",
   "metadata": {},
   "source": [
    "## Loading"
   ]
  },
  {
   "cell_type": "code",
   "execution_count": 29,
   "metadata": {},
   "outputs": [],
   "source": [
    "import numpy as np\n",
    "import pickle\n",
    "import matplotlib.pyplot as plt\n",
    "%matplotlib inline"
   ]
  },
  {
   "cell_type": "code",
   "execution_count": 30,
   "metadata": {},
   "outputs": [],
   "source": [
    "train_x = np.load(\"train_x.npy\")\n",
    "train_y = np.load(\"train_y.npy\")\n",
    "test_x = np.load(\"test_x.npy\")\n",
    "test_y = np.load(\"test_y.npy\")\n",
    "val_x = np.load(\"val_x.npy\")\n",
    "val_y = np.load(\"val_y.npy\")\n",
    "with open(\"review_word_set.pkl\", 'rb') as f:\n",
    "    review_word_set = pickle.load(f)"
   ]
  },
  {
   "cell_type": "markdown",
   "metadata": {},
   "source": [
    "# Model Architecture\n",
    "In this section, we will be defining a model architecture that we will use to \"learn\" the task of sentiment analysis.\n",
    "\n",
    "As a broad overview, this will be a neural network that takes a sequence as input, and produces a value of either 0 (a negative review) or 1 (a positive review).\n",
    "\n",
    "From the model's perspective, it will be seeing a vector of the above-defined **sequence length**, which is comprised of non-negative integers.\n",
    "\n",
    "After the input, the first layer of the model will be \"embedding\" these non-negative integers into a smaller representational space of only a few hundred floating-point numbers, to allow it to learn which sequences are important, and which are mere noise.\n",
    "\n",
    "Following this embedding layer, the \"embedded\" word vector will then pass into two parallel \"stacks\" of Long Short-Term Memory (LSTM) cells.\n",
    "\n",
    "The advantage of an LSTM cell is that, throughout time, it is able to remember better what came several dozen items earlier in the sequence than is a typical \"feed-forward\" network.  A broad overview of the machinery that allows an LSTM cell to accomplish this memory throughout a time sequence is shown below.\n",
    "![LSTM Cell, from colah's blog](http://colah.github.io/posts/2015-08-Understanding-LSTMs/img/LSTM3-chain.png)\n",
    "\n",
    "Since our dataset is a sequence of words, it makes sense that the model would benefit from knowing about both the sequence going forward, and going backward.  Intuitively, the review \"This movie has everything that you would expect.  And nothing you wouldn't,\" starts off very positive, and only at the end of the sequence would we start to think that the review is negative.  Knowing that from the beginning would make parsing the sequence easier.  \n",
    "Language parsing is a [complicated task](https://research.googleblog.com/2016/05/announcing-syntaxnet-worlds-most.html) that is outside the scope of this notebook, but having this bi-directional parsing typically helps models to pick out what's important for sentiment classification.\n",
    "\n",
    "The bi-directional stacked LSTM architecture that we implement below will be similar to (though not exactly the same as) the following architecture:\n",
    "![bi-directional stacked LSTM, from WildML](http://www.wildml.com/wp-content/uploads/2015/09/Screen-Shot-2015-09-16-at-2.21.51-PM.png)\n",
    "\n",
    "In the above architecture, each successive black dot may be thought of as a token in our reviews.  After embedding this token, we then pass it to a forward group of LSTM cells, and a backward stack of LSTM cells (both in orange), and then perhaps to more of the same \"stacked\" on top, which then generates outputs (red) at the top.\n",
    "\n",
    "We then connect the red \"output\" cells to a single cell, since we want a single answer from the model, namely whether the given input review has a positive or a negative sentiment.\n",
    "\n",
    "Thankfully, TensorFlow provides an API to implement the above, which we will explore below."
   ]
  },
  {
   "cell_type": "markdown",
   "metadata": {},
   "source": [
    "## Placeholders\n",
    "Let's define the necessary placeholders in order for us to feed our pre-processed data from above into a TensorFlow model:"
   ]
  },
  {
   "cell_type": "code",
   "execution_count": 31,
   "metadata": {},
   "outputs": [
    {
     "name": "stderr",
     "output_type": "stream",
     "text": [
      "/home/human/miniconda3/envs/ProofOfConcept/lib/python3.6/importlib/_bootstrap.py:219: RuntimeWarning: compiletime version 3.5 of module 'tensorflow.python.framework.fast_tensor_util' does not match runtime version 3.6\n",
      "  return f(*args, **kwds)\n"
     ]
    }
   ],
   "source": [
    "import tensorflow as tf"
   ]
  },
  {
   "cell_type": "code",
   "execution_count": 32,
   "metadata": {},
   "outputs": [],
   "source": [
    "graph = tf.Graph()"
   ]
  },
  {
   "cell_type": "code",
   "execution_count": 33,
   "metadata": {},
   "outputs": [],
   "source": [
    "with graph.as_default():\n",
    "    # Define placeholders to accept batches of token-sequences\n",
    "    inputs = tf.placeholder(tf.int32, [None, None], name = \"inputs\")\n",
    "    labels = tf.placeholder(tf.int32, [None, None], name = \"labels\")\n",
    "    \n",
    "    # Define a placeholder to allow us to tweak the dropout hyperparameter\n",
    "    keep_prob = tf.placeholder(tf.float32, name=\"keep_prob\")"
   ]
  },
  {
   "cell_type": "markdown",
   "metadata": {},
   "source": [
    "## Embedding\n",
    "Many of the unique tokens that exist in our dataset, and thus have been assigned an `ID`, occur rarely.  \n",
    "Things that occur rarely don't give a deep learning model much chance to learn what they mean, and so generally they hurt performance unless we take special steps to combat them.\n",
    "\n",
    "As it turns out, we can probably condense the above ~47,000 unique tokens into as few as 300 tokens, and still have the model perform well.  \n",
    "\n",
    "This is done through the use of an [\"embedding\"](https://www.tensorflow.org/versions/master/tutorials/seq2seq#embedding) layer, which lets our model decide which of the tokens it sees are important, and which are just noise.\n",
    "\n",
    "Thankfully, TensorFlow provides a compact way to define and use embeddings:"
   ]
  },
  {
   "cell_type": "code",
   "execution_count": 34,
   "metadata": {},
   "outputs": [],
   "source": [
    "embedding_size = 300\n",
    "\n",
    "with graph.as_default():\n",
    "    # Define an embedding that allows us to map our ~47,000 review tokens to our embedding size\n",
    "    # Our model will \"learn\" a good embedding during training\n",
    "    embedding = tf.Variable(tf.random_uniform((len(review_word_set) + 1, embedding_size), -1, 1))\n",
    "    embed = tf.nn.embedding_lookup(embedding, inputs)"
   ]
  },
  {
   "cell_type": "markdown",
   "metadata": {},
   "source": [
    "## Encoder\n",
    "Now that we have defined an embedding to squash our input token sequences into a more manageable space, we now define an encoder that will be the heart of this bi-directional stacked LSTM model:"
   ]
  },
  {
   "cell_type": "code",
   "execution_count": 35,
   "metadata": {},
   "outputs": [],
   "source": [
    "lstm_layers = 2\n",
    "\n",
    "with graph.as_default():\n",
    "    \n",
    "    def getLSTMlist(num_layers):\n",
    "        \"\"\"\n",
    "        Returns a list containing num_layers LSTM cells,\n",
    "        wrapped in dropout.\n",
    "        \n",
    "        This is to avoid TensorFlow syntax errors with the\n",
    "        [cell] * num_layers construction\n",
    "        \"\"\"\n",
    "        cell_list = []\n",
    "        for _ in range(num_layers):\n",
    "            # Your basic LSTM cell\n",
    "            lstm = tf.contrib.rnn.BasicLSTMCell(num_layers)\n",
    "\n",
    "            # Add dropout to the cell, using the keep_prob tensor\n",
    "            drop = tf.contrib.rnn.DropoutWrapper(lstm, output_keep_prob=keep_prob)\n",
    "            cell_list.append(drop)\n",
    "        return cell_list\n",
    "    \n",
    "    forward_LSTMs = getLSTMlist(2)\n",
    "    backward_LSTMs = getLSTMlist(2)\n",
    "    \n",
    "    # Stack up multiple bidirectional LSTM layers\n",
    "    # Use dynamic to handle the unpacking of non-sequential input (embed)\n",
    "    outputs, unused_output_state_fw, unused_output_state_bw = \\\n",
    "        tf.contrib.rnn.stack_bidirectional_dynamic_rnn(forward_LSTMs, backward_LSTMs, embed, dtype=tf.float32)"
   ]
  },
  {
   "cell_type": "markdown",
   "metadata": {},
   "source": [
    "TensorBoard visualizes the above as follows:  \n",
    "![stack_bidirectional_rnn](img/stack.png)"
   ]
  },
  {
   "cell_type": "markdown",
   "metadata": {},
   "source": [
    "## Loss Function and Optimizer\n",
    "Finally, we will need to specify a loss function for our model so that it learns properly."
   ]
  },
  {
   "cell_type": "code",
   "execution_count": 36,
   "metadata": {},
   "outputs": [],
   "source": [
    "learning_rate = 1e-3\n",
    "\n",
    "with graph.as_default():\n",
    "    # Squash outputs to a single integer in the range of 0 to 1\n",
    "    predictions = tf.contrib.layers.fully_connected(outputs[:, -1], 1, activation_fn=tf.sigmoid)\n",
    "    \n",
    "    # \n",
    "    loss = tf.losses.mean_squared_error(labels, predictions)\n",
    "    \n",
    "    optimizer = tf.train.AdamOptimizer(learning_rate).minimize(loss)"
   ]
  },
  {
   "cell_type": "markdown",
   "metadata": {},
   "source": [
    "## Evaluation Operations"
   ]
  },
  {
   "cell_type": "code",
   "execution_count": 37,
   "metadata": {},
   "outputs": [],
   "source": [
    "with graph.as_default():\n",
    "\n",
    "    ## Round our sigmoid [0,1] output to be either 0 or 1\n",
    "    predictions_integer = tf.cast(tf.round(predictions), tf.int32)\n",
    "\n",
    "    ## Define operations for {true, false} {positive, negative} predictions\n",
    "    TP = tf.count_nonzero(predictions_integer * labels, name='True_Positives', dtype=tf.int32)\n",
    "    TN = tf.count_nonzero((predictions_integer - 1) * (labels - 1), name=\"True_Negatives\", dtype=tf.int32)\n",
    "    FP = tf.count_nonzero(predictions_integer * (labels - 1), name=\"False_Positives\", dtype=tf.int32)\n",
    "    FN = tf.count_nonzero((predictions_integer - 1) * labels, name=\"False_Negatives\", dtype=tf.int32)\n",
    "\n",
    "    ## Define operations for accuracy, precision, recall, and F1 score\n",
    "\n",
    "    # accuracy ::= (TP + TN) / (TN + FN + TP + FP)\n",
    "    accuracy = tf.divide(tf.add(TP, TN), tf.add(TN, tf.add(FN, tf.add(TP, FP))), name=\"Accuracy\")\n",
    "\n",
    "    # precision ::= TP / (TP + FP)\n",
    "    precision = tf.divide(TP, tf.add(TP, FP), name=\"Precision\")\n",
    "\n",
    "    # recall::= TP / (TP + FN)\n",
    "    recall = tf.divide(TP, tf.add(TP, FN), name=\"Recall\")\n",
    "\n",
    "    # F1 score ::= 2 * precision * recall / (precision + recall)\n",
    "    f1 = tf.divide((2 * precision * recall), (precision + recall), name=\"F1_score\")\n",
    "\n",
    "    # To also record this information in TensorBoard, we'll define scalar summaries here\n",
    "    with tf.name_scope('summaries'):\n",
    "        tf.summary.scalar('Loss', loss)\n",
    "        tf.summary.scalar('Accuracy', accuracy)\n",
    "        tf.summary.scalar('Precision', precision)\n",
    "        tf.summary.scalar('Recall', recall)\n",
    "        tf.summary.scalar('F1_score', f1)"
   ]
  },
  {
   "cell_type": "markdown",
   "metadata": {},
   "source": [
    "# Training the Model\n",
    "We're almost ready to start training our model.\n",
    "\n",
    "Before we begin training, let's define a function that we can use to generate batches of our training data, so that we don't risk running out of memory by loading everything into the model at once."
   ]
  },
  {
   "cell_type": "code",
   "execution_count": 38,
   "metadata": {},
   "outputs": [],
   "source": [
    "def get_batches(x, y, batch_size=100):\n",
    "    '''\n",
    "    Given a set of features x, and a set of labels y,\n",
    "    return a generator yields batch_size tuples of x and y.\n",
    "    \n",
    "    Note that this function truncates x and y, if necessary,\n",
    "    so that it only returns full batches.\n",
    "    '''\n",
    "    num_batches = len(x) // batch_size\n",
    "    x, y = x[:num_batches * batch_size], y[:num_batches * batch_size]\n",
    "    for i in range(0, len(x), batch_size):\n",
    "        yield x[i:i + batch_size], y[i:i + batch_size]"
   ]
  },
  {
   "cell_type": "code",
   "execution_count": 39,
   "metadata": {},
   "outputs": [],
   "source": [
    "# To keep our summary directories separate\n",
    "from datetime import datetime"
   ]
  },
  {
   "cell_type": "code",
   "execution_count": 41,
   "metadata": {},
   "outputs": [
    {
     "name": "stdout",
     "output_type": "stream",
     "text": [
      "Epoch: 0/10 Iteration:    5 Training loss: 0.250 accuracy: 0.510 precision: 0.605 recall: 0.448 f1: 0.515\n",
      "Epoch: 0/10 Iteration:   10 Training loss: 0.248 accuracy: 0.530 precision: 0.500 recall: 0.426 f1: 0.460\n",
      "Epoch: 0/10 Iteration:   15 Training loss: 0.247 accuracy: 0.570 precision: 0.577 recall: 0.588 f1: 0.583\n",
      "Epoch: 1/10 Iteration:   20 Training loss: 0.248 accuracy: 0.520 precision: 0.521 recall: 0.500 f1: 0.510\n",
      "Epoch: 1/10 Iteration:   25 Training loss: 0.246 accuracy: 0.600 precision: 0.639 recall: 0.684 f1: 0.661\n",
      "                          Validation loss: 0.250 accuracy: 0.510 precision: 0.511 recall: 0.673 f1: 0.581\n",
      "Epoch: 1/10 Iteration:   30 Training loss: 0.248 accuracy: 0.540 precision: 0.545 recall: 0.692 f1: 0.610\n",
      "Epoch: 2/10 Iteration:   35 Training loss: 0.244 accuracy: 0.590 precision: 0.563 recall: 0.800 f1: 0.661\n",
      "Epoch: 2/10 Iteration:   40 Training loss: 0.239 accuracy: 0.630 precision: 0.640 recall: 0.828 f1: 0.722\n",
      "Epoch: 2/10 Iteration:   45 Training loss: 0.243 accuracy: 0.610 precision: 0.576 recall: 0.776 f1: 0.661\n",
      "Epoch: 3/10 Iteration:   50 Training loss: 0.234 accuracy: 0.620 precision: 0.600 recall: 0.808 f1: 0.689\n",
      "                          Validation loss: 0.249 accuracy: 0.515 precision: 0.514 recall: 0.733 f1: 0.604\n",
      "Epoch: 3/10 Iteration:   55 Training loss: 0.243 accuracy: 0.660 precision: 0.576 recall: 0.791 f1: 0.667\n",
      "Epoch: 3/10 Iteration:   60 Training loss: 0.235 accuracy: 0.660 precision: 0.646 recall: 0.792 f1: 0.712\n",
      "Epoch: 4/10 Iteration:   65 Training loss: 0.233 accuracy: 0.700 precision: 0.627 recall: 0.894 f1: 0.737\n",
      "Epoch: 4/10 Iteration:   70 Training loss: 0.229 accuracy: 0.680 precision: 0.610 recall: 0.800 f1: 0.692\n",
      "Epoch: 4/10 Iteration:   75 Training loss: 0.231 accuracy: 0.660 precision: 0.662 recall: 0.782 f1: 0.717\n",
      "                          Validation loss: 0.250 accuracy: 0.505 precision: 0.507 recall: 0.713 f1: 0.592\n",
      "Epoch: 4/10 Iteration:   80 Training loss: 0.221 accuracy: 0.720 precision: 0.695 recall: 0.804 f1: 0.745\n",
      "Epoch: 5/10 Iteration:   85 Training loss: 0.203 accuracy: 0.810 precision: 0.783 recall: 0.931 f1: 0.850\n",
      "Epoch: 5/10 Iteration:   90 Training loss: 0.214 accuracy: 0.760 precision: 0.725 recall: 0.787 f1: 0.755\n",
      "Epoch: 5/10 Iteration:   95 Training loss: 0.217 accuracy: 0.700 precision: 0.657 recall: 0.863 f1: 0.746\n",
      "Epoch: 6/10 Iteration:  100 Training loss: 0.203 accuracy: 0.750 precision: 0.687 recall: 0.920 f1: 0.786\n",
      "                          Validation loss: 0.254 accuracy: 0.515 precision: 0.514 recall: 0.693 f1: 0.590\n",
      "Epoch: 6/10 Iteration:  105 Training loss: 0.200 accuracy: 0.760 precision: 0.754 recall: 0.860 f1: 0.803\n",
      "Epoch: 6/10 Iteration:  110 Training loss: 0.193 accuracy: 0.780 precision: 0.750 recall: 0.865 f1: 0.804\n",
      "Epoch: 7/10 Iteration:  115 Training loss: 0.182 accuracy: 0.870 precision: 0.849 recall: 0.900 f1: 0.874\n",
      "Epoch: 7/10 Iteration:  120 Training loss: 0.168 accuracy: 0.850 precision: 0.864 recall: 0.879 f1: 0.872\n",
      "Epoch: 7/10 Iteration:  125 Training loss: 0.172 accuracy: 0.830 precision: 0.833 recall: 0.816 f1: 0.825\n",
      "                          Validation loss: 0.264 accuracy: 0.520 precision: 0.519 recall: 0.663 f1: 0.582\n",
      "Epoch: 8/10 Iteration:  130 Training loss: 0.163 accuracy: 0.840 precision: 0.860 recall: 0.827 f1: 0.843\n",
      "Epoch: 8/10 Iteration:  135 Training loss: 0.149 accuracy: 0.910 precision: 0.840 recall: 0.977 f1: 0.903\n",
      "Epoch: 8/10 Iteration:  140 Training loss: 0.145 accuracy: 0.870 precision: 0.885 recall: 0.868 f1: 0.876\n",
      "Epoch: 9/10 Iteration:  145 Training loss: 0.132 accuracy: 0.930 precision: 0.917 recall: 0.936 f1: 0.926\n",
      "Epoch: 9/10 Iteration:  150 Training loss: 0.120 accuracy: 0.940 precision: 0.915 recall: 0.956 f1: 0.935\n",
      "                          Validation loss: 0.273 accuracy: 0.500 precision: 0.504 recall: 0.544 f1: 0.524\n",
      "Epoch: 9/10 Iteration:  155 Training loss: 0.121 accuracy: 0.930 precision: 1.000 recall: 0.873 f1: 0.932\n",
      "Epoch: 9/10 Iteration:  160 Training loss: 0.104 accuracy: 0.960 precision: 0.961 recall: 0.961 f1: 0.961\n"
     ]
    }
   ],
   "source": [
    "epochs = 10\n",
    "batch_size = 100\n",
    "\n",
    "summaries_dir = \"./summaries/\" + datetime.now().strftime(\"%Y%m%d%H%M%S\")\n",
    "\n",
    "with graph.as_default():\n",
    "    saver = tf.train.Saver()\n",
    "\n",
    "with tf.Session(graph=graph) as sess:\n",
    "    merged = tf.summary.merge_all()\n",
    "    train_writer = tf.summary.FileWriter(summaries_dir + '/train',\n",
    "                                          sess.graph)\n",
    "    test_writer = tf.summary.FileWriter(summaries_dir + '/test')\n",
    "    val_writer = tf.summary.FileWriter(summaries_dir + '/val')\n",
    "    \n",
    "    sess.run(tf.global_variables_initializer())\n",
    "    iteration = 1\n",
    "    for e in range(epochs):\n",
    "        \n",
    "        for i, (x, y) in enumerate(get_batches(train_x, train_y, batch_size), 1):\n",
    "            feed = {inputs: x,\n",
    "                    labels: y[:, None],\n",
    "                    keep_prob: 0.8}\n",
    "            summary, tr_loss, tr_acc, tr_prec, tr_rec, tr_f1, _ = \\\n",
    "                sess.run([merged, loss, accuracy, precision, recall, f1, optimizer], feed_dict=feed)\n",
    "            train_writer.add_summary(summary, iteration)\n",
    "            if iteration%5==0:\n",
    "                print(\"Epoch:{: 2d}/{}\".format(e, epochs),\n",
    "                      \"Iteration: {: 4d} Training\".format(iteration),\n",
    "                      \"loss: {:.3f}\".format(tr_loss),\n",
    "                     \"accuracy: {:.3f}\".format(tr_acc),\n",
    "                     \"precision: {:.3f}\".format(tr_prec),\n",
    "                     \"recall: {:.3f}\".format(tr_rec),\n",
    "                     \"f1: {:.3f}\".format(tr_f1))\n",
    "\n",
    "            if iteration%25==0:\n",
    "                running_stats = []\n",
    "                for x, y in get_batches(val_x, val_y, batch_size):\n",
    "                    feed = {inputs: x,\n",
    "                            labels: y[:, None],\n",
    "                            keep_prob: 1}\n",
    "                    summary, v_loss, v_acc, v_prec, v_rec, v_f1 = \\\n",
    "                        sess.run([merged, loss, accuracy, precision, recall, f1], feed_dict=feed)\n",
    "                    val_writer.add_summary(summary, iteration)\n",
    "                    running_stats.append([v_loss, v_acc, v_prec, v_rec, v_f1])\n",
    "                running_stats = np.array(running_stats)\n",
    "                val_averages = running_stats.mean(axis=0)\n",
    "                print(\" \"*25,\n",
    "                      \"Validation loss: {:.3f}\".format(val_averages[0]),\n",
    "                     \"accuracy: {:.3f}\".format(val_averages[1]),\n",
    "                     \"precision: {:.3f}\".format(val_averages[2]),\n",
    "                     \"recall: {:.3f}\".format(val_averages[3]),\n",
    "                     \"f1: {:.3f}\".format(val_averages[4]))\n",
    "            iteration +=1\n",
    "    saver.save(sess, \"checkpoints/sentiment.ckpt\")"
   ]
  },
  {
   "cell_type": "markdown",
   "metadata": {},
   "source": [
    "# Evaluating Performance\n",
    "Below are some screen captures from TensorBoard, to show how the model's Accuracy, Precision, Recall, F1 Score, and Loss progressed on the training and validation sets during training:  \n",
    "**Photo goes here**"
   ]
  },
  {
   "cell_type": "markdown",
   "metadata": {},
   "source": [
    "Now, let's see how our model performed on the test set that we held out earlier.\n",
    "\n",
    "In order to do this, we will plot a \"confusion matrix,\" which concisely displays how many false positives, false negatives, true positives, and true negatives the model yielded.\n",
    "\n",
    "First, let's define our helper code for printing a confusion matrix"
   ]
  },
  {
   "cell_type": "code",
   "execution_count": 10,
   "metadata": {},
   "outputs": [],
   "source": [
    "import itertools"
   ]
  },
  {
   "cell_type": "code",
   "execution_count": 25,
   "metadata": {},
   "outputs": [],
   "source": [
    "def plot_confusion_matrix(cm, classes,\n",
    "                          normalize=False,\n",
    "                          title='Confusion matrix',\n",
    "                          cmap=plt.cm.Blues):\n",
    "    \"\"\"\n",
    "    This function prints and plots the confusion matrix.\n",
    "    Normalization can be applied by setting `normalize=True`.\n",
    "    \n",
    "    http://scikit-learn.org/stable/auto_examples/model_selection/plot_confusion_matrix.html#sphx-glr-auto-examples-model-selection-plot-confusion-matrix-py\n",
    "    \"\"\"\n",
    "    if normalize:\n",
    "        cm = cm.astype('float') / cm.sum(axis=1)[:, np.newaxis]\n",
    "\n",
    "    print(cm)\n",
    "\n",
    "    plt.imshow(cm, interpolation='nearest', cmap=cmap)\n",
    "    plt.title(title)\n",
    "    plt.colorbar()\n",
    "    tick_marks = np.arange(len(classes))\n",
    "    plt.xticks(tick_marks, classes, rotation=45)\n",
    "    plt.yticks(tick_marks, classes)\n",
    "\n",
    "    fmt = '.3f' if normalize else 'd'\n",
    "    thresh = cm.max() / 2.\n",
    "    for i, j in itertools.product(range(cm.shape[0]), range(cm.shape[1])):\n",
    "        plt.text(j, i, format(cm[i, j], fmt),\n",
    "                 horizontalalignment=\"center\",\n",
    "                 color=\"white\" if cm[i, j] > thresh else \"black\")\n",
    "\n",
    "    plt.tight_layout()\n",
    "    plt.ylabel('True label')\n",
    "    plt.xlabel('Predicted label')"
   ]
  },
  {
   "cell_type": "code",
   "execution_count": 55,
   "metadata": {},
   "outputs": [
    {
     "name": "stdout",
     "output_type": "stream",
     "text": [
      "[[ 0.8  0.2]\n",
      " [ 0.4  0.6]]\n"
     ]
    },
    {
     "data": {
      "image/png": "[encoded data removed]",
      "text/plain": [
       "<matplotlib.figure.Figure at 0x7f0e1431c4a8>"
      ]
     },
     "metadata": {},
     "output_type": "display_data"
    }
   ],
   "source": [
    "cnf_matrix = np.array([[8,2],[8,12]])\n",
    "# [TP, FN], [FP, TN]\n",
    "class_names = [\"Positive\", \"Negative\"]\n",
    "\n",
    "np.set_printoptions(precision=3)\n",
    "# Plot normalized confusion matrix\n",
    "\n",
    "plt.Figure()\n",
    "plot_confusion_matrix(cnf_matrix, classes=class_names, normalize=True,\n",
    "                      title='Normalized confusion matrix, Dummy Values')\n",
    "\n",
    "plt.show()"
   ]
  },
  {
   "cell_type": "markdown",
   "metadata": {},
   "source": [
    "Now, let's reload our model from disk, and run it on the test set:"
   ]
  },
  {
   "cell_type": "code",
   "execution_count": 52,
   "metadata": {},
   "outputs": [
    {
     "name": "stdout",
     "output_type": "stream",
     "text": [
      "INFO:tensorflow:Restoring parameters from checkpoints/sentiment.ckpt\n",
      "Test accuracy: 0.570\n"
     ]
    }
   ],
   "source": [
    "running_stats = []\n",
    "with tf.Session(graph=graph) as sess:\n",
    "    saver.restore(sess, tf.train.latest_checkpoint('checkpoints'))\n",
    "    conf_mat = np.zeros(4, dtype=int)\n",
    "    for i, (x, y) in enumerate(get_batches(test_x, test_y, batch_size), 1):\n",
    "        feed = {inputs: x,\n",
    "                labels: y[:, None],\n",
    "                keep_prob: 1}\n",
    "        batch_acc, true_pos, false_neg, false_pos, true_neg,  = sess.run([accuracy, TP, FN, FP, TN], feed_dict=feed)\n",
    "        conf_mat += (true_pos, true_neg, false_pos, false_neg)\n",
    "        running_stats.append(batch_acc)\n",
    "        \n",
    "    print(\"Test accuracy: {:.3f}\".format(np.mean(running_stats)))"
   ]
  },
  {
   "cell_type": "code",
   "execution_count": 54,
   "metadata": {},
   "outputs": [
    {
     "name": "stdout",
     "output_type": "stream",
     "text": [
      "[[ 0.482  0.518]\n",
      " [ 0.698  0.302]]\n"
     ]
    },
    {
     "data": {
      "image/png": "[encoded data removed]",
      "text/plain": [
       "<matplotlib.figure.Figure at 0x7f0dfd3fe0f0>"
      ]
     },
     "metadata": {},
     "output_type": "display_data"
    }
   ],
   "source": [
    "# Reshape into 2 x 2 matrix\n",
    "conf_mat = conf_mat.reshape((2,2))\n",
    "\n",
    "class_names = [\"Positive\", \"Negative\"]\n",
    "\n",
    "# Plot normalized confusion matrix\n",
    "\n",
    "plt.Figure()\n",
    "plot_confusion_matrix(conf_mat, classes=class_names, normalize=True,\n",
    "                      title='Normalized confusion matrix, Test Set')\n",
    "\n",
    "plt.show()"
   ]
  },
  {
   "cell_type": "code",
   "execution_count": null,
   "metadata": {},
   "outputs": [],
   "source": []
  }
 ],
 "metadata": {
  "kernelspec": {
   "display_name": "Python 3",
   "language": "python",
   "name": "python3"
  },
  "language_info": {
   "codemirror_mode": {
    "name": "ipython",
    "version": 3
   },
   "file_extension": ".py",
   "mimetype": "text/x-python",
   "name": "python",
   "nbconvert_exporter": "python",
   "pygments_lexer": "ipython3",
   "version": "3.6.3"
  }
 },
 "nbformat": 4,
 "nbformat_minor": 2
}
