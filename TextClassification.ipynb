{
 "cells": [
  {
   "cell_type": "markdown",
   "metadata": {},
   "source": [
    "# Introduction\n",
    "This notebook is intended to showcase a text classification proof-of-concept model, developed in TensorFlow.\n",
    "\n",
    "The dataset used for this notebook is the [Cornell Movie Review dataset](http://www.cs.cornell.edu/people/pabo/movie-review-data/)."
   ]
  },
  {
   "cell_type": "markdown",
   "metadata": {},
   "source": [
    "# Data Exploration and Analysis\n",
    "First, let's load our dataset into a `pandas` dataframe."
   ]
  },
  {
   "cell_type": "code",
   "execution_count": 1,
   "metadata": {},
   "outputs": [],
   "source": [
    "import pandas as pd\n",
    "%matplotlib inline"
   ]
  },
  {
   "cell_type": "code",
   "execution_count": 2,
   "metadata": {},
   "outputs": [],
   "source": [
    "df = pd.read_csv(\"./data/cornell_movie_review.csv\", index_col=0)"
   ]
  },
  {
   "cell_type": "markdown",
   "metadata": {},
   "source": [
    "Let's get an idea of what the dataset looks like here."
   ]
  },
  {
   "cell_type": "code",
   "execution_count": 3,
   "metadata": {},
   "outputs": [
    {
     "data": {
      "text/html": [
       "<div>\n",
       "<style scoped>\n",
       "    .dataframe tbody tr th:only-of-type {\n",
       "        vertical-align: middle;\n",
       "    }\n",
       "\n",
       "    .dataframe tbody tr th {\n",
       "        vertical-align: top;\n",
       "    }\n",
       "\n",
       "    .dataframe thead th {\n",
       "        text-align: right;\n",
       "    }\n",
       "</style>\n",
       "<table border=\"1\" class=\"dataframe\">\n",
       "  <thead>\n",
       "    <tr style=\"text-align: right;\">\n",
       "      <th></th>\n",
       "      <th>label</th>\n",
       "      <th>review</th>\n",
       "    </tr>\n",
       "    <tr>\n",
       "      <th>id</th>\n",
       "      <th></th>\n",
       "      <th></th>\n",
       "    </tr>\n",
       "  </thead>\n",
       "  <tbody>\n",
       "    <tr>\n",
       "      <th>1</th>\n",
       "      <td>pos</td>\n",
       "      <td>films adapted from comic books have had plenty...</td>\n",
       "    </tr>\n",
       "    <tr>\n",
       "      <th>2</th>\n",
       "      <td>pos</td>\n",
       "      <td>every now and then a movie comes along from a ...</td>\n",
       "    </tr>\n",
       "    <tr>\n",
       "      <th>3</th>\n",
       "      <td>pos</td>\n",
       "      <td>you've got mail works alot better than it dese...</td>\n",
       "    </tr>\n",
       "    <tr>\n",
       "      <th>4</th>\n",
       "      <td>pos</td>\n",
       "      <td>\" jaws \" is a rare film that grabs your atten...</td>\n",
       "    </tr>\n",
       "    <tr>\n",
       "      <th>5</th>\n",
       "      <td>pos</td>\n",
       "      <td>moviemaking is a lot like being the general ma...</td>\n",
       "    </tr>\n",
       "  </tbody>\n",
       "</table>\n",
       "</div>"
      ],
      "text/plain": [
       "   label                                             review\n",
       "id                                                         \n",
       "1    pos  films adapted from comic books have had plenty...\n",
       "2    pos  every now and then a movie comes along from a ...\n",
       "3    pos  you've got mail works alot better than it dese...\n",
       "4    pos   \" jaws \" is a rare film that grabs your atten...\n",
       "5    pos  moviemaking is a lot like being the general ma..."
      ]
     },
     "execution_count": 3,
     "metadata": {},
     "output_type": "execute_result"
    }
   ],
   "source": [
    "df.head()"
   ]
  },
  {
   "cell_type": "markdown",
   "metadata": {},
   "source": [
    "Hmm, it looks like **review** can't fully fit in the above table.  \n",
    "Let's grab the first review (1-indexed!) and see what it looks like:"
   ]
  },
  {
   "cell_type": "code",
   "execution_count": 4,
   "metadata": {},
   "outputs": [
    {
     "data": {
      "text/plain": [
       "'films adapted from comic books have had plenty of success , whether they\\'re about superheroes ( batman , superman , spawn ) , or geared toward kids ( casper ) or the arthouse crowd ( ghost world ) , but there\\'s never really been a comic book like from hell before .  for starters , it was created by alan moore ( and eddie campbell ) , who brought the medium to a whole new level in the mid \\'80s with a 12-part series called the watchmen .  to say moore and campbell thoroughly researched the subject of jack the ripper would be like saying michael jackson is starting to look a little odd .  the book ( or \" graphic novel , \" if you will ) is over 500 pages long and includes nearly 30 more that consist of nothing but footnotes .  in other words , don\\'t dismiss this film because of its source .  if you can get past the whole comic book thing , you might find another stumbling block in from hell\\'s directors , albert and allen hughes .  getting the hughes brothers to direct this seems almost as ludicrous as casting carrot top in , well , anything , but riddle me this : who better to direct a film that\\'s set in the ghetto and features really violent street crime than the mad geniuses behind menace ii society ?  the ghetto in question is , of course , whitechapel in 1888 london\\'s east end .  it\\'s a filthy , sooty place where the whores ( called \" unfortunates \" ) are starting to get a little nervous about this mysterious psychopath who has been carving through their profession with surgical precision .  when the first stiff turns up , copper peter godley ( robbie coltrane , the world is not enough ) calls in inspector frederick abberline ( johnny depp , blow ) to crack the case .  abberline , a widower , has prophetic dreams he unsuccessfully tries to quell with copious amounts of absinthe and opium .  upon arriving in whitechapel , he befriends an unfortunate named mary kelly ( heather graham , say it isn\\'t so ) and proceeds to investigate the horribly gruesome crimes that even the police surgeon can\\'t stomach .  i don\\'t think anyone needs to be briefed on jack the ripper , so i won\\'t go into the particulars here , other than to say moore and campbell have a unique and interesting theory about both the identity of the killer and the reasons he chooses to slay .  in the comic , they don\\'t bother cloaking the identity of the ripper , but screenwriters terry hayes ( vertical limit ) and rafael yglesias ( les mis ? rables ) do a good job of keeping him hidden from viewers until the very end .  it\\'s funny to watch the locals blindly point the finger of blame at jews and indians because , after all , an englishman could never be capable of committing such ghastly acts .  and from hell\\'s ending had me whistling the stonecutters song from the simpsons for days ( \" who holds back the electric car/who made steve guttenberg a star ? \" ) .  don\\'t worry - it\\'ll all make sense when you see it .  now onto from hell\\'s appearance : it\\'s certainly dark and bleak enough , and it\\'s surprising to see how much more it looks like a tim burton film than planet of the apes did ( at times , it seems like sleepy hollow 2 ) .  the print i saw wasn\\'t completely finished ( both color and music had not been finalized , so no comments about marilyn manson ) , but cinematographer peter deming ( don\\'t say a word ) ably captures the dreariness of victorian-era london and helped make the flashy killing scenes remind me of the crazy flashbacks in twin peaks , even though the violence in the film pales in comparison to that in the black-and-white comic .  oscar winner martin childs\\' ( shakespeare in love ) production design turns the original prague surroundings into one creepy place .  even the acting in from hell is solid , with the dreamy depp turning in a typically strong performance and deftly handling a british accent .  ians holm ( joe gould\\'s secret ) and richardson ( 102 dalmatians ) log in great supporting roles , but the big surprise here is graham .  i cringed the first time she opened her mouth , imagining her attempt at an irish accent , but it actually wasn\\'t half bad .  the film , however , is all good .  2 : 00 - r for strong violence/gore , sexuality , language and drug content '"
      ]
     },
     "execution_count": 4,
     "metadata": {},
     "output_type": "execute_result"
    }
   ],
   "source": [
    "df['review'][1]"
   ]
  },
  {
   "cell_type": "markdown",
   "metadata": {},
   "source": [
    "Wow, that's a lengthy review.  \n",
    "Let's check how many reviews there are in the dataset:"
   ]
  },
  {
   "cell_type": "code",
   "execution_count": 5,
   "metadata": {},
   "outputs": [
    {
     "data": {
      "text/plain": [
       "2000"
      ]
     },
     "execution_count": 5,
     "metadata": {},
     "output_type": "execute_result"
    }
   ],
   "source": [
    "len(df)"
   ]
  },
  {
   "cell_type": "markdown",
   "metadata": {},
   "source": [
    "The [Cornell Movie Review dataset](http://www.cs.cornell.edu/people/pabo/movie-review-data/) is divided into positive and negative reviews.  \n",
    "Let's check how many positive, and how many negative, reviews there are in this dataset:"
   ]
  },
  {
   "cell_type": "code",
   "execution_count": 6,
   "metadata": {},
   "outputs": [
    {
     "data": {
      "text/plain": [
       "<matplotlib.axes._subplots.AxesSubplot at 0x7f4b8a308748>"
      ]
     },
     "execution_count": 6,
     "metadata": {},
     "output_type": "execute_result"
    },
    {
     "data": {
      "image/png": "[encoded data removed]",
      "text/plain": [
       "<matplotlib.figure.Figure at 0x7f4b8a361dd8>"
      ]
     },
     "metadata": {},
     "output_type": "display_data"
    }
   ],
   "source": [
    "df['label'].hist()"
   ]
  },
  {
   "cell_type": "markdown",
   "metadata": {},
   "source": [
    "Excellent, the dataset is already balanced.  \n",
    "Having a balanced dataset makes it easier to train a deep learning model, because it's less likely that the model will focus on one of the classes, and ignore the other.\n",
    "\n",
    "Now, let's see what the distribution of review lengths is, in numbers of characters:"
   ]
  },
  {
   "cell_type": "code",
   "execution_count": 7,
   "metadata": {},
   "outputs": [
    {
     "data": {
      "text/plain": [
       "<matplotlib.axes._subplots.AxesSubplot at 0x7f4b8828b240>"
      ]
     },
     "execution_count": 7,
     "metadata": {},
     "output_type": "execute_result"
    },
    {
     "data": {
      "image/png": "[encoded data removed]",
      "text/plain": [
       "<matplotlib.figure.Figure at 0x7f4b8a340048>"
      ]
     },
     "metadata": {},
     "output_type": "display_data"
    }
   ],
   "source": [
    "df['review'].apply(len).hist()"
   ]
  },
  {
   "cell_type": "markdown",
   "metadata": {},
   "source": [
    "Ok, there are some much longer reviews in this dataset than the ~4,000 character review above, but most of them are under 6,000 characters."
   ]
  },
  {
   "cell_type": "markdown",
   "metadata": {},
   "source": [
    "# Data Preprocessing\n",
    "The problem we are trying to solve here is called **sentiment analysis**, that is, whether the given text is positive or negative.\n",
    "\n",
    "More broadly, this is a type of machine learning problem known as classification.\n",
    "\n",
    "There are numerous different ways to think about the above dataset.  \n",
    "We can think of it as a collection of characters, a sequence of characters, a collection of words, or a sequence of words.  \n",
    "It turns out that the sequence-of-words approach has gotten good results on sentiment analysis problems, so let's think about the above dataset in those terms.\n",
    "\n",
    "Let's consider another review in the dataset:"
   ]
  },
  {
   "cell_type": "code",
   "execution_count": 8,
   "metadata": {},
   "outputs": [
    {
     "data": {
      "text/plain": [
       "'moviemaking is a lot like being the general manager of an nfl team in the post-salary cap era -- you\\'ve got to know how to allocate your resources .  every dollar spent on a free-agent defensive tackle is one less dollar than you can spend on linebackers or safeties or centers .  in the nfl , this leads to teams like the detroit lions , who boast a superstar running back with a huge contract , but can only field five guys named herb to block for him .  in the movies , you end up with films like \" spawn \" , with a huge special-effects budget but not enough money to hire any recognizable actors .  jackie chan is the barry sanders of moviemaking .  he spins and darts across the screen like sanders cutting back through the defensive line .  watching jackie in operation condor as he drives his motorcycle through the crowded streets of madrid , fleeing an armada of pursuers in identical black compact cars , is reminiscent of sanders running for daylight with the chicago bears in hot pursuit , except that sanders doesn\\'t have to worry about rescuing runaway baby carriages .  but like the lions star , jackie doesn\\'t have anybody to block for him .  almost every cent that\\'s invested in a jackie chan movie goes for stunts , and as chan does his own stunts , the rest of the money goes to pay his hospital bills .  this leaves about 75 cents to pay for things like directors ( chan directs ) , scripts and dubbing and supporting characters , not to mention the hideous title sequence .  this also explains why the movie was shot in odd places like morocco and spain .   ( chan\\'s first release in this country , \" rumble in the bronx \" , was supposedly set in new york , but was filmed in vancouver , and in the chase scenes the canadian rockies are clearly visible . )  heck , jackie doesn\\'t even have enough money for a haircut , looks like , much less a personal hairstylist .  in condor , chan plays the same character he\\'s always played , himself , a mixture of bruce lee and tim allen , a master of both kung-fu and slapstick-fu .  jackie is sent by the un to retrieve a cache of lost nazi gold in the north african desert , and is chased by a horde of neo-nazi sympathizers and two stereotypical arabs ( one of the things i like about jackie chan movies : no political correctness ) .  he is joined by three women , who have little to do except scream , \" jackie , save us ! \" , and misuse firearms .  the villain is an old nazi whose legs were broken in the secret base so that he has to be carried everywhere , and he\\'s more pathetic than evil .  en route , we have an extended motorcycle chase scene , a hilarious fight in the moroccan version of motel 6 with the neo-nazis , and two confrontations with savage natives .  once at the secret desert base , there is a long chop-socky sequence , followed by the film\\'s centerpiece , a wind-tunnel fight that\\'s even better than the one in face/off .  this is where the money was spent , on well-choreographed kung-fu sequences , on giant kevlar hamster balls , on smashed-up crates of bananas , and on scorpions .  ignore the gaping holes in the plot ( how , exactly , if the villain\\'s legs were broken , did he escape from the secret nazi base , and why didn\\'t he take the key with him ? ) .  don\\'t worry about the production values , or what , exactly , the japanese girl was doing hitchhiking across the sahara .  just go see the movie .  operation condor has pretentions of being a \" raiders of the lost ark \" knockoff , but one wonders what jackie could do with the raiders franchise blocking for him -- with a lawrence kazdan screenplay , a john williams score , spielberg directing and george lucas producing , condor might be an a+ movie .  however , you\\'ve got to go with what you\\'ve got , and what you\\'ve got in jackie chan is something special -- a talent that mainstream hollywood should , could , and ought to utilize . '"
      ]
     },
     "execution_count": 8,
     "metadata": {},
     "output_type": "execute_result"
    }
   ],
   "source": [
    "df['review'][5]"
   ]
  },
  {
   "cell_type": "markdown",
   "metadata": {},
   "source": [
    "## Tokenization\n",
    "What we would like to do is to turn the text above into a fixed-length sequence of numbers, which is what our TensorFlow model will expect in order to train on.\n",
    "\n",
    "The basic idea behind working with text data is that we want to create a number for each unique \"token\" that we see, then we can just substitute a \"token\"'s number for the token itself, and arrive at a fixed-length sequence of numbers for TensorFlow to work with.\n",
    "\n",
    "As can be seen above, it's not just words that are present, but also punctuation.  \n",
    "\n",
    "Thankfully, the [natural language toolkit](http://www.nltk.org/) is excellent at turning a string of text into a list of tokens.\n",
    "\n",
    "Let's see how it behaves on the above review:"
   ]
  },
  {
   "cell_type": "code",
   "execution_count": 9,
   "metadata": {},
   "outputs": [],
   "source": [
    "import nltk"
   ]
  },
  {
   "cell_type": "code",
   "execution_count": 10,
   "metadata": {},
   "outputs": [
    {
     "data": {
      "text/plain": [
       "['moviemaking',\n",
       " 'is',\n",
       " 'a',\n",
       " 'lot',\n",
       " 'like',\n",
       " 'being',\n",
       " 'the',\n",
       " 'general',\n",
       " 'manager',\n",
       " 'of']"
      ]
     },
     "execution_count": 10,
     "metadata": {},
     "output_type": "execute_result"
    }
   ],
   "source": [
    "nltk.tokenize.word_tokenize(df['review'][5])[:10]"
   ]
  },
  {
   "cell_type": "markdown",
   "metadata": {},
   "source": [
    "The above is perfectly sufficient tokenization for our purposes.  \n",
    "Perhaps it could be improved upon slightly, but this breaks up our review into enough unique tokens that our model will be able to learn which ones to use and which ones to discount (more on that in the [Architecture](#Model-Architecture) section)\n",
    "\n",
    "Now, let's create a set of all the words in all of the reviews in our dataset.  \n",
    "We will use this set to create a lookup table of tokens to their \"IDs\"."
   ]
  },
  {
   "cell_type": "code",
   "execution_count": 11,
   "metadata": {},
   "outputs": [],
   "source": [
    "review_word_set = set()\n",
    "for r in df['review']:\n",
    "    review_word_set.update(nltk.tokenize.word_tokenize(r))"
   ]
  },
  {
   "cell_type": "code",
   "execution_count": 12,
   "metadata": {},
   "outputs": [
    {
     "data": {
      "text/plain": [
       "46716"
      ]
     },
     "execution_count": 12,
     "metadata": {},
     "output_type": "execute_result"
    }
   ],
   "source": [
    "len(review_word_set)"
   ]
  },
  {
   "cell_type": "markdown",
   "metadata": {},
   "source": [
    "Excellent, in our 2,000-review dataset, only some ~47,000 unique \"tokens\" have been used.  \n",
    "## Token Encoding\n",
    "Now, let's use this set to assign IDs to our tokens, so that we can easily go from a token to its ID, and vice versa.\n",
    "\n",
    "First though, let's reserve ID `0` for reasons that will become clear in the [Padding](#Padding) section below, and start at ID `1`."
   ]
  },
  {
   "cell_type": "code",
   "execution_count": 13,
   "metadata": {},
   "outputs": [],
   "source": [
    "word_to_id = {word: i for i, word in enumerate(review_word_set, 1)}"
   ]
  },
  {
   "cell_type": "code",
   "execution_count": 14,
   "metadata": {},
   "outputs": [
    {
     "data": {
      "text/plain": [
       "{'liotta': 1,\n",
       " 'guessing': 2,\n",
       " 'summa': 3,\n",
       " 'frau': 4,\n",
       " 'janitorial': 5,\n",
       " 'crew-cut': 6,\n",
       " 'krippendorf': 7,\n",
       " 'lampoon': 8,\n",
       " 'convincingly': 9,\n",
       " 'theater-goers': 10,\n",
       " 'hoodlums': 11,\n",
       " 'homemaker': 12,\n",
       " 'cogs': 13,\n",
       " 'ecstatic': 14,\n",
       " 'democrat': 15,\n",
       " 'named': 16,\n",
       " 'imposes': 17,\n",
       " 'naked': 18,\n",
       " 'winding': 19,\n",
       " 'johnathon': 20,\n",
       " 'hardest-hitting': 21,\n",
       " 'legend': 22,\n",
       " 'fete': 23,\n",
       " 'littleton': 24,\n",
       " 'bubble': 25,\n",
       " 'consistency': 26,\n",
       " 'glengary': 27,\n",
       " 'pebble': 28,\n",
       " 'hum': 29,\n",
       " 'vibrance': 30,\n",
       " 'holder': 31,\n",
       " 'ally': 32,\n",
       " 'besieged': 33,\n",
       " 'near-constant': 34,\n",
       " 'grading': 35,\n",
       " 'mcnamara': 36,\n",
       " 'hair-obsessed': 37,\n",
       " 'chasing': 38,\n",
       " 'estuff': 39,\n",
       " 'pre-occupied': 40,\n",
       " 'depended': 41,\n",
       " 'apex': 42,\n",
       " 'marred': 43,\n",
       " 'emotionless': 44,\n",
       " 'low-flying': 45,\n",
       " \"'little\": 46,\n",
       " 'respective': 47,\n",
       " 'gheorghe': 48,\n",
       " 'sometimes-tedious': 49,\n",
       " 'tubthumping': 50,\n",
       " 'hyam': 51,\n",
       " 'joe/chris': 52,\n",
       " 'baroque': 53,\n",
       " 'hurting': 54,\n",
       " 'declared': 55,\n",
       " 'headlining': 56,\n",
       " '90': 57,\n",
       " 'distinquished': 58,\n",
       " 'kati': 59,\n",
       " 'coo': 60,\n",
       " 'illicit': 61,\n",
       " 'groveling': 62,\n",
       " 'longsword-': 63,\n",
       " 'amateur': 64,\n",
       " 'caricatured': 65,\n",
       " 'wrestled': 66,\n",
       " 'terminator': 67,\n",
       " 'nerdies': 68,\n",
       " 'skerritt': 69,\n",
       " 'action-crime': 70,\n",
       " 'duo': 71,\n",
       " 'dramatically': 72,\n",
       " 'horse': 73,\n",
       " 'cold-hearted': 74,\n",
       " 'behavious': 75,\n",
       " 'oval': 76,\n",
       " 'mortensen': 77,\n",
       " 'lizard': 78,\n",
       " 'mo': 79,\n",
       " '61': 80,\n",
       " 'displays': 81,\n",
       " 'hots': 82,\n",
       " 'arrests': 83,\n",
       " 'thyself': 84,\n",
       " 'kull': 85,\n",
       " 'gum': 86,\n",
       " 'cruncher': 87,\n",
       " 'sequitur': 88,\n",
       " 'noxzeema': 89,\n",
       " 'identifiable': 90,\n",
       " 'anime': 91,\n",
       " 'plotwise': 92,\n",
       " 'sucking-out': 93,\n",
       " 'urinals': 94,\n",
       " 'ebb': 95,\n",
       " 'exalted': 96,\n",
       " 'past': 97,\n",
       " 'year-end': 98,\n",
       " 'hugely': 99,\n",
       " 'emotionally-charged': 100,\n",
       " 'recalls': 101,\n",
       " 'zit': 102,\n",
       " 'loses': 103,\n",
       " 'fuck-you': 104,\n",
       " 'massey': 105,\n",
       " 'whitechapel': 106,\n",
       " 'juergen': 107,\n",
       " 'slave-owners': 108,\n",
       " 'entrepeneurs': 109,\n",
       " 'orgy': 110,\n",
       " 'ki': 111,\n",
       " 'slime': 112,\n",
       " 'middlemen': 113,\n",
       " 'savings': 114,\n",
       " 'charles': 115,\n",
       " 'chester': 116,\n",
       " 'wizards': 117,\n",
       " 'pseudo-intellectuals': 118,\n",
       " 'reconciles': 119,\n",
       " 'rapidity': 120,\n",
       " 'pettiford': 121,\n",
       " 'hypothetically': 122,\n",
       " 'kitsch': 123,\n",
       " 'puzo': 124,\n",
       " 'princesses': 125,\n",
       " 'swordplay': 126,\n",
       " 'ingerman': 127,\n",
       " 'oppression': 128,\n",
       " 'presumption': 129,\n",
       " 'ecclesiastes': 130,\n",
       " 'rapid-fire': 131,\n",
       " 'canton': 132,\n",
       " 'under-appreciated': 133,\n",
       " 'ciaran': 134,\n",
       " 'skarsgaard': 135,\n",
       " 'handing': 136,\n",
       " 'grunts': 137,\n",
       " 'homicidal': 138,\n",
       " 'alea': 139,\n",
       " 'sampling': 140,\n",
       " 'ledge': 141,\n",
       " 'saxophone': 142,\n",
       " 'octane': 143,\n",
       " 'commoner': 144,\n",
       " 'can': 145,\n",
       " 'ipo': 146,\n",
       " 'peckinpah': 147,\n",
       " 'spoken': 148,\n",
       " 'loafer': 149,\n",
       " 'fault': 150,\n",
       " 'laps': 151,\n",
       " 'ballisitic': 152,\n",
       " 'mysterioso': 153,\n",
       " 'filmography': 154,\n",
       " 'closing': 155,\n",
       " 'glimpsing': 156,\n",
       " 'calls': 157,\n",
       " 'contextual': 158,\n",
       " 'unflagging': 159,\n",
       " 'starves': 160,\n",
       " 'engross': 161,\n",
       " 'scrutiny': 162,\n",
       " 'lively': 163,\n",
       " 'rainmaker': 164,\n",
       " 'proclaiming': 165,\n",
       " 'degeneres': 166,\n",
       " 'lax': 167,\n",
       " 'boobs': 168,\n",
       " 'no-budget': 169,\n",
       " 'influences': 170,\n",
       " 'intrigued': 171,\n",
       " 'mignatti': 172,\n",
       " 'navarro': 173,\n",
       " '`rocky': 174,\n",
       " 'cartoon': 175,\n",
       " 'trippy': 176,\n",
       " 'kitty-faced': 177,\n",
       " 'clients': 178,\n",
       " 'bad-ass': 179,\n",
       " 'more-than-welcome': 180,\n",
       " 'masala': 181,\n",
       " 'inferior': 182,\n",
       " 'hallucinations': 183,\n",
       " 'arbiters': 184,\n",
       " 'projectors': 185,\n",
       " 'condoms': 186,\n",
       " 'half-drunk': 187,\n",
       " 'bear': 188,\n",
       " 'ovation': 189,\n",
       " 'someodd': 190,\n",
       " 'hollywood-ized': 191,\n",
       " 'shelby': 192,\n",
       " 'lamentable': 193,\n",
       " 'york': 194,\n",
       " 'lasting': 195,\n",
       " 'shining': 196,\n",
       " 'winner': 197,\n",
       " 'royalist': 198,\n",
       " 'super': 199,\n",
       " 'con-team': 200,\n",
       " 'reconst': 201,\n",
       " 'force-feeding': 202,\n",
       " 'linkage': 203,\n",
       " 'arguement': 204,\n",
       " 'institutionalize': 205,\n",
       " 'lower-case': 206,\n",
       " 'westerner': 207,\n",
       " 'bummed': 208,\n",
       " 'tumbling': 209,\n",
       " 'dastardly': 210,\n",
       " 'moderate': 211,\n",
       " 'pro': 212,\n",
       " 'epigrams': 213,\n",
       " 'ambiguities': 214,\n",
       " 'theatres': 215,\n",
       " 'thankful': 216,\n",
       " 'produced': 217,\n",
       " 'be-littles': 218,\n",
       " 'noisily': 219,\n",
       " 'seduced': 220,\n",
       " 'feedback': 221,\n",
       " 'rehearsal': 222,\n",
       " 'restart': 223,\n",
       " 'new-found': 224,\n",
       " 'drizzling': 225,\n",
       " 'dramedy': 226,\n",
       " 'self-preserving': 227,\n",
       " 'postlethwaite': 228,\n",
       " 'burnham': 229,\n",
       " 'ingmar': 230,\n",
       " 'healy-louie': 231,\n",
       " 'faltermeyer': 232,\n",
       " 'super-orgasmic': 233,\n",
       " 'schrieber': 234,\n",
       " 'ex-president': 235,\n",
       " 'low-powered': 236,\n",
       " 'half-formed': 237,\n",
       " 'whiney': 238,\n",
       " 'nielsen': 239,\n",
       " 'incited': 240,\n",
       " 'skaro': 241,\n",
       " 'conditions': 242,\n",
       " 'drones': 243,\n",
       " 'riffing': 244,\n",
       " 'bulb': 245,\n",
       " 'radmar': 246,\n",
       " 'slimeball': 247,\n",
       " 'moronic-looking': 248,\n",
       " 'tinkling': 249,\n",
       " 'incomparable': 250,\n",
       " 'klendathu': 251,\n",
       " 'fantasy/allegory': 252,\n",
       " 'palitaliano': 253,\n",
       " 'reminded': 254,\n",
       " 'goulash': 255,\n",
       " 'copland': 256,\n",
       " 'stunning': 257,\n",
       " 'signs': 258,\n",
       " 'non-fiction': 259,\n",
       " 'gleisner': 260,\n",
       " 'herd': 261,\n",
       " 'matalin': 262,\n",
       " 'survivors': 263,\n",
       " 'delmar': 264,\n",
       " 'stops': 265,\n",
       " 'canna': 266,\n",
       " 'talking-heads': 267,\n",
       " 'hilary': 268,\n",
       " 'probes': 269,\n",
       " 'embarked': 270,\n",
       " 'elastic': 271,\n",
       " 'zinger': 272,\n",
       " 'luckily': 273,\n",
       " 'uphold': 274,\n",
       " 'straw': 275,\n",
       " 'drip': 276,\n",
       " 'tenfold': 277,\n",
       " 'jobless': 278,\n",
       " 'iliff': 279,\n",
       " 'divison': 280,\n",
       " 'unwind': 281,\n",
       " 'drector': 282,\n",
       " 'lease': 283,\n",
       " 'blubbering': 284,\n",
       " 'engrossment': 285,\n",
       " 'worth': 286,\n",
       " 'ranting': 287,\n",
       " 'striker': 288,\n",
       " 'softball': 289,\n",
       " 'salminen': 290,\n",
       " 'south': 291,\n",
       " 'maura': 292,\n",
       " 'barnett': 293,\n",
       " 'home-shopping': 294,\n",
       " 'conceit': 295,\n",
       " 'livens': 296,\n",
       " 'dudley': 297,\n",
       " 'finest': 298,\n",
       " 'vinci': 299,\n",
       " 'nello': 300,\n",
       " 'horror/schlock': 301,\n",
       " 'diatribes': 302,\n",
       " 'reinvents': 303,\n",
       " 'super-computer': 304,\n",
       " 'mpd': 305,\n",
       " 'blinking': 306,\n",
       " 'cerebellum': 307,\n",
       " 'covering-up': 308,\n",
       " 'unashamed': 309,\n",
       " 'damn': 310,\n",
       " 'schweethaat': 311,\n",
       " 'flattering': 312,\n",
       " 'insist': 313,\n",
       " 'pop': 314,\n",
       " 'wheeler': 315,\n",
       " 'throw-together': 316,\n",
       " 'offend': 317,\n",
       " 'birthdays': 318,\n",
       " 'dazzle': 319,\n",
       " 'lesser': 320,\n",
       " 'excites': 321,\n",
       " 'turteltaub': 322,\n",
       " 'clutter': 323,\n",
       " 'comfortable': 324,\n",
       " 'narcissistic': 325,\n",
       " 'survey': 326,\n",
       " 'newborn': 327,\n",
       " 'faulkner': 328,\n",
       " 'scrapped': 329,\n",
       " 'chemo-electric': 330,\n",
       " 'underdevelopment': 331,\n",
       " 'pescucci': 332,\n",
       " 'toothy': 333,\n",
       " 'lanai': 334,\n",
       " 'animal': 335,\n",
       " 'mcfarlane': 336,\n",
       " 'type-casting': 337,\n",
       " 'mastery': 338,\n",
       " 'trilogy': 339,\n",
       " 'verona': 340,\n",
       " 'drank': 341,\n",
       " 'unrepentantly': 342,\n",
       " 'stormare': 343,\n",
       " 'larger': 344,\n",
       " 'genevieve': 345,\n",
       " 'lapoirie': 346,\n",
       " 'inauspicious': 347,\n",
       " 'admirably': 348,\n",
       " 'jewelry-sporting': 349,\n",
       " 'joe-wreaking': 350,\n",
       " 'coogan': 351,\n",
       " 'iron-clad': 352,\n",
       " 'overscored': 353,\n",
       " 'crow': 354,\n",
       " 'vaccinated': 355,\n",
       " 'sabor': 356,\n",
       " 'screw': 357,\n",
       " 'skg': 358,\n",
       " 'honey-mustard': 359,\n",
       " 'dupe': 360,\n",
       " 'ex-flame': 361,\n",
       " 'reworked': 362,\n",
       " 'atom': 363,\n",
       " 'romantic-mistaken': 364,\n",
       " 'achingly': 365,\n",
       " '_too_': 366,\n",
       " 'underperforms': 367,\n",
       " 'sobriety': 368,\n",
       " '`no': 369,\n",
       " 'arthouse': 370,\n",
       " 'exorcist-rip': 371,\n",
       " 'lionizing': 372,\n",
       " 'valentina': 373,\n",
       " 'philosophical': 374,\n",
       " 'sketchiness': 375,\n",
       " 'goo-iffy': 376,\n",
       " 'hirt': 377,\n",
       " 'testings': 378,\n",
       " 'worried': 379,\n",
       " 'all-america': 380,\n",
       " 'ethel': 381,\n",
       " 'midnight': 382,\n",
       " 'well-known': 383,\n",
       " 'proverbial': 384,\n",
       " 'amazingly': 385,\n",
       " 'embers': 386,\n",
       " 'shaggy': 387,\n",
       " 'sprayed': 388,\n",
       " 'well-run': 389,\n",
       " 'nut-cake': 390,\n",
       " 'compete': 391,\n",
       " 'multi-national': 392,\n",
       " 'scorese': 393,\n",
       " 'tales': 394,\n",
       " 'valeria': 395,\n",
       " 'talkie': 396,\n",
       " 'situational': 397,\n",
       " 'erection': 398,\n",
       " 'dietl': 399,\n",
       " 'slade': 400,\n",
       " 'gather': 401,\n",
       " 'lake': 402,\n",
       " 'snorri': 403,\n",
       " 'responsible': 404,\n",
       " 'problematic': 405,\n",
       " 'francisco-based': 406,\n",
       " 'lex': 407,\n",
       " 'renewal': 408,\n",
       " 'breakout': 409,\n",
       " 'bauer': 410,\n",
       " 'maelstrom': 411,\n",
       " 'mol': 412,\n",
       " 'cutedom': 413,\n",
       " 'laughton': 414,\n",
       " 'killathon': 415,\n",
       " 'rogue-ish': 416,\n",
       " 'elizabeth': 417,\n",
       " 'macbeth': 418,\n",
       " 'restlessly': 419,\n",
       " 'behoove': 420,\n",
       " 'shamed': 421,\n",
       " 'schulz': 422,\n",
       " 'skyrocketed': 423,\n",
       " 'classmate': 424,\n",
       " 'drifter': 425,\n",
       " 'lifelessness': 426,\n",
       " 'spotlights': 427,\n",
       " 'crackdown': 428,\n",
       " 'platform': 429,\n",
       " 'columbus': 430,\n",
       " 'ramen': 431,\n",
       " 'bulletproof': 432,\n",
       " 'hillard': 433,\n",
       " 'gimmicks': 434,\n",
       " 'unflinching': 435,\n",
       " 'briggs': 436,\n",
       " 'hollers': 437,\n",
       " 'worn-out': 438,\n",
       " '`demons': 439,\n",
       " 'fiery-tempered': 440,\n",
       " '`ultra-stylish': 441,\n",
       " 'anarchists': 442,\n",
       " 'pounds': 443,\n",
       " 'singh': 444,\n",
       " 'granny': 445,\n",
       " 'first-ever': 446,\n",
       " 'fiona': 447,\n",
       " 'theatens': 448,\n",
       " 'ropes': 449,\n",
       " 'hayashi': 450,\n",
       " 'survived': 451,\n",
       " 'quick-draw': 452,\n",
       " 'conspire': 453,\n",
       " 'doses': 454,\n",
       " 'anatomical': 455,\n",
       " 'back-story': 456,\n",
       " 'lad': 457,\n",
       " 'swingin': 458,\n",
       " 'dunne': 459,\n",
       " 'carla': 460,\n",
       " 'ho': 461,\n",
       " 'vanquish': 462,\n",
       " 'windows': 463,\n",
       " 'whiz-kid': 464,\n",
       " 'glossing': 465,\n",
       " 'dullness': 466,\n",
       " 'mcqueen-esque': 467,\n",
       " 'dead-end': 468,\n",
       " 'pensive': 469,\n",
       " 'sevigny': 470,\n",
       " 'bio-rhythms': 471,\n",
       " 'locomotive': 472,\n",
       " 'treat': 473,\n",
       " 'brooklyn': 474,\n",
       " 'boy-o': 475,\n",
       " 'believer': 476,\n",
       " 'browbeats': 477,\n",
       " 'bogmen': 478,\n",
       " 'delighting': 479,\n",
       " 'our': 480,\n",
       " 'travers': 481,\n",
       " 'galahad': 482,\n",
       " 'woozy': 483,\n",
       " 'shayne': 484,\n",
       " 'keg': 485,\n",
       " 'deductions': 486,\n",
       " 'melancholic': 487,\n",
       " 'decapitations': 488,\n",
       " 'ruthless': 489,\n",
       " 'flesh-eating': 490,\n",
       " 'ache': 491,\n",
       " 'madison': 492,\n",
       " 'laconic': 493,\n",
       " 'note-': 494,\n",
       " 'pilgrim': 495,\n",
       " 'volunteer': 496,\n",
       " 'currency': 497,\n",
       " 'repent': 498,\n",
       " 'gasps': 499,\n",
       " 'rent-a-wreck': 500,\n",
       " 'whitey': 501,\n",
       " 'partner-wife': 502,\n",
       " 'monsoon': 503,\n",
       " 'whimsical': 504,\n",
       " 'y2g': 505,\n",
       " 'marvelously': 506,\n",
       " 'reflecting': 507,\n",
       " 'wasps': 508,\n",
       " 'chortle': 509,\n",
       " '2058': 510,\n",
       " 'blowing': 511,\n",
       " 'divisions': 512,\n",
       " 'hateful': 513,\n",
       " 'forties': 514,\n",
       " 'linney': 515,\n",
       " 'uninspired': 516,\n",
       " 'ballinagra': 517,\n",
       " 'whaley': 518,\n",
       " 'hot-and-cold': 519,\n",
       " 'naidu': 520,\n",
       " 'leaps': 521,\n",
       " 'don\\x12t': 522,\n",
       " 'pbs': 523,\n",
       " 'lughnasa': 524,\n",
       " 'mother-': 525,\n",
       " 'hitchhikes': 526,\n",
       " 'waylaid': 527,\n",
       " 'self-effacing': 528,\n",
       " 'lever': 529,\n",
       " 'underhanded': 530,\n",
       " 'patrasche': 531,\n",
       " 'luckless': 532,\n",
       " 'singe': 533,\n",
       " 'reneges': 534,\n",
       " 'evoke': 535,\n",
       " 'witnesses': 536,\n",
       " 'southport': 537,\n",
       " 'airplane': 538,\n",
       " 'pullam': 539,\n",
       " 'mortality': 540,\n",
       " 'almanac': 541,\n",
       " 'positioning': 542,\n",
       " 'liased': 543,\n",
       " 'prefontaine': 544,\n",
       " 'touchy': 545,\n",
       " 'cui': 546,\n",
       " 'weaponry': 547,\n",
       " 'obstacles': 548,\n",
       " 'anij': 549,\n",
       " '140': 550,\n",
       " 'reflectively': 551,\n",
       " 'consternation': 552,\n",
       " 'idioms': 553,\n",
       " 'spacewalk': 554,\n",
       " 'incongruity': 555,\n",
       " 'congress': 556,\n",
       " 'henson': 557,\n",
       " 'ten-minutes': 558,\n",
       " 'patti': 559,\n",
       " 'drug-stoked': 560,\n",
       " 'kujan': 561,\n",
       " 'protgaonist': 562,\n",
       " 'suffered': 563,\n",
       " 'intense': 564,\n",
       " 'frock': 565,\n",
       " 'battery-charging': 566,\n",
       " \"whol'o\": 567,\n",
       " 'cauterizes': 568,\n",
       " 'over-the-top': 569,\n",
       " 'mitchum': 570,\n",
       " '5671': 571,\n",
       " 'eaton': 572,\n",
       " 'mammoth': 573,\n",
       " 'crackers': 574,\n",
       " 'rudolph': 575,\n",
       " 'davis': 576,\n",
       " 'filming': 577,\n",
       " 'stripped-down': 578,\n",
       " 'administering': 579,\n",
       " 'siskel/ebert': 580,\n",
       " 'commentator': 581,\n",
       " 'wide-eyed': 582,\n",
       " 'salvadoran': 583,\n",
       " 'closemindedness': 584,\n",
       " '2056': 585,\n",
       " 'desintegration': 586,\n",
       " 'pepto-bismol': 587,\n",
       " 'footing': 588,\n",
       " 'male-ego-stroking': 589,\n",
       " 'dreck': 590,\n",
       " 'defeated': 591,\n",
       " 'dictator': 592,\n",
       " 'aback': 593,\n",
       " 'cellmate': 594,\n",
       " 'elevate': 595,\n",
       " 'sectors': 596,\n",
       " 'tomboyish': 597,\n",
       " 'hormonally': 598,\n",
       " 'pearly': 599,\n",
       " 'self-defeating': 600,\n",
       " '_long_': 601,\n",
       " 'half-truth-telling': 602,\n",
       " 'turd': 603,\n",
       " 'outing': 604,\n",
       " 'superstition': 605,\n",
       " 'minimum': 606,\n",
       " 'enjoyably': 607,\n",
       " 'reddick': 608,\n",
       " 'visualizing': 609,\n",
       " 'bloomingdale': 610,\n",
       " 'double-takes': 611,\n",
       " 'izzard': 612,\n",
       " 'hollywoodization': 613,\n",
       " 'flamethrowers': 614,\n",
       " 'chicago-sun': 615,\n",
       " 'leghorn': 616,\n",
       " 'hyper-capitalism': 617,\n",
       " 'bridging': 618,\n",
       " 'kalifornia': 619,\n",
       " 'maladjusted': 620,\n",
       " 'sleepy-voiced': 621,\n",
       " 'notable': 622,\n",
       " 'thoughtfulness': 623,\n",
       " 'blackwell': 624,\n",
       " 'aristo': 625,\n",
       " 'al': 626,\n",
       " 'bullets': 627,\n",
       " 'tortoise': 628,\n",
       " 'venner': 629,\n",
       " 'saves': 630,\n",
       " 'mystic': 631,\n",
       " '`jedi': 632,\n",
       " 'filmmaker': 633,\n",
       " 'dead/and': 634,\n",
       " 'heralded': 635,\n",
       " 'length': 636,\n",
       " 'cheesily': 637,\n",
       " 'stitches': 638,\n",
       " 'slowing': 639,\n",
       " 're-admit': 640,\n",
       " 'hooky': 641,\n",
       " 'mixon': 642,\n",
       " 'celebrity-type': 643,\n",
       " 'informs': 644,\n",
       " 'sobs': 645,\n",
       " 'romper': 646,\n",
       " 'bradley': 647,\n",
       " 'coward': 648,\n",
       " 'cullen': 649,\n",
       " 'deviants': 650,\n",
       " 'straight-to-video': 651,\n",
       " 'memorizing': 652,\n",
       " 'organ': 653,\n",
       " 'rubens': 654,\n",
       " 'moo': 655,\n",
       " 'forehead-slapper': 656,\n",
       " 'hannigan': 657,\n",
       " 'unassuming': 658,\n",
       " 'lb': 659,\n",
       " 'collect': 660,\n",
       " 'homogeneity': 661,\n",
       " 'hayseed': 662,\n",
       " 'motley': 663,\n",
       " 'read': 664,\n",
       " 'moreover': 665,\n",
       " \"'tradition\": 666,\n",
       " 'loggia': 667,\n",
       " 'meaningless': 668,\n",
       " 'marches': 669,\n",
       " \"o'conor\": 670,\n",
       " 'twenty-six': 671,\n",
       " 'improvise': 672,\n",
       " 'strips': 673,\n",
       " 'underlying': 674,\n",
       " 'reclaim': 675,\n",
       " 'debacles': 676,\n",
       " 'time-frame': 677,\n",
       " 'archaeology': 678,\n",
       " 'ocean': 679,\n",
       " 'curtailing': 680,\n",
       " 'savaged': 681,\n",
       " 'filled': 682,\n",
       " 'thinker': 683,\n",
       " 'suspense/science': 684,\n",
       " 'facilitated': 685,\n",
       " 'flemish': 686,\n",
       " 'fortress': 687,\n",
       " 'deadening': 688,\n",
       " 'throne': 689,\n",
       " 'shih': 690,\n",
       " 'unconventionality': 691,\n",
       " 'lug-head': 692,\n",
       " 'hood\\x12s': 693,\n",
       " 'knott': 694,\n",
       " 'baluyev': 695,\n",
       " 'outsmarted': 696,\n",
       " 'in-between': 697,\n",
       " 'dampened': 698,\n",
       " 'harasses': 699,\n",
       " 'homeworld': 700,\n",
       " 'dissect': 701,\n",
       " 'cupid': 702,\n",
       " 'vigil': 703,\n",
       " 'textual': 704,\n",
       " 'affleck-damon': 705,\n",
       " 'shafts': 706,\n",
       " 'hawking': 707,\n",
       " 'story-telling': 708,\n",
       " 'escadapes': 709,\n",
       " 'interpol': 710,\n",
       " 'naoki': 711,\n",
       " 'symbolises': 712,\n",
       " 'header': 713,\n",
       " 'urges': 714,\n",
       " 'incurable': 715,\n",
       " 'ultra-nationalist': 716,\n",
       " 'refinement': 717,\n",
       " 'drug-addicted': 718,\n",
       " 'sheikh': 719,\n",
       " 'fabio': 720,\n",
       " 'roderick': 721,\n",
       " 'dionna': 722,\n",
       " 'vylette': 723,\n",
       " 'bening': 724,\n",
       " 'scraped': 725,\n",
       " 'limbs': 726,\n",
       " 'pre-arranged': 727,\n",
       " 'over-used': 728,\n",
       " 'dulles': 729,\n",
       " 'poignant': 730,\n",
       " 'oblivion': 731,\n",
       " 'erected': 732,\n",
       " 'techniques': 733,\n",
       " 'mysteries': 734,\n",
       " 'sweaters': 735,\n",
       " '`chef': 736,\n",
       " 'falwells': 737,\n",
       " 'pollo': 738,\n",
       " 'snakes': 739,\n",
       " 'mccormack': 740,\n",
       " \"'quack\": 741,\n",
       " 'reprehensible': 742,\n",
       " 'brute': 743,\n",
       " 'abrupt': 744,\n",
       " \"'mulan\": 745,\n",
       " 'on-the-sidelines': 746,\n",
       " 'red-lit': 747,\n",
       " 'pickles': 748,\n",
       " 'detonation': 749,\n",
       " 'expects': 750,\n",
       " 'nirvana': 751,\n",
       " 'toll': 752,\n",
       " \"'77\": 753,\n",
       " ':': 754,\n",
       " 'minkoff': 755,\n",
       " 'not-so-cheap': 756,\n",
       " 'mustafa': 757,\n",
       " 'screaming': 758,\n",
       " 'flickers': 759,\n",
       " 'damaged': 760,\n",
       " 'mouth': 761,\n",
       " '_matewan_': 762,\n",
       " 'pens': 763,\n",
       " 'differentiates': 764,\n",
       " 'doa': 765,\n",
       " 'complicity': 766,\n",
       " 'nicolas': 767,\n",
       " 'blindsided': 768,\n",
       " 'towering': 769,\n",
       " 'assassinated': 770,\n",
       " 'favours': 771,\n",
       " 'voil': 772,\n",
       " 'typified': 773,\n",
       " 'facts': 774,\n",
       " 'letch': 775,\n",
       " 'kirk': 776,\n",
       " 'purple-sequined': 777,\n",
       " 'bronx': 778,\n",
       " 'uecker': 779,\n",
       " 'fad': 780,\n",
       " 'hardest': 781,\n",
       " 'mede': 782,\n",
       " 'spurned-psycho-lover-gets-her-revenge': 783,\n",
       " 'key': 784,\n",
       " 'present-day': 785,\n",
       " 'strumming': 786,\n",
       " 'lumber': 787,\n",
       " 'foodmart': 788,\n",
       " 'hitchhike': 789,\n",
       " 'brunette': 790,\n",
       " 'age-old': 791,\n",
       " 'wayyyy': 792,\n",
       " 'manners': 793,\n",
       " 'mack': 794,\n",
       " 'helicoptered': 795,\n",
       " 'age': 796,\n",
       " 'shellulite': 797,\n",
       " 'regails': 798,\n",
       " 'wanna-be': 799,\n",
       " 'last-ditch': 800,\n",
       " 'three-hour': 801,\n",
       " 'rick/ilsa': 802,\n",
       " 'smalltime': 803,\n",
       " 'actors': 804,\n",
       " 'incense': 805,\n",
       " 'recruitment': 806,\n",
       " 'retrospection': 807,\n",
       " 'triple-digit': 808,\n",
       " 'talke': 809,\n",
       " 'burned-out': 810,\n",
       " 'fuhrer': 811,\n",
       " 'balcony': 812,\n",
       " 'vet': 813,\n",
       " 'essayed': 814,\n",
       " '`we': 815,\n",
       " 'dutifully': 816,\n",
       " 'sting': 817,\n",
       " 'predictable': 818,\n",
       " 'smorgasbord': 819,\n",
       " 'filby': 820,\n",
       " 'smart/sassy': 821,\n",
       " 'shortage': 822,\n",
       " 'monosyllables': 823,\n",
       " 'swingers': 824,\n",
       " 'booster': 825,\n",
       " 'discovery': 826,\n",
       " 'diabolical': 827,\n",
       " 'politician': 828,\n",
       " 'alone-until': 829,\n",
       " 'glaringly': 830,\n",
       " 'persuasion': 831,\n",
       " 'tangential': 832,\n",
       " 'fighting': 833,\n",
       " 'up-and-comers': 834,\n",
       " 'resistant': 835,\n",
       " 'quibbles': 836,\n",
       " 'evangelical': 837,\n",
       " 'comebacks': 838,\n",
       " 'skim': 839,\n",
       " 'treasure-trove': 840,\n",
       " 'fruition': 841,\n",
       " '2_': 842,\n",
       " 'discarded': 843,\n",
       " 'luxury': 844,\n",
       " 'myra': 845,\n",
       " 'enola': 846,\n",
       " '1987': 847,\n",
       " 'ketchum': 848,\n",
       " \"ain't-i-sexy\": 849,\n",
       " 'gold-starved': 850,\n",
       " 'vocabulary': 851,\n",
       " 'duetting': 852,\n",
       " 'mazar': 853,\n",
       " 'amphetimenes': 854,\n",
       " 'tripped-out': 855,\n",
       " 'cripple': 856,\n",
       " 'one-tone': 857,\n",
       " 'factors': 858,\n",
       " '19th': 859,\n",
       " 'soldiers': 860,\n",
       " 'morlocks': 861,\n",
       " 'parent-child': 862,\n",
       " 'claire': 863,\n",
       " 'superficially': 864,\n",
       " 'valor': 865,\n",
       " 'gag': 866,\n",
       " 'screendom': 867,\n",
       " 'dame': 868,\n",
       " 'self-trance': 869,\n",
       " 'token': 870,\n",
       " 'yellowish': 871,\n",
       " 'munchkin': 872,\n",
       " 'nap': 873,\n",
       " 'grating': 874,\n",
       " 'revolt': 875,\n",
       " 'biased': 876,\n",
       " 'slippery-smooth': 877,\n",
       " 'pioneers': 878,\n",
       " 'oxford': 879,\n",
       " 'cross-bow': 880,\n",
       " 'laughter-packed-moments': 881,\n",
       " 'waning': 882,\n",
       " 'pas': 883,\n",
       " 'adversity': 884,\n",
       " 'anticipating': 885,\n",
       " 'lampooned': 886,\n",
       " 'co-workers': 887,\n",
       " 'talbot': 888,\n",
       " 'foreboding': 889,\n",
       " \"'do\": 890,\n",
       " 'headsets': 891,\n",
       " 'hooters': 892,\n",
       " 'ill-luck': 893,\n",
       " 'onboard': 894,\n",
       " 'obese': 895,\n",
       " 'outings': 896,\n",
       " '-that': 897,\n",
       " 'tight-fitting': 898,\n",
       " '1966': 899,\n",
       " 'dissipates': 900,\n",
       " 'geological': 901,\n",
       " 'lorre': 902,\n",
       " 'deflowered': 903,\n",
       " 'panders': 904,\n",
       " 'hooker': 905,\n",
       " 'humor': 906,\n",
       " 'looping': 907,\n",
       " '_heathers_': 908,\n",
       " 'ticker': 909,\n",
       " 'unexploited': 910,\n",
       " 'involuntarily': 911,\n",
       " 'straightforward': 912,\n",
       " 'pristine': 913,\n",
       " 'bum': 914,\n",
       " 'blunderheaded': 915,\n",
       " 'disengaging': 916,\n",
       " 'filmming': 917,\n",
       " 'raided': 918,\n",
       " 'zip': 919,\n",
       " 'balbricker': 920,\n",
       " 'barbarians': 921,\n",
       " 'ringing': 922,\n",
       " 'deathly-ill': 923,\n",
       " 'gertrude': 924,\n",
       " 're-occurring': 925,\n",
       " 'colours': 926,\n",
       " 'raines': 927,\n",
       " 'his`plump': 928,\n",
       " 'instrumental': 929,\n",
       " 'distractedness': 930,\n",
       " 'comforts': 931,\n",
       " 'duddy': 932,\n",
       " 'tapert': 933,\n",
       " 'frailties': 934,\n",
       " 'wetsuits': 935,\n",
       " 'demand': 936,\n",
       " 'underdeveloped': 937,\n",
       " 'respectively-this': 938,\n",
       " 'neurotic-looking': 939,\n",
       " 'gardner': 940,\n",
       " 'perish': 941,\n",
       " 'madwoman': 942,\n",
       " 'briers': 943,\n",
       " 'scanner': 944,\n",
       " 'garbageman': 945,\n",
       " 'trooper': 946,\n",
       " 'bulky': 947,\n",
       " 'auteurs': 948,\n",
       " 'prejudge': 949,\n",
       " 'coupling': 950,\n",
       " 'frappacino': 951,\n",
       " 'thesis': 952,\n",
       " 'elijah': 953,\n",
       " 'rattigan': 954,\n",
       " 'showpiece': 955,\n",
       " 'creams': 956,\n",
       " 'climaxing': 957,\n",
       " 'siege': 958,\n",
       " 'steadicam': 959,\n",
       " 'duped': 960,\n",
       " 'batcave': 961,\n",
       " 'neigbors': 962,\n",
       " 'magic': 963,\n",
       " 'war-torn': 964,\n",
       " 'hommage': 965,\n",
       " 'merton': 966,\n",
       " 'fritz': 967,\n",
       " 'gumpian': 968,\n",
       " 'grenade': 969,\n",
       " 'devastate': 970,\n",
       " 'substitute': 971,\n",
       " 'trout': 972,\n",
       " 'transport': 973,\n",
       " 'impeccably': 974,\n",
       " 'awkwardness': 975,\n",
       " 'means': 976,\n",
       " 'pseudo-depth': 977,\n",
       " 'workers': 978,\n",
       " 'avocation': 979,\n",
       " 'misprinted': 980,\n",
       " 'slash': 981,\n",
       " 'dollah': 982,\n",
       " 'transatlantic': 983,\n",
       " 'cammie': 984,\n",
       " 'karma': 985,\n",
       " 'forest': 986,\n",
       " 'infuses': 987,\n",
       " 'carhart': 988,\n",
       " 'lightly': 989,\n",
       " 'workmen': 990,\n",
       " 'cocoon-type': 991,\n",
       " 'discharging': 992,\n",
       " 'vaughn': 993,\n",
       " 'illuminate': 994,\n",
       " '6': 995,\n",
       " 'dogg': 996,\n",
       " 'wanking': 997,\n",
       " 'specific': 998,\n",
       " 'shawshank': 999,\n",
       " 'blob': 1000,\n",
       " ...}"
      ]
     },
     "execution_count": 14,
     "metadata": {},
     "output_type": "execute_result"
    }
   ],
   "source": [
    "word_to_id"
   ]
  },
  {
   "cell_type": "markdown",
   "metadata": {},
   "source": [
    "Excellent, we're much closer to being able to having our dataset in a form that TensorFlow can work with.  \n",
    "Just for sanity, let's see what the review above would look like as a list of the IDs above:"
   ]
  },
  {
   "cell_type": "code",
   "execution_count": 15,
   "metadata": {},
   "outputs": [
    {
     "data": {
      "text/plain": [
       "[37669, 44825, 6335, 30330, 16152, 34255, 33011, 28295, 1226, 1356]"
      ]
     },
     "execution_count": 15,
     "metadata": {},
     "output_type": "execute_result"
    }
   ],
   "source": [
    "[word_to_id[word] for word in nltk.tokenize.word_tokenize(df['review'][5])][:10]"
   ]
  },
  {
   "cell_type": "markdown",
   "metadata": {},
   "source": [
    "I'm going to trust that the above is mostly correct, but let's at least check that `moviemaking` matches the first index in the above list:"
   ]
  },
  {
   "cell_type": "code",
   "execution_count": 16,
   "metadata": {},
   "outputs": [
    {
     "data": {
      "text/plain": [
       "37669"
      ]
     },
     "execution_count": 16,
     "metadata": {},
     "output_type": "execute_result"
    }
   ],
   "source": [
    "word_to_id[\"moviemaking\"]"
   ]
  },
  {
   "cell_type": "markdown",
   "metadata": {},
   "source": [
    "Perfect.  Now, let's convert all of the tokenized reviews into lists of `ID`s"
   ]
  },
  {
   "cell_type": "code",
   "execution_count": 17,
   "metadata": {},
   "outputs": [],
   "source": [
    "reviews_as_ids = []\n",
    "for review in df['review']:\n",
    "    reviews_as_ids.append([word_to_id[word] for word in nltk.tokenize.word_tokenize(review)])"
   ]
  },
  {
   "cell_type": "markdown",
   "metadata": {},
   "source": [
    "Again, as a sanity check, the 5th item in the `reviews_as_ids` list should be the same as the list that we see two cells above:"
   ]
  },
  {
   "cell_type": "code",
   "execution_count": 18,
   "metadata": {},
   "outputs": [
    {
     "data": {
      "text/plain": [
       "[37669, 44825, 6335, 30330, 16152, 34255, 33011, 28295, 1226, 1356]"
      ]
     },
     "execution_count": 18,
     "metadata": {},
     "output_type": "execute_result"
    }
   ],
   "source": [
    "reviews_as_ids[4][:10]"
   ]
  },
  {
   "cell_type": "markdown",
   "metadata": {},
   "source": [
    "Excellent, we have now transformed our dataset of movie reviews into a list of integers.  "
   ]
  },
  {
   "cell_type": "markdown",
   "metadata": {},
   "source": [
    "## Label Encoding\n",
    "Now, let's generate an array that we can use with TensorFlow from the labels in the dataset."
   ]
  },
  {
   "cell_type": "code",
   "execution_count": 19,
   "metadata": {},
   "outputs": [],
   "source": [
    "import numpy as np"
   ]
  },
  {
   "cell_type": "code",
   "execution_count": 20,
   "metadata": {},
   "outputs": [
    {
     "data": {
      "text/html": [
       "<div>\n",
       "<style scoped>\n",
       "    .dataframe tbody tr th:only-of-type {\n",
       "        vertical-align: middle;\n",
       "    }\n",
       "\n",
       "    .dataframe tbody tr th {\n",
       "        vertical-align: top;\n",
       "    }\n",
       "\n",
       "    .dataframe thead th {\n",
       "        text-align: right;\n",
       "    }\n",
       "</style>\n",
       "<table border=\"1\" class=\"dataframe\">\n",
       "  <thead>\n",
       "    <tr style=\"text-align: right;\">\n",
       "      <th></th>\n",
       "      <th>label</th>\n",
       "      <th>review</th>\n",
       "    </tr>\n",
       "    <tr>\n",
       "      <th>id</th>\n",
       "      <th></th>\n",
       "      <th></th>\n",
       "    </tr>\n",
       "  </thead>\n",
       "  <tbody>\n",
       "    <tr>\n",
       "      <th>1</th>\n",
       "      <td>pos</td>\n",
       "      <td>films adapted from comic books have had plenty...</td>\n",
       "    </tr>\n",
       "    <tr>\n",
       "      <th>2</th>\n",
       "      <td>pos</td>\n",
       "      <td>every now and then a movie comes along from a ...</td>\n",
       "    </tr>\n",
       "    <tr>\n",
       "      <th>3</th>\n",
       "      <td>pos</td>\n",
       "      <td>you've got mail works alot better than it dese...</td>\n",
       "    </tr>\n",
       "    <tr>\n",
       "      <th>4</th>\n",
       "      <td>pos</td>\n",
       "      <td>\" jaws \" is a rare film that grabs your atten...</td>\n",
       "    </tr>\n",
       "    <tr>\n",
       "      <th>5</th>\n",
       "      <td>pos</td>\n",
       "      <td>moviemaking is a lot like being the general ma...</td>\n",
       "    </tr>\n",
       "  </tbody>\n",
       "</table>\n",
       "</div>"
      ],
      "text/plain": [
       "   label                                             review\n",
       "id                                                         \n",
       "1    pos  films adapted from comic books have had plenty...\n",
       "2    pos  every now and then a movie comes along from a ...\n",
       "3    pos  you've got mail works alot better than it dese...\n",
       "4    pos   \" jaws \" is a rare film that grabs your atten...\n",
       "5    pos  moviemaking is a lot like being the general ma..."
      ]
     },
     "execution_count": 20,
     "metadata": {},
     "output_type": "execute_result"
    }
   ],
   "source": [
    "df.head()"
   ]
  },
  {
   "cell_type": "code",
   "execution_count": 21,
   "metadata": {},
   "outputs": [
    {
     "data": {
      "text/html": [
       "<div>\n",
       "<style scoped>\n",
       "    .dataframe tbody tr th:only-of-type {\n",
       "        vertical-align: middle;\n",
       "    }\n",
       "\n",
       "    .dataframe tbody tr th {\n",
       "        vertical-align: top;\n",
       "    }\n",
       "\n",
       "    .dataframe thead th {\n",
       "        text-align: right;\n",
       "    }\n",
       "</style>\n",
       "<table border=\"1\" class=\"dataframe\">\n",
       "  <thead>\n",
       "    <tr style=\"text-align: right;\">\n",
       "      <th></th>\n",
       "      <th>label</th>\n",
       "      <th>review</th>\n",
       "    </tr>\n",
       "    <tr>\n",
       "      <th>id</th>\n",
       "      <th></th>\n",
       "      <th></th>\n",
       "    </tr>\n",
       "  </thead>\n",
       "  <tbody>\n",
       "    <tr>\n",
       "      <th>1996</th>\n",
       "      <td>neg</td>\n",
       "      <td>if anything , \" stigmata \" should be taken as ...</td>\n",
       "    </tr>\n",
       "    <tr>\n",
       "      <th>1997</th>\n",
       "      <td>neg</td>\n",
       "      <td>john boorman's \" zardoz \" is a goofy cinematic...</td>\n",
       "    </tr>\n",
       "    <tr>\n",
       "      <th>1998</th>\n",
       "      <td>neg</td>\n",
       "      <td>the kids in the hall are an acquired taste .  ...</td>\n",
       "    </tr>\n",
       "    <tr>\n",
       "      <th>1999</th>\n",
       "      <td>neg</td>\n",
       "      <td>there was a time when john carpenter was a gre...</td>\n",
       "    </tr>\n",
       "    <tr>\n",
       "      <th>2000</th>\n",
       "      <td>neg</td>\n",
       "      <td>two party guys bob their heads to haddaway's d...</td>\n",
       "    </tr>\n",
       "  </tbody>\n",
       "</table>\n",
       "</div>"
      ],
      "text/plain": [
       "     label                                             review\n",
       "id                                                           \n",
       "1996   neg  if anything , \" stigmata \" should be taken as ...\n",
       "1997   neg  john boorman's \" zardoz \" is a goofy cinematic...\n",
       "1998   neg  the kids in the hall are an acquired taste .  ...\n",
       "1999   neg  there was a time when john carpenter was a gre...\n",
       "2000   neg  two party guys bob their heads to haddaway's d..."
      ]
     },
     "execution_count": 21,
     "metadata": {},
     "output_type": "execute_result"
    }
   ],
   "source": [
    "df.tail()"
   ]
  },
  {
   "cell_type": "markdown",
   "metadata": {},
   "source": [
    "We have a list of the reviews which have been integer-tokenized, now let's generate a parallel numpy array of whether the review is positive or negative."
   ]
  },
  {
   "cell_type": "code",
   "execution_count": 22,
   "metadata": {},
   "outputs": [],
   "source": [
    "review_labels = np.array(df['label'] == 'pos', dtype=int)"
   ]
  },
  {
   "cell_type": "code",
   "execution_count": 23,
   "metadata": {},
   "outputs": [
    {
     "data": {
      "text/plain": [
       "array([1, 1, 1, 1, 1])"
      ]
     },
     "execution_count": 23,
     "metadata": {},
     "output_type": "execute_result"
    }
   ],
   "source": [
    "review_labels[:5]"
   ]
  },
  {
   "cell_type": "code",
   "execution_count": 24,
   "metadata": {},
   "outputs": [
    {
     "data": {
      "text/plain": [
       "array([0, 0, 0, 0, 0])"
      ]
     },
     "execution_count": 24,
     "metadata": {},
     "output_type": "execute_result"
    }
   ],
   "source": [
    "review_labels[-5:]"
   ]
  },
  {
   "cell_type": "markdown",
   "metadata": {},
   "source": [
    "As a sanity check, the length of this numpy array should be `2000`."
   ]
  },
  {
   "cell_type": "code",
   "execution_count": 25,
   "metadata": {},
   "outputs": [
    {
     "data": {
      "text/plain": [
       "2000"
      ]
     },
     "execution_count": 25,
     "metadata": {},
     "output_type": "execute_result"
    }
   ],
   "source": [
    "len(review_labels)"
   ]
  },
  {
   "cell_type": "markdown",
   "metadata": {},
   "source": [
    "## Padding\n",
    "The reviews in our dataset contain a different length of tokens."
   ]
  },
  {
   "cell_type": "code",
   "execution_count": 26,
   "metadata": {
    "scrolled": true
   },
   "outputs": [
    {
     "data": {
      "text/plain": [
       "<matplotlib.axes._subplots.AxesSubplot at 0x7f4b85c98278>"
      ]
     },
     "execution_count": 26,
     "metadata": {},
     "output_type": "execute_result"
    },
    {
     "data": {
      "image/png": "[encoded data removed]",
      "text/plain": [
       "<matplotlib.figure.Figure at 0x7f4b85c98550>"
      ]
     },
     "metadata": {},
     "output_type": "display_data"
    }
   ],
   "source": [
    "pd.Series(reviews_as_ids).apply(len).hist()"
   ]
  },
  {
   "cell_type": "markdown",
   "metadata": {},
   "source": [
    "Most of our reviews are under ~1,200 tokens long, and a few are over 2,500 tokens.\n",
    "\n",
    "The problem is that TensorFlow accepts only inputs of fixed length.  \n",
    "Further, LSTMs often have a practical limitation of only working with sequences that are a few hundred items long.\n",
    "\n",
    "This requires us to pick **a single token length** for our reviews as inputs.  \n",
    "Reviews which are shorter than this will be padded on the **right** with `0`s, and reviews which are longer will have to be truncated before being fed to TensorFlow.\n",
    "\n",
    "This is not as serious a limitation as it sounds, but it does have to be dealt with, or TensorFlow will throw errors during training.\n",
    "\n",
    "Accordingly, let's define a **sequence length** that we will fit every review into."
   ]
  },
  {
   "cell_type": "code",
   "execution_count": 27,
   "metadata": {},
   "outputs": [],
   "source": [
    "seq_len = 200\n",
    "\n",
    "x = np.zeros((len(reviews_as_ids), seq_len), dtype=int)\n",
    "for i, review_as_id in enumerate(reviews_as_ids):\n",
    "    x[i, :len(review_as_id)] = np.array(review_as_id)[:seq_len]"
   ]
  },
  {
   "cell_type": "markdown",
   "metadata": {},
   "source": [
    "Shown below are two such sequences, one originally longer than the sequence length, and one shorter."
   ]
  },
  {
   "cell_type": "code",
   "execution_count": 28,
   "metadata": {},
   "outputs": [
    {
     "data": {
      "text/plain": [
       "(array([31910, 12868,  6452, 25351, 33011,  4685, 43683, 31910, 12868,\n",
       "        10724, 25351, 40047, 25510, 14587, 19058, 26155, 29629, 33011,\n",
       "        13196, 34581,  7476, 36863, 46248, 39988, 45984, 38122, 29629,\n",
       "         3921, 34029,  5707, 34581,  7476, 24030, 35470, 39988, 45786,\n",
       "         4898, 29629, 22265, 34581,  7476, 22774,  7392, 39988,  7440,\n",
       "        16674, 23695, 29629, 43975, 25351, 33011, 33402, 34581,  7476,\n",
       "        31457, 25695, 23747, 43683, 37644, 31910, 12868,   664, 32820,\n",
       "        36800, 39988, 31910, 12868, 32325, 12422,  6452, 31656, 42136,\n",
       "        22063, 16984, 36255, 11063, 39135, 36255, 33011,   963,  7440,\n",
       "        22463,  1356, 33011, 30989,   339, 43683, 31910, 32325, 12383,\n",
       "         7335,  6452, 31656, 42136, 37981, 34029, 30592, 25724, 39988,\n",
       "         7440, 24642, 21016,  7335, 19255, 26096, 41741, 17321, 43683,\n",
       "        46423, 33011,  4685, 43683, 33011, 21862, 19524,   257, 39988,\n",
       "        33011, 22001, 15555, 19524,   385,  6470, 39988, 33011, 42632,\n",
       "        28310, 19524,  4505, 39988,  7440, 36863, 46248, 34029, 13497,\n",
       "        15944, 19524, 46486, 36255, 15412, 26926,  4471, 36863,   417,\n",
       "        43683, 41293, 11289, 34029, 16421, 23963, 11040, 39988,  7440,\n",
       "        11301, 44825, 21016, 45477, 38409, 21862, 14587, 11301, 34029,\n",
       "         8172, 27631,  6426, 38128, 21016,  6426, 22143, 43683, 33011,\n",
       "          804, 32474,  7476,  7317, 41538,   145, 36255, 32620, 19036,\n",
       "        38839,  7440, 34817, 15182, 43683, 33011, 34080, 24244, 22583,\n",
       "        42136, 44825, 45984, 38122, 26457, 39988,  7476, 24030, 35470,\n",
       "        39988,  6335]),\n",
       " array([42136, 45253, 44825, 29195, 38842,  7440, 44077, 16078, 36604,\n",
       "        42973, 36255, 22874, 32820, 10987, 22824, 13330, 11301, 43683,\n",
       "            0,     0,     0,     0,     0,     0,     0,     0,     0,\n",
       "            0,     0,     0,     0,     0,     0,     0,     0,     0,\n",
       "            0,     0,     0,     0,     0,     0,     0,     0,     0,\n",
       "            0,     0,     0,     0,     0,     0,     0,     0,     0,\n",
       "            0,     0,     0,     0,     0,     0,     0,     0,     0,\n",
       "            0,     0,     0,     0,     0,     0,     0,     0,     0,\n",
       "            0,     0,     0,     0,     0,     0,     0,     0,     0,\n",
       "            0,     0,     0,     0,     0,     0,     0,     0,     0,\n",
       "            0,     0,     0,     0,     0,     0,     0,     0,     0,\n",
       "            0,     0,     0,     0,     0,     0,     0,     0,     0,\n",
       "            0,     0,     0,     0,     0,     0,     0,     0,     0,\n",
       "            0,     0,     0,     0,     0,     0,     0,     0,     0,\n",
       "            0,     0,     0,     0,     0,     0,     0,     0,     0,\n",
       "            0,     0,     0,     0,     0,     0,     0,     0,     0,\n",
       "            0,     0,     0,     0,     0,     0,     0,     0,     0,\n",
       "            0,     0,     0,     0,     0,     0,     0,     0,     0,\n",
       "            0,     0,     0,     0,     0,     0,     0,     0,     0,\n",
       "            0,     0,     0,     0,     0,     0,     0,     0,     0,\n",
       "            0,     0,     0,     0,     0,     0,     0,     0,     0,\n",
       "            0,     0,     0,     0,     0,     0,     0,     0,     0,\n",
       "            0,     0]))"
      ]
     },
     "execution_count": 28,
     "metadata": {},
     "output_type": "execute_result"
    }
   ],
   "source": [
    "x[31], x[1506]"
   ]
  },
  {
   "cell_type": "markdown",
   "metadata": {},
   "source": [
    "# Data Splitting and Shuffling\n",
    "\n",
    "Now that we have transformed our dataset into a format that TensorFlow can work with, we need to split the dataset into training, testing, and validation sets, so that we can better evaluate the model's performance.\n",
    "\n",
    "Let's use numpy to help us randomize here"
   ]
  },
  {
   "cell_type": "code",
   "execution_count": 29,
   "metadata": {},
   "outputs": [],
   "source": [
    "## Use a seed for reproducibility of results\n",
    "np.random.seed(42)\n",
    "permute = np.random.permutation(range(len(x)))"
   ]
  },
  {
   "cell_type": "code",
   "execution_count": 30,
   "metadata": {
    "scrolled": true
   },
   "outputs": [],
   "source": [
    "## Generate shuffled versions of our data and labels\n",
    "x_shuffled = x[permute]\n",
    "y_shuffled = review_labels[permute]"
   ]
  },
  {
   "cell_type": "code",
   "execution_count": 31,
   "metadata": {},
   "outputs": [],
   "source": [
    "## Use an 80% : 10% : 10% split into training : testing : validation sets\n",
    "train_split = int(0.8*len(x))\n",
    "test_split = int(0.9*len(x))\n",
    "\n",
    "train_x = x_shuffled[:train_split]\n",
    "test_x = x_shuffled[train_split:test_split]\n",
    "val_x = x_shuffled[test_split:]\n",
    "\n",
    "train_y = y_shuffled[:train_split]\n",
    "test_y = y_shuffled[train_split:test_split]\n",
    "val_y = y_shuffled[test_split:]"
   ]
  },
  {
   "cell_type": "markdown",
   "metadata": {},
   "source": [
    "As a sanity check, recall that the original dataset was 1000 positive reviews followed by 1000 negative reviews.  \n",
    "If we've truly shuffled, then the beginning of each of the training, testing, and validation sets should be a mixture of positive or negative:"
   ]
  },
  {
   "cell_type": "code",
   "execution_count": 32,
   "metadata": {},
   "outputs": [
    {
     "data": {
      "text/plain": [
       "array([0, 1, 0, 1, 0, 0])"
      ]
     },
     "execution_count": 32,
     "metadata": {},
     "output_type": "execute_result"
    }
   ],
   "source": [
    "train_y[:6]"
   ]
  },
  {
   "cell_type": "code",
   "execution_count": 33,
   "metadata": {},
   "outputs": [
    {
     "data": {
      "text/plain": [
       "array([1, 1, 0, 1, 1, 0])"
      ]
     },
     "execution_count": 33,
     "metadata": {},
     "output_type": "execute_result"
    }
   ],
   "source": [
    "test_y[:6]"
   ]
  },
  {
   "cell_type": "code",
   "execution_count": 34,
   "metadata": {},
   "outputs": [
    {
     "data": {
      "text/plain": [
       "array([0, 1, 0, 0, 1, 0])"
      ]
     },
     "execution_count": 34,
     "metadata": {},
     "output_type": "execute_result"
    }
   ],
   "source": [
    "val_y[:6]"
   ]
  },
  {
   "cell_type": "markdown",
   "metadata": {},
   "source": [
    "As a final sanity check, note that an 80%, 10%, 10% split should yield numpy arrays of size `1600`, `200`, and `200`"
   ]
  },
  {
   "cell_type": "code",
   "execution_count": 35,
   "metadata": {},
   "outputs": [
    {
     "data": {
      "text/plain": [
       "(1600, 200, 200)"
      ]
     },
     "execution_count": 35,
     "metadata": {},
     "output_type": "execute_result"
    }
   ],
   "source": [
    "len(train_x), len(test_x), len(val_x)"
   ]
  },
  {
   "cell_type": "markdown",
   "metadata": {},
   "source": [
    "# Checkpointing\n",
    "We will use this opportunity to save our training, testing, and validation sets to disk, so that we can quickly load them in the future.\n",
    "\n",
    "Should this notebook need to be run in the future, it can start from the [Loading](#Loading) cells below.\n",
    "## Saving"
   ]
  },
  {
   "cell_type": "code",
   "execution_count": 36,
   "metadata": {},
   "outputs": [],
   "source": [
    "import pickle"
   ]
  },
  {
   "cell_type": "code",
   "execution_count": 37,
   "metadata": {},
   "outputs": [],
   "source": [
    "np.save(\"train_x\", train_x)\n",
    "np.save(\"train_y\", train_y)\n",
    "np.save(\"test_x\", test_x)\n",
    "np.save(\"test_y\", test_y)\n",
    "np.save(\"val_x\", val_x)\n",
    "np.save(\"val_y\", val_y)\n",
    "with open(\"review_word_set.pkl\", 'wb') as f:\n",
    "    pickle.dump(review_word_set, f)"
   ]
  },
  {
   "cell_type": "markdown",
   "metadata": {},
   "source": [
    "## Loading"
   ]
  },
  {
   "cell_type": "code",
   "execution_count": 1,
   "metadata": {},
   "outputs": [],
   "source": [
    "import numpy as np\n",
    "import pickle\n",
    "import matplotlib.pyplot as plt\n",
    "%matplotlib inline"
   ]
  },
  {
   "cell_type": "code",
   "execution_count": 2,
   "metadata": {},
   "outputs": [],
   "source": [
    "train_x = np.load(\"train_x.npy\")\n",
    "train_y = np.load(\"train_y.npy\")\n",
    "test_x = np.load(\"test_x.npy\")\n",
    "test_y = np.load(\"test_y.npy\")\n",
    "val_x = np.load(\"val_x.npy\")\n",
    "val_y = np.load(\"val_y.npy\")\n",
    "with open(\"review_word_set.pkl\", 'rb') as f:\n",
    "    review_word_set = pickle.load(f)"
   ]
  },
  {
   "cell_type": "markdown",
   "metadata": {},
   "source": [
    "# Model Architecture\n",
    "In this section, we will be defining a model architecture that we will use to \"learn\" the task of sentiment analysis.\n",
    "\n",
    "As a broad overview, this will be a neural network that takes a sequence as input, and produces a value of either 0 (a negative review) or 1 (a positive review).\n",
    "\n",
    "From the model's perspective, it will be seeing a vector of the above-defined **sequence length**, which is comprised of non-negative integers.\n",
    "\n",
    "After the input, the first layer of the model will be \"embedding\" these non-negative integers into a smaller representational space of only a few hundred floating-point numbers, to allow it to learn which sequences are important, and which are mere noise.\n",
    "\n",
    "Following this embedding layer, the \"embedded\" word vector will then pass into two parallel \"stacks\" of Long Short-Term Memory (LSTM) cells.\n",
    "\n",
    "The advantage of an LSTM cell is that, throughout time, it is able to remember better what came several dozen items earlier in the sequence than is a typical \"feed-forward\" network.  A broad overview of the machinery that allows an LSTM cell to accomplish this memory throughout a time sequence is shown below.\n",
    "![LSTM Cell, from colah's blog](http://colah.github.io/posts/2015-08-Understanding-LSTMs/img/LSTM3-chain.png)\n",
    "\n",
    "Since our dataset is a sequence of words, it makes sense that the model would benefit from knowing about both the sequence going forward, and going backward.  Intuitively, the review \"This movie has everything that you would expect.  And nothing you wouldn't,\" starts off very positive, and only at the end of the sequence would we start to think that the review is negative.  Knowing that from the beginning would make parsing the sequence easier.  \n",
    "Language parsing is a [complicated task](https://research.googleblog.com/2016/05/announcing-syntaxnet-worlds-most.html) that is outside the scope of this notebook, but having this bi-directional parsing typically helps models to pick out what's important for sentiment classification.\n",
    "\n",
    "The bi-directional stacked LSTM architecture that we implement below will be similar to (though not exactly the same as) the following architecture:\n",
    "![bi-directional stacked LSTM, from WildML](http://www.wildml.com/wp-content/uploads/2015/09/Screen-Shot-2015-09-16-at-2.21.51-PM.png)\n",
    "\n",
    "In the above architecture, each successive black dot may be thought of as a token in our reviews.  After embedding this token, we then pass it to a forward group of LSTM cells, and a backward stack of LSTM cells (both in orange), and then perhaps to more of the same \"stacked\" on top, which then generates outputs (red) at the top.\n",
    "\n",
    "We then connect the red \"output\" cells to a single cell, since we want a single answer from the model, namely whether the given input review has a positive or a negative sentiment.\n",
    "\n",
    "Thankfully, TensorFlow provides an API to implement the above, which we will explore below."
   ]
  },
  {
   "cell_type": "markdown",
   "metadata": {},
   "source": [
    "## Placeholders\n",
    "Let's define the necessary placeholders in order for us to feed our pre-processed data from above into a TensorFlow model:"
   ]
  },
  {
   "cell_type": "code",
   "execution_count": 3,
   "metadata": {},
   "outputs": [
    {
     "name": "stderr",
     "output_type": "stream",
     "text": [
      "/home/human/miniconda3/envs/ProofOfConcept/lib/python3.6/importlib/_bootstrap.py:219: RuntimeWarning: compiletime version 3.5 of module 'tensorflow.python.framework.fast_tensor_util' does not match runtime version 3.6\n",
      "  return f(*args, **kwds)\n"
     ]
    }
   ],
   "source": [
    "import tensorflow as tf"
   ]
  },
  {
   "cell_type": "code",
   "execution_count": 4,
   "metadata": {},
   "outputs": [],
   "source": [
    "graph = tf.Graph()"
   ]
  },
  {
   "cell_type": "code",
   "execution_count": 5,
   "metadata": {},
   "outputs": [],
   "source": [
    "with graph.as_default():\n",
    "    # Define placeholders to accept batches of token-sequences\n",
    "    inputs = tf.placeholder(tf.int32, [None, None], name = \"inputs\")\n",
    "    labels = tf.placeholder(tf.int32, [None, None], name = \"labels\")\n",
    "    \n",
    "    # Define a placeholder to allow us to tweak the dropout hyperparameter\n",
    "    keep_prob = tf.placeholder(tf.float32, name=\"keep_prob\")"
   ]
  },
  {
   "cell_type": "markdown",
   "metadata": {},
   "source": [
    "## Embedding\n",
    "Many of the unique tokens that exist in our dataset, and thus have been assigned an `ID`, occur rarely.  \n",
    "Things that occur rarely don't give a deep learning model much chance to learn what they mean, and so generally they hurt performance unless we take special steps to combat them.\n",
    "\n",
    "As it turns out, we can probably condense the above ~47,000 unique tokens into a few hundred tokens, and still have the model perform well.  \n",
    "\n",
    "This is done through the use of an [\"embedding\"](https://www.tensorflow.org/versions/master/tutorials/seq2seq#embedding) layer, which lets our model decide which of the tokens it sees are important, and which are just noise.\n",
    "\n",
    "Thankfully, TensorFlow provides a compact way to define and use embeddings:"
   ]
  },
  {
   "cell_type": "code",
   "execution_count": 6,
   "metadata": {},
   "outputs": [],
   "source": [
    "embedding_size = 200\n",
    "\n",
    "with graph.as_default():\n",
    "    # Define an embedding that allows us to map our ~47,000 review tokens to our embedding size\n",
    "    # Our model will \"learn\" a good embedding during training\n",
    "    embedding = tf.Variable(tf.random_uniform((len(review_word_set) + 1, embedding_size), -1, 1), name=\"Embedding\")\n",
    "    embed = tf.nn.embedding_lookup(embedding, inputs, name=\"Embedding_Lookup\")"
   ]
  },
  {
   "cell_type": "markdown",
   "metadata": {},
   "source": [
    "## Encoder\n",
    "Now that we have defined an embedding to squash our input token sequences into a more manageable space, we now define an encoder that will be the heart of this bi-directional stacked LSTM model:"
   ]
  },
  {
   "cell_type": "code",
   "execution_count": 7,
   "metadata": {},
   "outputs": [],
   "source": [
    "num_lstm_layers = 2\n",
    "num_lstm_units = 128\n",
    "\n",
    "with graph.as_default():\n",
    "    \n",
    "    def getLSTMlist(num_layers):\n",
    "        \"\"\"\n",
    "        Returns a list containing num_layers LSTM cells,\n",
    "        wrapped in dropout.\n",
    "        \n",
    "        This is to avoid TensorFlow syntax errors with the\n",
    "        [cell] * num_layers construction\n",
    "        \"\"\"\n",
    "        cell_list = []\n",
    "        for _ in range(num_layers):\n",
    "            # Your basic LSTM cell, with L2 regularization\n",
    "            lstm = tf.contrib.rnn.BasicLSTMCell(num_units=num_lstm_units)\n",
    "            \n",
    "            # Add dropout to the cell, using the keep_prob tensor\n",
    "            drop = tf.contrib.rnn.DropoutWrapper(lstm, output_keep_prob=keep_prob)\n",
    "            cell_list.append(drop)\n",
    "            \n",
    "        return cell_list\n",
    "    \n",
    "    forward_LSTMs = getLSTMlist(num_lstm_layers)\n",
    "    backward_LSTMs = getLSTMlist(num_lstm_layers)\n",
    "    \n",
    "    # Stack up multiple bidirectional LSTM layers\n",
    "    # Use dynamic to handle the unpacking of non-sequential input (embed)\n",
    "    outputs, output_state_fw, output_state_bw = \\\n",
    "        tf.contrib.rnn.stack_bidirectional_dynamic_rnn(forward_LSTMs, backward_LSTMs, embed, dtype=tf.float32)"
   ]
  },
  {
   "cell_type": "markdown",
   "metadata": {},
   "source": [
    "TensorBoard visualizes the above as follows:  \n",
    "![stack_bidirectional_rnn](img/stack.png)"
   ]
  },
  {
   "cell_type": "markdown",
   "metadata": {},
   "source": [
    "## Loss Function and Optimizer\n",
    "Finally, we will need to specify a loss function for our model so that it learns properly."
   ]
  },
  {
   "cell_type": "code",
   "execution_count": 8,
   "metadata": {},
   "outputs": [],
   "source": [
    "learning_rate = 1e-3\n",
    "alpha = 1e-2 # the factor by which to scale our L2 losses\n",
    "\n",
    "with graph.as_default():\n",
    "    # Squash outputs to a single real number in the range of 0 to 1\n",
    "    predictions = tf.contrib.layers.fully_connected(outputs[:, -1], 1, activation_fn=tf.sigmoid)\n",
    "     \n",
    "    loss = tf.losses.mean_squared_error(labels, predictions)\n",
    "    \n",
    "    # Optimizer for training, using gradient clipping to control exploding gradients\n",
    "    tvars = tf.trainable_variables()\n",
    "    \n",
    "    # Get the L2 losses for weights, kernels, and biases, to discourage memorizing the training set\n",
    "    for tensor in tvars:\n",
    "        if \"kernel\" in tensor.name or \"weights\" in tensor.name or \"bias\" in tensor.name:\n",
    "            loss += alpha * tf.nn.l2_loss(tensor)\n",
    "    \n",
    "    grads, _ = tf.clip_by_global_norm(tf.gradients(loss, tvars), 5) # clip gradients to 5\n",
    "    optimizer = tf.train.AdamOptimizer(learning_rate).minimize(loss, var_list=tvars)"
   ]
  },
  {
   "cell_type": "markdown",
   "metadata": {},
   "source": [
    "## Evaluation Operations"
   ]
  },
  {
   "cell_type": "code",
   "execution_count": 9,
   "metadata": {},
   "outputs": [],
   "source": [
    "with graph.as_default():\n",
    "\n",
    "    ## Round our sigmoid [0,1] output to be either 0 or 1\n",
    "    predictions_integer = tf.cast(tf.round(predictions), tf.int32, name=\"Prediction_Integers\")\n",
    "\n",
    "    ## Define operations for {true, false} {positive, negative} predictions\n",
    "    TP = tf.count_nonzero(predictions_integer * labels, name='True_Positives', dtype=tf.int32)\n",
    "    TN = tf.count_nonzero((predictions_integer - 1) * (labels - 1), name=\"True_Negatives\", dtype=tf.int32)\n",
    "    FP = tf.count_nonzero(predictions_integer * (labels - 1), name=\"False_Positives\", dtype=tf.int32)\n",
    "    FN = tf.count_nonzero((predictions_integer - 1) * labels, name=\"False_Negatives\", dtype=tf.int32)\n",
    "\n",
    "    ## Define operations for accuracy, precision, recall, and F1 score\n",
    "\n",
    "    # accuracy ::= (TP + TN) / (TN + FN + TP + FP)\n",
    "    accuracy = tf.divide(TP + TN, TN + FN + TP + FP, name=\"Accuracy\")\n",
    "\n",
    "    # precision ::= TP / (TP + FP)\n",
    "    precision = tf.divide(TP, TP + FP, name=\"Precision\")\n",
    "\n",
    "    # recall::= TP / (TP + FN)\n",
    "    recall = tf.divide(TP, TP + FN, name=\"Recall\")\n",
    "\n",
    "    # F1 score ::= 2 * precision * recall / (precision + recall)\n",
    "    f1 = tf.divide((2 * precision * recall), (precision + recall), name=\"F1_score\")\n",
    "\n",
    "    # To also record this information in TensorBoard, we'll define scalar summaries here\n",
    "    with tf.name_scope('summaries'):\n",
    "        tf.summary.scalar('Loss', loss)\n",
    "        tf.summary.scalar('Accuracy', accuracy)\n",
    "        tf.summary.scalar('Precision', precision)\n",
    "        tf.summary.scalar('Recall', recall)\n",
    "        tf.summary.scalar('F1_score', f1)"
   ]
  },
  {
   "cell_type": "markdown",
   "metadata": {},
   "source": [
    "# Training the Model\n",
    "We're almost ready to start training our model.\n",
    "\n",
    "Before we begin training, let's define a function that we can use to generate batches of our training data, so that we don't risk running out of memory by loading everything into the model at once."
   ]
  },
  {
   "cell_type": "code",
   "execution_count": 10,
   "metadata": {},
   "outputs": [],
   "source": [
    "def get_batches(x, y, batch_size=100):\n",
    "    '''\n",
    "    Given a set of features x, and a set of labels y,\n",
    "    return a generator yields shuffled batch_size tuples of x and y.\n",
    "    \n",
    "    Note that this function truncates x and y, if necessary,\n",
    "    so that it only returns full batches.\n",
    "    '''\n",
    "    ## Truncate x and y so that no batch is empty\n",
    "    num_batches = len(x) // batch_size\n",
    "    x, y = x[:num_batches * batch_size], y[:num_batches * batch_size]\n",
    "    \n",
    "    ## Shuffle x and y on the same index permutation\n",
    "    permute = np.random.permutation(range(len(x)))\n",
    "    x = x[permute]\n",
    "    y = y[permute]\n",
    "    \n",
    "    for i in range(0, len(x), batch_size):\n",
    "        yield x[i:i + batch_size], y[i:i + batch_size]"
   ]
  },
  {
   "cell_type": "code",
   "execution_count": 11,
   "metadata": {},
   "outputs": [],
   "source": [
    "# To keep our summary directories separate\n",
    "from datetime import datetime"
   ]
  },
  {
   "cell_type": "code",
   "execution_count": 12,
   "metadata": {
    "scrolled": false
   },
   "outputs": [
    {
     "name": "stdout",
     "output_type": "stream",
     "text": [
      "Epoch:  0/20 Iteration:    5 Training loss: 0.781 accuracy: 0.440 precision: 0.400 recall: 0.383 f1: 0.391\n",
      "Epoch:  0/20 Iteration:   10 Training loss: 0.748 accuracy: 0.560 precision: 0.580 recall: 0.558 f1: 0.569\n",
      "Epoch:  0/20 Iteration:   15 Training loss: 0.718 accuracy: 0.520 precision: 0.569 recall: 0.527 f1: 0.547\n",
      "Epoch:  1/20 Iteration:   20 Training loss: 0.686 accuracy: 0.600 precision: 0.556 recall: 0.556 f1: 0.556\n",
      "Epoch:  1/20 Iteration:   25 Training loss: 0.658 accuracy: 0.560 precision: 0.528 recall: 0.596 f1: 0.560\n",
      "                          Validation loss: 0.658 accuracy: 0.515 precision: 0.523 recall: 0.577 f1: 0.543\n",
      "Epoch:  1/20 Iteration:   30 Training loss: 0.626 accuracy: 0.600 precision: 0.574 recall: 0.574 f1: 0.574\n",
      "Epoch:  2/20 Iteration:   35 Training loss: 0.604 accuracy: 0.560 precision: 0.567 recall: 0.654 f1: 0.607\n",
      "Epoch:  2/20 Iteration:   40 Training loss: 0.585 accuracy: 0.580 precision: 0.589 recall: 0.635 f1: 0.611\n",
      "Epoch:  2/20 Iteration:   45 Training loss: 0.570 accuracy: 0.480 precision: 0.431 recall: 0.568 f1: 0.490\n",
      "Epoch:  3/20 Iteration:   50 Training loss: 0.550 accuracy: 0.570 precision: 0.583 recall: 0.660 f1: 0.619\n",
      "                          Validation loss: 0.544 accuracy: 0.540 precision: 0.535 recall: 0.703 f1: 0.607\n",
      "Epoch:  3/20 Iteration:   55 Training loss: 0.526 accuracy: 0.560 precision: 0.576 recall: 0.642 f1: 0.607\n",
      "Epoch:  3/20 Iteration:   60 Training loss: 0.506 accuracy: 0.580 precision: 0.518 recall: 0.659 f1: 0.580\n",
      "Epoch:  4/20 Iteration:   65 Training loss: 0.494 accuracy: 0.550 precision: 0.537 recall: 0.592 f1: 0.563\n",
      "Epoch:  4/20 Iteration:   70 Training loss: 0.470 accuracy: 0.550 precision: 0.548 recall: 0.667 f1: 0.602\n",
      "Epoch:  4/20 Iteration:   75 Training loss: 0.461 accuracy: 0.510 precision: 0.556 recall: 0.545 f1: 0.550\n",
      "                          Validation loss: 0.460 accuracy: 0.535 precision: 0.528 recall: 0.701 f1: 0.602\n",
      "Epoch:  4/20 Iteration:   80 Training loss: 0.448 accuracy: 0.510 precision: 0.516 recall: 0.627 f1: 0.566\n",
      "Epoch:  5/20 Iteration:   85 Training loss: 0.434 accuracy: 0.570 precision: 0.589 recall: 0.623 f1: 0.606\n",
      "Epoch:  5/20 Iteration:   90 Training loss: 0.419 accuracy: 0.600 precision: 0.554 recall: 0.766 f1: 0.643\n",
      "Epoch:  5/20 Iteration:   95 Training loss: 0.408 accuracy: 0.550 precision: 0.571 recall: 0.604 f1: 0.587\n",
      "Epoch:  6/20 Iteration:  100 Training loss: 0.401 accuracy: 0.490 precision: 0.482 recall: 0.551 f1: 0.514\n",
      "                          Validation loss: 0.399 accuracy: 0.525 precision: 0.520 recall: 0.711 f1: 0.601\n",
      "Epoch:  6/20 Iteration:  105 Training loss: 0.396 accuracy: 0.510 precision: 0.484 recall: 0.660 f1: 0.559\n",
      "Epoch:  6/20 Iteration:  110 Training loss: 0.374 accuracy: 0.570 precision: 0.564 recall: 0.620 f1: 0.590\n",
      "Epoch:  7/20 Iteration:  115 Training loss: 0.365 accuracy: 0.590 precision: 0.571 recall: 0.720 f1: 0.637\n",
      "Epoch:  7/20 Iteration:  120 Training loss: 0.362 accuracy: 0.540 precision: 0.551 recall: 0.796 f1: 0.652\n",
      "Epoch:  7/20 Iteration:  125 Training loss: 0.350 accuracy: 0.560 precision: 0.578 recall: 0.685 f1: 0.627\n",
      "                          Validation loss: 0.355 accuracy: 0.520 precision: 0.518 recall: 0.724 f1: 0.603\n",
      "Epoch:  8/20 Iteration:  130 Training loss: 0.346 accuracy: 0.540 precision: 0.544 recall: 0.608 f1: 0.574\n",
      "Epoch:  8/20 Iteration:  135 Training loss: 0.340 accuracy: 0.570 precision: 0.524 recall: 0.717 f1: 0.606\n",
      "Epoch:  8/20 Iteration:  140 Training loss: 0.331 accuracy: 0.550 precision: 0.547 recall: 0.686 f1: 0.609\n",
      "Epoch:  9/20 Iteration:  145 Training loss: 0.332 accuracy: 0.490 precision: 0.500 recall: 0.569 f1: 0.532\n",
      "Epoch:  9/20 Iteration:  150 Training loss: 0.317 accuracy: 0.590 precision: 0.631 recall: 0.707 f1: 0.667\n",
      "                          Validation loss: 0.324 accuracy: 0.520 precision: 0.518 recall: 0.733 f1: 0.606\n",
      "Epoch:  9/20 Iteration:  155 Training loss: 0.314 accuracy: 0.590 precision: 0.565 recall: 0.714 f1: 0.631\n",
      "Epoch:  9/20 Iteration:  160 Training loss: 0.306 accuracy: 0.640 precision: 0.632 recall: 0.706 f1: 0.667\n",
      "Epoch: 10/20 Iteration:  165 Training loss: 0.301 accuracy: 0.660 precision: 0.667 recall: 0.828 f1: 0.738\n",
      "Epoch: 10/20 Iteration:  170 Training loss: 0.293 accuracy: 0.600 precision: 0.574 recall: 0.780 f1: 0.661\n",
      "Epoch: 10/20 Iteration:  175 Training loss: 0.296 accuracy: 0.600 precision: 0.577 recall: 0.804 f1: 0.672\n",
      "                          Validation loss: 0.303 accuracy: 0.500 precision: 0.504 recall: 0.695 f1: 0.583\n",
      "Epoch: 11/20 Iteration:  180 Training loss: 0.292 accuracy: 0.580 precision: 0.557 recall: 0.694 f1: 0.618\n",
      "Epoch: 11/20 Iteration:  185 Training loss: 0.283 accuracy: 0.690 precision: 0.617 recall: 0.822 f1: 0.705\n",
      "Epoch: 11/20 Iteration:  190 Training loss: 0.285 accuracy: 0.620 precision: 0.600 recall: 0.720 f1: 0.655\n",
      "Epoch: 12/20 Iteration:  195 Training loss: 0.281 accuracy: 0.620 precision: 0.617 recall: 0.712 f1: 0.661\n",
      "Epoch: 12/20 Iteration:  200 Training loss: 0.275 accuracy: 0.640 precision: 0.627 recall: 0.792 f1: 0.700\n",
      "                          Validation loss: 0.288 accuracy: 0.520 precision: 0.518 recall: 0.713 f1: 0.600\n",
      "Epoch: 12/20 Iteration:  205 Training loss: 0.269 accuracy: 0.700 precision: 0.688 recall: 0.815 f1: 0.746\n",
      "Epoch: 13/20 Iteration:  210 Training loss: 0.267 accuracy: 0.690 precision: 0.681 recall: 0.839 f1: 0.752\n",
      "Epoch: 13/20 Iteration:  215 Training loss: 0.266 accuracy: 0.700 precision: 0.643 recall: 0.783 f1: 0.706\n",
      "Epoch: 13/20 Iteration:  220 Training loss: 0.273 accuracy: 0.550 precision: 0.557 recall: 0.654 f1: 0.602\n",
      "Epoch: 14/20 Iteration:  225 Training loss: 0.260 accuracy: 0.660 precision: 0.617 recall: 0.771 f1: 0.685\n",
      "                          Validation loss: 0.280 accuracy: 0.495 precision: 0.494 recall: 0.563 f1: 0.526\n",
      "Epoch: 14/20 Iteration:  230 Training loss: 0.245 accuracy: 0.730 precision: 0.778 recall: 0.737 f1: 0.757\n",
      "Epoch: 14/20 Iteration:  235 Training loss: 0.225 accuracy: 0.730 precision: 0.800 recall: 0.733 f1: 0.765\n",
      "Epoch: 14/20 Iteration:  240 Training loss: 0.251 accuracy: 0.640 precision: 0.661 recall: 0.709 f1: 0.684\n",
      "Epoch: 15/20 Iteration:  245 Training loss: 0.239 accuracy: 0.730 precision: 0.714 recall: 0.729 f1: 0.722\n",
      "Epoch: 15/20 Iteration:  250 Training loss: 0.213 accuracy: 0.790 precision: 0.729 recall: 0.814 f1: 0.769\n",
      "                          Validation loss: 0.283 accuracy: 0.555 precision: 0.561 recall: 0.530 f1: 0.544\n",
      "Epoch: 15/20 Iteration:  255 Training loss: 0.236 accuracy: 0.660 precision: 0.696 recall: 0.696 f1: 0.696\n",
      "Epoch: 16/20 Iteration:  260 Training loss: 0.191 accuracy: 0.780 precision: 0.800 recall: 0.769 f1: 0.784\n",
      "Epoch: 16/20 Iteration:  265 Training loss: 0.200 accuracy: 0.750 precision: 0.841 recall: 0.673 f1: 0.747\n",
      "Epoch: 16/20 Iteration:  270 Training loss: 0.204 accuracy: 0.740 precision: 0.787 recall: 0.787 f1: 0.787\n",
      "Epoch: 17/20 Iteration:  275 Training loss: 0.178 accuracy: 0.820 precision: 0.850 recall: 0.850 f1: 0.850\n",
      "                          Validation loss: 0.299 accuracy: 0.540 precision: 0.551 recall: 0.485 f1: 0.516\n",
      "Epoch: 17/20 Iteration:  280 Training loss: 0.165 accuracy: 0.870 precision: 0.872 recall: 0.810 f1: 0.840\n",
      "Epoch: 17/20 Iteration:  285 Training loss: 0.151 accuracy: 0.880 precision: 0.897 recall: 0.897 f1: 0.897\n",
      "Epoch: 18/20 Iteration:  290 Training loss: 0.154 accuracy: 0.880 precision: 0.826 recall: 0.905 f1: 0.864\n",
      "Epoch: 18/20 Iteration:  295 Training loss: 0.131 accuracy: 0.910 precision: 0.878 recall: 0.935 f1: 0.905\n",
      "Epoch: 18/20 Iteration:  300 Training loss: 0.133 accuracy: 0.880 precision: 0.897 recall: 0.897 f1: 0.897\n",
      "                          Validation loss: 0.308 accuracy: 0.550 precision: 0.566 recall: 0.523 f1: 0.540\n",
      "Epoch: 19/20 Iteration:  305 Training loss: 0.127 accuracy: 0.900 precision: 0.959 recall: 0.855 f1: 0.904\n",
      "Epoch: 19/20 Iteration:  310 Training loss: 0.107 accuracy: 0.950 precision: 0.963 recall: 0.945 f1: 0.954\n",
      "Epoch: 19/20 Iteration:  315 Training loss: 0.138 accuracy: 0.890 precision: 0.902 recall: 0.885 f1: 0.893\n",
      "Epoch: 19/20 Iteration:  320 Training loss: 0.127 accuracy: 0.910 precision: 0.900 recall: 0.918 f1: 0.909\n"
     ]
    }
   ],
   "source": [
    "epochs = 20\n",
    "batch_size = 100\n",
    "train_keep_prob = 0.8\n",
    "\n",
    "# Define a time-stamped directory in which to keep the TensorBoard data for this run\n",
    "summaries_dir = \"./summaries/\" + datetime.now().strftime(\"%Y%m%d%H%M%S\")\n",
    "\n",
    "with graph.as_default():\n",
    "    saver = tf.train.Saver()\n",
    "\n",
    "with tf.Session(graph=graph) as sess:\n",
    "    merged = tf.summary.merge_all()\n",
    "    train_writer = tf.summary.FileWriter(summaries_dir + '/train',\n",
    "                                          sess.graph)\n",
    "    test_writer = tf.summary.FileWriter(summaries_dir + '/test')\n",
    "    val_writer = tf.summary.FileWriter(summaries_dir + '/val')\n",
    "    \n",
    "    sess.run(tf.global_variables_initializer())\n",
    "    iteration = 1\n",
    "    for e in range(epochs):\n",
    "        for x, y in get_batches(train_x, train_y, batch_size):\n",
    "            feed = {inputs: x,\n",
    "                    labels: y[:, None],\n",
    "                    keep_prob: train_keep_prob}\n",
    "            summary, tr_loss, tr_acc, tr_prec, tr_rec, tr_f1, _ = \\\n",
    "                sess.run([merged, loss, accuracy, precision, recall, f1, optimizer], feed_dict=feed)\n",
    "            train_writer.add_summary(summary, iteration)\n",
    "            \n",
    "            # Print training information\n",
    "            if iteration%5==0:\n",
    "                print(\"Epoch:{: 3d}/{}\".format(e, epochs),\n",
    "                      \"Iteration: {: 4d} Training\".format(iteration),\n",
    "                      \"loss: {:.3f}\".format(tr_loss),\n",
    "                     \"accuracy: {:.3f}\".format(tr_acc),\n",
    "                     \"precision: {:.3f}\".format(tr_prec),\n",
    "                     \"recall: {:.3f}\".format(tr_rec),\n",
    "                     \"f1: {:.3f}\".format(tr_f1))\n",
    "            \n",
    "            # Evaluate the validation set\n",
    "            if iteration%25==0:\n",
    "                running_stats = []\n",
    "                for x, y in get_batches(val_x, val_y, batch_size):\n",
    "                    feed = {inputs: x,\n",
    "                            labels: y[:, None],\n",
    "                            keep_prob: 1}\n",
    "                    summary, v_loss, v_acc, v_prec, v_rec, v_f1 = \\\n",
    "                        sess.run([merged, loss, accuracy, precision, recall, f1], feed_dict=feed)\n",
    "                    val_writer.add_summary(summary, iteration)\n",
    "                    running_stats.append([v_loss, v_acc, v_prec, v_rec, v_f1])\n",
    "                running_stats = np.array(running_stats)\n",
    "                val_averages = running_stats.mean(axis=0)\n",
    "                print(\" \"*25,\n",
    "                      \"Validation loss: {:.3f}\".format(val_averages[0]),\n",
    "                     \"accuracy: {:.3f}\".format(val_averages[1]),\n",
    "                     \"precision: {:.3f}\".format(val_averages[2]),\n",
    "                     \"recall: {:.3f}\".format(val_averages[3]),\n",
    "                     \"f1: {:.3f}\".format(val_averages[4]))\n",
    "            iteration +=1\n",
    "    saver.save(sess, \"checkpoints/sentiment.ckpt\")"
   ]
  },
  {
   "cell_type": "markdown",
   "metadata": {},
   "source": [
    "# Evaluating Performance\n",
    "Below are some screen captures from TensorBoard, to show how the model's Accuracy, Precision, Recall, F1 Score, and Loss progressed on the training and validation sets during training:  \n",
    "**Photo goes here**"
   ]
  },
  {
   "cell_type": "markdown",
   "metadata": {},
   "source": [
    "Now, let's see how our model performed on the test set that we held out earlier.\n",
    "\n",
    "In order to do this, we will plot a \"confusion matrix,\" which concisely displays how many false positives, false negatives, true positives, and true negatives the model yielded.\n",
    "\n",
    "First, let's define our helper code for printing a confusion matrix"
   ]
  },
  {
   "cell_type": "code",
   "execution_count": 13,
   "metadata": {},
   "outputs": [],
   "source": [
    "import itertools"
   ]
  },
  {
   "cell_type": "code",
   "execution_count": 14,
   "metadata": {},
   "outputs": [],
   "source": [
    "def plot_confusion_matrix(cm, classes,\n",
    "                          normalize=False,\n",
    "                          title='Confusion matrix',\n",
    "                          cmap=plt.cm.Blues):\n",
    "    \"\"\"\n",
    "    This function prints and plots the confusion matrix.\n",
    "    Normalization can be applied by setting `normalize=True`.\n",
    "    \n",
    "    http://scikit-learn.org/stable/auto_examples/model_selection/plot_confusion_matrix.html#sphx-glr-auto-examples-model-selection-plot-confusion-matrix-py\n",
    "    \"\"\"\n",
    "    if normalize:\n",
    "        cm = cm.astype('float') / cm.sum(axis=1)[:, np.newaxis]\n",
    "\n",
    "    print(cm)\n",
    "\n",
    "    plt.imshow(cm, interpolation='nearest', cmap=cmap)\n",
    "    plt.title(title)\n",
    "    plt.colorbar()\n",
    "    tick_marks = np.arange(len(classes))\n",
    "    plt.xticks(tick_marks, classes, rotation=45)\n",
    "    plt.yticks(tick_marks, classes)\n",
    "\n",
    "    fmt = '.3f' if normalize else 'd'\n",
    "    thresh = cm.max() / 2.\n",
    "    for i, j in itertools.product(range(cm.shape[0]), range(cm.shape[1])):\n",
    "        plt.text(j, i, format(cm[i, j], fmt),\n",
    "                 horizontalalignment=\"center\",\n",
    "                 color=\"white\" if cm[i, j] > thresh else \"black\")\n",
    "\n",
    "    plt.tight_layout()\n",
    "    plt.ylabel('True label')\n",
    "    plt.xlabel('Predicted label')"
   ]
  },
  {
   "cell_type": "code",
   "execution_count": 18,
   "metadata": {},
   "outputs": [
    {
     "name": "stdout",
     "output_type": "stream",
     "text": [
      "[[ 0.8  0.2]\n",
      " [ 0.4  0.6]]\n"
     ]
    },
    {
     "data": {
      "image/png": "[encoded data removed]",
      "text/plain": [
       "<matplotlib.figure.Figure at 0x7fcd8a860eb8>"
      ]
     },
     "metadata": {},
     "output_type": "display_data"
    }
   ],
   "source": [
    "cnf_matrix = np.array([[8,2],[8,12]])\n",
    "# [TP, FN], [FP, TN]\n",
    "class_names = [\"Positive\", \"Negative\"]\n",
    "\n",
    "np.set_printoptions(precision=3)\n",
    "# Plot normalized confusion matrix\n",
    "\n",
    "plt.Figure()\n",
    "plot_confusion_matrix(cnf_matrix, classes=class_names, normalize=True,\n",
    "                      title='Normalized confusion matrix, Dummy Values')\n",
    "\n",
    "plt.show()"
   ]
  },
  {
   "cell_type": "markdown",
   "metadata": {},
   "source": [
    "Now, let's reload our model from disk, and run it on the test set:"
   ]
  },
  {
   "cell_type": "code",
   "execution_count": 19,
   "metadata": {},
   "outputs": [
    {
     "name": "stdout",
     "output_type": "stream",
     "text": [
      "INFO:tensorflow:Restoring parameters from checkpoints/sentiment.ckpt\n",
      "Test loss: 0.328 accuracy: 0.590 precision: 0.499 recall: 0.731 f1: 0.590\n"
     ]
    }
   ],
   "source": [
    "running_stats = []\n",
    "with tf.Session(graph=graph) as sess:\n",
    "    saver.restore(sess, tf.train.latest_checkpoint('checkpoints'))\n",
    "    conf_mat = np.zeros(4, dtype=int)\n",
    "    running_stats = []\n",
    "    for i, (x, y) in enumerate(get_batches(test_x, test_y, batch_size), 1):\n",
    "        feed = {inputs: x,\n",
    "                labels: y[:, None],\n",
    "                keep_prob: 1}\n",
    "        v_loss, v_acc, v_prec, v_rec, v_f1, true_pos, false_neg, false_pos, true_neg = \\\n",
    "            sess.run([loss, accuracy, precision, recall, f1, TP, FN, FP, TN], feed_dict=feed)\n",
    "        running_stats.append([v_loss, v_acc, v_prec, v_rec, v_f1])\n",
    "        conf_mat += (true_pos, true_neg, false_pos, false_neg)\n",
    "        \n",
    "    running_stats = np.array(running_stats)\n",
    "    test_averages = running_stats.mean(axis=0)\n",
    "    print(\"Test loss: {:.3f}\".format(test_averages[0]),\n",
    "                 \"accuracy: {:.3f}\".format(test_averages[1]),\n",
    "                 \"precision: {:.3f}\".format(test_averages[2]),\n",
    "                 \"recall: {:.3f}\".format(test_averages[3]),\n",
    "                 \"f1: {:.3f}\".format(test_averages[4]))"
   ]
  },
  {
   "cell_type": "code",
   "execution_count": 19,
   "metadata": {},
   "outputs": [
    {
     "name": "stdout",
     "output_type": "stream",
     "text": [
      "[[ 0.519  0.481]\n",
      " [ 0.728  0.272]]\n"
     ]
    },
    {
     "data": {
      "image/png": "[encoded data removed]",
      "text/plain": [
       "<matplotlib.figure.Figure at 0x7f852417d160>"
      ]
     },
     "metadata": {},
     "output_type": "display_data"
    }
   ],
   "source": [
    "# Reshape into 2 x 2 matrix\n",
    "conf_mat = conf_mat.reshape((2,2))\n",
    "\n",
    "class_names = [\"Positive\", \"Negative\"]\n",
    "\n",
    "# Plot normalized confusion matrix\n",
    "\n",
    "plt.Figure()\n",
    "plot_confusion_matrix(conf_mat, classes=class_names, normalize=True,\n",
    "                      title='Normalized confusion matrix, Test Set')\n",
    "\n",
    "plt.show()"
   ]
  },
  {
   "cell_type": "markdown",
   "metadata": {},
   "source": [
    "# Conclusion\n"
   ]
  }
 ],
 "metadata": {
  "kernelspec": {
   "display_name": "Python 3",
   "language": "python",
   "name": "python3"
  },
  "language_info": {
   "codemirror_mode": {
    "name": "ipython",
    "version": 3
   },
   "file_extension": ".py",
   "mimetype": "text/x-python",
   "name": "python",
   "nbconvert_exporter": "python",
   "pygments_lexer": "ipython3",
   "version": "3.6.3"
  }
 },
 "nbformat": 4,
 "nbformat_minor": 2
}
