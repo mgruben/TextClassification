{
 "cells": [
  {
   "cell_type": "markdown",
   "metadata": {},
   "source": [
    "# Introduction\n",
    "This notebook is intended to showcase a text classification proof-of-concept model, developed in TensorFlow.\n",
    "\n",
    "The dataset used for this notebook is the [Cornell Movie Review dataset](http://www.cs.cornell.edu/people/pabo/movie-review-data/)."
   ]
  },
  {
   "cell_type": "markdown",
   "metadata": {},
   "source": [
    "# Data Exploration and Analysis\n",
    "First, let's load our dataset into a `pandas` dataframe."
   ]
  },
  {
   "cell_type": "code",
   "execution_count": 1,
   "metadata": {},
   "outputs": [],
   "source": [
    "import pandas as pd\n",
    "%matplotlib inline"
   ]
  },
  {
   "cell_type": "code",
   "execution_count": 2,
   "metadata": {},
   "outputs": [],
   "source": [
    "df = pd.read_csv(\"./data/cornell_movie_review.csv\", index_col=0)"
   ]
  },
  {
   "cell_type": "markdown",
   "metadata": {},
   "source": [
    "Let's get an idea of what the dataset looks like here."
   ]
  },
  {
   "cell_type": "code",
   "execution_count": 3,
   "metadata": {},
   "outputs": [
    {
     "data": {
      "text/html": [
       "<div>\n",
       "<style scoped>\n",
       "    .dataframe tbody tr th:only-of-type {\n",
       "        vertical-align: middle;\n",
       "    }\n",
       "\n",
       "    .dataframe tbody tr th {\n",
       "        vertical-align: top;\n",
       "    }\n",
       "\n",
       "    .dataframe thead th {\n",
       "        text-align: right;\n",
       "    }\n",
       "</style>\n",
       "<table border=\"1\" class=\"dataframe\">\n",
       "  <thead>\n",
       "    <tr style=\"text-align: right;\">\n",
       "      <th></th>\n",
       "      <th>label</th>\n",
       "      <th>review</th>\n",
       "    </tr>\n",
       "    <tr>\n",
       "      <th>id</th>\n",
       "      <th></th>\n",
       "      <th></th>\n",
       "    </tr>\n",
       "  </thead>\n",
       "  <tbody>\n",
       "    <tr>\n",
       "      <th>1</th>\n",
       "      <td>pos</td>\n",
       "      <td>films adapted from comic books have had plenty...</td>\n",
       "    </tr>\n",
       "    <tr>\n",
       "      <th>2</th>\n",
       "      <td>pos</td>\n",
       "      <td>every now and then a movie comes along from a ...</td>\n",
       "    </tr>\n",
       "    <tr>\n",
       "      <th>3</th>\n",
       "      <td>pos</td>\n",
       "      <td>you've got mail works alot better than it dese...</td>\n",
       "    </tr>\n",
       "    <tr>\n",
       "      <th>4</th>\n",
       "      <td>pos</td>\n",
       "      <td>\" jaws \" is a rare film that grabs your atten...</td>\n",
       "    </tr>\n",
       "    <tr>\n",
       "      <th>5</th>\n",
       "      <td>pos</td>\n",
       "      <td>moviemaking is a lot like being the general ma...</td>\n",
       "    </tr>\n",
       "  </tbody>\n",
       "</table>\n",
       "</div>"
      ],
      "text/plain": [
       "   label                                             review\n",
       "id                                                         \n",
       "1    pos  films adapted from comic books have had plenty...\n",
       "2    pos  every now and then a movie comes along from a ...\n",
       "3    pos  you've got mail works alot better than it dese...\n",
       "4    pos   \" jaws \" is a rare film that grabs your atten...\n",
       "5    pos  moviemaking is a lot like being the general ma..."
      ]
     },
     "execution_count": 3,
     "metadata": {},
     "output_type": "execute_result"
    }
   ],
   "source": [
    "df.head()"
   ]
  },
  {
   "cell_type": "markdown",
   "metadata": {},
   "source": [
    "Hmm, it looks like **review** can't fully fit in the above table.  \n",
    "Let's grab the first review (1-indexed!) and see what it looks like:"
   ]
  },
  {
   "cell_type": "code",
   "execution_count": 4,
   "metadata": {},
   "outputs": [
    {
     "data": {
      "text/plain": [
       "'films adapted from comic books have had plenty of success , whether they\\'re about superheroes ( batman , superman , spawn ) , or geared toward kids ( casper ) or the arthouse crowd ( ghost world ) , but there\\'s never really been a comic book like from hell before .  for starters , it was created by alan moore ( and eddie campbell ) , who brought the medium to a whole new level in the mid \\'80s with a 12-part series called the watchmen .  to say moore and campbell thoroughly researched the subject of jack the ripper would be like saying michael jackson is starting to look a little odd .  the book ( or \" graphic novel , \" if you will ) is over 500 pages long and includes nearly 30 more that consist of nothing but footnotes .  in other words , don\\'t dismiss this film because of its source .  if you can get past the whole comic book thing , you might find another stumbling block in from hell\\'s directors , albert and allen hughes .  getting the hughes brothers to direct this seems almost as ludicrous as casting carrot top in , well , anything , but riddle me this : who better to direct a film that\\'s set in the ghetto and features really violent street crime than the mad geniuses behind menace ii society ?  the ghetto in question is , of course , whitechapel in 1888 london\\'s east end .  it\\'s a filthy , sooty place where the whores ( called \" unfortunates \" ) are starting to get a little nervous about this mysterious psychopath who has been carving through their profession with surgical precision .  when the first stiff turns up , copper peter godley ( robbie coltrane , the world is not enough ) calls in inspector frederick abberline ( johnny depp , blow ) to crack the case .  abberline , a widower , has prophetic dreams he unsuccessfully tries to quell with copious amounts of absinthe and opium .  upon arriving in whitechapel , he befriends an unfortunate named mary kelly ( heather graham , say it isn\\'t so ) and proceeds to investigate the horribly gruesome crimes that even the police surgeon can\\'t stomach .  i don\\'t think anyone needs to be briefed on jack the ripper , so i won\\'t go into the particulars here , other than to say moore and campbell have a unique and interesting theory about both the identity of the killer and the reasons he chooses to slay .  in the comic , they don\\'t bother cloaking the identity of the ripper , but screenwriters terry hayes ( vertical limit ) and rafael yglesias ( les mis ? rables ) do a good job of keeping him hidden from viewers until the very end .  it\\'s funny to watch the locals blindly point the finger of blame at jews and indians because , after all , an englishman could never be capable of committing such ghastly acts .  and from hell\\'s ending had me whistling the stonecutters song from the simpsons for days ( \" who holds back the electric car/who made steve guttenberg a star ? \" ) .  don\\'t worry - it\\'ll all make sense when you see it .  now onto from hell\\'s appearance : it\\'s certainly dark and bleak enough , and it\\'s surprising to see how much more it looks like a tim burton film than planet of the apes did ( at times , it seems like sleepy hollow 2 ) .  the print i saw wasn\\'t completely finished ( both color and music had not been finalized , so no comments about marilyn manson ) , but cinematographer peter deming ( don\\'t say a word ) ably captures the dreariness of victorian-era london and helped make the flashy killing scenes remind me of the crazy flashbacks in twin peaks , even though the violence in the film pales in comparison to that in the black-and-white comic .  oscar winner martin childs\\' ( shakespeare in love ) production design turns the original prague surroundings into one creepy place .  even the acting in from hell is solid , with the dreamy depp turning in a typically strong performance and deftly handling a british accent .  ians holm ( joe gould\\'s secret ) and richardson ( 102 dalmatians ) log in great supporting roles , but the big surprise here is graham .  i cringed the first time she opened her mouth , imagining her attempt at an irish accent , but it actually wasn\\'t half bad .  the film , however , is all good .  2 : 00 - r for strong violence/gore , sexuality , language and drug content '"
      ]
     },
     "execution_count": 4,
     "metadata": {},
     "output_type": "execute_result"
    }
   ],
   "source": [
    "df['review'][1]"
   ]
  },
  {
   "cell_type": "markdown",
   "metadata": {},
   "source": [
    "Wow, that's a lengthy review.  \n",
    "Let's check how many reviews there are in the dataset:"
   ]
  },
  {
   "cell_type": "code",
   "execution_count": 5,
   "metadata": {},
   "outputs": [
    {
     "data": {
      "text/plain": [
       "2000"
      ]
     },
     "execution_count": 5,
     "metadata": {},
     "output_type": "execute_result"
    }
   ],
   "source": [
    "len(df)"
   ]
  },
  {
   "cell_type": "markdown",
   "metadata": {},
   "source": [
    "The [Cornell Movie Review dataset](http://www.cs.cornell.edu/people/pabo/movie-review-data/) is divided into positive and negative reviews.  \n",
    "Let's check how many positive, and how many negative, reviews there are in this dataset:"
   ]
  },
  {
   "cell_type": "code",
   "execution_count": 6,
   "metadata": {},
   "outputs": [
    {
     "data": {
      "text/plain": [
       "<matplotlib.axes._subplots.AxesSubplot at 0x7f16681c66d8>"
      ]
     },
     "execution_count": 6,
     "metadata": {},
     "output_type": "execute_result"
    },
    {
     "data": {
      "image/png": "[encoded data removed]",
      "text/plain": [
       "<matplotlib.figure.Figure at 0x7f166821cef0>"
      ]
     },
     "metadata": {},
     "output_type": "display_data"
    }
   ],
   "source": [
    "df['label'].hist()"
   ]
  },
  {
   "cell_type": "markdown",
   "metadata": {},
   "source": [
    "Excellent, the dataset is already balanced.  \n",
    "Having a balanced dataset makes it easier to train a deep learning model, because it's less likely that the model will focus on one of the classes, and ignore the other.\n",
    "\n",
    "Now, let's see what the distribution of review lengths is, in numbers of characters:"
   ]
  },
  {
   "cell_type": "code",
   "execution_count": 7,
   "metadata": {},
   "outputs": [
    {
     "data": {
      "text/plain": [
       "<matplotlib.axes._subplots.AxesSubplot at 0x7f16661b15c0>"
      ]
     },
     "execution_count": 7,
     "metadata": {},
     "output_type": "execute_result"
    },
    {
     "data": {
      "image/png": "[encoded data removed]",
      "text/plain": [
       "<matplotlib.figure.Figure at 0x7f16681fe780>"
      ]
     },
     "metadata": {},
     "output_type": "display_data"
    }
   ],
   "source": [
    "df['review'].apply(len).hist()"
   ]
  },
  {
   "cell_type": "markdown",
   "metadata": {},
   "source": [
    "Ok, there are some much longer reviews in this dataset than the ~4,000 character review above, but most of them are under 6,000 characters."
   ]
  },
  {
   "cell_type": "markdown",
   "metadata": {},
   "source": [
    "# Data Preprocessing\n",
    "The problem we are trying to solve here is called **sentiment analysis**, that is, whether the given text is positive or negative.\n",
    "\n",
    "More broadly, this is a type of machine learning problem known as classification.\n",
    "\n",
    "There are numerous different ways to think about the above dataset.  \n",
    "We can think of it as a collection of characters, a sequence of characters, a collection of words, or a sequence of words.  \n",
    "It turns out that the sequence-of-words approach has gotten good results on sentiment analysis problems, so let's think about the above dataset in those terms.\n",
    "\n",
    "Let's consider another review in the dataset:"
   ]
  },
  {
   "cell_type": "code",
   "execution_count": 8,
   "metadata": {},
   "outputs": [
    {
     "data": {
      "text/plain": [
       "'moviemaking is a lot like being the general manager of an nfl team in the post-salary cap era -- you\\'ve got to know how to allocate your resources .  every dollar spent on a free-agent defensive tackle is one less dollar than you can spend on linebackers or safeties or centers .  in the nfl , this leads to teams like the detroit lions , who boast a superstar running back with a huge contract , but can only field five guys named herb to block for him .  in the movies , you end up with films like \" spawn \" , with a huge special-effects budget but not enough money to hire any recognizable actors .  jackie chan is the barry sanders of moviemaking .  he spins and darts across the screen like sanders cutting back through the defensive line .  watching jackie in operation condor as he drives his motorcycle through the crowded streets of madrid , fleeing an armada of pursuers in identical black compact cars , is reminiscent of sanders running for daylight with the chicago bears in hot pursuit , except that sanders doesn\\'t have to worry about rescuing runaway baby carriages .  but like the lions star , jackie doesn\\'t have anybody to block for him .  almost every cent that\\'s invested in a jackie chan movie goes for stunts , and as chan does his own stunts , the rest of the money goes to pay his hospital bills .  this leaves about 75 cents to pay for things like directors ( chan directs ) , scripts and dubbing and supporting characters , not to mention the hideous title sequence .  this also explains why the movie was shot in odd places like morocco and spain .   ( chan\\'s first release in this country , \" rumble in the bronx \" , was supposedly set in new york , but was filmed in vancouver , and in the chase scenes the canadian rockies are clearly visible . )  heck , jackie doesn\\'t even have enough money for a haircut , looks like , much less a personal hairstylist .  in condor , chan plays the same character he\\'s always played , himself , a mixture of bruce lee and tim allen , a master of both kung-fu and slapstick-fu .  jackie is sent by the un to retrieve a cache of lost nazi gold in the north african desert , and is chased by a horde of neo-nazi sympathizers and two stereotypical arabs ( one of the things i like about jackie chan movies : no political correctness ) .  he is joined by three women , who have little to do except scream , \" jackie , save us ! \" , and misuse firearms .  the villain is an old nazi whose legs were broken in the secret base so that he has to be carried everywhere , and he\\'s more pathetic than evil .  en route , we have an extended motorcycle chase scene , a hilarious fight in the moroccan version of motel 6 with the neo-nazis , and two confrontations with savage natives .  once at the secret desert base , there is a long chop-socky sequence , followed by the film\\'s centerpiece , a wind-tunnel fight that\\'s even better than the one in face/off .  this is where the money was spent , on well-choreographed kung-fu sequences , on giant kevlar hamster balls , on smashed-up crates of bananas , and on scorpions .  ignore the gaping holes in the plot ( how , exactly , if the villain\\'s legs were broken , did he escape from the secret nazi base , and why didn\\'t he take the key with him ? ) .  don\\'t worry about the production values , or what , exactly , the japanese girl was doing hitchhiking across the sahara .  just go see the movie .  operation condor has pretentions of being a \" raiders of the lost ark \" knockoff , but one wonders what jackie could do with the raiders franchise blocking for him -- with a lawrence kazdan screenplay , a john williams score , spielberg directing and george lucas producing , condor might be an a+ movie .  however , you\\'ve got to go with what you\\'ve got , and what you\\'ve got in jackie chan is something special -- a talent that mainstream hollywood should , could , and ought to utilize . '"
      ]
     },
     "execution_count": 8,
     "metadata": {},
     "output_type": "execute_result"
    }
   ],
   "source": [
    "df['review'][5]"
   ]
  },
  {
   "cell_type": "markdown",
   "metadata": {},
   "source": [
    "## Tokenization\n",
    "What we would like to do is to turn the text above into a fixed-length sequence of numbers, which is what our TensorFlow model will expect in order to train on.\n",
    "\n",
    "The basic idea behind working with text data is that we want to create a number for each unique \"token\" that we see, then we can just substitute a \"token\"'s number for the token itself, and arrive at a fixed-length sequence of numbers for TensorFlow to work with.\n",
    "\n",
    "As can be seen above, it's not just words that are present, but also punctuation.  \n",
    "\n",
    "Thankfully, the [natural language toolkit](http://www.nltk.org/) is excellent at turning a string of text into a list of tokens.\n",
    "\n",
    "Let's see how it behaves on the above review:"
   ]
  },
  {
   "cell_type": "code",
   "execution_count": 9,
   "metadata": {},
   "outputs": [],
   "source": [
    "import nltk"
   ]
  },
  {
   "cell_type": "code",
   "execution_count": 10,
   "metadata": {},
   "outputs": [
    {
     "data": {
      "text/plain": [
       "['moviemaking',\n",
       " 'is',\n",
       " 'a',\n",
       " 'lot',\n",
       " 'like',\n",
       " 'being',\n",
       " 'the',\n",
       " 'general',\n",
       " 'manager',\n",
       " 'of']"
      ]
     },
     "execution_count": 10,
     "metadata": {},
     "output_type": "execute_result"
    }
   ],
   "source": [
    "nltk.tokenize.word_tokenize(df['review'][5])[:10]"
   ]
  },
  {
   "cell_type": "markdown",
   "metadata": {},
   "source": [
    "The above is perfectly sufficient tokenization for our purposes.  \n",
    "Perhaps it could be improved upon slightly, but this breaks up our review into enough unique tokens that our model will be able to learn which ones to use and which ones to discount (more on that in the [Architecture](#Model-Architecture) section)\n",
    "\n",
    "Now, let's create a set of all the words in all of the reviews in our dataset.  \n",
    "We will use this set to create a lookup table of tokens to their \"IDs\"."
   ]
  },
  {
   "cell_type": "code",
   "execution_count": 11,
   "metadata": {},
   "outputs": [],
   "source": [
    "review_word_set = set()\n",
    "for r in df['review']:\n",
    "    review_word_set.update(nltk.tokenize.word_tokenize(r))"
   ]
  },
  {
   "cell_type": "code",
   "execution_count": 12,
   "metadata": {},
   "outputs": [
    {
     "data": {
      "text/plain": [
       "46716"
      ]
     },
     "execution_count": 12,
     "metadata": {},
     "output_type": "execute_result"
    }
   ],
   "source": [
    "len(review_word_set)"
   ]
  },
  {
   "cell_type": "markdown",
   "metadata": {},
   "source": [
    "Excellent, in our 2,000-review dataset, only some ~47,000 unique \"tokens\" have been used.  \n",
    "## Token Encoding\n",
    "Now, let's use this set to assign IDs to our tokens, so that we can easily go from a token to its ID, and vice versa.\n",
    "\n",
    "First though, let's reserve ID `0` for reasons that will become clear in the [Padding](#Padding) section below, and start at ID `1`."
   ]
  },
  {
   "cell_type": "code",
   "execution_count": 13,
   "metadata": {},
   "outputs": [],
   "source": [
    "word_to_id = {word: i for i, word in enumerate(review_word_set, 1)}"
   ]
  },
  {
   "cell_type": "code",
   "execution_count": 14,
   "metadata": {},
   "outputs": [
    {
     "data": {
      "text/plain": [
       "{'reiterate': 1,\n",
       " 'rowell': 2,\n",
       " '=====================': 3,\n",
       " 'bricks': 4,\n",
       " 'depravation': 5,\n",
       " '21': 6,\n",
       " 'castleton': 7,\n",
       " 'antonioni': 8,\n",
       " 'one-note': 9,\n",
       " 'trick-or-treat': 10,\n",
       " 'faltermeyer': 11,\n",
       " 'riotously': 12,\n",
       " 're-delivering': 13,\n",
       " 'f-u-n': 14,\n",
       " 'bloomington': 15,\n",
       " 'heldenberger': 16,\n",
       " 'mess': 17,\n",
       " 'displeasure': 18,\n",
       " 'werewolves': 19,\n",
       " 'timing-oriented': 20,\n",
       " 'doctors': 21,\n",
       " 'patching': 22,\n",
       " 'barnfield': 23,\n",
       " 'hot-shots': 24,\n",
       " 'dwi': 25,\n",
       " 'snubs': 26,\n",
       " 'accept': 27,\n",
       " 'cerebellum': 28,\n",
       " 'rabin': 29,\n",
       " 'tucked': 30,\n",
       " 'aunjanue': 31,\n",
       " 'highlighted': 32,\n",
       " 'spot': 33,\n",
       " 'alberta': 34,\n",
       " 'barbarians': 35,\n",
       " 'shelled': 36,\n",
       " 'better-suited': 37,\n",
       " 'twiddling': 38,\n",
       " 'a-plenty': 39,\n",
       " 'middleage': 40,\n",
       " 'meal': 41,\n",
       " 'xmas': 42,\n",
       " 'ladyhawke': 43,\n",
       " 'newly': 44,\n",
       " '42': 45,\n",
       " 'stewardess': 46,\n",
       " 'scaring': 47,\n",
       " 'depsite': 48,\n",
       " 'know': 49,\n",
       " 'reproduced': 50,\n",
       " 'stokely': 51,\n",
       " 'shana': 52,\n",
       " 'implacable': 53,\n",
       " 'pd': 54,\n",
       " 'distracting': 55,\n",
       " 'one-hundred': 56,\n",
       " 'weddell': 57,\n",
       " 'pronounce': 58,\n",
       " 'torch': 59,\n",
       " 'showgirl': 60,\n",
       " 'off-the-wall': 61,\n",
       " 'emptor': 62,\n",
       " 'predecessors': 63,\n",
       " 'tie-up': 64,\n",
       " 'wrongness': 65,\n",
       " 'afoot': 66,\n",
       " 'ngoc': 67,\n",
       " '55': 68,\n",
       " 'carted': 69,\n",
       " 'co-producers': 70,\n",
       " 'restatement': 71,\n",
       " 'perfs': 72,\n",
       " 'tourfilm': 73,\n",
       " 'staggers': 74,\n",
       " 'rewrite': 75,\n",
       " 'motivator': 76,\n",
       " 'frenzy': 77,\n",
       " 'appreciable': 78,\n",
       " 'johansson': 79,\n",
       " 'hoopla': 80,\n",
       " 'jerkish': 81,\n",
       " 'fenster': 82,\n",
       " 'bala': 83,\n",
       " 'procreation': 84,\n",
       " 'lithgow': 85,\n",
       " 'mcfadden': 86,\n",
       " 'wade': 87,\n",
       " 'whirlwind': 88,\n",
       " 'antoine': 89,\n",
       " 'affect': 90,\n",
       " 'nudity': 91,\n",
       " 'allocate': 92,\n",
       " 'leeanne': 93,\n",
       " 'conspicuously': 94,\n",
       " 'young-whippersnapper': 95,\n",
       " 'afforded': 96,\n",
       " 'virginia': 97,\n",
       " 'zoologist': 98,\n",
       " 'judgeship': 99,\n",
       " 'broiled': 100,\n",
       " 'brady': 101,\n",
       " 'foresight': 102,\n",
       " 'jam-packed': 103,\n",
       " 'zany': 104,\n",
       " 'smuggling': 105,\n",
       " 'shakes': 106,\n",
       " 'mainstream': 107,\n",
       " 'offing': 108,\n",
       " 'ghettos': 109,\n",
       " 'spellbinding': 110,\n",
       " 'covers': 111,\n",
       " 'launching': 112,\n",
       " 'baggage': 113,\n",
       " 'lackies': 114,\n",
       " 'crocker': 115,\n",
       " 'cuss': 116,\n",
       " 'chafing': 117,\n",
       " 'layers': 118,\n",
       " '4/4': 119,\n",
       " 'underweight': 120,\n",
       " 'jon': 121,\n",
       " 'anticipates': 122,\n",
       " 'pubic': 123,\n",
       " 'tremendous': 124,\n",
       " 'waterlogged': 125,\n",
       " '`for': 126,\n",
       " 'loli': 127,\n",
       " 'opener': 128,\n",
       " 'ex-circus': 129,\n",
       " 'oscar-nomination-worthy': 130,\n",
       " 'attention-deficit-disorder': 131,\n",
       " 'counterprogramming': 132,\n",
       " 'format': 133,\n",
       " 'ambassadors': 134,\n",
       " 'implicates': 135,\n",
       " 'breath-taking': 136,\n",
       " 'ahab': 137,\n",
       " 'alexis': 138,\n",
       " 'newfound': 139,\n",
       " 'populated': 140,\n",
       " 'vocally': 141,\n",
       " 'prescription': 142,\n",
       " 'done-that': 143,\n",
       " 'uncomplicated': 144,\n",
       " 'suitable': 145,\n",
       " 'prince': 146,\n",
       " 'chanteuse': 147,\n",
       " 'uber': 148,\n",
       " 'astoundingly': 149,\n",
       " 'pulverizes': 150,\n",
       " 'maximal': 151,\n",
       " 'schmoe': 152,\n",
       " 'it': 153,\n",
       " 'cinematically-savvy': 154,\n",
       " 'mullan': 155,\n",
       " 'gomorrah': 156,\n",
       " 'repetitious': 157,\n",
       " 'swinging-': 158,\n",
       " 'bizarro': 159,\n",
       " 'newly-jarred': 160,\n",
       " 'whos': 161,\n",
       " 'remixed': 162,\n",
       " 'unimpressed': 163,\n",
       " 'bay/jerry': 164,\n",
       " 'bombshell': 165,\n",
       " 'inhibits': 166,\n",
       " '1975': 167,\n",
       " 'returned': 168,\n",
       " 'bigger-than-life': 169,\n",
       " 'seattle-based': 170,\n",
       " 'vadis': 171,\n",
       " 'tinge': 172,\n",
       " 'voids': 173,\n",
       " 'rallies': 174,\n",
       " 'massacusetts': 175,\n",
       " 'blaming': 176,\n",
       " 'ninety-minute': 177,\n",
       " 'schmooze': 178,\n",
       " 'extract': 179,\n",
       " 'wide-open': 180,\n",
       " 'emotionally-charged': 181,\n",
       " 'hacky': 182,\n",
       " 'places': 183,\n",
       " 'thurral': 184,\n",
       " 'mask': 185,\n",
       " 'assumptions': 186,\n",
       " 'hip-hoppy': 187,\n",
       " 'nascar': 188,\n",
       " 'iridescent': 189,\n",
       " 'paddy': 190,\n",
       " 'skinner': 191,\n",
       " '`run': 192,\n",
       " 'valleys': 193,\n",
       " 'adagio': 194,\n",
       " 'starbuck': 195,\n",
       " 'rolls': 196,\n",
       " 'bereaved': 197,\n",
       " 'misfire': 198,\n",
       " 'gut-wrenching': 199,\n",
       " 'undifferentiated': 200,\n",
       " 'afterword': 201,\n",
       " 'upstages': 202,\n",
       " 'restrictions': 203,\n",
       " 'props': 204,\n",
       " 'camo': 205,\n",
       " 'unneeded': 206,\n",
       " 'lila': 207,\n",
       " 'dreary': 208,\n",
       " 'broached': 209,\n",
       " 'wobbles': 210,\n",
       " 'mugs': 211,\n",
       " 'yuppies': 212,\n",
       " 'da': 213,\n",
       " 'nearing': 214,\n",
       " 'karaman': 215,\n",
       " 'shies': 216,\n",
       " 'elves': 217,\n",
       " 'clown': 218,\n",
       " 'toyko': 219,\n",
       " 'now-outdated': 220,\n",
       " \"'70s\": 221,\n",
       " 'fukienese': 222,\n",
       " 'sleaze': 223,\n",
       " 'engrossing': 224,\n",
       " 'solution': 225,\n",
       " 'radition': 226,\n",
       " 'helm': 227,\n",
       " 'ponder': 228,\n",
       " 'oneself': 229,\n",
       " 'walk': 230,\n",
       " 'subtler': 231,\n",
       " 'campfire': 232,\n",
       " 'dauphin': 233,\n",
       " 'bubblegum-blond': 234,\n",
       " 'collette': 235,\n",
       " 'amateur': 236,\n",
       " 'miller-ey': 237,\n",
       " 'knew': 238,\n",
       " 'batting': 239,\n",
       " 'desirable': 240,\n",
       " 'wane': 241,\n",
       " 'hamlet': 242,\n",
       " 'bridget': 243,\n",
       " 'belonged': 244,\n",
       " 'vision': 245,\n",
       " 'somehow': 246,\n",
       " '`gary': 247,\n",
       " 'loathe': 248,\n",
       " 'overdubbed': 249,\n",
       " 'porpoises': 250,\n",
       " 'seams': 251,\n",
       " 'diversions': 252,\n",
       " 'through-the-sight': 253,\n",
       " 'dodger': 254,\n",
       " 'creams': 255,\n",
       " 'breuer': 256,\n",
       " '`marketing': 257,\n",
       " 'commodities': 258,\n",
       " 'masur': 259,\n",
       " 'howled': 260,\n",
       " 'co-venture': 261,\n",
       " 'precious': 262,\n",
       " 'high-energy': 263,\n",
       " 'newbies': 264,\n",
       " 'invigorate': 265,\n",
       " 'unending': 266,\n",
       " 'joyride': 267,\n",
       " 'tempered': 268,\n",
       " 'stork': 269,\n",
       " 'seconds': 270,\n",
       " 'wily-ness': 271,\n",
       " 'cheesy': 272,\n",
       " 'glasses': 273,\n",
       " 'hana': 274,\n",
       " 'eliminates': 275,\n",
       " 'uh-uh': 276,\n",
       " 'similar': 277,\n",
       " 'hamill': 278,\n",
       " 'bregman': 279,\n",
       " 'orgiastic': 280,\n",
       " 'pipstone': 281,\n",
       " 'internationally-acclaimed': 282,\n",
       " 'thousand': 283,\n",
       " 'idealist': 284,\n",
       " 'actualisation': 285,\n",
       " 'jean-luc': 286,\n",
       " 'sponsor': 287,\n",
       " 'moulin': 288,\n",
       " '-jackson': 289,\n",
       " 'landmarks': 290,\n",
       " 'cradles': 291,\n",
       " 'locane': 292,\n",
       " 'insurrection': 293,\n",
       " 'marrying': 294,\n",
       " 'authorities': 295,\n",
       " 'critic-proof': 296,\n",
       " 'talents': 297,\n",
       " 'plugging': 298,\n",
       " 'mosques': 299,\n",
       " 'faa': 300,\n",
       " 'amply-sized': 301,\n",
       " 'milked': 302,\n",
       " 'imitate': 303,\n",
       " 'throghout': 304,\n",
       " 'karaoke-based': 305,\n",
       " 'vinie': 306,\n",
       " 'caesar': 307,\n",
       " 'by-standers': 308,\n",
       " 'parliamentary': 309,\n",
       " 'hildago': 310,\n",
       " 'self-acceptance': 311,\n",
       " 'assailants': 312,\n",
       " 'registration': 313,\n",
       " 'drooling': 314,\n",
       " 'curtis-hall': 315,\n",
       " 'haters': 316,\n",
       " 'burma': 317,\n",
       " 'oh-so': 318,\n",
       " 'c+': 319,\n",
       " 'semi-thorough': 320,\n",
       " 'mad': 321,\n",
       " 'meltdown': 322,\n",
       " 'ensure': 323,\n",
       " 'afternoon': 324,\n",
       " 'speaker': 325,\n",
       " 'hounded': 326,\n",
       " 'thickened': 327,\n",
       " 'masterminds': 328,\n",
       " \"'perfect\": 329,\n",
       " 'hrundi': 330,\n",
       " 'reeled': 331,\n",
       " 'timeliness': 332,\n",
       " 'salesmanship': 333,\n",
       " 'climbs': 334,\n",
       " 'drug-running': 335,\n",
       " 'polarizing': 336,\n",
       " 'strident': 337,\n",
       " 'trepidation': 338,\n",
       " 'veiny': 339,\n",
       " 'proposing': 340,\n",
       " '`messiah': 341,\n",
       " 'throwback': 342,\n",
       " 'capoeira': 343,\n",
       " 'effort': 344,\n",
       " 'dismember': 345,\n",
       " 'acrobatic': 346,\n",
       " 'extraterrestrial': 347,\n",
       " 'solver': 348,\n",
       " 'highpoint': 349,\n",
       " 'exorbitance': 350,\n",
       " 'ideally': 351,\n",
       " 'generalized': 352,\n",
       " 'non-involving': 353,\n",
       " 'macneill': 354,\n",
       " 'reinvigorate': 355,\n",
       " 'wood': 356,\n",
       " 'impersonation': 357,\n",
       " 'wainwright': 358,\n",
       " 'quest': 359,\n",
       " 'traits': 360,\n",
       " 'yagher': 361,\n",
       " 'paragraph': 362,\n",
       " 'break-ups': 363,\n",
       " 'no-nudity': 364,\n",
       " 'recast': 365,\n",
       " 'shuddered': 366,\n",
       " 'sift': 367,\n",
       " 'michel': 368,\n",
       " 'airplane-style': 369,\n",
       " 'reverse': 370,\n",
       " 'schools': 371,\n",
       " 'dumbass': 372,\n",
       " '`starship': 373,\n",
       " 'mechanisms': 374,\n",
       " 'soprano': 375,\n",
       " 'carpets': 376,\n",
       " 'defoliates': 377,\n",
       " 'obnoxious': 378,\n",
       " 'light-heartedness': 379,\n",
       " 'ever-antsy': 380,\n",
       " 'ear-to-ear': 381,\n",
       " 'hai': 382,\n",
       " 'curing': 383,\n",
       " 'grass': 384,\n",
       " 'what+s': 385,\n",
       " 'misdeed': 386,\n",
       " 'non-baseball': 387,\n",
       " 'multiplots': 388,\n",
       " 'excommunicated': 389,\n",
       " 'minding': 390,\n",
       " 'charlize': 391,\n",
       " 'proverbial': 392,\n",
       " 'teresa': 393,\n",
       " 'interrupts': 394,\n",
       " 'modernize': 395,\n",
       " 'grays': 396,\n",
       " 'squelch': 397,\n",
       " 'meteorological': 398,\n",
       " 'allergy-prone': 399,\n",
       " 'bokeem': 400,\n",
       " 'beginners': 401,\n",
       " 'stonecutters': 402,\n",
       " 'ex-spook': 403,\n",
       " 'meteors': 404,\n",
       " 'bringing': 405,\n",
       " 'documents': 406,\n",
       " 'sunrisesucks': 407,\n",
       " 'calamitous': 408,\n",
       " 'mccullah': 409,\n",
       " 'negotiations': 410,\n",
       " 'acknowledging': 411,\n",
       " 'ounce': 412,\n",
       " 'planes': 413,\n",
       " 'wee': 414,\n",
       " 'snipping': 415,\n",
       " 'nice': 416,\n",
       " 'comparison': 417,\n",
       " 'wonderfully': 418,\n",
       " 'upsetting': 419,\n",
       " 'bunton': 420,\n",
       " 'oppressed': 421,\n",
       " 'detractors': 422,\n",
       " 'audaciously': 423,\n",
       " 'nts': 424,\n",
       " 'putting': 425,\n",
       " 'shakespeare-obsessed': 426,\n",
       " 'heedful': 427,\n",
       " 'demarco': 428,\n",
       " 'blowout': 429,\n",
       " 'carat': 430,\n",
       " 'breached': 431,\n",
       " 'traps': 432,\n",
       " \"shoot'em\": 433,\n",
       " 'intended': 434,\n",
       " 'ai': 435,\n",
       " 'orchestra': 436,\n",
       " 'oceanographic': 437,\n",
       " 'exquisite': 438,\n",
       " 'dirty': 439,\n",
       " 'forty': 440,\n",
       " 'spoiler-filled': 441,\n",
       " 'heap': 442,\n",
       " 'fisher': 443,\n",
       " 'difference': 444,\n",
       " '_flirting': 445,\n",
       " 'herbal': 446,\n",
       " 'drifter': 447,\n",
       " 'bums': 448,\n",
       " 'showers': 449,\n",
       " 'issuing': 450,\n",
       " 'noticable': 451,\n",
       " 'protective': 452,\n",
       " 'soavi': 453,\n",
       " 'raking': 454,\n",
       " 'lurches': 455,\n",
       " 'loudmouthed': 456,\n",
       " 'tatoulis': 457,\n",
       " 'whistler': 458,\n",
       " 'wowzers': 459,\n",
       " 'disposal': 460,\n",
       " 'into': 461,\n",
       " 'hailed': 462,\n",
       " 'croatia': 463,\n",
       " 'positronic': 464,\n",
       " '-worthy': 465,\n",
       " 'emmanuel': 466,\n",
       " 'habitat': 467,\n",
       " 'turnabout': 468,\n",
       " 'mlakovich': 469,\n",
       " 'incest': 470,\n",
       " 'quoted': 471,\n",
       " 'un-involving': 472,\n",
       " 'finder': 473,\n",
       " 'sgt': 474,\n",
       " 'rooms-into': 475,\n",
       " 'cursory': 476,\n",
       " 'pirate': 477,\n",
       " 'mutated': 478,\n",
       " 'those': 479,\n",
       " 'sadsacks': 480,\n",
       " 'necessity': 481,\n",
       " 'target': 482,\n",
       " 'time-': 483,\n",
       " 'starring': 484,\n",
       " 'bitten': 485,\n",
       " 'realists': 486,\n",
       " 'cats': 487,\n",
       " 'jamahl': 488,\n",
       " 'china': 489,\n",
       " 'slides': 490,\n",
       " 'deliverance': 491,\n",
       " 'war_': 492,\n",
       " 'rigors': 493,\n",
       " 'airwaves': 494,\n",
       " 'stand-in': 495,\n",
       " 'armed': 496,\n",
       " 'zeta': 497,\n",
       " 'argued': 498,\n",
       " 'oil-infested': 499,\n",
       " 'noah': 500,\n",
       " 'neckbraces': 501,\n",
       " 'disapproves': 502,\n",
       " 'scruples': 503,\n",
       " 'ajay': 504,\n",
       " 'kindergartner': 505,\n",
       " 'burke': 506,\n",
       " 'cryo-tubes': 507,\n",
       " 'geographical': 508,\n",
       " 'reverses': 509,\n",
       " 'unsigned': 510,\n",
       " 'belone': 511,\n",
       " 'deconstructing': 512,\n",
       " 'matter-of-factness': 513,\n",
       " 'self-serving': 514,\n",
       " 'painstaking': 515,\n",
       " 'uses': 516,\n",
       " 'national': 517,\n",
       " 'presence': 518,\n",
       " 'biased': 519,\n",
       " 'zellwegar': 520,\n",
       " 'intolerance': 521,\n",
       " 'layoffs': 522,\n",
       " 'deathly': 523,\n",
       " 'tornado': 524,\n",
       " 'cyberdog': 525,\n",
       " 'intricately-woven': 526,\n",
       " 'moist': 527,\n",
       " 'indoors': 528,\n",
       " 'post-credit': 529,\n",
       " 'affiliate': 530,\n",
       " 'matalin': 531,\n",
       " 'eases': 532,\n",
       " 'madonna-marrying': 533,\n",
       " 'riiiiight': 534,\n",
       " 'bloods': 535,\n",
       " 'rueff': 536,\n",
       " 'free-thinking': 537,\n",
       " 'stats': 538,\n",
       " 'feeds': 539,\n",
       " 'high-wire': 540,\n",
       " 'katanga': 541,\n",
       " 'gourmet': 542,\n",
       " 'harald': 543,\n",
       " 'barcode': 544,\n",
       " 'greater': 545,\n",
       " 'moat-filled': 546,\n",
       " 'arraki': 547,\n",
       " 'wield': 548,\n",
       " 'travels': 549,\n",
       " 'hen-wen': 550,\n",
       " \"_shaft's_big_score\": 551,\n",
       " 'ill': 552,\n",
       " 'edouard': 553,\n",
       " 'keith': 554,\n",
       " 'bratty': 555,\n",
       " 'plotting': 556,\n",
       " 'unison': 557,\n",
       " '`they': 558,\n",
       " \"'meaningful\": 559,\n",
       " 'ghetto': 560,\n",
       " 'edge-of-your-seat': 561,\n",
       " '_john': 562,\n",
       " 'quasi-ominously': 563,\n",
       " 'cold-heartedness': 564,\n",
       " 'missile': 565,\n",
       " 'ovens': 566,\n",
       " 'haskin': 567,\n",
       " 'melted': 568,\n",
       " 'audrey': 569,\n",
       " 'policia': 570,\n",
       " 'handicap': 571,\n",
       " 'poked': 572,\n",
       " 'ex-beau': 573,\n",
       " 'thin-looking': 574,\n",
       " 'hazardous': 575,\n",
       " 'dragging/salting': 576,\n",
       " 'massages': 577,\n",
       " \"'wooden\": 578,\n",
       " 'mother-to-be': 579,\n",
       " '7th': 580,\n",
       " 'tagged': 581,\n",
       " 'neilsen': 582,\n",
       " 'references': 583,\n",
       " 'not-too-distant': 584,\n",
       " 'bouncy': 585,\n",
       " 'reverence': 586,\n",
       " 'arouses': 587,\n",
       " 'magazine': 588,\n",
       " 'outhouse': 589,\n",
       " 'cole': 590,\n",
       " 'cross-section': 591,\n",
       " 'third': 592,\n",
       " 'hackett': 593,\n",
       " 'graveyards': 594,\n",
       " 'formless': 595,\n",
       " 'bull-heaed': 596,\n",
       " 'invincibility': 597,\n",
       " 'post-industrial': 598,\n",
       " 'saim': 599,\n",
       " 'reiser': 600,\n",
       " 'co-director': 601,\n",
       " 'hammond': 602,\n",
       " 'ignites': 603,\n",
       " 'pastels': 604,\n",
       " 'quilty': 605,\n",
       " 'automats': 606,\n",
       " 'hematologist': 607,\n",
       " 'revised': 608,\n",
       " 'puts': 609,\n",
       " 'by-the-books': 610,\n",
       " 'sean': 611,\n",
       " 'respective': 612,\n",
       " 'flood': 613,\n",
       " 'peformances': 614,\n",
       " '3=poor': 615,\n",
       " 'f-ing': 616,\n",
       " '161': 617,\n",
       " 'seeing': 618,\n",
       " 'crows': 619,\n",
       " 'subpar': 620,\n",
       " 'rottingham': 621,\n",
       " 'perkuny': 622,\n",
       " 'crave': 623,\n",
       " 'stands': 624,\n",
       " 'tapeheads': 625,\n",
       " 'doonesbury': 626,\n",
       " 'mid-1970s': 627,\n",
       " 'visitors': 628,\n",
       " 'moses': 629,\n",
       " 'drapes': 630,\n",
       " 'psyches': 631,\n",
       " '2d': 632,\n",
       " 'hyped': 633,\n",
       " 'deduction': 634,\n",
       " 'top-level': 635,\n",
       " 'refers': 636,\n",
       " 'll': 637,\n",
       " 'channeling': 638,\n",
       " 'courtroom-certainly': 639,\n",
       " 'cutest': 640,\n",
       " 'stuntwork': 641,\n",
       " 'related': 642,\n",
       " 'circus': 643,\n",
       " 'near-by': 644,\n",
       " 'encore': 645,\n",
       " 'hugeness': 646,\n",
       " 'spiked': 647,\n",
       " 'rounds': 648,\n",
       " 'jungles': 649,\n",
       " 'after': 650,\n",
       " 'porpoise': 651,\n",
       " 'absence': 652,\n",
       " 'outfield': 653,\n",
       " 'rumbles': 654,\n",
       " 'fronting': 655,\n",
       " 'cleverest': 656,\n",
       " 'joy': 657,\n",
       " 'revs': 658,\n",
       " 'outdated': 659,\n",
       " \"'a\": 660,\n",
       " 'messes': 661,\n",
       " 'hughton': 662,\n",
       " 'horn-rimmed': 663,\n",
       " 'reappeared': 664,\n",
       " 'burgess': 665,\n",
       " 'goblins': 666,\n",
       " 'gladly': 667,\n",
       " 'dramedy': 668,\n",
       " 'binary': 669,\n",
       " 'horror/crime': 670,\n",
       " 'effects': 671,\n",
       " 'luke': 672,\n",
       " 'mid-80': 673,\n",
       " 'servant': 674,\n",
       " 'fbi/atf': 675,\n",
       " 'olde': 676,\n",
       " 'much-welcome': 677,\n",
       " 'scout': 678,\n",
       " 'religious-type': 679,\n",
       " 'eraser': 680,\n",
       " 'flexible': 681,\n",
       " 'inflated': 682,\n",
       " 'us-mexico': 683,\n",
       " 'judging': 684,\n",
       " 'mad-scientist-in-bavarian-castle': 685,\n",
       " 'substituted': 686,\n",
       " 'ditz': 687,\n",
       " 'admitted': 688,\n",
       " 'screamed': 689,\n",
       " '1916': 690,\n",
       " 'reprogramming': 691,\n",
       " '_anything_': 692,\n",
       " 'harlequin': 693,\n",
       " 'motta': 694,\n",
       " 'clearing': 695,\n",
       " 'unamusing': 696,\n",
       " 'metaphysics': 697,\n",
       " 'childs': 698,\n",
       " 'booze': 699,\n",
       " 'hesse': 700,\n",
       " 'attacked': 701,\n",
       " 'softly': 702,\n",
       " 'habitual': 703,\n",
       " 'capitalist': 704,\n",
       " 'crime': 705,\n",
       " 'reknown': 706,\n",
       " 'dark-side': 707,\n",
       " 'repressive': 708,\n",
       " '800-mile': 709,\n",
       " 'goblin': 710,\n",
       " 'fraction': 711,\n",
       " 'dana': 712,\n",
       " 'break-dance': 713,\n",
       " 'ex-porn': 714,\n",
       " 'bowl': 715,\n",
       " 'joadson': 716,\n",
       " 'overbeck': 717,\n",
       " 'supplicate': 718,\n",
       " 'jarmusch': 719,\n",
       " 'davidtz': 720,\n",
       " 'dispite': 721,\n",
       " 'inclusions': 722,\n",
       " 'dream-boat': 723,\n",
       " 'insulators': 724,\n",
       " 'episodes': 725,\n",
       " 'pandora': 726,\n",
       " 'delude': 727,\n",
       " 'profusely': 728,\n",
       " 'infamy': 729,\n",
       " 'tenderness': 730,\n",
       " 'leftover': 731,\n",
       " 'problematical': 732,\n",
       " 'eaten': 733,\n",
       " 'ritzy': 734,\n",
       " 'forze': 735,\n",
       " 'betters': 736,\n",
       " 'acclaimed': 737,\n",
       " 'truckload': 738,\n",
       " 'hairbrush': 739,\n",
       " 'boyz': 740,\n",
       " 'xref': 741,\n",
       " 'stylized': 742,\n",
       " 'anti-hero': 743,\n",
       " 'drang': 744,\n",
       " 'valkyries': 745,\n",
       " 'betti': 746,\n",
       " 'lorde': 747,\n",
       " 'episodic': 748,\n",
       " 'money-': 749,\n",
       " 'corsucant': 750,\n",
       " 'ahmed': 751,\n",
       " 'rogers-would-be-proud': 752,\n",
       " 'profitable': 753,\n",
       " 'statuesque': 754,\n",
       " 'dolenz': 755,\n",
       " 'quintessential': 756,\n",
       " 'peaceniks': 757,\n",
       " 'off-broadway': 758,\n",
       " 'plane-load': 759,\n",
       " 'accepting': 760,\n",
       " 'preppy': 761,\n",
       " 'finace': 762,\n",
       " 'innuendoes': 763,\n",
       " 'astrophysicist': 764,\n",
       " 'remove': 765,\n",
       " 'evidently': 766,\n",
       " 'subjects': 767,\n",
       " 'suppressed': 768,\n",
       " 'recess': 769,\n",
       " 'extravaganzas': 770,\n",
       " 'candlelit': 771,\n",
       " 'hou': 772,\n",
       " 'joe/chris': 773,\n",
       " 'quickly': 774,\n",
       " 'ja': 775,\n",
       " 'calculative': 776,\n",
       " 'houser': 777,\n",
       " 'cowrites': 778,\n",
       " 'ritualistically': 779,\n",
       " 'steen': 780,\n",
       " 'rooftops': 781,\n",
       " 'pg-rated': 782,\n",
       " 'sewing': 783,\n",
       " 'justifies': 784,\n",
       " 'slow-motion': 785,\n",
       " 'balrogs': 786,\n",
       " 'self-indulgent': 787,\n",
       " 'pentagon': 788,\n",
       " 'overhearing': 789,\n",
       " 'alternate-1999': 790,\n",
       " 'gimmicky': 791,\n",
       " 'spoiled': 792,\n",
       " 'sighing': 793,\n",
       " 'jelly-donut': 794,\n",
       " 'posey': 795,\n",
       " 'stendhal': 796,\n",
       " 'upping': 797,\n",
       " 'bio-molecular': 798,\n",
       " 'sweating': 799,\n",
       " 'afraid': 800,\n",
       " 'echelons': 801,\n",
       " 'innovative': 802,\n",
       " 'chompin': 803,\n",
       " 'me': 804,\n",
       " 'loathsome': 805,\n",
       " 'headphones': 806,\n",
       " 'lugia': 807,\n",
       " 'sook-yin': 808,\n",
       " 'koran': 809,\n",
       " 'retreat': 810,\n",
       " 'fragmented': 811,\n",
       " 'smiling': 812,\n",
       " 'lilly': 813,\n",
       " 'head-on': 814,\n",
       " 'havoc': 815,\n",
       " 'tolkien': 816,\n",
       " '_48_hrs': 817,\n",
       " 'beam': 818,\n",
       " 'jascha': 819,\n",
       " 'ted': 820,\n",
       " 'action-verb': 821,\n",
       " 'principal': 822,\n",
       " 'feature-length': 823,\n",
       " 'supercilious': 824,\n",
       " 'assist': 825,\n",
       " 'buds': 826,\n",
       " 'luhrman': 827,\n",
       " 'pignon': 828,\n",
       " 'metered': 829,\n",
       " 'sourpuss': 830,\n",
       " 'date-night': 831,\n",
       " '_loathe_': 832,\n",
       " 'coulmier': 833,\n",
       " '180': 834,\n",
       " 'dinosaurs': 835,\n",
       " 'spoilers': 836,\n",
       " 'dilate': 837,\n",
       " 'not-so-brilliantly': 838,\n",
       " 'greedier': 839,\n",
       " 'roadside': 840,\n",
       " 'sprocket': 841,\n",
       " 'nincompoop': 842,\n",
       " 'counsellor': 843,\n",
       " 'kooky': 844,\n",
       " 'clenched': 845,\n",
       " 'shall': 846,\n",
       " 'valiant': 847,\n",
       " 'driller': 848,\n",
       " 'adlai': 849,\n",
       " 'pious': 850,\n",
       " 'script-writers': 851,\n",
       " 'amos': 852,\n",
       " 'hotel': 853,\n",
       " 'civilisation': 854,\n",
       " '`dark': 855,\n",
       " 'absorbant': 856,\n",
       " 'robbed': 857,\n",
       " 'lose': 858,\n",
       " 'screenwriting': 859,\n",
       " 'entombed': 860,\n",
       " 'jolting': 861,\n",
       " 'constellations': 862,\n",
       " 'truthfulness': 863,\n",
       " 'tomorrow': 864,\n",
       " 'reminiscing': 865,\n",
       " 'grandson': 866,\n",
       " 'toe-stub': 867,\n",
       " 'audits': 868,\n",
       " 'sovereign': 869,\n",
       " 'disturbances': 870,\n",
       " 'jails': 871,\n",
       " 'liberals': 872,\n",
       " '`she': 873,\n",
       " 'upscale': 874,\n",
       " 'edmunds': 875,\n",
       " 'aug': 876,\n",
       " 'immortal': 877,\n",
       " 'homicides': 878,\n",
       " 'bower': 879,\n",
       " 'witty': 880,\n",
       " 'auction': 881,\n",
       " 'orwell': 882,\n",
       " 'reincarnated': 883,\n",
       " '1969': 884,\n",
       " 'ex-newspaper': 885,\n",
       " 'believably': 886,\n",
       " 'shade': 887,\n",
       " 'ever-enjoyable': 888,\n",
       " 'consoles': 889,\n",
       " 'snippet': 890,\n",
       " 'kernel': 891,\n",
       " 'skimp': 892,\n",
       " 'sugarplums': 893,\n",
       " 'underlining': 894,\n",
       " 'unsparing': 895,\n",
       " 'south': 896,\n",
       " 'korda': 897,\n",
       " 'deacon': 898,\n",
       " 'shill': 899,\n",
       " 'memory': 900,\n",
       " 'forsyth': 901,\n",
       " 'unto': 902,\n",
       " 'idealized': 903,\n",
       " 'police-station': 904,\n",
       " 'shards': 905,\n",
       " 'observatory': 906,\n",
       " 'rookie': 907,\n",
       " 'septic': 908,\n",
       " 'disrupting': 909,\n",
       " 'supersedes': 910,\n",
       " 'watercolors': 911,\n",
       " 'anemic': 912,\n",
       " 'swintons': 913,\n",
       " 'type-casted': 914,\n",
       " 'ussr': 915,\n",
       " 'him_': 916,\n",
       " 'reverted': 917,\n",
       " 'is-': 918,\n",
       " 'mpd': 919,\n",
       " 'squeaky-clean': 920,\n",
       " 'confines': 921,\n",
       " 'honks': 922,\n",
       " 'dornacker': 923,\n",
       " 'ether-addicted': 924,\n",
       " 'close-up': 925,\n",
       " 'frauds': 926,\n",
       " 'dug': 927,\n",
       " 'hewson': 928,\n",
       " 'ungar': 929,\n",
       " 'leeloo': 930,\n",
       " 'unexceptional': 931,\n",
       " 'sad': 932,\n",
       " 'july': 933,\n",
       " 'fished': 934,\n",
       " 'preconceived': 935,\n",
       " '`lola': 936,\n",
       " 'specializing': 937,\n",
       " 'mini-van': 938,\n",
       " 'would-be-girlfriend': 939,\n",
       " 'bark': 940,\n",
       " 'grounding': 941,\n",
       " 'gallifrey': 942,\n",
       " '17-year-old': 943,\n",
       " 'snoop': 944,\n",
       " 'bode': 945,\n",
       " 'authorties': 946,\n",
       " 'bondsmen': 947,\n",
       " 'jennifer': 948,\n",
       " 'compel': 949,\n",
       " '-': 950,\n",
       " 'ewan': 951,\n",
       " 'entertains': 952,\n",
       " 'ocean': 953,\n",
       " 'non-exploitative': 954,\n",
       " 'type': 955,\n",
       " 'knifed': 956,\n",
       " 'awry': 957,\n",
       " 'waters': 958,\n",
       " 'fumbling': 959,\n",
       " 'defensively': 960,\n",
       " 'gentle': 961,\n",
       " 'laugher': 962,\n",
       " 'encompassing': 963,\n",
       " 'contemplates': 964,\n",
       " 'sender': 965,\n",
       " 'petstore': 966,\n",
       " 'playback': 967,\n",
       " 'suspend': 968,\n",
       " 'hedaya': 969,\n",
       " 'packed': 970,\n",
       " 'ex-convict': 971,\n",
       " 'invlove': 972,\n",
       " 'decidedly': 973,\n",
       " 'automobiles': 974,\n",
       " 'broadbent': 975,\n",
       " 'far-out': 976,\n",
       " 'gorilla': 977,\n",
       " 'cappie': 978,\n",
       " 'didn\\x12t': 979,\n",
       " 'mujibur': 980,\n",
       " 'automatic-pilot': 981,\n",
       " 'martial': 982,\n",
       " 'cringing-': 983,\n",
       " 'marksman': 984,\n",
       " 'brokedown': 985,\n",
       " 'belts': 986,\n",
       " 'rights': 987,\n",
       " 'hugged': 988,\n",
       " 'promoters': 989,\n",
       " 'atomic': 990,\n",
       " '4-inch': 991,\n",
       " 'oppisites': 992,\n",
       " 'perpetual-motion': 993,\n",
       " 'mysteriously': 994,\n",
       " 'pfeiffer': 995,\n",
       " 'conveniences': 996,\n",
       " 'propriety': 997,\n",
       " 'assassin': 998,\n",
       " 'boothe': 999,\n",
       " 'best': 1000,\n",
       " ...}"
      ]
     },
     "execution_count": 14,
     "metadata": {},
     "output_type": "execute_result"
    }
   ],
   "source": [
    "word_to_id"
   ]
  },
  {
   "cell_type": "markdown",
   "metadata": {},
   "source": [
    "Excellent, we're much closer to being able to having our dataset in a form that TensorFlow can work with.  \n",
    "Just for sanity, let's see what the review above would look like as a list of the IDs above:"
   ]
  },
  {
   "cell_type": "code",
   "execution_count": 15,
   "metadata": {},
   "outputs": [
    {
     "data": {
      "text/plain": [
       "[26552, 39669, 6290, 28622, 12668, 29285, 4914, 13415, 25793, 35413]"
      ]
     },
     "execution_count": 15,
     "metadata": {},
     "output_type": "execute_result"
    }
   ],
   "source": [
    "[word_to_id[word] for word in nltk.tokenize.word_tokenize(df['review'][5])][:10]"
   ]
  },
  {
   "cell_type": "markdown",
   "metadata": {},
   "source": [
    "I'm going to trust that the above is mostly correct, but let's at least check that `moviemaking` matches the first index in the above list:"
   ]
  },
  {
   "cell_type": "code",
   "execution_count": 16,
   "metadata": {},
   "outputs": [
    {
     "data": {
      "text/plain": [
       "26552"
      ]
     },
     "execution_count": 16,
     "metadata": {},
     "output_type": "execute_result"
    }
   ],
   "source": [
    "word_to_id[\"moviemaking\"]"
   ]
  },
  {
   "cell_type": "markdown",
   "metadata": {},
   "source": [
    "Perfect.  Now, let's convert all of the tokenized reviews into lists of `ID`s"
   ]
  },
  {
   "cell_type": "code",
   "execution_count": 17,
   "metadata": {},
   "outputs": [],
   "source": [
    "reviews_as_ids = []\n",
    "for review in df['review']:\n",
    "    reviews_as_ids.append([word_to_id[word] for word in nltk.tokenize.word_tokenize(review)])"
   ]
  },
  {
   "cell_type": "markdown",
   "metadata": {},
   "source": [
    "Again, as a sanity check, the 5th item in the `reviews_as_ids` list should be the same as the list that we see two cells above:"
   ]
  },
  {
   "cell_type": "code",
   "execution_count": 18,
   "metadata": {},
   "outputs": [
    {
     "data": {
      "text/plain": [
       "[26552, 39669, 6290, 28622, 12668, 29285, 4914, 13415, 25793, 35413]"
      ]
     },
     "execution_count": 18,
     "metadata": {},
     "output_type": "execute_result"
    }
   ],
   "source": [
    "reviews_as_ids[4][:10]"
   ]
  },
  {
   "cell_type": "markdown",
   "metadata": {},
   "source": [
    "Excellent, we have now transformed our dataset of movie reviews into a list of integers.  "
   ]
  },
  {
   "cell_type": "markdown",
   "metadata": {},
   "source": [
    "## Label Encoding\n",
    "Now, let's generate an array that we can use with TensorFlow from the labels in the dataset."
   ]
  },
  {
   "cell_type": "code",
   "execution_count": 19,
   "metadata": {},
   "outputs": [],
   "source": [
    "import numpy as np"
   ]
  },
  {
   "cell_type": "code",
   "execution_count": 20,
   "metadata": {},
   "outputs": [
    {
     "data": {
      "text/html": [
       "<div>\n",
       "<style scoped>\n",
       "    .dataframe tbody tr th:only-of-type {\n",
       "        vertical-align: middle;\n",
       "    }\n",
       "\n",
       "    .dataframe tbody tr th {\n",
       "        vertical-align: top;\n",
       "    }\n",
       "\n",
       "    .dataframe thead th {\n",
       "        text-align: right;\n",
       "    }\n",
       "</style>\n",
       "<table border=\"1\" class=\"dataframe\">\n",
       "  <thead>\n",
       "    <tr style=\"text-align: right;\">\n",
       "      <th></th>\n",
       "      <th>label</th>\n",
       "      <th>review</th>\n",
       "    </tr>\n",
       "    <tr>\n",
       "      <th>id</th>\n",
       "      <th></th>\n",
       "      <th></th>\n",
       "    </tr>\n",
       "  </thead>\n",
       "  <tbody>\n",
       "    <tr>\n",
       "      <th>1</th>\n",
       "      <td>pos</td>\n",
       "      <td>films adapted from comic books have had plenty...</td>\n",
       "    </tr>\n",
       "    <tr>\n",
       "      <th>2</th>\n",
       "      <td>pos</td>\n",
       "      <td>every now and then a movie comes along from a ...</td>\n",
       "    </tr>\n",
       "    <tr>\n",
       "      <th>3</th>\n",
       "      <td>pos</td>\n",
       "      <td>you've got mail works alot better than it dese...</td>\n",
       "    </tr>\n",
       "    <tr>\n",
       "      <th>4</th>\n",
       "      <td>pos</td>\n",
       "      <td>\" jaws \" is a rare film that grabs your atten...</td>\n",
       "    </tr>\n",
       "    <tr>\n",
       "      <th>5</th>\n",
       "      <td>pos</td>\n",
       "      <td>moviemaking is a lot like being the general ma...</td>\n",
       "    </tr>\n",
       "  </tbody>\n",
       "</table>\n",
       "</div>"
      ],
      "text/plain": [
       "   label                                             review\n",
       "id                                                         \n",
       "1    pos  films adapted from comic books have had plenty...\n",
       "2    pos  every now and then a movie comes along from a ...\n",
       "3    pos  you've got mail works alot better than it dese...\n",
       "4    pos   \" jaws \" is a rare film that grabs your atten...\n",
       "5    pos  moviemaking is a lot like being the general ma..."
      ]
     },
     "execution_count": 20,
     "metadata": {},
     "output_type": "execute_result"
    }
   ],
   "source": [
    "df.head()"
   ]
  },
  {
   "cell_type": "code",
   "execution_count": 21,
   "metadata": {},
   "outputs": [
    {
     "data": {
      "text/html": [
       "<div>\n",
       "<style scoped>\n",
       "    .dataframe tbody tr th:only-of-type {\n",
       "        vertical-align: middle;\n",
       "    }\n",
       "\n",
       "    .dataframe tbody tr th {\n",
       "        vertical-align: top;\n",
       "    }\n",
       "\n",
       "    .dataframe thead th {\n",
       "        text-align: right;\n",
       "    }\n",
       "</style>\n",
       "<table border=\"1\" class=\"dataframe\">\n",
       "  <thead>\n",
       "    <tr style=\"text-align: right;\">\n",
       "      <th></th>\n",
       "      <th>label</th>\n",
       "      <th>review</th>\n",
       "    </tr>\n",
       "    <tr>\n",
       "      <th>id</th>\n",
       "      <th></th>\n",
       "      <th></th>\n",
       "    </tr>\n",
       "  </thead>\n",
       "  <tbody>\n",
       "    <tr>\n",
       "      <th>1996</th>\n",
       "      <td>neg</td>\n",
       "      <td>if anything , \" stigmata \" should be taken as ...</td>\n",
       "    </tr>\n",
       "    <tr>\n",
       "      <th>1997</th>\n",
       "      <td>neg</td>\n",
       "      <td>john boorman's \" zardoz \" is a goofy cinematic...</td>\n",
       "    </tr>\n",
       "    <tr>\n",
       "      <th>1998</th>\n",
       "      <td>neg</td>\n",
       "      <td>the kids in the hall are an acquired taste .  ...</td>\n",
       "    </tr>\n",
       "    <tr>\n",
       "      <th>1999</th>\n",
       "      <td>neg</td>\n",
       "      <td>there was a time when john carpenter was a gre...</td>\n",
       "    </tr>\n",
       "    <tr>\n",
       "      <th>2000</th>\n",
       "      <td>neg</td>\n",
       "      <td>two party guys bob their heads to haddaway's d...</td>\n",
       "    </tr>\n",
       "  </tbody>\n",
       "</table>\n",
       "</div>"
      ],
      "text/plain": [
       "     label                                             review\n",
       "id                                                           \n",
       "1996   neg  if anything , \" stigmata \" should be taken as ...\n",
       "1997   neg  john boorman's \" zardoz \" is a goofy cinematic...\n",
       "1998   neg  the kids in the hall are an acquired taste .  ...\n",
       "1999   neg  there was a time when john carpenter was a gre...\n",
       "2000   neg  two party guys bob their heads to haddaway's d..."
      ]
     },
     "execution_count": 21,
     "metadata": {},
     "output_type": "execute_result"
    }
   ],
   "source": [
    "df.tail()"
   ]
  },
  {
   "cell_type": "markdown",
   "metadata": {},
   "source": [
    "We have a list of the reviews which have been integer-tokenized, now let's generate a parallel numpy array of whether the review is positive or negative."
   ]
  },
  {
   "cell_type": "code",
   "execution_count": 22,
   "metadata": {},
   "outputs": [],
   "source": [
    "review_labels = np.array(df['label'] == 'pos', dtype=int)"
   ]
  },
  {
   "cell_type": "code",
   "execution_count": 23,
   "metadata": {},
   "outputs": [
    {
     "data": {
      "text/plain": [
       "array([1, 1, 1, 1, 1])"
      ]
     },
     "execution_count": 23,
     "metadata": {},
     "output_type": "execute_result"
    }
   ],
   "source": [
    "review_labels[:5]"
   ]
  },
  {
   "cell_type": "code",
   "execution_count": 24,
   "metadata": {},
   "outputs": [
    {
     "data": {
      "text/plain": [
       "array([0, 0, 0, 0, 0])"
      ]
     },
     "execution_count": 24,
     "metadata": {},
     "output_type": "execute_result"
    }
   ],
   "source": [
    "review_labels[-5:]"
   ]
  },
  {
   "cell_type": "markdown",
   "metadata": {},
   "source": [
    "As a sanity check, the length of this numpy array should be `2000`."
   ]
  },
  {
   "cell_type": "code",
   "execution_count": 25,
   "metadata": {},
   "outputs": [
    {
     "data": {
      "text/plain": [
       "2000"
      ]
     },
     "execution_count": 25,
     "metadata": {},
     "output_type": "execute_result"
    }
   ],
   "source": [
    "len(review_labels)"
   ]
  },
  {
   "cell_type": "markdown",
   "metadata": {},
   "source": [
    "## Padding\n",
    "The reviews in our dataset contain a different length of tokens."
   ]
  },
  {
   "cell_type": "code",
   "execution_count": 26,
   "metadata": {
    "scrolled": true
   },
   "outputs": [
    {
     "data": {
      "text/plain": [
       "<matplotlib.axes._subplots.AxesSubplot at 0x7f1663bae438>"
      ]
     },
     "execution_count": 26,
     "metadata": {},
     "output_type": "execute_result"
    },
    {
     "data": {
      "image/png": "[encoded data removed]",
      "text/plain": [
       "<matplotlib.figure.Figure at 0x7f1663bb77b8>"
      ]
     },
     "metadata": {},
     "output_type": "display_data"
    }
   ],
   "source": [
    "pd.Series(reviews_as_ids).apply(len).hist()"
   ]
  },
  {
   "cell_type": "markdown",
   "metadata": {},
   "source": [
    "Most of our reviews are under ~1,200 tokens long, and a few are over 2,500 tokens.\n",
    "\n",
    "The problem is that TensorFlow accepts only inputs of fixed length.  \n",
    "Further, LSTMs often have a practical limitation of only working with sequences that are a few hundred items long.\n",
    "\n",
    "This requires us to pick **a single token length** for our reviews as inputs.  \n",
    "Reviews which are shorter than this will be padded on the **right** with `0`s, and reviews which are longer will have to be truncated before being fed to TensorFlow.\n",
    "\n",
    "This is not as serious a limitation as it sounds, but it does have to be dealt with, or TensorFlow will throw errors during training.\n",
    "\n",
    "Accordingly, let's define a **sequence length** that we will fit every review into."
   ]
  },
  {
   "cell_type": "code",
   "execution_count": 27,
   "metadata": {},
   "outputs": [],
   "source": [
    "seq_len = 200\n",
    "\n",
    "x = np.zeros((len(reviews_as_ids), seq_len), dtype=int)\n",
    "for i, review_as_id in enumerate(reviews_as_ids):\n",
    "    x[i, :len(review_as_id)] = np.array(review_as_id)[:seq_len]"
   ]
  },
  {
   "cell_type": "markdown",
   "metadata": {},
   "source": [
    "Shown below are two such sequences, one originally longer than the sequence length, and one shorter."
   ]
  },
  {
   "cell_type": "code",
   "execution_count": 28,
   "metadata": {
    "scrolled": true
   },
   "outputs": [
    {
     "data": {
      "text/plain": [
       "(array([35066, 22368,  1781, 44451,  4914, 43392, 28384, 35066, 22368,\n",
       "        43952, 44451, 13111, 36999,   950, 12090, 21149,  8850,  4914,\n",
       "         9379, 16196,  7359,  6849, 16212, 22479, 17425, 33263,  8850,\n",
       "        13173, 11447, 45959, 16196,  7359,  8395,  5420, 22479,   951,\n",
       "        11025,  8850, 21808, 16196,  7359,  5958,  7523, 22479,  7248,\n",
       "        37830, 26812,  8850, 25891, 44451,  4914,  6638, 16196,  7359,\n",
       "         7845, 40644, 26433, 28384,  5349, 35066, 22368,  7139, 38380,\n",
       "        23598, 22479, 35066, 22368, 45193,  8011,  1781, 35664, 45892,\n",
       "        18674, 44292,  2540, 17576, 27949,  2540,  4914, 29826,  7248,\n",
       "         9417, 35413,  4914,  9448, 19514, 28384, 35066, 45193, 30435,\n",
       "        14980,  1781, 35664, 45892,  8005, 11447, 43662, 43674, 22479,\n",
       "         7248, 16160, 15226, 14980,  9759, 10426, 25415, 17921, 28384,\n",
       "        33047,  4914, 43392, 28384,  4914,   671, 12070,  5628, 22479,\n",
       "         4914, 44472, 20288, 12070,  2890,  3470, 22479,  4914, 33705,\n",
       "        13838, 12070, 27982, 22479,  7248,  6849, 16212, 11447,  2815,\n",
       "        40724, 12070, 42232,  2540,  8209, 40796, 22354,  6849, 32765,\n",
       "        28384,  6208, 32058, 11447, 18372, 34516, 24327, 22479,  7248,\n",
       "          153, 39669, 15226, 23874, 22798,   671,   950,   153, 11447,\n",
       "        12017, 31471, 41998, 29628, 15226, 41998, 40305, 28384,  4914,\n",
       "         5385, 46549,  7359,  1000,  1096,  8385,  2540, 17369, 20987,\n",
       "        14202,  7248, 42469, 39317, 28384,  4914, 16002, 21956, 19163,\n",
       "        45892, 39669, 17425, 33263, 18462, 22479,  7359,  8395,  5420,\n",
       "        22479,  6290]),\n",
       " array([45892, 41664, 39669,  8877, 29861,  7248, 37263, 28198, 31202,\n",
       "         5156,  2540,  4219, 38380, 31302, 33605, 17006,   153, 28384,\n",
       "            0,     0,     0,     0,     0,     0,     0,     0,     0,\n",
       "            0,     0,     0,     0,     0,     0,     0,     0,     0,\n",
       "            0,     0,     0,     0,     0,     0,     0,     0,     0,\n",
       "            0,     0,     0,     0,     0,     0,     0,     0,     0,\n",
       "            0,     0,     0,     0,     0,     0,     0,     0,     0,\n",
       "            0,     0,     0,     0,     0,     0,     0,     0,     0,\n",
       "            0,     0,     0,     0,     0,     0,     0,     0,     0,\n",
       "            0,     0,     0,     0,     0,     0,     0,     0,     0,\n",
       "            0,     0,     0,     0,     0,     0,     0,     0,     0,\n",
       "            0,     0,     0,     0,     0,     0,     0,     0,     0,\n",
       "            0,     0,     0,     0,     0,     0,     0,     0,     0,\n",
       "            0,     0,     0,     0,     0,     0,     0,     0,     0,\n",
       "            0,     0,     0,     0,     0,     0,     0,     0,     0,\n",
       "            0,     0,     0,     0,     0,     0,     0,     0,     0,\n",
       "            0,     0,     0,     0,     0,     0,     0,     0,     0,\n",
       "            0,     0,     0,     0,     0,     0,     0,     0,     0,\n",
       "            0,     0,     0,     0,     0,     0,     0,     0,     0,\n",
       "            0,     0,     0,     0,     0,     0,     0,     0,     0,\n",
       "            0,     0,     0,     0,     0,     0,     0,     0,     0,\n",
       "            0,     0,     0,     0,     0,     0,     0,     0,     0,\n",
       "            0,     0]))"
      ]
     },
     "execution_count": 28,
     "metadata": {},
     "output_type": "execute_result"
    }
   ],
   "source": [
    "x[31], x[1506]"
   ]
  },
  {
   "cell_type": "markdown",
   "metadata": {},
   "source": [
    "# Data Splitting and Shuffling\n",
    "\n",
    "Now that we have transformed our dataset into a format that TensorFlow can work with, we need to split the dataset into training, testing, and validation sets, so that we can better evaluate the model's performance.\n",
    "\n",
    "Let's use numpy to help us randomize here"
   ]
  },
  {
   "cell_type": "code",
   "execution_count": 29,
   "metadata": {},
   "outputs": [],
   "source": [
    "## Use a seed for reproducibility of results\n",
    "np.random.seed(42)\n",
    "permute = np.random.permutation(range(len(x)))"
   ]
  },
  {
   "cell_type": "code",
   "execution_count": 30,
   "metadata": {
    "scrolled": true
   },
   "outputs": [],
   "source": [
    "## Generate shuffled versions of our data and labels\n",
    "x_shuffled = x[permute]\n",
    "y_shuffled = review_labels[permute]"
   ]
  },
  {
   "cell_type": "code",
   "execution_count": 31,
   "metadata": {},
   "outputs": [],
   "source": [
    "## Use an 80% : 10% : 10% split into training : testing : validation sets\n",
    "train_split = int(0.8*len(x))\n",
    "test_split = int(0.9*len(x))\n",
    "\n",
    "train_x = x_shuffled[:train_split]\n",
    "test_x = x_shuffled[train_split:test_split]\n",
    "val_x = x_shuffled[test_split:]\n",
    "\n",
    "train_y = y_shuffled[:train_split]\n",
    "test_y = y_shuffled[train_split:test_split]\n",
    "val_y = y_shuffled[test_split:]"
   ]
  },
  {
   "cell_type": "markdown",
   "metadata": {},
   "source": [
    "As a sanity check, recall that the original dataset was 1000 positive reviews followed by 1000 negative reviews.  \n",
    "If we've truly shuffled, then the beginning of each of the training, testing, and validation sets should be a mixture of positive or negative:"
   ]
  },
  {
   "cell_type": "code",
   "execution_count": 32,
   "metadata": {},
   "outputs": [
    {
     "data": {
      "text/plain": [
       "array([0, 1, 0, 1, 0, 0])"
      ]
     },
     "execution_count": 32,
     "metadata": {},
     "output_type": "execute_result"
    }
   ],
   "source": [
    "train_y[:6]"
   ]
  },
  {
   "cell_type": "code",
   "execution_count": 33,
   "metadata": {},
   "outputs": [
    {
     "data": {
      "text/plain": [
       "array([1, 1, 0, 1, 1, 0])"
      ]
     },
     "execution_count": 33,
     "metadata": {},
     "output_type": "execute_result"
    }
   ],
   "source": [
    "test_y[:6]"
   ]
  },
  {
   "cell_type": "code",
   "execution_count": 34,
   "metadata": {},
   "outputs": [
    {
     "data": {
      "text/plain": [
       "array([0, 1, 0, 0, 1, 0])"
      ]
     },
     "execution_count": 34,
     "metadata": {},
     "output_type": "execute_result"
    }
   ],
   "source": [
    "val_y[:6]"
   ]
  },
  {
   "cell_type": "markdown",
   "metadata": {},
   "source": [
    "As a final sanity check, note that an 80%, 10%, 10% split should yield numpy arrays of size `1600`, `200`, and `200`"
   ]
  },
  {
   "cell_type": "code",
   "execution_count": 35,
   "metadata": {},
   "outputs": [
    {
     "data": {
      "text/plain": [
       "(1600, 200, 200)"
      ]
     },
     "execution_count": 35,
     "metadata": {},
     "output_type": "execute_result"
    }
   ],
   "source": [
    "len(train_x), len(test_x), len(val_x)"
   ]
  },
  {
   "cell_type": "markdown",
   "metadata": {},
   "source": [
    "# Checkpointing\n",
    "We will use this opportunity to save our training, testing, and validation sets to disk, so that we can quickly load them in the future.\n",
    "\n",
    "Should this notebook need to be run in the future, it can start from the [Loading](#Loading) cells below.\n",
    "## Saving"
   ]
  },
  {
   "cell_type": "code",
   "execution_count": 36,
   "metadata": {},
   "outputs": [],
   "source": [
    "import pickle"
   ]
  },
  {
   "cell_type": "code",
   "execution_count": 37,
   "metadata": {},
   "outputs": [],
   "source": [
    "np.save(\"train_x_Cornell\", train_x)\n",
    "np.save(\"train_y_Cornell\", train_y)\n",
    "np.save(\"test_x_Cornell\", test_x)\n",
    "np.save(\"test_y_Cornell\", test_y)\n",
    "np.save(\"val_x_Cornell\", val_x)\n",
    "np.save(\"val_y_Cornell\", val_y)\n",
    "with open(\"review_word_set_Cornell.pkl\", 'wb') as f:\n",
    "    pickle.dump(review_word_set, f)"
   ]
  },
  {
   "cell_type": "markdown",
   "metadata": {},
   "source": [
    "## Loading"
   ]
  },
  {
   "cell_type": "code",
   "execution_count": 1,
   "metadata": {},
   "outputs": [],
   "source": [
    "import numpy as np\n",
    "import pickle\n",
    "import matplotlib.pyplot as plt\n",
    "%matplotlib inline"
   ]
  },
  {
   "cell_type": "code",
   "execution_count": 2,
   "metadata": {},
   "outputs": [],
   "source": [
    "train_x = np.load(\"train_x_Cornell.npy\")\n",
    "train_y = np.load(\"train_y_Cornell.npy\")\n",
    "test_x = np.load(\"test_x_Cornell.npy\")\n",
    "test_y = np.load(\"test_y_Cornell.npy\")\n",
    "val_x = np.load(\"val_x_Cornell.npy\")\n",
    "val_y = np.load(\"val_y_Cornell.npy\")\n",
    "with open(\"review_word_set_Cornell.pkl\", 'rb') as f:\n",
    "    review_word_set = pickle.load(f)"
   ]
  },
  {
   "cell_type": "markdown",
   "metadata": {},
   "source": [
    "# Model Architecture\n",
    "In this section, we will be defining a model architecture that we will use to \"learn\" the task of sentiment analysis.\n",
    "\n",
    "As a broad overview, this will be a neural network that takes a sequence as input, and produces a value of either 0 (a negative review) or 1 (a positive review).\n",
    "\n",
    "From the model's perspective, it will be seeing a vector of the above-defined **sequence length**, which is comprised of non-negative integers.\n",
    "\n",
    "After the input, the first layer of the model will be \"embedding\" these non-negative integers into a smaller representational space of only a few hundred floating-point numbers, to allow it to learn which sequences are important, and which are mere noise.\n",
    "\n",
    "Following this embedding layer, the \"embedded\" word vector will then pass into two parallel \"stacks\" of Long Short-Term Memory (LSTM) cells.\n",
    "\n",
    "The advantage of an LSTM cell is that, throughout time, it is able to remember better what came several dozen items earlier in the sequence than is a typical \"feed-forward\" network.  A broad overview of the machinery that allows an LSTM cell to accomplish this memory throughout a time sequence is shown below.\n",
    "![LSTM Cell, from colah's blog](http://colah.github.io/posts/2015-08-Understanding-LSTMs/img/LSTM3-chain.png)\n",
    "\n",
    "Since our dataset is a sequence of words, it makes sense that the model would benefit from knowing about both the sequence going forward, and going backward.  Intuitively, the review \"This movie has everything that you would expect.  And nothing you wouldn't,\" starts off very positive, and only at the end of the sequence would we start to think that the review is negative.  Knowing that from the beginning would make parsing the sequence easier.  \n",
    "Language parsing is a [complicated task](https://research.googleblog.com/2016/05/announcing-syntaxnet-worlds-most.html) that is outside the scope of this notebook, but having this bi-directional parsing typically helps models to pick out what's important for sentiment classification.\n",
    "\n",
    "The bi-directional stacked LSTM architecture that we implement below will be similar to (though not exactly the same as) the following architecture:\n",
    "![bi-directional stacked LSTM, from WildML](http://www.wildml.com/wp-content/uploads/2015/09/Screen-Shot-2015-09-16-at-2.21.51-PM.png)\n",
    "\n",
    "In the above architecture, each successive black dot may be thought of as a token in our reviews.  After embedding this token, we then pass it to a forward group of LSTM cells, and a backward stack of LSTM cells (both in orange), and then perhaps to more of the same \"stacked\" on top, which then generates outputs (red) at the top.\n",
    "\n",
    "We then connect the red \"output\" cells to a single cell, since we want a single answer from the model, namely whether the given input review has a positive or a negative sentiment.\n",
    "\n",
    "Thankfully, TensorFlow provides an API to implement the above, which we will explore below."
   ]
  },
  {
   "cell_type": "markdown",
   "metadata": {},
   "source": [
    "## Placeholders\n",
    "Let's define the necessary placeholders in order for us to feed our pre-processed data from above into a TensorFlow model:"
   ]
  },
  {
   "cell_type": "code",
   "execution_count": 3,
   "metadata": {},
   "outputs": [
    {
     "name": "stderr",
     "output_type": "stream",
     "text": [
      "/home/human/miniconda3/envs/ProofOfConcept/lib/python3.6/importlib/_bootstrap.py:219: RuntimeWarning: compiletime version 3.5 of module 'tensorflow.python.framework.fast_tensor_util' does not match runtime version 3.6\n",
      "  return f(*args, **kwds)\n"
     ]
    }
   ],
   "source": [
    "import tensorflow as tf"
   ]
  },
  {
   "cell_type": "code",
   "execution_count": 4,
   "metadata": {},
   "outputs": [],
   "source": [
    "graph = tf.Graph()"
   ]
  },
  {
   "cell_type": "code",
   "execution_count": 5,
   "metadata": {},
   "outputs": [],
   "source": [
    "with graph.as_default():\n",
    "    # Define placeholders to accept batches of token-sequences\n",
    "    inputs = tf.placeholder(tf.int32, [None, None], name = \"inputs\")\n",
    "    labels = tf.placeholder(tf.int32, [None, None], name = \"labels\")\n",
    "    \n",
    "    # Define a placeholder to allow us to tweak the dropout hyperparameter\n",
    "    keep_prob = tf.placeholder(tf.float32, name=\"keep_prob\")"
   ]
  },
  {
   "cell_type": "markdown",
   "metadata": {},
   "source": [
    "## Embedding\n",
    "Many of the unique tokens that exist in our dataset, and thus have been assigned an `ID`, occur rarely.  \n",
    "Things that occur rarely don't give a deep learning model much chance to learn what they mean, and so generally they hurt performance unless we take special steps to combat them.\n",
    "\n",
    "As it turns out, we can probably condense the above ~47,000 unique tokens into a few hundred tokens, and still have the model perform well.  \n",
    "\n",
    "This is done through the use of an [\"embedding\"](https://www.tensorflow.org/versions/master/tutorials/seq2seq#embedding) layer, which lets our model decide which of the tokens it sees are important, and which are just noise.\n",
    "\n",
    "Thankfully, TensorFlow provides a compact way to define and use embeddings:"
   ]
  },
  {
   "cell_type": "code",
   "execution_count": 6,
   "metadata": {},
   "outputs": [],
   "source": [
    "embedding_size = 300\n",
    "\n",
    "with graph.as_default():\n",
    "    # Define an embedding that allows us to map our ~47,000 review tokens to our embedding size\n",
    "    # Our model will \"learn\" a good embedding during training\n",
    "    embedding = tf.Variable(tf.random_uniform((len(review_word_set) + 1, embedding_size), -1, 1), name=\"Embedding\")\n",
    "    embed = tf.nn.embedding_lookup(embedding, inputs, name=\"Embedding_Lookup\")"
   ]
  },
  {
   "cell_type": "markdown",
   "metadata": {},
   "source": [
    "## Encoder\n",
    "Now that we have defined an embedding to squash our input token sequences into a more manageable space, we now define an encoder that will be the heart of this bi-directional stacked LSTM model:"
   ]
  },
  {
   "cell_type": "code",
   "execution_count": 7,
   "metadata": {},
   "outputs": [],
   "source": [
    "num_lstm_layers = 2\n",
    "num_lstm_units = 256\n",
    "\n",
    "with graph.as_default():\n",
    "    \n",
    "    def getLSTMlist(num_layers):\n",
    "        \"\"\"\n",
    "        Returns a list containing num_layers LSTM cells,\n",
    "        wrapped in dropout.\n",
    "        \n",
    "        This is to avoid TensorFlow syntax errors with the\n",
    "        [cell] * num_layers construction\n",
    "        \"\"\"\n",
    "        cell_list = []\n",
    "        for _ in range(num_layers):\n",
    "            # Your basic LSTM cell, with L2 regularization\n",
    "            lstm = tf.contrib.rnn.BasicLSTMCell(num_units=num_lstm_units)\n",
    "            \n",
    "            # Add dropout to the cell, using the keep_prob tensor\n",
    "            drop = tf.contrib.rnn.DropoutWrapper(lstm, output_keep_prob=keep_prob)\n",
    "            cell_list.append(drop)\n",
    "            \n",
    "        return cell_list\n",
    "    \n",
    "    forward_LSTMs = getLSTMlist(num_lstm_layers)\n",
    "    backward_LSTMs = getLSTMlist(num_lstm_layers)\n",
    "    \n",
    "    # Stack up multiple bidirectional LSTM layers\n",
    "    # Use dynamic to handle the unpacking of non-sequential input (embed)\n",
    "    outputs, output_state_fw, output_state_bw = \\\n",
    "        tf.contrib.rnn.stack_bidirectional_dynamic_rnn(forward_LSTMs, backward_LSTMs, embed, dtype=tf.float32)"
   ]
  },
  {
   "cell_type": "markdown",
   "metadata": {},
   "source": [
    "TensorBoard visualizes the above as follows:  \n",
    "![stack_bidirectional_rnn](img/stack.png)"
   ]
  },
  {
   "cell_type": "markdown",
   "metadata": {},
   "source": [
    "## Loss Function and Optimizer\n",
    "Finally, we will need to specify a loss function for our model so that it learns properly."
   ]
  },
  {
   "cell_type": "code",
   "execution_count": 8,
   "metadata": {},
   "outputs": [],
   "source": [
    "learning_rate = 1e-3\n",
    "alpha = 1e-2 # the factor by which to scale our L2 losses\n",
    "use_L2 = False\n",
    "\n",
    "with graph.as_default():\n",
    "    # Squash outputs to a single real number in the range of 0 to 1\n",
    "    predictions = tf.contrib.layers.fully_connected(outputs[:, -1], 1, activation_fn=tf.sigmoid)\n",
    "     \n",
    "    loss = tf.losses.mean_squared_error(labels, predictions)\n",
    "    \n",
    "    # Optimizer for training, using gradient clipping to control exploding gradients\n",
    "    tvars = tf.trainable_variables()\n",
    "    \n",
    "    # Get the L2 losses for weights, kernels, and biases, to discourage memorizing the training set\n",
    "    if use_L2:\n",
    "        for tensor in tvars:\n",
    "            if \"kernel\" in tensor.name or \"weights\" in tensor.name or \"bias\" in tensor.name:\n",
    "                loss += alpha * tf.nn.l2_loss(tensor)\n",
    "    \n",
    "    grads, _ = tf.clip_by_global_norm(tf.gradients(loss, tvars), 5) # clip gradients to 5\n",
    "    optimizer = tf.train.AdamOptimizer(learning_rate).minimize(loss, var_list=tvars)"
   ]
  },
  {
   "cell_type": "markdown",
   "metadata": {},
   "source": [
    "## Evaluation Operations"
   ]
  },
  {
   "cell_type": "code",
   "execution_count": 9,
   "metadata": {},
   "outputs": [],
   "source": [
    "with graph.as_default():\n",
    "\n",
    "    ## Round our sigmoid [0,1] output to be either 0 or 1\n",
    "    predictions_integer = tf.cast(tf.round(predictions), tf.int32, name=\"Prediction_Integers\")\n",
    "\n",
    "    ## Define operations for {true, false} {positive, negative} predictions\n",
    "    TP = tf.count_nonzero(predictions_integer * labels, name='True_Positives', dtype=tf.int32)\n",
    "    TN = tf.count_nonzero((predictions_integer - 1) * (labels - 1), name=\"True_Negatives\", dtype=tf.int32)\n",
    "    FP = tf.count_nonzero(predictions_integer * (labels - 1), name=\"False_Positives\", dtype=tf.int32)\n",
    "    FN = tf.count_nonzero((predictions_integer - 1) * labels, name=\"False_Negatives\", dtype=tf.int32)\n",
    "\n",
    "    ## Define operations for accuracy, precision, recall, and F1 score\n",
    "\n",
    "    # accuracy ::= (TP + TN) / (TN + FN + TP + FP)\n",
    "    accuracy = tf.divide(TP + TN, TN + FN + TP + FP, name=\"Accuracy\")\n",
    "\n",
    "    # precision ::= TP / (TP + FP)\n",
    "    precision = tf.divide(TP, TP + FP, name=\"Precision\")\n",
    "\n",
    "    # recall::= TP / (TP + FN)\n",
    "    recall = tf.divide(TP, TP + FN, name=\"Recall\")\n",
    "\n",
    "    # F1 score ::= 2 * precision * recall / (precision + recall)\n",
    "    f1 = tf.divide((2 * precision * recall), (precision + recall), name=\"F1_score\")\n",
    "\n",
    "    # To also record this information in TensorBoard, we'll define scalar summaries here\n",
    "    with tf.name_scope('summaries'):\n",
    "        tf.summary.scalar('Loss', loss)\n",
    "        tf.summary.scalar('Accuracy', accuracy)\n",
    "        tf.summary.scalar('Precision', precision)\n",
    "        tf.summary.scalar('Recall', recall)\n",
    "        tf.summary.scalar('F1_score', f1)"
   ]
  },
  {
   "cell_type": "markdown",
   "metadata": {},
   "source": [
    "# Training the Model\n",
    "We're almost ready to start training our model.\n",
    "\n",
    "Before we begin training, let's define a function that we can use to generate batches of our training data, so that we don't risk running out of memory by loading everything into the model at once."
   ]
  },
  {
   "cell_type": "code",
   "execution_count": 10,
   "metadata": {},
   "outputs": [],
   "source": [
    "def get_batches(x, y, batch_size=100):\n",
    "    '''\n",
    "    Given a set of features x, and a set of labels y,\n",
    "    return a generator yields shuffled batch_size tuples of x and y.\n",
    "    \n",
    "    Note that this function truncates x and y, if necessary,\n",
    "    so that it only returns full batches.\n",
    "    '''\n",
    "    ## Truncate x and y so that no batch is empty\n",
    "    num_batches = len(x) // batch_size\n",
    "    x, y = x[:num_batches * batch_size], y[:num_batches * batch_size]\n",
    "    \n",
    "    ## Shuffle x and y on the same index permutation\n",
    "    permute = np.random.permutation(range(len(x)))\n",
    "    x = x[permute]\n",
    "    y = y[permute]\n",
    "    \n",
    "    for i in range(0, len(x), batch_size):\n",
    "        yield x[i:i + batch_size], y[i:i + batch_size]"
   ]
  },
  {
   "cell_type": "code",
   "execution_count": 11,
   "metadata": {},
   "outputs": [],
   "source": [
    "# To keep our summary directories separate\n",
    "from datetime import datetime"
   ]
  },
  {
   "cell_type": "code",
   "execution_count": 13,
   "metadata": {
    "scrolled": false
   },
   "outputs": [
    {
     "name": "stdout",
     "output_type": "stream",
     "text": [
      "Epoch:  0/20 Iteration:    5 Training loss: 0.256 accuracy: 0.500 precision: 0.515 recall: 0.654 f1: 0.576\n",
      "Epoch:  0/20 Iteration:   10 Training loss: 0.250 accuracy: 0.480 precision: 0.540 recall: 0.482 f1: 0.509\n",
      "Epoch:  0/20 Iteration:   15 Training loss: 0.258 accuracy: 0.480 precision: 0.500 recall: 0.692 f1: 0.581\n",
      "Epoch:  1/20 Iteration:   20 Training loss: 0.214 accuracy: 0.790 precision: 0.762 recall: 0.889 f1: 0.821\n",
      "Epoch:  1/20 Iteration:   25 Training loss: 0.202 accuracy: 0.720 precision: 0.786 recall: 0.733 f1: 0.759\n",
      "                          Validation loss: 0.253 accuracy: 0.550 precision: 0.545 recall: 0.697 f1: 0.608\n",
      "Epoch:  1/20 Iteration:   30 Training loss: 0.181 accuracy: 0.710 precision: 0.691 recall: 0.760 f1: 0.724\n",
      "Epoch:  2/20 Iteration:   35 Training loss: 0.149 accuracy: 0.830 precision: 0.833 recall: 0.849 f1: 0.841\n",
      "Epoch:  2/20 Iteration:   40 Training loss: 0.147 accuracy: 0.760 precision: 0.763 recall: 0.659 f1: 0.707\n",
      "Epoch:  2/20 Iteration:   45 Training loss: 0.146 accuracy: 0.830 precision: 0.750 recall: 0.980 f1: 0.850\n",
      "Epoch:  3/20 Iteration:   50 Training loss: 0.076 accuracy: 0.910 precision: 0.926 recall: 0.909 f1: 0.917\n",
      "                          Validation loss: 0.289 accuracy: 0.560 precision: 0.560 recall: 0.598 f1: 0.576\n",
      "Epoch:  3/20 Iteration:   55 Training loss: 0.088 accuracy: 0.880 precision: 0.833 recall: 0.962 f1: 0.893\n",
      "Epoch:  3/20 Iteration:   60 Training loss: 0.090 accuracy: 0.890 precision: 0.846 recall: 0.936 f1: 0.889\n",
      "Epoch:  4/20 Iteration:   65 Training loss: 0.032 accuracy: 0.970 precision: 0.957 recall: 0.978 f1: 0.968\n",
      "Epoch:  4/20 Iteration:   70 Training loss: 0.047 accuracy: 0.940 precision: 0.927 recall: 0.962 f1: 0.944\n",
      "Epoch:  4/20 Iteration:   75 Training loss: 0.027 accuracy: 0.980 precision: 0.980 recall: 0.980 f1: 0.980\n",
      "                          Validation loss: 0.341 accuracy: 0.570 precision: 0.593 recall: 0.474 f1: 0.527\n",
      "Epoch:  4/20 Iteration:   80 Training loss: 0.032 accuracy: 0.960 precision: 0.930 recall: 1.000 f1: 0.964\n",
      "Epoch:  5/20 Iteration:   85 Training loss: 0.019 accuracy: 0.980 precision: 1.000 recall: 0.962 f1: 0.981\n",
      "Epoch:  5/20 Iteration:   90 Training loss: 0.013 accuracy: 0.980 precision: 0.964 recall: 1.000 f1: 0.982\n",
      "Epoch:  5/20 Iteration:   95 Training loss: 0.034 accuracy: 0.950 precision: 1.000 recall: 0.884 f1: 0.938\n",
      "Epoch:  6/20 Iteration:  100 Training loss: 0.002 accuracy: 1.000 precision: 1.000 recall: 1.000 f1: 1.000\n",
      "                          Validation loss: 0.365 accuracy: 0.560 precision: 0.556 recall: 0.600 f1: 0.576\n",
      "Epoch:  6/20 Iteration:  105 Training loss: 0.009 accuracy: 0.980 precision: 1.000 recall: 0.966 f1: 0.983\n",
      "Epoch:  6/20 Iteration:  110 Training loss: 0.002 accuracy: 1.000 precision: 1.000 recall: 1.000 f1: 1.000\n",
      "Epoch:  7/20 Iteration:  115 Training loss: 0.006 accuracy: 0.990 precision: 0.979 recall: 1.000 f1: 0.989\n",
      "Epoch:  7/20 Iteration:  120 Training loss: 0.009 accuracy: 0.990 precision: 1.000 recall: 0.982 f1: 0.991\n",
      "Epoch:  7/20 Iteration:  125 Training loss: 0.004 accuracy: 1.000 precision: 1.000 recall: 1.000 f1: 1.000\n",
      "                          Validation loss: 0.367 accuracy: 0.565 precision: 0.557 recall: 0.628 f1: 0.590\n",
      "Epoch:  8/20 Iteration:  130 Training loss: 0.000 accuracy: 1.000 precision: 1.000 recall: 1.000 f1: 1.000\n",
      "Epoch:  8/20 Iteration:  135 Training loss: 0.006 accuracy: 0.990 precision: 0.977 recall: 1.000 f1: 0.988\n",
      "Epoch:  8/20 Iteration:  140 Training loss: 0.001 accuracy: 1.000 precision: 1.000 recall: 1.000 f1: 1.000\n",
      "Epoch:  9/20 Iteration:  145 Training loss: 0.011 accuracy: 0.980 precision: 0.980 recall: 0.980 f1: 0.980\n",
      "Epoch:  9/20 Iteration:  150 Training loss: 0.021 accuracy: 0.970 precision: 0.978 recall: 0.957 f1: 0.968\n",
      "                          Validation loss: 0.357 accuracy: 0.590 precision: 0.615 recall: 0.506 f1: 0.555\n",
      "Epoch:  9/20 Iteration:  155 Training loss: 0.002 accuracy: 1.000 precision: 1.000 recall: 1.000 f1: 1.000\n",
      "Epoch:  9/20 Iteration:  160 Training loss: 0.001 accuracy: 1.000 precision: 1.000 recall: 1.000 f1: 1.000\n",
      "Epoch: 10/20 Iteration:  165 Training loss: 0.009 accuracy: 0.990 precision: 1.000 recall: 0.981 f1: 0.990\n",
      "Epoch: 10/20 Iteration:  170 Training loss: 0.001 accuracy: 1.000 precision: 1.000 recall: 1.000 f1: 1.000\n",
      "Epoch: 10/20 Iteration:  175 Training loss: 0.001 accuracy: 1.000 precision: 1.000 recall: 1.000 f1: 1.000\n",
      "                          Validation loss: 0.358 accuracy: 0.610 precision: 0.599 recall: 0.714 f1: 0.646\n",
      "Epoch: 11/20 Iteration:  180 Training loss: 0.001 accuracy: 1.000 precision: 1.000 recall: 1.000 f1: 1.000\n",
      "Epoch: 11/20 Iteration:  185 Training loss: 0.008 accuracy: 0.990 precision: 1.000 recall: 0.983 f1: 0.992\n",
      "Epoch: 11/20 Iteration:  190 Training loss: 0.003 accuracy: 1.000 precision: 1.000 recall: 1.000 f1: 1.000\n",
      "Epoch: 12/20 Iteration:  195 Training loss: 0.000 accuracy: 1.000 precision: 1.000 recall: 1.000 f1: 1.000\n",
      "Epoch: 12/20 Iteration:  200 Training loss: 0.007 accuracy: 0.990 precision: 0.979 recall: 1.000 f1: 0.989\n",
      "                          Validation loss: 0.390 accuracy: 0.555 precision: 0.548 recall: 0.577 f1: 0.561\n",
      "Epoch: 12/20 Iteration:  205 Training loss: 0.010 accuracy: 0.990 precision: 1.000 recall: 0.979 f1: 0.989\n",
      "Epoch: 13/20 Iteration:  210 Training loss: 0.003 accuracy: 0.990 precision: 1.000 recall: 0.979 f1: 0.989\n",
      "Epoch: 13/20 Iteration:  215 Training loss: 0.001 accuracy: 1.000 precision: 1.000 recall: 1.000 f1: 1.000\n",
      "Epoch: 13/20 Iteration:  220 Training loss: 0.000 accuracy: 1.000 precision: 1.000 recall: 1.000 f1: 1.000\n",
      "Epoch: 14/20 Iteration:  225 Training loss: 0.000 accuracy: 1.000 precision: 1.000 recall: 1.000 f1: 1.000\n",
      "                          Validation loss: 0.372 accuracy: 0.575 precision: 0.580 recall: 0.575 f1: 0.577\n",
      "Epoch: 14/20 Iteration:  230 Training loss: 0.000 accuracy: 1.000 precision: 1.000 recall: 1.000 f1: 1.000\n",
      "Epoch: 14/20 Iteration:  235 Training loss: 0.008 accuracy: 0.990 precision: 1.000 recall: 0.980 f1: 0.990\n",
      "Epoch: 14/20 Iteration:  240 Training loss: 0.000 accuracy: 1.000 precision: 1.000 recall: 1.000 f1: 1.000\n",
      "Epoch: 15/20 Iteration:  245 Training loss: 0.006 accuracy: 0.990 precision: 1.000 recall: 0.979 f1: 0.989\n",
      "Epoch: 15/20 Iteration:  250 Training loss: 0.001 accuracy: 1.000 precision: 1.000 recall: 1.000 f1: 1.000\n",
      "                          Validation loss: 0.370 accuracy: 0.565 precision: 0.574 recall: 0.522 f1: 0.545\n",
      "Epoch: 15/20 Iteration:  255 Training loss: 0.009 accuracy: 0.980 precision: 0.984 recall: 0.984 f1: 0.984\n",
      "Epoch: 16/20 Iteration:  260 Training loss: 0.005 accuracy: 0.990 precision: 1.000 recall: 0.981 f1: 0.990\n",
      "Epoch: 16/20 Iteration:  265 Training loss: 0.001 accuracy: 1.000 precision: 1.000 recall: 1.000 f1: 1.000\n",
      "Epoch: 16/20 Iteration:  270 Training loss: 0.000 accuracy: 1.000 precision: 1.000 recall: 1.000 f1: 1.000\n",
      "Epoch: 17/20 Iteration:  275 Training loss: 0.000 accuracy: 1.000 precision: 1.000 recall: 1.000 f1: 1.000\n",
      "                          Validation loss: 0.362 accuracy: 0.580 precision: 0.585 recall: 0.551 f1: 0.567\n",
      "Epoch: 17/20 Iteration:  280 Training loss: 0.002 accuracy: 1.000 precision: 1.000 recall: 1.000 f1: 1.000\n",
      "Epoch: 17/20 Iteration:  285 Training loss: 0.000 accuracy: 1.000 precision: 1.000 recall: 1.000 f1: 1.000\n",
      "Epoch: 18/20 Iteration:  290 Training loss: 0.000 accuracy: 1.000 precision: 1.000 recall: 1.000 f1: 1.000\n",
      "Epoch: 18/20 Iteration:  295 Training loss: 0.000 accuracy: 1.000 precision: 1.000 recall: 1.000 f1: 1.000\n",
      "Epoch: 18/20 Iteration:  300 Training loss: 0.006 accuracy: 0.990 precision: 1.000 recall: 0.980 f1: 0.990\n",
      "                          Validation loss: 0.404 accuracy: 0.550 precision: 0.554 recall: 0.502 f1: 0.525\n",
      "Epoch: 19/20 Iteration:  305 Training loss: 0.002 accuracy: 1.000 precision: 1.000 recall: 1.000 f1: 1.000\n",
      "Epoch: 19/20 Iteration:  310 Training loss: 0.010 accuracy: 0.990 precision: 1.000 recall: 0.979 f1: 0.989\n",
      "Epoch: 19/20 Iteration:  315 Training loss: 0.008 accuracy: 0.990 precision: 0.979 recall: 1.000 f1: 0.989\n",
      "Epoch: 19/20 Iteration:  320 Training loss: 0.016 accuracy: 0.970 precision: 0.965 recall: 0.982 f1: 0.973\n"
     ]
    }
   ],
   "source": [
    "epochs = 20\n",
    "batch_size = 100\n",
    "train_keep_prob = 0.9\n",
    "\n",
    "# Define a time-stamped directory in which to keep the TensorBoard data for this run\n",
    "summaries_dir = \"./summaries/\" + datetime.now().strftime(\"%Y%m%d%H%M%S\")\n",
    "\n",
    "with graph.as_default():\n",
    "    saver = tf.train.Saver()\n",
    "\n",
    "with tf.Session(graph=graph) as sess:\n",
    "    merged = tf.summary.merge_all()\n",
    "    train_writer = tf.summary.FileWriter(summaries_dir + '/train',\n",
    "                                          sess.graph)\n",
    "    test_writer = tf.summary.FileWriter(summaries_dir + '/test')\n",
    "    val_writer = tf.summary.FileWriter(summaries_dir + '/val')\n",
    "    \n",
    "    sess.run(tf.global_variables_initializer())\n",
    "    iteration = 1\n",
    "    for e in range(epochs):\n",
    "        for x, y in get_batches(train_x, train_y, batch_size):\n",
    "            feed = {inputs: x,\n",
    "                    labels: y[:, None],\n",
    "                    keep_prob: train_keep_prob}\n",
    "            summary, tr_loss, tr_acc, tr_prec, tr_rec, tr_f1, _ = \\\n",
    "                sess.run([merged, loss, accuracy, precision, recall, f1, optimizer], feed_dict=feed)\n",
    "            train_writer.add_summary(summary, iteration)\n",
    "            \n",
    "            # Print training information\n",
    "            if iteration%5==0:\n",
    "                print(\"Epoch:{: 3d}/{}\".format(e, epochs),\n",
    "                      \"Iteration: {: 4d} Training\".format(iteration),\n",
    "                      \"loss: {:.3f}\".format(tr_loss),\n",
    "                     \"accuracy: {:.3f}\".format(tr_acc),\n",
    "                     \"precision: {:.3f}\".format(tr_prec),\n",
    "                     \"recall: {:.3f}\".format(tr_rec),\n",
    "                     \"f1: {:.3f}\".format(tr_f1))\n",
    "            \n",
    "            # Evaluate the validation set\n",
    "            if iteration%25==0:\n",
    "                running_stats = []\n",
    "                for x, y in get_batches(val_x, val_y, batch_size):\n",
    "                    feed = {inputs: x,\n",
    "                            labels: y[:, None],\n",
    "                            keep_prob: 1}\n",
    "                    summary, v_loss, v_acc, v_prec, v_rec, v_f1 = \\\n",
    "                        sess.run([merged, loss, accuracy, precision, recall, f1], feed_dict=feed)\n",
    "                    val_writer.add_summary(summary, iteration)\n",
    "                    running_stats.append([v_loss, v_acc, v_prec, v_rec, v_f1])\n",
    "                running_stats = np.array(running_stats)\n",
    "                val_averages = running_stats.mean(axis=0)\n",
    "                print(\" \"*25,\n",
    "                      \"Validation loss: {:.3f}\".format(val_averages[0]),\n",
    "                     \"accuracy: {:.3f}\".format(val_averages[1]),\n",
    "                     \"precision: {:.3f}\".format(val_averages[2]),\n",
    "                     \"recall: {:.3f}\".format(val_averages[3]),\n",
    "                     \"f1: {:.3f}\".format(val_averages[4]))\n",
    "            iteration +=1\n",
    "    saver.save(sess, \"checkpoints/sentiment.ckpt\")"
   ]
  },
  {
   "cell_type": "markdown",
   "metadata": {},
   "source": [
    "# Evaluating Performance\n",
    "Below are some screen captures from TensorBoard, to show how the model's Accuracy, Precision, Recall, F1 Score, and Loss progressed on the training and validation sets during training:  \n",
    "![Summaries](img/CornellSummaries.png)"
   ]
  },
  {
   "cell_type": "markdown",
   "metadata": {},
   "source": [
    "As can be seen in the above, performance on the training set (green) quickly diverges from performance on the validation set (yellow), and performance on the validation set actually decreases over time.  \n",
    "This strongly suggests that the model is overfitting to the data, which is a problem that more data can fix.\n",
    "\n",
    "Now, let's see how our model performed on the test set that we held out earlier.\n",
    "\n",
    "In order to do this, we will plot a \"confusion matrix,\" which concisely displays how many false positives, false negatives, true positives, and true negatives the model yielded.\n",
    "\n",
    "First, let's define our helper code for printing a confusion matrix"
   ]
  },
  {
   "cell_type": "code",
   "execution_count": 14,
   "metadata": {},
   "outputs": [],
   "source": [
    "import itertools"
   ]
  },
  {
   "cell_type": "code",
   "execution_count": 15,
   "metadata": {},
   "outputs": [],
   "source": [
    "def plot_confusion_matrix(cm, classes,\n",
    "                          normalize=False,\n",
    "                          title='Confusion matrix',\n",
    "                          cmap=plt.cm.Blues):\n",
    "    \"\"\"\n",
    "    This function prints and plots the confusion matrix.\n",
    "    Normalization can be applied by setting `normalize=True`.\n",
    "    \n",
    "    http://scikit-learn.org/stable/auto_examples/model_selection/plot_confusion_matrix.html#sphx-glr-auto-examples-model-selection-plot-confusion-matrix-py\n",
    "    \"\"\"\n",
    "    if normalize:\n",
    "        cm = cm.astype('float') / cm.sum(axis=1)[:, np.newaxis]\n",
    "\n",
    "    print(cm)\n",
    "\n",
    "    plt.imshow(cm, interpolation='nearest', cmap=cmap)\n",
    "    plt.title(title)\n",
    "    plt.colorbar()\n",
    "    tick_marks = np.arange(len(classes))\n",
    "    plt.xticks(tick_marks, classes, rotation=45)\n",
    "    plt.yticks(tick_marks, classes)\n",
    "\n",
    "    fmt = '.3f' if normalize else 'd'\n",
    "    thresh = cm.max() / 2.\n",
    "    for i, j in itertools.product(range(cm.shape[0]), range(cm.shape[1])):\n",
    "        plt.text(j, i, format(cm[i, j], fmt),\n",
    "                 horizontalalignment=\"center\",\n",
    "                 color=\"white\" if cm[i, j] > thresh else \"black\")\n",
    "\n",
    "    plt.tight_layout()\n",
    "    plt.ylabel('True label')\n",
    "    plt.xlabel('Predicted label')"
   ]
  },
  {
   "cell_type": "code",
   "execution_count": 16,
   "metadata": {},
   "outputs": [
    {
     "name": "stdout",
     "output_type": "stream",
     "text": [
      "[[ 0.8  0.2]\n",
      " [ 0.4  0.6]]\n"
     ]
    },
    {
     "data": {
      "image/png": "[encoded data removed]",
      "text/plain": [
       "<matplotlib.figure.Figure at 0x7f5eddb5e710>"
      ]
     },
     "metadata": {},
     "output_type": "display_data"
    }
   ],
   "source": [
    "cnf_matrix = np.array([[8,2],[8,12]])\n",
    "# [TP, FN], [FP, TN]\n",
    "class_names = [\"Positive\", \"Negative\"]\n",
    "\n",
    "np.set_printoptions(precision=3)\n",
    "# Plot normalized confusion matrix\n",
    "\n",
    "plt.Figure()\n",
    "plot_confusion_matrix(cnf_matrix, classes=class_names, normalize=True,\n",
    "                      title='Normalized confusion matrix, Dummy Values')\n",
    "\n",
    "plt.show()"
   ]
  },
  {
   "cell_type": "markdown",
   "metadata": {},
   "source": [
    "Now, let's reload our model from disk, and run it on the test set:"
   ]
  },
  {
   "cell_type": "code",
   "execution_count": 17,
   "metadata": {},
   "outputs": [
    {
     "name": "stdout",
     "output_type": "stream",
     "text": [
      "INFO:tensorflow:Restoring parameters from checkpoints/sentiment.ckpt\n",
      "Test loss: 0.452 accuracy: 0.500 precision: 0.407 recall: 0.527 f1: 0.459\n"
     ]
    }
   ],
   "source": [
    "running_stats = []\n",
    "with tf.Session(graph=graph) as sess:\n",
    "    saver.restore(sess, tf.train.latest_checkpoint('checkpoints'))\n",
    "    conf_mat = np.zeros(4, dtype=int)\n",
    "    running_stats = []\n",
    "    for i, (x, y) in enumerate(get_batches(test_x, test_y, batch_size), 1):\n",
    "        feed = {inputs: x,\n",
    "                labels: y[:, None],\n",
    "                keep_prob: 1}\n",
    "        v_loss, v_acc, v_prec, v_rec, v_f1, true_pos, false_neg, false_pos, true_neg = \\\n",
    "            sess.run([loss, accuracy, precision, recall, f1, TP, FN, FP, TN], feed_dict=feed)\n",
    "        running_stats.append([v_loss, v_acc, v_prec, v_rec, v_f1])\n",
    "        conf_mat += (true_pos, false_neg, false_pos, true_neg)\n",
    "        \n",
    "    running_stats = np.array(running_stats)\n",
    "    test_averages = running_stats.mean(axis=0)\n",
    "    print(\"Test loss: {:.3f}\".format(test_averages[0]),\n",
    "                 \"accuracy: {:.3f}\".format(test_averages[1]),\n",
    "                 \"precision: {:.3f}\".format(test_averages[2]),\n",
    "                 \"recall: {:.3f}\".format(test_averages[3]),\n",
    "                 \"f1: {:.3f}\".format(test_averages[4]))"
   ]
  },
  {
   "cell_type": "code",
   "execution_count": 18,
   "metadata": {},
   "outputs": [
    {
     "name": "stdout",
     "output_type": "stream",
     "text": [
      "[[ 0.531  0.469]\n",
      " [ 0.521  0.479]]\n"
     ]
    },
    {
     "data": {
      "image/png": "[encoded data removed]",
      "text/plain": [
       "<matplotlib.figure.Figure at 0x7f5ed408d080>"
      ]
     },
     "metadata": {},
     "output_type": "display_data"
    }
   ],
   "source": [
    "# Reshape into 2 x 2 matrix\n",
    "conf_mat = conf_mat.reshape((2,2))\n",
    "\n",
    "class_names = [\"Positive\", \"Negative\"]\n",
    "\n",
    "# Plot normalized confusion matrix\n",
    "\n",
    "plt.Figure()\n",
    "plot_confusion_matrix(conf_mat, classes=class_names, normalize=True,\n",
    "                      title='Normalized confusion matrix, Test Set')\n",
    "\n",
    "plt.show()"
   ]
  },
  {
   "cell_type": "code",
   "execution_count": 19,
   "metadata": {},
   "outputs": [
    {
     "data": {
      "text/plain": [
       "array([[43, 38],\n",
       "       [62, 57]])"
      ]
     },
     "execution_count": 19,
     "metadata": {},
     "output_type": "execute_result"
    }
   ],
   "source": [
    "conf_mat"
   ]
  },
  {
   "cell_type": "markdown",
   "metadata": {},
   "source": [
    "# Conclusion\n",
    "As-suspected, the model has not learned to distinguish positive from negative movie reviews in the Cornell Movie Review Dataset.\n",
    "\n",
    "The suspected reason for this is overfitting to the training data caused by a lack of training examples (only ~1600).\n",
    "\n",
    "A sister notebook, TextClassificationIMDB, will explore this same architecture on a different dataset, to test whether increasing the number of training examples by an order of magnitude will help this architecture to generalize."
   ]
  }
 ],
 "metadata": {
  "kernelspec": {
   "display_name": "Python 3",
   "language": "python",
   "name": "python3"
  },
  "language_info": {
   "codemirror_mode": {
    "name": "ipython",
    "version": 3
   },
   "file_extension": ".py",
   "mimetype": "text/x-python",
   "name": "python",
   "nbconvert_exporter": "python",
   "pygments_lexer": "ipython3",
   "version": "3.6.3"
  }
 },
 "nbformat": 4,
 "nbformat_minor": 2
}
