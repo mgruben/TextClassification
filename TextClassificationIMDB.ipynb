{
 "cells": [
  {
   "cell_type": "markdown",
   "metadata": {},
   "source": [
    "# Introduction\n",
    "This notebook is intended to showcase a text classification proof-of-concept model, developed in TensorFlow.\n",
    "\n",
    "The dataset used for this notebook is the [Stanford Large Movie Review (IMDB) dataset](http://ai.stanford.edu/~amaas/data/sentiment/)."
   ]
  },
  {
   "cell_type": "markdown",
   "metadata": {},
   "source": [
    "# Data Exploration and Analysis\n",
    "First, let's load our dataset into a `pandas` dataframe."
   ]
  },
  {
   "cell_type": "code",
   "execution_count": 1,
   "metadata": {},
   "outputs": [],
   "source": [
    "import pandas as pd\n",
    "%matplotlib inline"
   ]
  },
  {
   "cell_type": "code",
   "execution_count": 14,
   "metadata": {},
   "outputs": [],
   "source": [
    "reviews = pd.read_csv(\"data/reviews.txt\", delimiter=\"\\n\", header=None, names=[\"review\"])"
   ]
  },
  {
   "cell_type": "code",
   "execution_count": 16,
   "metadata": {},
   "outputs": [],
   "source": [
    "labels = pd.read_csv(\"data/labels.txt\", delimiter=\"\\n\", header=None, names=[\"label\"])"
   ]
  },
  {
   "cell_type": "markdown",
   "metadata": {},
   "source": [
    "Let's get an idea of what the dataset looks like here."
   ]
  },
  {
   "cell_type": "code",
   "execution_count": 15,
   "metadata": {},
   "outputs": [
    {
     "data": {
      "text/html": [
       "<div>\n",
       "<style scoped>\n",
       "    .dataframe tbody tr th:only-of-type {\n",
       "        vertical-align: middle;\n",
       "    }\n",
       "\n",
       "    .dataframe tbody tr th {\n",
       "        vertical-align: top;\n",
       "    }\n",
       "\n",
       "    .dataframe thead th {\n",
       "        text-align: right;\n",
       "    }\n",
       "</style>\n",
       "<table border=\"1\" class=\"dataframe\">\n",
       "  <thead>\n",
       "    <tr style=\"text-align: right;\">\n",
       "      <th></th>\n",
       "      <th>review</th>\n",
       "    </tr>\n",
       "  </thead>\n",
       "  <tbody>\n",
       "    <tr>\n",
       "      <th>0</th>\n",
       "      <td>bromwell high is a cartoon comedy . it ran at ...</td>\n",
       "    </tr>\n",
       "    <tr>\n",
       "      <th>1</th>\n",
       "      <td>story of a man who has unnatural feelings for ...</td>\n",
       "    </tr>\n",
       "    <tr>\n",
       "      <th>2</th>\n",
       "      <td>homelessness  or houselessness as george carli...</td>\n",
       "    </tr>\n",
       "    <tr>\n",
       "      <th>3</th>\n",
       "      <td>airport    starts as a brand new luxury    pla...</td>\n",
       "    </tr>\n",
       "    <tr>\n",
       "      <th>4</th>\n",
       "      <td>brilliant over  acting by lesley ann warren . ...</td>\n",
       "    </tr>\n",
       "  </tbody>\n",
       "</table>\n",
       "</div>"
      ],
      "text/plain": [
       "                                              review\n",
       "0  bromwell high is a cartoon comedy . it ran at ...\n",
       "1  story of a man who has unnatural feelings for ...\n",
       "2  homelessness  or houselessness as george carli...\n",
       "3  airport    starts as a brand new luxury    pla...\n",
       "4  brilliant over  acting by lesley ann warren . ..."
      ]
     },
     "execution_count": 15,
     "metadata": {},
     "output_type": "execute_result"
    }
   ],
   "source": [
    "reviews.head()"
   ]
  },
  {
   "cell_type": "code",
   "execution_count": 17,
   "metadata": {},
   "outputs": [
    {
     "data": {
      "text/html": [
       "<div>\n",
       "<style scoped>\n",
       "    .dataframe tbody tr th:only-of-type {\n",
       "        vertical-align: middle;\n",
       "    }\n",
       "\n",
       "    .dataframe tbody tr th {\n",
       "        vertical-align: top;\n",
       "    }\n",
       "\n",
       "    .dataframe thead th {\n",
       "        text-align: right;\n",
       "    }\n",
       "</style>\n",
       "<table border=\"1\" class=\"dataframe\">\n",
       "  <thead>\n",
       "    <tr style=\"text-align: right;\">\n",
       "      <th></th>\n",
       "      <th>label</th>\n",
       "    </tr>\n",
       "  </thead>\n",
       "  <tbody>\n",
       "    <tr>\n",
       "      <th>0</th>\n",
       "      <td>positive</td>\n",
       "    </tr>\n",
       "    <tr>\n",
       "      <th>1</th>\n",
       "      <td>negative</td>\n",
       "    </tr>\n",
       "    <tr>\n",
       "      <th>2</th>\n",
       "      <td>positive</td>\n",
       "    </tr>\n",
       "    <tr>\n",
       "      <th>3</th>\n",
       "      <td>negative</td>\n",
       "    </tr>\n",
       "    <tr>\n",
       "      <th>4</th>\n",
       "      <td>positive</td>\n",
       "    </tr>\n",
       "  </tbody>\n",
       "</table>\n",
       "</div>"
      ],
      "text/plain": [
       "      label\n",
       "0  positive\n",
       "1  negative\n",
       "2  positive\n",
       "3  negative\n",
       "4  positive"
      ]
     },
     "execution_count": 17,
     "metadata": {},
     "output_type": "execute_result"
    }
   ],
   "source": [
    "labels.head()"
   ]
  },
  {
   "cell_type": "markdown",
   "metadata": {},
   "source": [
    "Hmm, it looks like **review** can't fully fit in the above table.  \n",
    "Let's grab the first review and see what it looks like:"
   ]
  },
  {
   "cell_type": "code",
   "execution_count": 19,
   "metadata": {},
   "outputs": [
    {
     "data": {
      "text/plain": [
       "'bromwell high is a cartoon comedy . it ran at the same time as some other programs about school life  such as  teachers  . my   years in the teaching profession lead me to believe that bromwell high  s satire is much closer to reality than is  teachers  . the scramble to survive financially  the insightful students who can see right through their pathetic teachers  pomp  the pettiness of the whole situation  all remind me of the schools i knew and their students . when i saw the episode in which a student repeatedly tried to burn down the school  i immediately recalled . . . . . . . . . at . . . . . . . . . . high . a classic line inspector i  m here to sack one of your teachers . student welcome to bromwell high . i expect that many adults of my age think that bromwell high is far fetched . what a pity that it isn  t   '"
      ]
     },
     "execution_count": 19,
     "metadata": {},
     "output_type": "execute_result"
    }
   ],
   "source": [
    "reviews['review'][0]"
   ]
  },
  {
   "cell_type": "code",
   "execution_count": 23,
   "metadata": {},
   "outputs": [
    {
     "data": {
      "text/plain": [
       "832"
      ]
     },
     "execution_count": 23,
     "metadata": {},
     "output_type": "execute_result"
    }
   ],
   "source": [
    "len(reviews['review'][0])"
   ]
  },
  {
   "cell_type": "markdown",
   "metadata": {},
   "source": [
    "That's a good length movie review!  \n",
    "Let's check how many reviews there are in the dataset:"
   ]
  },
  {
   "cell_type": "code",
   "execution_count": 20,
   "metadata": {},
   "outputs": [
    {
     "data": {
      "text/plain": [
       "25000"
      ]
     },
     "execution_count": 20,
     "metadata": {},
     "output_type": "execute_result"
    }
   ],
   "source": [
    "len(reviews)"
   ]
  },
  {
   "cell_type": "markdown",
   "metadata": {},
   "source": [
    "The [Stanford Large Movie Review (IMDB) dataset](http://ai.stanford.edu/~amaas/data/sentiment/) is divided into positive and negative reviews.  \n",
    "Let's check how many positive, and how many negative, reviews there are in this dataset:"
   ]
  },
  {
   "cell_type": "code",
   "execution_count": 21,
   "metadata": {},
   "outputs": [
    {
     "data": {
      "text/plain": [
       "<matplotlib.axes._subplots.AxesSubplot at 0x7fb93dcc6208>"
      ]
     },
     "execution_count": 21,
     "metadata": {},
     "output_type": "execute_result"
    },
    {
     "data": {
      "image/png": "[encoded data removed]",
      "text/plain": [
       "<matplotlib.figure.Figure at 0x7fb93e27aef0>"
      ]
     },
     "metadata": {},
     "output_type": "display_data"
    }
   ],
   "source": [
    "labels['label'].hist()"
   ]
  },
  {
   "cell_type": "markdown",
   "metadata": {},
   "source": [
    "Excellent, the dataset is already balanced.  \n",
    "Having a balanced dataset makes it easier to train a deep learning model, because it's less likely that the model will focus on one of the classes, and ignore the other.\n",
    "\n",
    "Now, let's see what the distribution of review lengths is, in numbers of characters:"
   ]
  },
  {
   "cell_type": "code",
   "execution_count": 22,
   "metadata": {},
   "outputs": [
    {
     "data": {
      "text/plain": [
       "<matplotlib.axes._subplots.AxesSubplot at 0x7fb93e19a9e8>"
      ]
     },
     "execution_count": 22,
     "metadata": {},
     "output_type": "execute_result"
    },
    {
     "data": {
      "image/png": "[encoded data removed]",
      "text/plain": [
       "<matplotlib.figure.Figure at 0x7fb93dffe160>"
      ]
     },
     "metadata": {},
     "output_type": "display_data"
    }
   ],
   "source": [
    "reviews['review'].apply(len).hist()"
   ]
  },
  {
   "cell_type": "markdown",
   "metadata": {},
   "source": [
    "Ok, there are some much longer reviews in this dataset than the ~800 character review above, but most of them are under 2,500 characters."
   ]
  },
  {
   "cell_type": "markdown",
   "metadata": {},
   "source": [
    "# Data Preprocessing\n",
    "The problem we are trying to solve here is called **sentiment analysis**, that is, whether the given text is positive or negative.\n",
    "\n",
    "More broadly, this is a type of machine learning problem known as classification.\n",
    "\n",
    "There are numerous different ways to think about the above dataset.  \n",
    "We can think of it as a collection of characters, a sequence of characters, a collection of words, or a sequence of words.  \n",
    "It turns out that the sequence-of-words approach has gotten good results on sentiment analysis problems, so let's think about the above dataset in those terms.\n",
    "\n",
    "Let's consider another review in the dataset:"
   ]
  },
  {
   "cell_type": "code",
   "execution_count": 24,
   "metadata": {},
   "outputs": [
    {
     "data": {
      "text/plain": [
       "'this film lacked something i couldn  t put my finger on at first charisma on the part of the leading actress . this inevitably translated to lack of chemistry when she shared the screen with her leading man . even the romantic scenes came across as being merely the actors at play . it could very well have been the director who miscalculated what he needed from the actors . i just don  t know .  br    br   but could it have been the screenplay  just exactly who was the chef in love with  he seemed more enamored of his culinary skills and restaurant  and ultimately of himself and his youthful exploits  than of anybody or anything else . he never convinced me he was in love with the princess .  br    br   i was disappointed in this movie . but  don  t forget it was nominated for an oscar  so judge for yourself .  '"
      ]
     },
     "execution_count": 24,
     "metadata": {},
     "output_type": "execute_result"
    }
   ],
   "source": [
    "reviews['review'][5]"
   ]
  },
  {
   "cell_type": "markdown",
   "metadata": {},
   "source": [
    "## Tokenization\n",
    "What we would like to do is to turn the text above into a fixed-length sequence of numbers, which is what our TensorFlow model will expect in order to train on.\n",
    "\n",
    "The basic idea behind working with text data is that we want to create a number for each unique \"token\" that we see, then we can just substitute a \"token\"'s number for the token itself, and arrive at a fixed-length sequence of numbers for TensorFlow to work with.\n",
    "\n",
    "As can be seen above, it's not just words that are present, but also punctuation.  \n",
    "\n",
    "Thankfully, the [natural language toolkit](http://www.nltk.org/) is excellent at turning a string of text into a list of tokens.\n",
    "\n",
    "Let's see how it behaves on the above review:"
   ]
  },
  {
   "cell_type": "code",
   "execution_count": 25,
   "metadata": {},
   "outputs": [],
   "source": [
    "import nltk"
   ]
  },
  {
   "cell_type": "code",
   "execution_count": 29,
   "metadata": {},
   "outputs": [
    {
     "data": {
      "text/plain": [
       "['this',\n",
       " 'film',\n",
       " 'lacked',\n",
       " 'something',\n",
       " 'i',\n",
       " 'couldn',\n",
       " 't',\n",
       " 'put',\n",
       " 'my',\n",
       " 'finger',\n",
       " 'on',\n",
       " 'at',\n",
       " 'first',\n",
       " 'charisma',\n",
       " 'on',\n",
       " 'the',\n",
       " 'part',\n",
       " 'of',\n",
       " 'the',\n",
       " 'leading',\n",
       " 'actress',\n",
       " '.',\n",
       " 'this',\n",
       " 'inevitably',\n",
       " 'translated']"
      ]
     },
     "execution_count": 29,
     "metadata": {},
     "output_type": "execute_result"
    }
   ],
   "source": [
    "nltk.tokenize.word_tokenize(reviews['review'][5])[:25]"
   ]
  },
  {
   "cell_type": "markdown",
   "metadata": {},
   "source": [
    "The above is perfectly sufficient tokenization for our purposes.  \n",
    "Perhaps it could be improved upon slightly, but this breaks up our review into enough unique tokens that our model will be able to learn which ones to use and which ones to discount (more on that in the [Architecture](#Model-Architecture) section)\n",
    "\n",
    "Now, let's create a set of all the words in all of the reviews in our dataset.  \n",
    "We will use this set to create a lookup table of tokens to their \"IDs\"."
   ]
  },
  {
   "cell_type": "code",
   "execution_count": 30,
   "metadata": {},
   "outputs": [],
   "source": [
    "review_word_set = set()\n",
    "for r in reviews['review']:\n",
    "    review_word_set.update(nltk.tokenize.word_tokenize(r))"
   ]
  },
  {
   "cell_type": "code",
   "execution_count": 31,
   "metadata": {},
   "outputs": [
    {
     "data": {
      "text/plain": [
       "74069"
      ]
     },
     "execution_count": 31,
     "metadata": {},
     "output_type": "execute_result"
    }
   ],
   "source": [
    "len(review_word_set)"
   ]
  },
  {
   "cell_type": "markdown",
   "metadata": {},
   "source": [
    "Excellent, in our 25,000-review dataset, only some ~74,000 unique \"tokens\" have been used.  \n",
    "## Token Encoding\n",
    "Now, let's use this set to assign IDs to our tokens, so that we can easily go from a token to its ID, and vice versa.\n",
    "\n",
    "First though, let's reserve ID `0` for reasons that will become clear in the [Padding](#Padding) section below, and start at ID `1`."
   ]
  },
  {
   "cell_type": "code",
   "execution_count": 32,
   "metadata": {},
   "outputs": [],
   "source": [
    "word_to_id = {word: i for i, word in enumerate(review_word_set, 1)}"
   ]
  },
  {
   "cell_type": "code",
   "execution_count": 33,
   "metadata": {},
   "outputs": [
    {
     "data": {
      "text/plain": [
       "{'joins': 1,\n",
       " 'lutzky': 2,\n",
       " 'completley': 3,\n",
       " 'shamefull': 4,\n",
       " 'yoo': 5,\n",
       " 'ghettoisation': 6,\n",
       " 'tailor': 7,\n",
       " 'roderigo': 8,\n",
       " 'jowls': 9,\n",
       " 'constructed': 10,\n",
       " 'roast': 11,\n",
       " 'millenial': 12,\n",
       " 'bleaked': 13,\n",
       " 'encircle': 14,\n",
       " 'astronomers': 15,\n",
       " 'membership': 16,\n",
       " 'soda': 17,\n",
       " 'matinees': 18,\n",
       " 'rallying': 19,\n",
       " 'clapping': 20,\n",
       " 'deliberate': 21,\n",
       " 'endeavouring': 22,\n",
       " 'bigscreen': 23,\n",
       " 'takeaway': 24,\n",
       " 'brutalizing': 25,\n",
       " 'devon': 26,\n",
       " 'unrequited': 27,\n",
       " 'unkillable': 28,\n",
       " 'bleibteu': 29,\n",
       " 'prollific': 30,\n",
       " 'thrifty': 31,\n",
       " 'clairvoyant': 32,\n",
       " 'avenging': 33,\n",
       " 'tereza': 34,\n",
       " 'psm': 35,\n",
       " 'spellcasting': 36,\n",
       " 'lem': 37,\n",
       " 'alsobrook': 38,\n",
       " 'monogamistic': 39,\n",
       " 'vizier': 40,\n",
       " 'kathleen': 41,\n",
       " 'charlize': 42,\n",
       " 'retailers': 43,\n",
       " 'acception': 44,\n",
       " 'interlinking': 45,\n",
       " 'robes': 46,\n",
       " 'terrifies': 47,\n",
       " 'ambushing': 48,\n",
       " 'squeeze': 49,\n",
       " 'abhi': 50,\n",
       " 'youve': 51,\n",
       " 'rodeo': 52,\n",
       " 'genre': 53,\n",
       " 'lambada': 54,\n",
       " 'volume': 55,\n",
       " 'disloyalty': 56,\n",
       " 'tapdancing': 57,\n",
       " 'assedness': 58,\n",
       " 'orthographic': 59,\n",
       " 'dosage': 60,\n",
       " 'wasters': 61,\n",
       " 'postpone': 62,\n",
       " 'artery': 63,\n",
       " 'savagery': 64,\n",
       " 'palpitation': 65,\n",
       " 'hur': 66,\n",
       " 'melora': 67,\n",
       " 'khrzhanosvky': 68,\n",
       " 'harbouring': 69,\n",
       " 'scuffle': 70,\n",
       " 'chiseled': 71,\n",
       " 'surveyed': 72,\n",
       " 'escapeuntil': 73,\n",
       " 'captains': 74,\n",
       " 'sappho': 75,\n",
       " 'ise': 76,\n",
       " 'rim': 77,\n",
       " 'kiesche': 78,\n",
       " 'kayla': 79,\n",
       " 'boundaries': 80,\n",
       " 'clunky': 81,\n",
       " 'mmhm': 82,\n",
       " 'amaze': 83,\n",
       " 'threatening': 84,\n",
       " 'floss': 85,\n",
       " 'comfy': 86,\n",
       " 'shittttttttttttttty': 87,\n",
       " 'muggings': 88,\n",
       " 'medichlorians': 89,\n",
       " 'campion': 90,\n",
       " 'relationships': 91,\n",
       " 'communicators': 92,\n",
       " 'deadliest': 93,\n",
       " 'fetus': 94,\n",
       " 'chews': 95,\n",
       " 'liar': 96,\n",
       " 'disassociative': 97,\n",
       " 'dismantling': 98,\n",
       " 'dooright': 99,\n",
       " 'suplex': 100,\n",
       " 'parallelisms': 101,\n",
       " 'esqueleto': 102,\n",
       " 'uganda': 103,\n",
       " 'pillar': 104,\n",
       " 'spiritsoh': 105,\n",
       " 'loa': 106,\n",
       " 'deathy': 107,\n",
       " 'tra': 108,\n",
       " 'havel': 109,\n",
       " 'ock': 110,\n",
       " 'felton': 111,\n",
       " 'traversed': 112,\n",
       " 'sucker': 113,\n",
       " 'associate': 114,\n",
       " 'cryptically': 115,\n",
       " 'gangrene': 116,\n",
       " 'kassir': 117,\n",
       " 'dango': 118,\n",
       " 'robbbins': 119,\n",
       " 'headset': 120,\n",
       " 'inveterate': 121,\n",
       " 'bassis': 122,\n",
       " 'asshats': 123,\n",
       " 'clippings': 124,\n",
       " 'simmering': 125,\n",
       " 'lakhan': 126,\n",
       " 'reawakened': 127,\n",
       " 'lubitsch': 128,\n",
       " 'themthe': 129,\n",
       " 'kevetch': 130,\n",
       " 'vandalizing': 131,\n",
       " 'prediction': 132,\n",
       " 'dejectedly': 133,\n",
       " 'colonials': 134,\n",
       " 'diverged': 135,\n",
       " 'herrmann': 136,\n",
       " 'inundated': 137,\n",
       " 'beth': 138,\n",
       " 'ching': 139,\n",
       " 'stoners': 140,\n",
       " 'dekho': 141,\n",
       " 'global': 142,\n",
       " 'severally': 143,\n",
       " 'satnitefever': 144,\n",
       " 'diversity': 145,\n",
       " 'antecedently': 146,\n",
       " 'nicktoons': 147,\n",
       " 'unconvincingly': 148,\n",
       " 'seeding': 149,\n",
       " 'megas': 150,\n",
       " 'abbey': 151,\n",
       " 'villa': 152,\n",
       " 'despaaaaaair': 153,\n",
       " 'sargents': 154,\n",
       " 'leicester': 155,\n",
       " 'zom': 156,\n",
       " 'raters': 157,\n",
       " 'favourably': 158,\n",
       " 'rave': 159,\n",
       " 'maharashtra': 160,\n",
       " 'ambles': 161,\n",
       " 'titilation': 162,\n",
       " 'overcoats': 163,\n",
       " 'serf': 164,\n",
       " 'sototh': 165,\n",
       " 'sizable': 166,\n",
       " 'gonorrhea': 167,\n",
       " 'accredited': 168,\n",
       " 'petter': 169,\n",
       " 'lay': 170,\n",
       " 'reue': 171,\n",
       " 'debunk': 172,\n",
       " 'rippings': 173,\n",
       " 'hh': 174,\n",
       " 'replied': 175,\n",
       " 'ceaseless': 176,\n",
       " 'yeeeeaaaaahhhhhhhhh': 177,\n",
       " 'roarke': 178,\n",
       " 'net': 179,\n",
       " 'slappin': 180,\n",
       " 'superflous': 181,\n",
       " 'melvil': 182,\n",
       " 'hirschbiegel': 183,\n",
       " 'lemorande': 184,\n",
       " 'ryaburi': 185,\n",
       " 'unhappier': 186,\n",
       " 'afterwards': 187,\n",
       " 'jolson': 188,\n",
       " 'atmospherically': 189,\n",
       " 'steelcrafts': 190,\n",
       " 'cones': 191,\n",
       " 'withholds': 192,\n",
       " 'headache': 193,\n",
       " 'languorously': 194,\n",
       " 'teammates': 195,\n",
       " 'demanding': 196,\n",
       " 'debated': 197,\n",
       " 'screening': 198,\n",
       " 'tawa': 199,\n",
       " 'ginger': 200,\n",
       " 'advertisers': 201,\n",
       " 'yau': 202,\n",
       " 'deafness': 203,\n",
       " 'belenguer': 204,\n",
       " 'procreation': 205,\n",
       " 'gypsies': 206,\n",
       " 'mies': 207,\n",
       " 'egomaniacal': 208,\n",
       " 'characther': 209,\n",
       " 'serials': 210,\n",
       " 'demoiselle': 211,\n",
       " 'looker': 212,\n",
       " 'hoke': 213,\n",
       " 'cannell': 214,\n",
       " 'tushar': 215,\n",
       " 'zealous': 216,\n",
       " 'amick': 217,\n",
       " 'paramours': 218,\n",
       " 'flower': 219,\n",
       " 'bruhl': 220,\n",
       " 'increadably': 221,\n",
       " 'edgy': 222,\n",
       " 'specialists': 223,\n",
       " 'prophecies': 224,\n",
       " 'meetings': 225,\n",
       " 'manos': 226,\n",
       " 'goose': 227,\n",
       " 'aruna': 228,\n",
       " 'serrat': 229,\n",
       " 'curiosity': 230,\n",
       " 'kathy': 231,\n",
       " 'waitresses': 232,\n",
       " 'holman': 233,\n",
       " 'straightened': 234,\n",
       " 'sexo': 235,\n",
       " 'keifer': 236,\n",
       " 'honest': 237,\n",
       " 'underwear': 238,\n",
       " 'ragtime': 239,\n",
       " 'grue': 240,\n",
       " 'prominance': 241,\n",
       " 'muncey': 242,\n",
       " 'poland': 243,\n",
       " 'aveu': 244,\n",
       " 'delinquent': 245,\n",
       " 'submissive': 246,\n",
       " 'pup': 247,\n",
       " 'glacial': 248,\n",
       " 'sighs': 249,\n",
       " 'undoing': 250,\n",
       " 'muni': 251,\n",
       " 'anesthetic': 252,\n",
       " 'heeds': 253,\n",
       " 'scripter': 254,\n",
       " 'finishable': 255,\n",
       " 'gdel': 256,\n",
       " 'julliard': 257,\n",
       " 'gamera': 258,\n",
       " 'realist': 259,\n",
       " 'kalmus': 260,\n",
       " 'expositories': 261,\n",
       " 'utility': 262,\n",
       " 'buoyed': 263,\n",
       " 'kenobi': 264,\n",
       " 'temporarily': 265,\n",
       " 'gaydar': 266,\n",
       " 'tanovic': 267,\n",
       " 'brockie': 268,\n",
       " 'bridging': 269,\n",
       " 'torpedoed': 270,\n",
       " 'rinatro': 271,\n",
       " 'programing': 272,\n",
       " 'predictive': 273,\n",
       " 'raimi': 274,\n",
       " 'jittery': 275,\n",
       " 'freestyle': 276,\n",
       " 'murkwood': 277,\n",
       " 'bumped': 278,\n",
       " 'sunflower': 279,\n",
       " 'drawbacks': 280,\n",
       " 'unfrozen': 281,\n",
       " 'unlawful': 282,\n",
       " 'fine': 283,\n",
       " 'brecht': 284,\n",
       " 'mainardi': 285,\n",
       " 'kieth': 286,\n",
       " 'minimally': 287,\n",
       " 'riffen': 288,\n",
       " 'knights': 289,\n",
       " 'thais': 290,\n",
       " 'uplifter': 291,\n",
       " 'strangelove': 292,\n",
       " 'dangerously': 293,\n",
       " 'sustains': 294,\n",
       " 'plinplin': 295,\n",
       " 'farrely': 296,\n",
       " 'excavating': 297,\n",
       " 'rumblefish': 298,\n",
       " 'doosre': 299,\n",
       " 'apotheosis': 300,\n",
       " 'servents': 301,\n",
       " 'sweepstakes': 302,\n",
       " 'newbies': 303,\n",
       " 'plods': 304,\n",
       " 'macrauch': 305,\n",
       " 'sweedish': 306,\n",
       " 'covetous': 307,\n",
       " 'wrecking': 308,\n",
       " 'xvii': 309,\n",
       " 'marlon': 310,\n",
       " 'trustees': 311,\n",
       " 'draub': 312,\n",
       " 'whores': 313,\n",
       " 'viewability': 314,\n",
       " 'critique': 315,\n",
       " 'astounded': 316,\n",
       " 'ruffalo': 317,\n",
       " 'lachlan': 318,\n",
       " 'airmen': 319,\n",
       " 'plothijacking': 320,\n",
       " 'alchemy': 321,\n",
       " 'vladimir': 322,\n",
       " 'scatman': 323,\n",
       " 'parsee': 324,\n",
       " 'pompous': 325,\n",
       " 'bobrick': 326,\n",
       " 'parameters': 327,\n",
       " 'tristran': 328,\n",
       " 'twitch': 329,\n",
       " 'rut': 330,\n",
       " 'backyard': 331,\n",
       " 'oshii': 332,\n",
       " 'retells': 333,\n",
       " 'fought': 334,\n",
       " 'wheat': 335,\n",
       " 'haiduck': 336,\n",
       " 'dn': 337,\n",
       " 'gjs': 338,\n",
       " 'expulsion': 339,\n",
       " 'ave': 340,\n",
       " 'princess': 341,\n",
       " 'wardroom': 342,\n",
       " 'incredable': 343,\n",
       " 'resonate': 344,\n",
       " 'drainpipe': 345,\n",
       " 'macquire': 346,\n",
       " 'caf': 347,\n",
       " 'motorbike': 348,\n",
       " 'fluently': 349,\n",
       " 'followers': 350,\n",
       " 'weighting': 351,\n",
       " 'xine': 352,\n",
       " 'jacuzzi': 353,\n",
       " 'rescuers': 354,\n",
       " 'swamped': 355,\n",
       " 'emilio': 356,\n",
       " 'jewellers': 357,\n",
       " 'berkeley': 358,\n",
       " 'rivera': 359,\n",
       " 'hath': 360,\n",
       " 'vanished': 361,\n",
       " 'higher': 362,\n",
       " 'producing': 363,\n",
       " 'coffers': 364,\n",
       " 'processes': 365,\n",
       " 'blackfoot': 366,\n",
       " 'afrikaners': 367,\n",
       " 'preserved': 368,\n",
       " 'joel': 369,\n",
       " 'grammatical': 370,\n",
       " 'pry': 371,\n",
       " 'mortals': 372,\n",
       " 'garver': 373,\n",
       " 'punctuate': 374,\n",
       " 'amnesia': 375,\n",
       " 'micheaux': 376,\n",
       " 'overambitious': 377,\n",
       " 'kamhi': 378,\n",
       " 'fanfan': 379,\n",
       " 'lonnie': 380,\n",
       " 'antonius': 381,\n",
       " 'slanderous': 382,\n",
       " 'vigo': 383,\n",
       " 'parenthesis': 384,\n",
       " 'vampiros': 385,\n",
       " 'smalltown': 386,\n",
       " 'blazer': 387,\n",
       " 'mcdonnell': 388,\n",
       " 'pollutes': 389,\n",
       " 'demolitions': 390,\n",
       " 'molt': 391,\n",
       " 'visualizing': 392,\n",
       " 'springer': 393,\n",
       " 'batouch': 394,\n",
       " 'pinhead': 395,\n",
       " 'spaceships': 396,\n",
       " 'berenger': 397,\n",
       " 'scratcher': 398,\n",
       " 'croats': 399,\n",
       " 'lenge': 400,\n",
       " 'haitian': 401,\n",
       " 'childish': 402,\n",
       " 'index': 403,\n",
       " 'caterina': 404,\n",
       " 'ao': 405,\n",
       " 'mahmoud': 406,\n",
       " 'angel': 407,\n",
       " 'nonbelieveability': 408,\n",
       " 'favelas': 409,\n",
       " 'abbad': 410,\n",
       " 'gobbled': 411,\n",
       " 'resumes': 412,\n",
       " 'doco': 413,\n",
       " 'farnsworth': 414,\n",
       " 'tanner': 415,\n",
       " 'commit': 416,\n",
       " 'dicing': 417,\n",
       " 'materializes': 418,\n",
       " 'shockingly': 419,\n",
       " 'nelsons': 420,\n",
       " 'wallraff': 421,\n",
       " 'collegego': 422,\n",
       " 'debilitating': 423,\n",
       " 'appalachian': 424,\n",
       " 'treasuring': 425,\n",
       " 'graffitiing': 426,\n",
       " 'mountaineer': 427,\n",
       " 'became': 428,\n",
       " 'coupe': 429,\n",
       " 'hammish': 430,\n",
       " 'panicking': 431,\n",
       " 'bras': 432,\n",
       " 'cheerleader': 433,\n",
       " 'limitations': 434,\n",
       " 'hawkins': 435,\n",
       " 'sophocles': 436,\n",
       " 'abo': 437,\n",
       " 'beatlemaniac': 438,\n",
       " 'thud': 439,\n",
       " 'titlesyou': 440,\n",
       " 'shaggy': 441,\n",
       " 'joysticks': 442,\n",
       " 'schedulers': 443,\n",
       " 'ripa': 444,\n",
       " 'willoughby': 445,\n",
       " 'thow': 446,\n",
       " 'jeri': 447,\n",
       " 'fluid': 448,\n",
       " 'pheobe': 449,\n",
       " 'rapa': 450,\n",
       " 'newport': 451,\n",
       " 'permit': 452,\n",
       " 'barbra': 453,\n",
       " 'meant': 454,\n",
       " 'coslow': 455,\n",
       " 'update': 456,\n",
       " 'brull': 457,\n",
       " 'wabbits': 458,\n",
       " 'vergebens': 459,\n",
       " 'blackmoon': 460,\n",
       " 'wisconsin': 461,\n",
       " 'kubrik': 462,\n",
       " 'e': 463,\n",
       " 'boobies': 464,\n",
       " 'mikhali': 465,\n",
       " 'municipal': 466,\n",
       " 'errol': 467,\n",
       " 'soulplane': 468,\n",
       " 'synonym': 469,\n",
       " 'interwiew': 470,\n",
       " 'paolo': 471,\n",
       " 'dullest': 472,\n",
       " 'cinematographers': 473,\n",
       " 'offering': 474,\n",
       " 'djimon': 475,\n",
       " 'guests': 476,\n",
       " 'knucklehead': 477,\n",
       " 'whatevers': 478,\n",
       " 'cic': 479,\n",
       " 'klimt': 480,\n",
       " 'corns': 481,\n",
       " 'sherawali': 482,\n",
       " 'camillia': 483,\n",
       " 'predators': 484,\n",
       " 'dabbling': 485,\n",
       " 'anjolina': 486,\n",
       " 'rotation': 487,\n",
       " 'catcus': 488,\n",
       " 'scarlatti': 489,\n",
       " 'precedence': 490,\n",
       " 'autonomy': 491,\n",
       " 'dismalness': 492,\n",
       " 'monarchs': 493,\n",
       " 'gendered': 494,\n",
       " 'grabber': 495,\n",
       " 'stills': 496,\n",
       " 'shapeless': 497,\n",
       " 'parsons': 498,\n",
       " 'actorsi': 499,\n",
       " 'beautify': 500,\n",
       " 'camaro': 501,\n",
       " 'cajole': 502,\n",
       " 'splashes': 503,\n",
       " 'formulae': 504,\n",
       " 'balsamic': 505,\n",
       " 'gouden': 506,\n",
       " 'skateboard': 507,\n",
       " 'crorepati': 508,\n",
       " 'convictions': 509,\n",
       " 'brussels': 510,\n",
       " 'painted': 511,\n",
       " 'stockholm': 512,\n",
       " 'eu': 513,\n",
       " 'grower': 514,\n",
       " 'vampishness': 515,\n",
       " 'agrument': 516,\n",
       " 'poliwrath': 517,\n",
       " 'farse': 518,\n",
       " 'lize': 519,\n",
       " 'parini': 520,\n",
       " 'duskfall': 521,\n",
       " 'haggerty': 522,\n",
       " 'anniyan': 523,\n",
       " 'bricklayer': 524,\n",
       " 'sunbathing': 525,\n",
       " 'broek': 526,\n",
       " 'dde': 527,\n",
       " 'freckle': 528,\n",
       " 'brethern': 529,\n",
       " 'fever': 530,\n",
       " 'thespic': 531,\n",
       " 'katzelmacher': 532,\n",
       " 'gottowt': 533,\n",
       " 'surveys': 534,\n",
       " 'nymphomaniac': 535,\n",
       " 'nicolae': 536,\n",
       " 'disorients': 537,\n",
       " 'reinvented': 538,\n",
       " 'dulhaniya': 539,\n",
       " 'wraiths': 540,\n",
       " 'mask': 541,\n",
       " 'candies': 542,\n",
       " 'philharmonic': 543,\n",
       " 'yaaa': 544,\n",
       " 'sustain': 545,\n",
       " 'farfella': 546,\n",
       " 'cassella': 547,\n",
       " 'touts': 548,\n",
       " 'pv': 549,\n",
       " 'formosa': 550,\n",
       " 'graphical': 551,\n",
       " 'dubai': 552,\n",
       " 'extortion': 553,\n",
       " 'blackmails': 554,\n",
       " 'injustices': 555,\n",
       " 'limits': 556,\n",
       " 'resentful': 557,\n",
       " 'oppress': 558,\n",
       " 'collaborating': 559,\n",
       " 'jurassic': 560,\n",
       " 'replace': 561,\n",
       " 'eehaaa': 562,\n",
       " 'symbolist': 563,\n",
       " 'herbut': 564,\n",
       " 'tearful': 565,\n",
       " 'conn': 566,\n",
       " 'schlump': 567,\n",
       " 'mulrooney': 568,\n",
       " 'siskel': 569,\n",
       " 'kaafi': 570,\n",
       " 'ammo': 571,\n",
       " 'pressures': 572,\n",
       " 'perm': 573,\n",
       " 'malayalam': 574,\n",
       " 'adaptaion': 575,\n",
       " 'prefabricated': 576,\n",
       " 'largesse': 577,\n",
       " 'lind': 578,\n",
       " 'agency': 579,\n",
       " 'inadequacies': 580,\n",
       " 'expiating': 581,\n",
       " 'partisan': 582,\n",
       " 'linguistically': 583,\n",
       " 'upgraded': 584,\n",
       " 'reflect': 585,\n",
       " 'totalitarianism': 586,\n",
       " 'tabloid': 587,\n",
       " 'vieques': 588,\n",
       " 'greengrass': 589,\n",
       " 'cthulhu': 590,\n",
       " 'grce': 591,\n",
       " 'timpani': 592,\n",
       " 'dickson': 593,\n",
       " 'nate': 594,\n",
       " 'proficient': 595,\n",
       " 'plotted': 596,\n",
       " 'dondaro': 597,\n",
       " 'shades': 598,\n",
       " 'velveeta': 599,\n",
       " 'mammaries': 600,\n",
       " 'burtis': 601,\n",
       " 'hypothetical': 602,\n",
       " 'mmff': 603,\n",
       " 'ascendance': 604,\n",
       " 'morgues': 605,\n",
       " 'kinghtly': 606,\n",
       " 'henreid': 607,\n",
       " 'shriners': 608,\n",
       " 'blunt': 609,\n",
       " 'conceptwise': 610,\n",
       " 'constructing': 611,\n",
       " 'lakers': 612,\n",
       " 'camion': 613,\n",
       " 'drouin': 614,\n",
       " 'veered': 615,\n",
       " 'ol': 616,\n",
       " 'kuttram': 617,\n",
       " 'hemet': 618,\n",
       " 'catharsis': 619,\n",
       " 'helms': 620,\n",
       " 'pervertish': 621,\n",
       " 'flatly': 622,\n",
       " 'crothers': 623,\n",
       " 'pigs': 624,\n",
       " 'ugarte': 625,\n",
       " 'mastercard': 626,\n",
       " 'austrailan': 627,\n",
       " 'iodine': 628,\n",
       " 'stomach': 629,\n",
       " 'hansel': 630,\n",
       " 'functioned': 631,\n",
       " 'desperate': 632,\n",
       " 'ribbon': 633,\n",
       " 'apparition': 634,\n",
       " 'indispensable': 635,\n",
       " 'parnell': 636,\n",
       " 'minimalistically': 637,\n",
       " 'blundered': 638,\n",
       " 'snatching': 639,\n",
       " 'unshaved': 640,\n",
       " 'wizardry': 641,\n",
       " 'chest': 642,\n",
       " 'abides': 643,\n",
       " 'unfavourable': 644,\n",
       " 'chattering': 645,\n",
       " 'congregate': 646,\n",
       " 'streaked': 647,\n",
       " 'minimal': 648,\n",
       " 'primordial': 649,\n",
       " 'ploughs': 650,\n",
       " 'yalu': 651,\n",
       " 'unpublished': 652,\n",
       " 'alienate': 653,\n",
       " 'hdnet': 654,\n",
       " 'disrobed': 655,\n",
       " 'meanies': 656,\n",
       " 'frilly': 657,\n",
       " 'washout': 658,\n",
       " 'hairstylist': 659,\n",
       " 'unironic': 660,\n",
       " 'diverges': 661,\n",
       " 'mispronunciation': 662,\n",
       " 'barefaced': 663,\n",
       " 'coppery': 664,\n",
       " 'biryani': 665,\n",
       " 'alcantara': 666,\n",
       " 'priority': 667,\n",
       " 'pigtailed': 668,\n",
       " 'damns': 669,\n",
       " 'faso': 670,\n",
       " 'admonish': 671,\n",
       " 'owe': 672,\n",
       " 'duchy': 673,\n",
       " 'bonnie': 674,\n",
       " 'intellectuals': 675,\n",
       " 'falcon': 676,\n",
       " 'islamic': 677,\n",
       " 'newpaper': 678,\n",
       " 'amusedly': 679,\n",
       " 'maillard': 680,\n",
       " 'flattening': 681,\n",
       " 'upgrade': 682,\n",
       " 'questionnaire': 683,\n",
       " 'jays': 684,\n",
       " 'tujunga': 685,\n",
       " 'sexuality': 686,\n",
       " 'regressive': 687,\n",
       " 'clowning': 688,\n",
       " 'coleen': 689,\n",
       " 'wreaked': 690,\n",
       " 'shroud': 691,\n",
       " 'swimmer': 692,\n",
       " 'desperadoes': 693,\n",
       " 'phoniness': 694,\n",
       " 'resolves': 695,\n",
       " 'disabilities': 696,\n",
       " 'treetop': 697,\n",
       " 'deepika': 698,\n",
       " 'kahn': 699,\n",
       " 'siam': 700,\n",
       " 'pollute': 701,\n",
       " 'bobbins': 702,\n",
       " 'sebastain': 703,\n",
       " 'bandy': 704,\n",
       " 'recommand': 705,\n",
       " 'lure': 706,\n",
       " 'backstage': 707,\n",
       " 'punctuating': 708,\n",
       " 'facades': 709,\n",
       " 'bungalow': 710,\n",
       " 'xtro': 711,\n",
       " 'slobbery': 712,\n",
       " 'simpsons': 713,\n",
       " 'carrel': 714,\n",
       " 'precipitously': 715,\n",
       " 'possessingand': 716,\n",
       " 'wagered': 717,\n",
       " 'buggies': 718,\n",
       " 'republican': 719,\n",
       " 'goldhunt': 720,\n",
       " 'confuse': 721,\n",
       " 'measuring': 722,\n",
       " 'searingly': 723,\n",
       " 'abgail': 724,\n",
       " 'unpopulated': 725,\n",
       " 'solution': 726,\n",
       " 'empted': 727,\n",
       " 'shana': 728,\n",
       " 'cull': 729,\n",
       " 'clandestine': 730,\n",
       " 'tories': 731,\n",
       " 'sandt': 732,\n",
       " 'odder': 733,\n",
       " 'polnareff': 734,\n",
       " 'douce': 735,\n",
       " 'humbleness': 736,\n",
       " 'driveway': 737,\n",
       " 'nail': 738,\n",
       " 'fanfaberies': 739,\n",
       " 'megawatt': 740,\n",
       " 'evened': 741,\n",
       " 'titanium': 742,\n",
       " 'rw': 743,\n",
       " 'rotne': 744,\n",
       " 'measurement': 745,\n",
       " 'moroder': 746,\n",
       " 'tree': 747,\n",
       " 'university': 748,\n",
       " 'dueling': 749,\n",
       " 'chasers': 750,\n",
       " 'sloughed': 751,\n",
       " 'paleface': 752,\n",
       " 'upstream': 753,\n",
       " 'finnlayson': 754,\n",
       " 'churchyards': 755,\n",
       " 'casings': 756,\n",
       " 'outlandishly': 757,\n",
       " 'cooperated': 758,\n",
       " 'itt': 759,\n",
       " 'brotherconflict': 760,\n",
       " 'lederer': 761,\n",
       " 'hags': 762,\n",
       " 'crocuses': 763,\n",
       " 'pacios': 764,\n",
       " 'crisscross': 765,\n",
       " 'dabbing': 766,\n",
       " 'diego': 767,\n",
       " 'grinds': 768,\n",
       " 'restful': 769,\n",
       " 'travail': 770,\n",
       " 'avoide': 771,\n",
       " 'profs': 772,\n",
       " 'mum': 773,\n",
       " 'winier': 774,\n",
       " 'isolytic': 775,\n",
       " 'keith': 776,\n",
       " 'cheeks': 777,\n",
       " 'careens': 778,\n",
       " 'singled': 779,\n",
       " 'spikey': 780,\n",
       " 'wellworn': 781,\n",
       " 'monters': 782,\n",
       " 'sweep': 783,\n",
       " 'presson': 784,\n",
       " 'ioffer': 785,\n",
       " 'chaplain': 786,\n",
       " 'najwa': 787,\n",
       " 'afraid': 788,\n",
       " 'patriots': 789,\n",
       " 'critcism': 790,\n",
       " 'ginga': 791,\n",
       " 'magical': 792,\n",
       " 'mwahaha': 793,\n",
       " 'abvious': 794,\n",
       " 'ros': 795,\n",
       " 'lambs': 796,\n",
       " 'batchelor': 797,\n",
       " 'tylenol': 798,\n",
       " 'aji': 799,\n",
       " 'befit': 800,\n",
       " 'billiard': 801,\n",
       " 'directionless': 802,\n",
       " 'tyke': 803,\n",
       " 'fascism': 804,\n",
       " 'tugged': 805,\n",
       " 'menelaus': 806,\n",
       " 'sailplane': 807,\n",
       " 'grinchmas': 808,\n",
       " 'singhs': 809,\n",
       " 'sarajevo': 810,\n",
       " 'emerging': 811,\n",
       " 'loris': 812,\n",
       " 'aubert': 813,\n",
       " 'ebbs': 814,\n",
       " 'bankrolling': 815,\n",
       " 'sweetness': 816,\n",
       " 'mover': 817,\n",
       " 'melancholy': 818,\n",
       " 'alohalani': 819,\n",
       " 'ipanema': 820,\n",
       " 'pugilistic': 821,\n",
       " 'surveying': 822,\n",
       " 'hongurai': 823,\n",
       " 'brisk': 824,\n",
       " 'relinquish': 825,\n",
       " 'unescapable': 826,\n",
       " 'peeking': 827,\n",
       " 'pothead': 828,\n",
       " 'regimental': 829,\n",
       " 'discussion': 830,\n",
       " 'buchholz': 831,\n",
       " 'sullavan': 832,\n",
       " 'predeccesor': 833,\n",
       " 'peckingly': 834,\n",
       " 'marginalised': 835,\n",
       " 'hashed': 836,\n",
       " 'hellhole': 837,\n",
       " 'mania': 838,\n",
       " 'doling': 839,\n",
       " 'taco': 840,\n",
       " 'synergy': 841,\n",
       " 'transsexual': 842,\n",
       " 'rfd': 843,\n",
       " 'doodlebops': 844,\n",
       " 'matriculates': 845,\n",
       " 'posest': 846,\n",
       " 'palladino': 847,\n",
       " 'ives': 848,\n",
       " 'aholes': 849,\n",
       " 'relative': 850,\n",
       " 'masturbated': 851,\n",
       " 'davis': 852,\n",
       " 'djjohn': 853,\n",
       " 'champs': 854,\n",
       " 'edina': 855,\n",
       " 'thigpen': 856,\n",
       " 'nac': 857,\n",
       " 'thuglife': 858,\n",
       " 'fanatics': 859,\n",
       " 'minuets': 860,\n",
       " 'dehumanizes': 861,\n",
       " 'aesir': 862,\n",
       " 'destabilise': 863,\n",
       " 'tentatively': 864,\n",
       " 'handsaw': 865,\n",
       " 'nights': 866,\n",
       " 'hamer': 867,\n",
       " 'honda': 868,\n",
       " 'horrorfilm': 869,\n",
       " 'swishing': 870,\n",
       " 'prs': 871,\n",
       " 'offa': 872,\n",
       " 'shielding': 873,\n",
       " 'lenny': 874,\n",
       " 'mcconnohie': 875,\n",
       " 'tamara': 876,\n",
       " 'audiences': 877,\n",
       " 'gubbarre': 878,\n",
       " 'rishi': 879,\n",
       " 'banded': 880,\n",
       " 'quantity': 881,\n",
       " 'spit': 882,\n",
       " 'liggin': 883,\n",
       " 'dau': 884,\n",
       " 'morbid': 885,\n",
       " 'subhuman': 886,\n",
       " 'plumping': 887,\n",
       " 'morano': 888,\n",
       " 'spectrum': 889,\n",
       " 'frowns': 890,\n",
       " 'detractors': 891,\n",
       " 'base': 892,\n",
       " 'forgives': 893,\n",
       " 'epilogue': 894,\n",
       " 'jogging': 895,\n",
       " 'oshawa': 896,\n",
       " 'dormael': 897,\n",
       " 'laboratory': 898,\n",
       " 'mounds': 899,\n",
       " 'doyon': 900,\n",
       " 'surpring': 901,\n",
       " 'consign': 902,\n",
       " 'freeze': 903,\n",
       " 'villagers': 904,\n",
       " 'caked': 905,\n",
       " 'gums': 906,\n",
       " 'gap': 907,\n",
       " 'shinjuku': 908,\n",
       " 'deckard': 909,\n",
       " 'altron': 910,\n",
       " 'jewry': 911,\n",
       " 'wowzers': 912,\n",
       " 'troops': 913,\n",
       " 'curriculum': 914,\n",
       " 'jennie': 915,\n",
       " 'violinist': 916,\n",
       " 'jeopardized': 917,\n",
       " 'wasteful': 918,\n",
       " 'foetus': 919,\n",
       " 'cottrell': 920,\n",
       " 'brutalized': 921,\n",
       " 'stringer': 922,\n",
       " 'crafty': 923,\n",
       " 'dooget': 924,\n",
       " 'exploded': 925,\n",
       " 'annabelle': 926,\n",
       " 'buckheimer': 927,\n",
       " 'labours': 928,\n",
       " 'inlcuded': 929,\n",
       " 'saucepan': 930,\n",
       " 'wilfred': 931,\n",
       " 'perform': 932,\n",
       " 'toying': 933,\n",
       " 'amritlal': 934,\n",
       " 'hoochie': 935,\n",
       " 'fetishistic': 936,\n",
       " 'winnie': 937,\n",
       " 'stead': 938,\n",
       " 'struthers': 939,\n",
       " 'dou': 940,\n",
       " 'himself': 941,\n",
       " 'unions': 942,\n",
       " 'scriptural': 943,\n",
       " 'rowers': 944,\n",
       " 'compositor': 945,\n",
       " 'chun': 946,\n",
       " 'ralf': 947,\n",
       " 'eco': 948,\n",
       " 'skittles': 949,\n",
       " 'goofie': 950,\n",
       " 'unmated': 951,\n",
       " 'landlord': 952,\n",
       " 'jfk': 953,\n",
       " 'electronics': 954,\n",
       " 'preyall': 955,\n",
       " 'hebert': 956,\n",
       " 'commenter': 957,\n",
       " 'karva': 958,\n",
       " 'hoon': 959,\n",
       " 'fourteen': 960,\n",
       " 'joining': 961,\n",
       " 'popularity': 962,\n",
       " 'enthusiastic': 963,\n",
       " 'foibles': 964,\n",
       " 'babaji': 965,\n",
       " 'terrible': 966,\n",
       " 'cranky': 967,\n",
       " 'shrills': 968,\n",
       " 'vittorio': 969,\n",
       " 'miserably': 970,\n",
       " 'fiasco': 971,\n",
       " 'nitta': 972,\n",
       " 'wrestling': 973,\n",
       " 'caracortada': 974,\n",
       " 'incorrigible': 975,\n",
       " 'juttering': 976,\n",
       " 'saranden': 977,\n",
       " 'widening': 978,\n",
       " 'plat': 979,\n",
       " 'pumpkin': 980,\n",
       " 'rocca': 981,\n",
       " 'glassy': 982,\n",
       " 'bullst': 983,\n",
       " 'militants': 984,\n",
       " 'eibon': 985,\n",
       " 'enthusiast': 986,\n",
       " 'cry': 987,\n",
       " 'hearty': 988,\n",
       " 'uped': 989,\n",
       " 'target': 990,\n",
       " 'blatty': 991,\n",
       " 'mir': 992,\n",
       " 'accountable': 993,\n",
       " 'fiber': 994,\n",
       " 'ina': 995,\n",
       " 'oprah': 996,\n",
       " 'thong': 997,\n",
       " 'dirk': 998,\n",
       " 'biographer': 999,\n",
       " 'conquer': 1000,\n",
       " ...}"
      ]
     },
     "execution_count": 33,
     "metadata": {},
     "output_type": "execute_result"
    }
   ],
   "source": [
    "word_to_id"
   ]
  },
  {
   "cell_type": "markdown",
   "metadata": {},
   "source": [
    "Excellent, we're much closer to being able to having our dataset in a form that TensorFlow can work with.  \n",
    "Just for sanity, let's see what the review above would look like as a list of the IDs above:"
   ]
  },
  {
   "cell_type": "code",
   "execution_count": 35,
   "metadata": {},
   "outputs": [
    {
     "data": {
      "text/plain": [
       "[64425, 45592, 14606, 17254, 3039, 12082, 33021, 24031, 44721, 12911]"
      ]
     },
     "execution_count": 35,
     "metadata": {},
     "output_type": "execute_result"
    }
   ],
   "source": [
    "[word_to_id[word] for word in nltk.tokenize.word_tokenize(reviews['review'][5])][:10]"
   ]
  },
  {
   "cell_type": "markdown",
   "metadata": {},
   "source": [
    "I'm going to trust that the above is mostly correct, but let's at least check that `this` matches the first index in the above list:"
   ]
  },
  {
   "cell_type": "code",
   "execution_count": 36,
   "metadata": {},
   "outputs": [
    {
     "data": {
      "text/plain": [
       "64425"
      ]
     },
     "execution_count": 36,
     "metadata": {},
     "output_type": "execute_result"
    }
   ],
   "source": [
    "word_to_id[\"this\"]"
   ]
  },
  {
   "cell_type": "markdown",
   "metadata": {},
   "source": [
    "Perfect.  Now, let's convert all of the tokenized reviews into lists of `ID`s"
   ]
  },
  {
   "cell_type": "code",
   "execution_count": 37,
   "metadata": {},
   "outputs": [],
   "source": [
    "reviews_as_ids = []\n",
    "for review in reviews['review']:\n",
    "    reviews_as_ids.append([word_to_id[word] for word in nltk.tokenize.word_tokenize(review)])"
   ]
  },
  {
   "cell_type": "markdown",
   "metadata": {},
   "source": [
    "Again, as a sanity check, the 6th item (0-indexed!) in the `reviews_as_ids` list should be the same as the list that we see two cells above:"
   ]
  },
  {
   "cell_type": "code",
   "execution_count": 39,
   "metadata": {},
   "outputs": [
    {
     "data": {
      "text/plain": [
       "[64425, 45592, 14606, 17254, 3039, 12082, 33021, 24031, 44721, 12911]"
      ]
     },
     "execution_count": 39,
     "metadata": {},
     "output_type": "execute_result"
    }
   ],
   "source": [
    "reviews_as_ids[5][:10]"
   ]
  },
  {
   "cell_type": "markdown",
   "metadata": {},
   "source": [
    "Excellent, we have now transformed our dataset of movie reviews into a list of integers.  "
   ]
  },
  {
   "cell_type": "markdown",
   "metadata": {},
   "source": [
    "## Label Encoding\n",
    "Now, let's generate an array that we can use with TensorFlow from the labels in the dataset."
   ]
  },
  {
   "cell_type": "code",
   "execution_count": 40,
   "metadata": {},
   "outputs": [],
   "source": [
    "import numpy as np"
   ]
  },
  {
   "cell_type": "code",
   "execution_count": 41,
   "metadata": {},
   "outputs": [
    {
     "data": {
      "text/html": [
       "<div>\n",
       "<style scoped>\n",
       "    .dataframe tbody tr th:only-of-type {\n",
       "        vertical-align: middle;\n",
       "    }\n",
       "\n",
       "    .dataframe tbody tr th {\n",
       "        vertical-align: top;\n",
       "    }\n",
       "\n",
       "    .dataframe thead th {\n",
       "        text-align: right;\n",
       "    }\n",
       "</style>\n",
       "<table border=\"1\" class=\"dataframe\">\n",
       "  <thead>\n",
       "    <tr style=\"text-align: right;\">\n",
       "      <th></th>\n",
       "      <th>label</th>\n",
       "    </tr>\n",
       "  </thead>\n",
       "  <tbody>\n",
       "    <tr>\n",
       "      <th>0</th>\n",
       "      <td>positive</td>\n",
       "    </tr>\n",
       "    <tr>\n",
       "      <th>1</th>\n",
       "      <td>negative</td>\n",
       "    </tr>\n",
       "    <tr>\n",
       "      <th>2</th>\n",
       "      <td>positive</td>\n",
       "    </tr>\n",
       "    <tr>\n",
       "      <th>3</th>\n",
       "      <td>negative</td>\n",
       "    </tr>\n",
       "    <tr>\n",
       "      <th>4</th>\n",
       "      <td>positive</td>\n",
       "    </tr>\n",
       "  </tbody>\n",
       "</table>\n",
       "</div>"
      ],
      "text/plain": [
       "      label\n",
       "0  positive\n",
       "1  negative\n",
       "2  positive\n",
       "3  negative\n",
       "4  positive"
      ]
     },
     "execution_count": 41,
     "metadata": {},
     "output_type": "execute_result"
    }
   ],
   "source": [
    "labels.head()"
   ]
  },
  {
   "cell_type": "code",
   "execution_count": 42,
   "metadata": {},
   "outputs": [
    {
     "data": {
      "text/html": [
       "<div>\n",
       "<style scoped>\n",
       "    .dataframe tbody tr th:only-of-type {\n",
       "        vertical-align: middle;\n",
       "    }\n",
       "\n",
       "    .dataframe tbody tr th {\n",
       "        vertical-align: top;\n",
       "    }\n",
       "\n",
       "    .dataframe thead th {\n",
       "        text-align: right;\n",
       "    }\n",
       "</style>\n",
       "<table border=\"1\" class=\"dataframe\">\n",
       "  <thead>\n",
       "    <tr style=\"text-align: right;\">\n",
       "      <th></th>\n",
       "      <th>label</th>\n",
       "    </tr>\n",
       "  </thead>\n",
       "  <tbody>\n",
       "    <tr>\n",
       "      <th>24995</th>\n",
       "      <td>negative</td>\n",
       "    </tr>\n",
       "    <tr>\n",
       "      <th>24996</th>\n",
       "      <td>positive</td>\n",
       "    </tr>\n",
       "    <tr>\n",
       "      <th>24997</th>\n",
       "      <td>negative</td>\n",
       "    </tr>\n",
       "    <tr>\n",
       "      <th>24998</th>\n",
       "      <td>positive</td>\n",
       "    </tr>\n",
       "    <tr>\n",
       "      <th>24999</th>\n",
       "      <td>negative</td>\n",
       "    </tr>\n",
       "  </tbody>\n",
       "</table>\n",
       "</div>"
      ],
      "text/plain": [
       "          label\n",
       "24995  negative\n",
       "24996  positive\n",
       "24997  negative\n",
       "24998  positive\n",
       "24999  negative"
      ]
     },
     "execution_count": 42,
     "metadata": {},
     "output_type": "execute_result"
    }
   ],
   "source": [
    "labels.tail()"
   ]
  },
  {
   "cell_type": "markdown",
   "metadata": {},
   "source": [
    "We have a list of the reviews which have been integer-tokenized, now let's generate a parallel numpy array of whether the review is positive or negative."
   ]
  },
  {
   "cell_type": "code",
   "execution_count": 50,
   "metadata": {},
   "outputs": [],
   "source": [
    "review_labels = np.array(labels['label'] == 'positive', dtype=int)"
   ]
  },
  {
   "cell_type": "code",
   "execution_count": 51,
   "metadata": {},
   "outputs": [
    {
     "data": {
      "text/plain": [
       "array([1, 0, 1, 0, 1])"
      ]
     },
     "execution_count": 51,
     "metadata": {},
     "output_type": "execute_result"
    }
   ],
   "source": [
    "review_labels[:5]"
   ]
  },
  {
   "cell_type": "code",
   "execution_count": 52,
   "metadata": {},
   "outputs": [
    {
     "data": {
      "text/plain": [
       "array([0, 1, 0, 1, 0])"
      ]
     },
     "execution_count": 52,
     "metadata": {},
     "output_type": "execute_result"
    }
   ],
   "source": [
    "review_labels[-5:]"
   ]
  },
  {
   "cell_type": "markdown",
   "metadata": {},
   "source": [
    "As a sanity check, the length of this numpy array should be `25000`."
   ]
  },
  {
   "cell_type": "code",
   "execution_count": 53,
   "metadata": {},
   "outputs": [
    {
     "data": {
      "text/plain": [
       "25000"
      ]
     },
     "execution_count": 53,
     "metadata": {},
     "output_type": "execute_result"
    }
   ],
   "source": [
    "len(review_labels)"
   ]
  },
  {
   "cell_type": "markdown",
   "metadata": {},
   "source": [
    "## Padding\n",
    "The reviews in our dataset contain a different length of tokens."
   ]
  },
  {
   "cell_type": "code",
   "execution_count": 54,
   "metadata": {
    "scrolled": true
   },
   "outputs": [
    {
     "data": {
      "text/plain": [
       "<matplotlib.axes._subplots.AxesSubplot at 0x7fb939818860>"
      ]
     },
     "execution_count": 54,
     "metadata": {},
     "output_type": "execute_result"
    },
    {
     "data": {
      "image/png": "[encoded data removed]",
      "text/plain": [
       "<matplotlib.figure.Figure at 0x7fb939826908>"
      ]
     },
     "metadata": {},
     "output_type": "display_data"
    }
   ],
   "source": [
    "pd.Series(reviews_as_ids).apply(len).hist()"
   ]
  },
  {
   "cell_type": "markdown",
   "metadata": {},
   "source": [
    "Most of our reviews are under ~500 tokens long, and a few are over 1,200 tokens.\n",
    "\n",
    "The problem is that TensorFlow accepts only inputs of fixed length.  \n",
    "Further, LSTMs often have a practical limitation of only working with sequences that are a few hundred items long.\n",
    "\n",
    "This requires us to pick **a single token length** for our reviews as inputs.  \n",
    "Reviews which are shorter than this will be padded on the **right** with `0`s, and reviews which are longer will have to be truncated before being fed to TensorFlow.\n",
    "\n",
    "This is not as serious a limitation as it sounds, but it does have to be dealt with, or TensorFlow will throw errors during training.\n",
    "\n",
    "Accordingly, let's define a **sequence length** that we will fit every review into."
   ]
  },
  {
   "cell_type": "code",
   "execution_count": 55,
   "metadata": {},
   "outputs": [],
   "source": [
    "seq_len = 200\n",
    "\n",
    "x = np.zeros((len(reviews_as_ids), seq_len), dtype=int)\n",
    "for i, review_as_id in enumerate(reviews_as_ids):\n",
    "    x[i, :len(review_as_id)] = np.array(review_as_id)[:seq_len]"
   ]
  },
  {
   "cell_type": "markdown",
   "metadata": {},
   "source": [
    "Shown below are two such sequences, one originally shorter than the sequence length, and one longer."
   ]
  },
  {
   "cell_type": "code",
   "execution_count": 56,
   "metadata": {
    "scrolled": false
   },
   "outputs": [
    {
     "data": {
      "text/plain": [
       "(array([23260, 59862, 48899, 48115, 65297, 23260, 26549, 22618, 54146,\n",
       "        72749, 73035, 13906, 23260, 61768, 73323, 23260, 58446, 15032,\n",
       "        72749, 17430, 59862, 48899, 48115, 65297, 52750, 39369, 40784,\n",
       "        72749, 61680, 22618, 37809, 21420, 71831, 48899, 37466,  2428,\n",
       "         2428, 14136, 29515, 52750, 65417, 15032, 54435, 54357, 61289,\n",
       "        72749, 45592, 54357, 49116, 41960, 23097, 71700, 31926, 37466,\n",
       "         7358, 32132,  9571, 32132, 25035, 54298, 14136, 49755, 18544,\n",
       "        73323, 28098, 49755, 24050, 38966,  9026, 51345, 69655, 37466,\n",
       "         2428,  2428, 72749, 52575, 52387, 32366, 71835, 38993, 42330,\n",
       "        40784, 72749, 15374, 69841, 71835,  8807, 37466, 26180, 53389,\n",
       "        65172, 70836, 58183, 17569, 65172, 42014, 72749, 65055, 37466,\n",
       "        19706,  6709, 13214, 42345, 67180, 29696, 16190,  2299, 35255,\n",
       "        24549,  2838, 25448, 23260, 69283, 18395, 51757,  2428,  2428,\n",
       "        23260, 51554, 51545, 53111, 37466, 19706,  6709,  9559, 14155,\n",
       "         8859, 23260, 36140, 54435,  3039,  5967, 64835, 65297, 22315,\n",
       "         9026, 34523, 16288, 42004, 37466, 64425, 54435, 21420, 46855,\n",
       "        54435, 65172, 55033, 37466,     0,     0,     0,     0,     0,\n",
       "            0,     0,     0,     0,     0,     0,     0,     0,     0,\n",
       "            0,     0,     0,     0,     0,     0,     0,     0,     0,\n",
       "            0,     0,     0,     0,     0,     0,     0,     0,     0,\n",
       "            0,     0,     0,     0,     0,     0,     0,     0,     0,\n",
       "            0,     0,     0,     0,     0,     0,     0,     0,     0,\n",
       "            0,     0]),\n",
       " array([26549, 51582, 72749, 32589, 21420, 23260, 40661, 11328, 46708,\n",
       "        73323, 54674,  9484, 65297, 72749, 57219, 37466, 72749, 46708,\n",
       "        51615, 23260, 24050, 20424,  1925, 18616, 22987, 54298, 72749,\n",
       "         4614, 51420, 65659, 16662, 22618, 65904,   941,  9571, 23260,\n",
       "        52222, 63328, 35513, 35149, 15282, 72749, 40216, 65297, 61519,\n",
       "        51640, 20424, 66993,  9026, 29745, 37466,  1870, 72749, 63328,\n",
       "        32366, 66001, 65172, 43983, 45644, 65172, 73374, 10209, 20349,\n",
       "        37466, 72749, 40599, 59790, 35149, 18934, 27701, 48766, 50269,\n",
       "        73323, 37466,  2428,  2428, 26549, 51582, 72749, 32589, 32366,\n",
       "        23260, 68796, 14253, 65172, 15153,  9026,  7755,  9425, 38020,\n",
       "        11728, 20769, 61794,  9026, 33022, 61487, 21577, 72749,  2299,\n",
       "        22618, 70901, 46114, 65172, 66993, 29745,  9026,  1925, 37466,\n",
       "        45233, 61519,  2299, 54357, 27762, 19088, 48899, 65172, 70836,\n",
       "        72749, 19454, 65297, 26549, 51582, 72749, 32589, 14136, 33022,\n",
       "        72749, 31388,  9026, 57315,  4529, 23415, 19423, 73323,  9149,\n",
       "        23888, 15609, 65297, 72749, 43697, 32136, 65297, 72749, 73736,\n",
       "        37466, 23260, 21732, 21169, 24050, 32366,  1256, 70503, 34841,\n",
       "        23260, 36627, 29202, 22618, 32366, 34137, 40784, 72749,  1769,\n",
       "         9026, 17569, 29292,  3914, 45544, 19706, 48766, 56062, 65172,\n",
       "        20969, 17254,  9026, 40510, 65172, 40147, 26180, 37466,  2428,\n",
       "         2428, 72749, 45452,  9425, 11530, 23260, 27582, 20424,  7692,\n",
       "         9425, 24844,  7358, 26180, 63215, 33021, 41686, 23260, 59853,\n",
       "        19706, 62705]))"
      ]
     },
     "execution_count": 56,
     "metadata": {},
     "output_type": "execute_result"
    }
   ],
   "source": [
    "x[31], x[1506]"
   ]
  },
  {
   "cell_type": "markdown",
   "metadata": {},
   "source": [
    "# Data Splitting and Shuffling\n",
    "\n",
    "Now that we have transformed our dataset into a format that TensorFlow can work with, we need to split the dataset into training, testing, and validation sets, so that we can better evaluate the model's performance.\n",
    "\n",
    "Let's use numpy to help us randomize here"
   ]
  },
  {
   "cell_type": "code",
   "execution_count": 57,
   "metadata": {},
   "outputs": [],
   "source": [
    "## Use a seed for reproducibility of results\n",
    "np.random.seed(42)\n",
    "permute = np.random.permutation(range(len(x)))"
   ]
  },
  {
   "cell_type": "code",
   "execution_count": 58,
   "metadata": {
    "scrolled": true
   },
   "outputs": [],
   "source": [
    "## Generate shuffled versions of our data and labels\n",
    "x_shuffled = x[permute]\n",
    "y_shuffled = review_labels[permute]"
   ]
  },
  {
   "cell_type": "code",
   "execution_count": 59,
   "metadata": {},
   "outputs": [],
   "source": [
    "## Use an 80% : 10% : 10% split into training : testing : validation sets\n",
    "train_split = int(0.8*len(x))\n",
    "test_split = int(0.9*len(x))\n",
    "\n",
    "train_x = x_shuffled[:train_split]\n",
    "test_x = x_shuffled[train_split:test_split]\n",
    "val_x = x_shuffled[test_split:]\n",
    "\n",
    "train_y = y_shuffled[:train_split]\n",
    "test_y = y_shuffled[train_split:test_split]\n",
    "val_y = y_shuffled[test_split:]"
   ]
  },
  {
   "cell_type": "markdown",
   "metadata": {},
   "source": [
    "As a sanity check, let's look at the beginning of the split label sets, to confirm that the data has been shuffled."
   ]
  },
  {
   "cell_type": "code",
   "execution_count": 63,
   "metadata": {},
   "outputs": [
    {
     "data": {
      "text/plain": [
       "array([1, 1, 1, 1, 1, 1, 1, 0, 1, 0])"
      ]
     },
     "execution_count": 63,
     "metadata": {},
     "output_type": "execute_result"
    }
   ],
   "source": [
    "train_y[:10]"
   ]
  },
  {
   "cell_type": "code",
   "execution_count": 64,
   "metadata": {},
   "outputs": [
    {
     "data": {
      "text/plain": [
       "array([0, 0, 1, 1, 0, 0, 1, 1, 0, 0])"
      ]
     },
     "execution_count": 64,
     "metadata": {},
     "output_type": "execute_result"
    }
   ],
   "source": [
    "test_y[:10]"
   ]
  },
  {
   "cell_type": "code",
   "execution_count": 65,
   "metadata": {},
   "outputs": [
    {
     "data": {
      "text/plain": [
       "array([1, 0, 1, 0, 0, 1, 1, 1, 0, 0])"
      ]
     },
     "execution_count": 65,
     "metadata": {},
     "output_type": "execute_result"
    }
   ],
   "source": [
    "val_y[:10]"
   ]
  },
  {
   "cell_type": "markdown",
   "metadata": {},
   "source": [
    "As a final sanity check, note that an 80%, 10%, 10% split should yield numpy arrays of size `20000`, `2500`, and `2500`"
   ]
  },
  {
   "cell_type": "code",
   "execution_count": 66,
   "metadata": {},
   "outputs": [
    {
     "data": {
      "text/plain": [
       "(20000, 2500, 2500)"
      ]
     },
     "execution_count": 66,
     "metadata": {},
     "output_type": "execute_result"
    }
   ],
   "source": [
    "len(train_x), len(test_x), len(val_x)"
   ]
  },
  {
   "cell_type": "markdown",
   "metadata": {},
   "source": [
    "# Checkpointing\n",
    "We will use this opportunity to save our training, testing, and validation sets to disk, so that we can quickly load them in the future.\n",
    "\n",
    "Should this notebook need to be run in the future, it can start from the [Loading](#Loading) cells below.\n",
    "## Saving"
   ]
  },
  {
   "cell_type": "code",
   "execution_count": 67,
   "metadata": {},
   "outputs": [],
   "source": [
    "import pickle"
   ]
  },
  {
   "cell_type": "code",
   "execution_count": 68,
   "metadata": {},
   "outputs": [],
   "source": [
    "np.save(\"train_x\", train_x)\n",
    "np.save(\"train_y\", train_y)\n",
    "np.save(\"test_x\", test_x)\n",
    "np.save(\"test_y\", test_y)\n",
    "np.save(\"val_x\", val_x)\n",
    "np.save(\"val_y\", val_y)\n",
    "with open(\"review_word_set.pkl\", 'wb') as f:\n",
    "    pickle.dump(review_word_set, f)"
   ]
  },
  {
   "cell_type": "markdown",
   "metadata": {},
   "source": [
    "## Loading"
   ]
  },
  {
   "cell_type": "code",
   "execution_count": 1,
   "metadata": {},
   "outputs": [],
   "source": [
    "import numpy as np\n",
    "import pickle\n",
    "import matplotlib.pyplot as plt\n",
    "%matplotlib inline"
   ]
  },
  {
   "cell_type": "code",
   "execution_count": 2,
   "metadata": {},
   "outputs": [],
   "source": [
    "train_x = np.load(\"train_x.npy\")\n",
    "train_y = np.load(\"train_y.npy\")\n",
    "test_x = np.load(\"test_x.npy\")\n",
    "test_y = np.load(\"test_y.npy\")\n",
    "val_x = np.load(\"val_x.npy\")\n",
    "val_y = np.load(\"val_y.npy\")\n",
    "with open(\"review_word_set.pkl\", 'rb') as f:\n",
    "    review_word_set = pickle.load(f)"
   ]
  },
  {
   "cell_type": "markdown",
   "metadata": {},
   "source": [
    "# Model Architecture\n",
    "In this section, we will be defining a model architecture that we will use to \"learn\" the task of sentiment analysis.\n",
    "\n",
    "As a broad overview, this will be a neural network that takes a sequence as input, and produces a value of either 0 (a negative review) or 1 (a positive review).\n",
    "\n",
    "From the model's perspective, it will be seeing a vector of the above-defined **sequence length**, which is comprised of non-negative integers.\n",
    "\n",
    "After the input, the first layer of the model will be \"embedding\" these non-negative integers into a smaller representational space of only a few hundred floating-point numbers, to allow it to learn which sequences are important, and which are mere noise.\n",
    "\n",
    "Following this embedding layer, the \"embedded\" word vector will then pass into two parallel \"stacks\" of Long Short-Term Memory (LSTM) cells.\n",
    "\n",
    "The advantage of an LSTM cell is that, throughout time, it is able to remember better what came several dozen items earlier in the sequence than is a typical \"feed-forward\" network.  A broad overview of the machinery that allows an LSTM cell to accomplish this memory throughout a time sequence is shown below.\n",
    "![LSTM Cell, from colah's blog](http://colah.github.io/posts/2015-08-Understanding-LSTMs/img/LSTM3-chain.png)\n",
    "\n",
    "Since our dataset is a sequence of words, it makes sense that the model would benefit from knowing about both the sequence going forward, and going backward.  Intuitively, the review \"This movie has everything that you would expect.  And nothing you wouldn't,\" starts off very positive, and only at the end of the sequence would we start to think that the review is negative.  Knowing that from the beginning would make parsing the sequence easier.  \n",
    "Language parsing is a [complicated task](https://research.googleblog.com/2016/05/announcing-syntaxnet-worlds-most.html) that is outside the scope of this notebook, but having this bi-directional parsing typically helps models to pick out what's important for sentiment classification.\n",
    "\n",
    "The bi-directional stacked LSTM architecture that we implement below will be similar to (though not exactly the same as) the following architecture:\n",
    "![bi-directional stacked LSTM, from WildML](http://www.wildml.com/wp-content/uploads/2015/09/Screen-Shot-2015-09-16-at-2.21.51-PM.png)\n",
    "\n",
    "In the above architecture, each successive black dot may be thought of as a token in our reviews.  After embedding this token, we then pass it to a forward group of LSTM cells, and a backward stack of LSTM cells (both in orange), and then perhaps to more of the same \"stacked\" on top, which then generates outputs (red) at the top.\n",
    "\n",
    "We then connect the red \"output\" cells to a single cell, since we want a single answer from the model, namely whether the given input review has a positive or a negative sentiment.\n",
    "\n",
    "Thankfully, TensorFlow provides an API to implement the above, which we will explore below."
   ]
  },
  {
   "cell_type": "markdown",
   "metadata": {},
   "source": [
    "## Placeholders\n",
    "Let's define the necessary placeholders in order for us to feed our pre-processed data from above into a TensorFlow model:"
   ]
  },
  {
   "cell_type": "code",
   "execution_count": 3,
   "metadata": {},
   "outputs": [
    {
     "name": "stderr",
     "output_type": "stream",
     "text": [
      "/home/human/miniconda3/envs/ProofOfConcept/lib/python3.6/importlib/_bootstrap.py:219: RuntimeWarning: compiletime version 3.5 of module 'tensorflow.python.framework.fast_tensor_util' does not match runtime version 3.6\n",
      "  return f(*args, **kwds)\n"
     ]
    }
   ],
   "source": [
    "import tensorflow as tf"
   ]
  },
  {
   "cell_type": "code",
   "execution_count": 4,
   "metadata": {},
   "outputs": [],
   "source": [
    "graph = tf.Graph()"
   ]
  },
  {
   "cell_type": "code",
   "execution_count": 5,
   "metadata": {},
   "outputs": [],
   "source": [
    "with graph.as_default():\n",
    "    # Define placeholders to accept batches of token-sequences\n",
    "    inputs = tf.placeholder(tf.int32, [None, None], name = \"inputs\")\n",
    "    labels = tf.placeholder(tf.int32, [None, None], name = \"labels\")\n",
    "    \n",
    "    # Define a placeholder to allow us to tweak the dropout hyperparameter\n",
    "    keep_prob = tf.placeholder(tf.float32, name=\"keep_prob\")"
   ]
  },
  {
   "cell_type": "markdown",
   "metadata": {},
   "source": [
    "## Embedding\n",
    "Many of the unique tokens that exist in our dataset, and thus have been assigned an `ID`, occur rarely.  \n",
    "Things that occur rarely don't give a deep learning model much chance to learn what they mean, and so generally they hurt performance unless we take special steps to combat them.\n",
    "\n",
    "As it turns out, we can probably condense the above ~47,000 unique tokens into a few hundred tokens, and still have the model perform well.  \n",
    "\n",
    "This is done through the use of an [\"embedding\"](https://www.tensorflow.org/versions/master/tutorials/seq2seq#embedding) layer, which lets our model decide which of the tokens it sees are important, and which are just noise.\n",
    "\n",
    "Thankfully, TensorFlow provides a compact way to define and use embeddings:"
   ]
  },
  {
   "cell_type": "code",
   "execution_count": 6,
   "metadata": {},
   "outputs": [],
   "source": [
    "embedding_size = 300\n",
    "\n",
    "with graph.as_default():\n",
    "    # Define an embedding that allows us to map our ~47,000 review tokens to our embedding size\n",
    "    # Our model will \"learn\" a good embedding during training\n",
    "    embedding = tf.Variable(tf.random_uniform((len(review_word_set) + 1, embedding_size), -1, 1), name=\"Embedding\")\n",
    "    embed = tf.nn.embedding_lookup(embedding, inputs, name=\"Embedding_Lookup\")"
   ]
  },
  {
   "cell_type": "markdown",
   "metadata": {},
   "source": [
    "## Encoder\n",
    "Now that we have defined an embedding to squash our input token sequences into a more manageable space, we now define an encoder that will be the heart of this bi-directional stacked LSTM model:"
   ]
  },
  {
   "cell_type": "code",
   "execution_count": 7,
   "metadata": {},
   "outputs": [],
   "source": [
    "num_lstm_layers = 2\n",
    "num_lstm_units = 256\n",
    "\n",
    "with graph.as_default():\n",
    "    \n",
    "    def getLSTMlist(num_layers):\n",
    "        \"\"\"\n",
    "        Returns a list containing num_layers LSTM cells,\n",
    "        wrapped in dropout.\n",
    "        \n",
    "        This is to avoid TensorFlow syntax errors with the\n",
    "        [cell] * num_layers construction\n",
    "        \"\"\"\n",
    "        cell_list = []\n",
    "        for _ in range(num_layers):\n",
    "            # Your basic LSTM cell, with L2 regularization\n",
    "            lstm = tf.contrib.rnn.BasicLSTMCell(num_units=num_lstm_units)\n",
    "            \n",
    "            # Add dropout to the cell, using the keep_prob tensor\n",
    "            drop = tf.contrib.rnn.DropoutWrapper(lstm, output_keep_prob=keep_prob)\n",
    "            cell_list.append(drop)\n",
    "            \n",
    "        return cell_list\n",
    "    \n",
    "    forward_LSTMs = getLSTMlist(num_lstm_layers)\n",
    "    backward_LSTMs = getLSTMlist(num_lstm_layers)\n",
    "    \n",
    "    # Stack up multiple bidirectional LSTM layers\n",
    "    # Use dynamic to handle the unpacking of non-sequential input (embed)\n",
    "    outputs, output_state_fw, output_state_bw = \\\n",
    "        tf.contrib.rnn.stack_bidirectional_dynamic_rnn(forward_LSTMs, backward_LSTMs, embed, dtype=tf.float32)"
   ]
  },
  {
   "cell_type": "markdown",
   "metadata": {},
   "source": [
    "TensorBoard visualizes the above as follows:  \n",
    "![stack_bidirectional_rnn](img/stack.png)"
   ]
  },
  {
   "cell_type": "markdown",
   "metadata": {},
   "source": [
    "## Loss Function and Optimizer\n",
    "Finally, we will need to specify a loss function for our model so that it learns properly."
   ]
  },
  {
   "cell_type": "code",
   "execution_count": 8,
   "metadata": {},
   "outputs": [],
   "source": [
    "learning_rate = 1e-3\n",
    "alpha = 1e-2 # the factor by which to scale our L2 losses\n",
    "use_L2 = False\n",
    "\n",
    "with graph.as_default():\n",
    "    # Squash outputs to a single real number in the range of 0 to 1\n",
    "    predictions = tf.contrib.layers.fully_connected(outputs[:, -1], 1, activation_fn=tf.sigmoid)\n",
    "     \n",
    "    loss = tf.losses.mean_squared_error(labels, predictions)\n",
    "    \n",
    "    # Optimizer for training, using gradient clipping to control exploding gradients\n",
    "    tvars = tf.trainable_variables()\n",
    "    \n",
    "    # Get the L2 losses for weights, kernels, and biases, to discourage memorizing the training set\n",
    "    if use_L2:\n",
    "        for tensor in tvars:\n",
    "            if \"kernel\" in tensor.name or \"weights\" in tensor.name or \"bias\" in tensor.name:\n",
    "                loss += alpha * tf.nn.l2_loss(tensor)\n",
    "    \n",
    "    grads, _ = tf.clip_by_global_norm(tf.gradients(loss, tvars), 5) # clip gradients to 5\n",
    "    optimizer = tf.train.AdamOptimizer(learning_rate).minimize(loss, var_list=tvars)"
   ]
  },
  {
   "cell_type": "markdown",
   "metadata": {},
   "source": [
    "## Evaluation Operations"
   ]
  },
  {
   "cell_type": "code",
   "execution_count": 9,
   "metadata": {},
   "outputs": [],
   "source": [
    "with graph.as_default():\n",
    "\n",
    "    ## Round our sigmoid [0,1] output to be either 0 or 1\n",
    "    predictions_integer = tf.cast(tf.round(predictions), tf.int32, name=\"Prediction_Integers\")\n",
    "\n",
    "    ## Define operations for {true, false} {positive, negative} predictions\n",
    "    TP = tf.count_nonzero(predictions_integer * labels, name='True_Positives', dtype=tf.int32)\n",
    "    TN = tf.count_nonzero((predictions_integer - 1) * (labels - 1), name=\"True_Negatives\", dtype=tf.int32)\n",
    "    FP = tf.count_nonzero(predictions_integer * (labels - 1), name=\"False_Positives\", dtype=tf.int32)\n",
    "    FN = tf.count_nonzero((predictions_integer - 1) * labels, name=\"False_Negatives\", dtype=tf.int32)\n",
    "\n",
    "    ## Define operations for accuracy, precision, recall, and F1 score\n",
    "\n",
    "    # accuracy ::= (TP + TN) / (TN + FN + TP + FP)\n",
    "    accuracy = tf.divide(TP + TN, TN + FN + TP + FP, name=\"Accuracy\")\n",
    "\n",
    "    # precision ::= TP / (TP + FP)\n",
    "    precision = tf.divide(TP, TP + FP, name=\"Precision\")\n",
    "\n",
    "    # recall::= TP / (TP + FN)\n",
    "    recall = tf.divide(TP, TP + FN, name=\"Recall\")\n",
    "\n",
    "    # F1 score ::= 2 * precision * recall / (precision + recall)\n",
    "    f1 = tf.divide((2 * precision * recall), (precision + recall), name=\"F1_score\")\n",
    "\n",
    "    # To also record this information in TensorBoard, we'll define scalar summaries here\n",
    "    with tf.name_scope('summaries'):\n",
    "        tf.summary.scalar('Loss', loss)\n",
    "        tf.summary.scalar('Accuracy', accuracy)\n",
    "        tf.summary.scalar('Precision', precision)\n",
    "        tf.summary.scalar('Recall', recall)\n",
    "        tf.summary.scalar('F1_score', f1)"
   ]
  },
  {
   "cell_type": "markdown",
   "metadata": {},
   "source": [
    "# Training the Model\n",
    "We're almost ready to start training our model.\n",
    "\n",
    "Before we begin training, let's define a function that we can use to generate batches of our training data, so that we don't risk running out of memory by loading everything into the model at once."
   ]
  },
  {
   "cell_type": "code",
   "execution_count": 10,
   "metadata": {},
   "outputs": [],
   "source": [
    "def get_batches(x, y, batch_size=100):\n",
    "    '''\n",
    "    Given a set of features x, and a set of labels y,\n",
    "    return a generator yields shuffled batch_size tuples of x and y.\n",
    "    \n",
    "    Note that this function truncates x and y, if necessary,\n",
    "    so that it only returns full batches.\n",
    "    '''\n",
    "    ## Truncate x and y so that no batch is empty\n",
    "    num_batches = len(x) // batch_size\n",
    "    x, y = x[:num_batches * batch_size], y[:num_batches * batch_size]\n",
    "    \n",
    "    ## Shuffle x and y on the same index permutation\n",
    "    permute = np.random.permutation(range(len(x)))\n",
    "    x = x[permute]\n",
    "    y = y[permute]\n",
    "    \n",
    "    for i in range(0, len(x), batch_size):\n",
    "        yield x[i:i + batch_size], y[i:i + batch_size]"
   ]
  },
  {
   "cell_type": "code",
   "execution_count": 11,
   "metadata": {},
   "outputs": [],
   "source": [
    "# To keep our summary directories separate\n",
    "from datetime import datetime"
   ]
  },
  {
   "cell_type": "code",
   "execution_count": 12,
   "metadata": {
    "scrolled": false
   },
   "outputs": [
    {
     "name": "stdout",
     "output_type": "stream",
     "text": [
      "Epoch:  0/10 Iteration:    5 Training loss: 0.255 accuracy: 0.526 precision: 0.530 recall: 0.882 f1: 0.662\n",
      "Epoch:  0/10 Iteration:   10 Training loss: 0.258 accuracy: 0.510 precision: 0.639 recall: 0.228 f1: 0.336\n",
      "Epoch:  0/10 Iteration:   15 Training loss: 0.247 accuracy: 0.542 precision: 0.540 recall: 0.752 f1: 0.629\n",
      "Epoch:  0/10 Iteration:   20 Training loss: 0.250 accuracy: 0.510 precision: 0.539 recall: 0.400 f1: 0.459\n",
      "Epoch:  0/10 Iteration:   25 Training loss: 0.251 accuracy: 0.508 precision: 0.538 recall: 0.273 f1: 0.363\n",
      "                          Validation loss: 0.247 accuracy: 0.527 precision: 0.565 recall: 0.299 f1: 0.390\n",
      "Epoch:  0/10 Iteration:   30 Training loss: 0.249 accuracy: 0.546 precision: 0.551 recall: 0.688 f1: 0.612\n",
      "Epoch:  0/10 Iteration:   35 Training loss: 0.232 accuracy: 0.574 precision: 0.613 recall: 0.421 f1: 0.499\n",
      "Epoch:  0/10 Iteration:   40 Training loss: 0.242 accuracy: 0.562 precision: 0.633 recall: 0.235 f1: 0.342\n",
      "Epoch:  1/10 Iteration:   45 Training loss: 0.254 accuracy: 0.486 precision: 0.498 recall: 0.800 f1: 0.614\n",
      "Epoch:  1/10 Iteration:   50 Training loss: 0.250 accuracy: 0.528 precision: 0.529 recall: 0.646 f1: 0.582\n",
      "                          Validation loss: 0.247 accuracy: 0.542 precision: 0.538 recall: 0.694 f1: 0.606\n",
      "Epoch:  1/10 Iteration:   55 Training loss: 0.249 accuracy: 0.544 precision: 0.557 recall: 0.410 f1: 0.472\n",
      "Epoch:  1/10 Iteration:   60 Training loss: 0.223 accuracy: 0.628 precision: 0.706 recall: 0.448 f1: 0.549\n",
      "Epoch:  1/10 Iteration:   65 Training loss: 0.237 accuracy: 0.582 precision: 0.546 recall: 0.827 f1: 0.658\n",
      "Epoch:  1/10 Iteration:   70 Training loss: 0.238 accuracy: 0.564 precision: 0.557 recall: 0.624 f1: 0.589\n",
      "Epoch:  1/10 Iteration:   75 Training loss: 0.232 accuracy: 0.606 precision: 0.684 recall: 0.450 f1: 0.543\n",
      "                          Validation loss: 0.239 accuracy: 0.583 precision: 0.623 recall: 0.457 f1: 0.527\n",
      "Epoch:  1/10 Iteration:   80 Training loss: 0.227 accuracy: 0.678 precision: 0.679 recall: 0.703 f1: 0.691\n",
      "Epoch:  2/10 Iteration:   85 Training loss: 0.201 accuracy: 0.724 precision: 0.749 recall: 0.696 f1: 0.722\n",
      "Epoch:  2/10 Iteration:   90 Training loss: 0.244 accuracy: 0.576 precision: 0.683 recall: 0.367 f1: 0.478\n",
      "Epoch:  2/10 Iteration:   95 Training loss: 0.241 accuracy: 0.590 precision: 0.636 recall: 0.366 f1: 0.465\n",
      "Epoch:  2/10 Iteration:  100 Training loss: 0.240 accuracy: 0.552 precision: 0.530 recall: 0.855 f1: 0.654\n",
      "                          Validation loss: 0.241 accuracy: 0.561 precision: 0.545 recall: 0.823 f1: 0.655\n",
      "Epoch:  2/10 Iteration:  105 Training loss: 0.220 accuracy: 0.594 precision: 0.569 recall: 0.750 f1: 0.647\n",
      "Epoch:  2/10 Iteration:  110 Training loss: 0.203 accuracy: 0.636 precision: 0.714 recall: 0.557 f1: 0.626\n",
      "Epoch:  2/10 Iteration:  115 Training loss: 0.222 accuracy: 0.634 precision: 0.694 recall: 0.425 f1: 0.527\n",
      "Epoch:  2/10 Iteration:  120 Training loss: 0.247 accuracy: 0.552 precision: 0.550 recall: 0.451 f1: 0.495\n",
      "Epoch:  3/10 Iteration:  125 Training loss: 0.213 accuracy: 0.648 precision: 0.624 recall: 0.758 f1: 0.685\n",
      "                          Validation loss: 0.229 accuracy: 0.605 precision: 0.571 recall: 0.893 f1: 0.697\n",
      "Epoch:  3/10 Iteration:  130 Training loss: 0.211 accuracy: 0.646 precision: 0.661 recall: 0.600 f1: 0.629\n",
      "Epoch:  3/10 Iteration:  135 Training loss: 0.213 accuracy: 0.586 precision: 0.540 recall: 0.747 f1: 0.627\n",
      "Epoch:  3/10 Iteration:  140 Training loss: 0.198 accuracy: 0.666 precision: 0.779 recall: 0.510 f1: 0.616\n",
      "Epoch:  3/10 Iteration:  145 Training loss: 0.212 accuracy: 0.624 precision: 0.594 recall: 0.784 f1: 0.676\n",
      "Epoch:  3/10 Iteration:  150 Training loss: 0.198 accuracy: 0.658 precision: 0.757 recall: 0.496 f1: 0.600\n",
      "                          Validation loss: 0.220 accuracy: 0.619 precision: 0.690 recall: 0.457 f1: 0.549\n",
      "Epoch:  3/10 Iteration:  155 Training loss: 0.196 accuracy: 0.694 precision: 0.847 recall: 0.468 f1: 0.603\n",
      "Epoch:  3/10 Iteration:  160 Training loss: 0.174 accuracy: 0.782 precision: 0.757 recall: 0.822 f1: 0.788\n",
      "Epoch:  4/10 Iteration:  165 Training loss: 0.144 accuracy: 0.808 precision: 0.908 recall: 0.695 f1: 0.788\n",
      "Epoch:  4/10 Iteration:  170 Training loss: 0.179 accuracy: 0.710 precision: 0.908 recall: 0.470 f1: 0.619\n",
      "Epoch:  4/10 Iteration:  175 Training loss: 0.144 accuracy: 0.790 precision: 0.874 recall: 0.647 f1: 0.743\n",
      "                          Validation loss: 0.208 accuracy: 0.697 precision: 0.914 recall: 0.445 f1: 0.599\n",
      "Epoch:  4/10 Iteration:  180 Training loss: 0.156 accuracy: 0.796 precision: 0.726 recall: 0.948 f1: 0.822\n",
      "Epoch:  4/10 Iteration:  185 Training loss: 0.123 accuracy: 0.838 precision: 0.866 recall: 0.817 f1: 0.841\n",
      "Epoch:  4/10 Iteration:  190 Training loss: 0.106 accuracy: 0.862 precision: 0.950 recall: 0.765 f1: 0.848\n",
      "Epoch:  4/10 Iteration:  195 Training loss: 0.132 accuracy: 0.824 precision: 0.897 recall: 0.731 f1: 0.805\n",
      "Epoch:  4/10 Iteration:  200 Training loss: 0.111 accuracy: 0.850 precision: 0.868 recall: 0.830 f1: 0.848\n",
      "                          Validation loss: 0.149 accuracy: 0.808 precision: 0.779 recall: 0.870 f1: 0.822\n",
      "Epoch:  5/10 Iteration:  205 Training loss: 0.109 accuracy: 0.862 precision: 0.828 recall: 0.906 f1: 0.865\n",
      "Epoch:  5/10 Iteration:  210 Training loss: 0.120 accuracy: 0.836 precision: 0.799 recall: 0.890 f1: 0.842\n",
      "Epoch:  5/10 Iteration:  215 Training loss: 0.133 accuracy: 0.818 precision: 0.910 recall: 0.713 f1: 0.799\n",
      "Epoch:  5/10 Iteration:  220 Training loss: 0.120 accuracy: 0.842 precision: 0.877 recall: 0.797 f1: 0.835\n",
      "Epoch:  5/10 Iteration:  225 Training loss: 0.111 accuracy: 0.852 precision: 0.779 recall: 0.943 f1: 0.853\n",
      "                          Validation loss: 0.137 accuracy: 0.818 precision: 0.808 recall: 0.841 f1: 0.824\n",
      "Epoch:  5/10 Iteration:  230 Training loss: 0.081 accuracy: 0.890 precision: 0.879 recall: 0.916 f1: 0.897\n",
      "Epoch:  5/10 Iteration:  235 Training loss: 0.095 accuracy: 0.880 precision: 0.866 recall: 0.894 f1: 0.880\n",
      "Epoch:  5/10 Iteration:  240 Training loss: 0.104 accuracy: 0.864 precision: 0.888 recall: 0.839 f1: 0.863\n",
      "Epoch:  6/10 Iteration:  245 Training loss: 0.087 accuracy: 0.882 precision: 0.848 recall: 0.922 f1: 0.884\n",
      "Epoch:  6/10 Iteration:  250 Training loss: 0.077 accuracy: 0.898 precision: 0.901 recall: 0.898 f1: 0.899\n",
      "                          Validation loss: 0.128 accuracy: 0.829 precision: 0.813 recall: 0.862 f1: 0.837\n",
      "Epoch:  6/10 Iteration:  255 Training loss: 0.083 accuracy: 0.906 precision: 0.945 recall: 0.868 f1: 0.905\n",
      "Epoch:  6/10 Iteration:  260 Training loss: 0.075 accuracy: 0.904 precision: 0.868 recall: 0.941 f1: 0.903\n",
      "Epoch:  6/10 Iteration:  265 Training loss: 0.093 accuracy: 0.874 precision: 0.963 recall: 0.766 f1: 0.853\n",
      "Epoch:  6/10 Iteration:  270 Training loss: 0.074 accuracy: 0.900 precision: 0.904 recall: 0.904 f1: 0.904\n",
      "Epoch:  6/10 Iteration:  275 Training loss: 0.081 accuracy: 0.898 precision: 0.925 recall: 0.870 f1: 0.897\n",
      "                          Validation loss: 0.127 accuracy: 0.828 precision: 0.815 recall: 0.856 f1: 0.834\n",
      "Epoch:  6/10 Iteration:  280 Training loss: 0.057 accuracy: 0.930 precision: 0.910 recall: 0.957 f1: 0.933\n",
      "Epoch:  7/10 Iteration:  285 Training loss: 0.071 accuracy: 0.906 precision: 0.871 recall: 0.952 f1: 0.909\n",
      "Epoch:  7/10 Iteration:  290 Training loss: 0.074 accuracy: 0.916 precision: 0.965 recall: 0.865 f1: 0.912\n",
      "Epoch:  7/10 Iteration:  295 Training loss: 0.072 accuracy: 0.912 precision: 0.891 recall: 0.940 f1: 0.915\n",
      "Epoch:  7/10 Iteration:  300 Training loss: 0.060 accuracy: 0.924 precision: 0.919 recall: 0.926 f1: 0.922\n",
      "                          Validation loss: 0.131 accuracy: 0.828 precision: 0.800 recall: 0.879 f1: 0.838\n",
      "Epoch:  7/10 Iteration:  305 Training loss: 0.067 accuracy: 0.918 precision: 0.932 recall: 0.907 f1: 0.919\n",
      "Epoch:  7/10 Iteration:  310 Training loss: 0.053 accuracy: 0.930 precision: 0.955 recall: 0.908 f1: 0.931\n",
      "Epoch:  7/10 Iteration:  315 Training loss: 0.055 accuracy: 0.934 precision: 0.923 recall: 0.942 f1: 0.933\n",
      "Epoch:  7/10 Iteration:  320 Training loss: 0.049 accuracy: 0.936 precision: 0.950 recall: 0.919 f1: 0.934\n",
      "Epoch:  8/10 Iteration:  325 Training loss: 0.040 accuracy: 0.952 precision: 0.952 recall: 0.944 f1: 0.948\n"
     ]
    },
    {
     "name": "stdout",
     "output_type": "stream",
     "text": [
      "                          Validation loss: 0.132 accuracy: 0.833 precision: 0.843 recall: 0.826 f1: 0.834\n",
      "Epoch:  8/10 Iteration:  330 Training loss: 0.053 accuracy: 0.936 precision: 0.937 recall: 0.929 f1: 0.933\n",
      "Epoch:  8/10 Iteration:  335 Training loss: 0.053 accuracy: 0.932 precision: 0.925 recall: 0.940 f1: 0.933\n",
      "Epoch:  8/10 Iteration:  340 Training loss: 0.043 accuracy: 0.950 precision: 0.968 recall: 0.922 f1: 0.945\n",
      "Epoch:  8/10 Iteration:  345 Training loss: 0.042 accuracy: 0.950 precision: 0.942 recall: 0.961 f1: 0.951\n",
      "Epoch:  8/10 Iteration:  350 Training loss: 0.049 accuracy: 0.942 precision: 0.968 recall: 0.920 f1: 0.943\n",
      "                          Validation loss: 0.129 accuracy: 0.838 precision: 0.831 recall: 0.854 f1: 0.842\n",
      "Epoch:  8/10 Iteration:  355 Training loss: 0.051 accuracy: 0.942 precision: 0.970 recall: 0.912 f1: 0.940\n",
      "Epoch:  8/10 Iteration:  360 Training loss: 0.033 accuracy: 0.962 precision: 0.948 recall: 0.976 f1: 0.962\n",
      "Epoch:  9/10 Iteration:  365 Training loss: 0.040 accuracy: 0.954 precision: 0.950 recall: 0.954 f1: 0.952\n",
      "Epoch:  9/10 Iteration:  370 Training loss: 0.023 accuracy: 0.976 precision: 0.984 recall: 0.968 f1: 0.976\n",
      "Epoch:  9/10 Iteration:  375 Training loss: 0.045 accuracy: 0.952 precision: 0.951 recall: 0.951 f1: 0.951\n",
      "                          Validation loss: 0.138 accuracy: 0.824 precision: 0.855 recall: 0.789 f1: 0.820\n",
      "Epoch:  9/10 Iteration:  380 Training loss: 0.035 accuracy: 0.952 precision: 0.951 recall: 0.951 f1: 0.951\n",
      "Epoch:  9/10 Iteration:  385 Training loss: 0.027 accuracy: 0.966 precision: 0.959 recall: 0.977 f1: 0.968\n",
      "Epoch:  9/10 Iteration:  390 Training loss: 0.030 accuracy: 0.968 precision: 0.980 recall: 0.957 f1: 0.969\n",
      "Epoch:  9/10 Iteration:  395 Training loss: 0.038 accuracy: 0.960 precision: 0.940 recall: 0.979 f1: 0.959\n",
      "Epoch:  9/10 Iteration:  400 Training loss: 0.040 accuracy: 0.950 precision: 0.971 recall: 0.929 f1: 0.950\n",
      "                          Validation loss: 0.136 accuracy: 0.833 precision: 0.864 recall: 0.797 f1: 0.829\n"
     ]
    }
   ],
   "source": [
    "epochs = 10\n",
    "batch_size = 500\n",
    "train_keep_prob = 0.9\n",
    "\n",
    "# Define a time-stamped directory in which to keep the TensorBoard data for this run\n",
    "summaries_dir = \"./summaries/\" + datetime.now().strftime(\"%Y%m%d%H%M%S\")\n",
    "\n",
    "with graph.as_default():\n",
    "    saver = tf.train.Saver()\n",
    "\n",
    "with tf.Session(graph=graph) as sess:\n",
    "    merged = tf.summary.merge_all()\n",
    "    train_writer = tf.summary.FileWriter(summaries_dir + '/train',\n",
    "                                          sess.graph)\n",
    "    test_writer = tf.summary.FileWriter(summaries_dir + '/test')\n",
    "    val_writer = tf.summary.FileWriter(summaries_dir + '/val')\n",
    "    \n",
    "    sess.run(tf.global_variables_initializer())\n",
    "    iteration = 1\n",
    "    for e in range(epochs):\n",
    "        for x, y in get_batches(train_x, train_y, batch_size):\n",
    "            feed = {inputs: x,\n",
    "                    labels: y[:, None],\n",
    "                    keep_prob: train_keep_prob}\n",
    "            summary, tr_loss, tr_acc, tr_prec, tr_rec, tr_f1, _ = \\\n",
    "                sess.run([merged, loss, accuracy, precision, recall, f1, optimizer], feed_dict=feed)\n",
    "            train_writer.add_summary(summary, iteration)\n",
    "            \n",
    "            # Print training information\n",
    "            if iteration%5==0:\n",
    "                print(\"Epoch:{: 3d}/{}\".format(e, epochs),\n",
    "                      \"Iteration: {: 4d} Training\".format(iteration),\n",
    "                      \"loss: {:.3f}\".format(tr_loss),\n",
    "                     \"accuracy: {:.3f}\".format(tr_acc),\n",
    "                     \"precision: {:.3f}\".format(tr_prec),\n",
    "                     \"recall: {:.3f}\".format(tr_rec),\n",
    "                     \"f1: {:.3f}\".format(tr_f1))\n",
    "            \n",
    "            # Evaluate the validation set\n",
    "            if iteration%25==0:\n",
    "                running_stats = []\n",
    "                for x, y in get_batches(val_x, val_y, batch_size):\n",
    "                    feed = {inputs: x,\n",
    "                            labels: y[:, None],\n",
    "                            keep_prob: 1}\n",
    "                    summary, v_loss, v_acc, v_prec, v_rec, v_f1 = \\\n",
    "                        sess.run([merged, loss, accuracy, precision, recall, f1], feed_dict=feed)\n",
    "                    val_writer.add_summary(summary, iteration)\n",
    "                    running_stats.append([v_loss, v_acc, v_prec, v_rec, v_f1])\n",
    "                running_stats = np.array(running_stats)\n",
    "                val_averages = running_stats.mean(axis=0)\n",
    "                print(\" \"*25,\n",
    "                      \"Validation loss: {:.3f}\".format(val_averages[0]),\n",
    "                     \"accuracy: {:.3f}\".format(val_averages[1]),\n",
    "                     \"precision: {:.3f}\".format(val_averages[2]),\n",
    "                     \"recall: {:.3f}\".format(val_averages[3]),\n",
    "                     \"f1: {:.3f}\".format(val_averages[4]))\n",
    "            iteration +=1\n",
    "    saver.save(sess, \"checkpoints/sentiment.ckpt\")"
   ]
  },
  {
   "cell_type": "markdown",
   "metadata": {},
   "source": [
    "# Evaluating Performance\n",
    "Below are some screen captures from TensorBoard, to show how the model's Accuracy, Precision, Recall, F1 Score, and Loss progressed on the training and validation sets during training:  \n",
    "![Summaries](img/Summaries.png)"
   ]
  },
  {
   "cell_type": "markdown",
   "metadata": {},
   "source": [
    "Above, note that the smoothed purple line represents the training set performance, and the jagged red line represents the validation set performance.\n",
    "\n",
    "Now, let's see how our model performed on the test set that we held out earlier.\n",
    "\n",
    "In order to do this, we will plot a \"confusion matrix,\" which concisely displays how many false positives, false negatives, true positives, and true negatives the model yielded.\n",
    "\n",
    "First, let's define our helper code for printing a confusion matrix"
   ]
  },
  {
   "cell_type": "code",
   "execution_count": 13,
   "metadata": {},
   "outputs": [],
   "source": [
    "import itertools"
   ]
  },
  {
   "cell_type": "code",
   "execution_count": 14,
   "metadata": {},
   "outputs": [],
   "source": [
    "def plot_confusion_matrix(cm, classes,\n",
    "                          normalize=False,\n",
    "                          title='Confusion matrix',\n",
    "                          cmap=plt.cm.Blues):\n",
    "    \"\"\"\n",
    "    This function prints and plots the confusion matrix.\n",
    "    Normalization can be applied by setting `normalize=True`.\n",
    "    \n",
    "    http://scikit-learn.org/stable/auto_examples/model_selection/plot_confusion_matrix.html#sphx-glr-auto-examples-model-selection-plot-confusion-matrix-py\n",
    "    \"\"\"\n",
    "    if normalize:\n",
    "        cm = cm.astype('float') / cm.sum(axis=1)[:, np.newaxis]\n",
    "\n",
    "    print(cm)\n",
    "\n",
    "    plt.imshow(cm, interpolation='nearest', cmap=cmap)\n",
    "    plt.title(title)\n",
    "    plt.colorbar()\n",
    "    tick_marks = np.arange(len(classes))\n",
    "    plt.xticks(tick_marks, classes, rotation=45)\n",
    "    plt.yticks(tick_marks, classes)\n",
    "\n",
    "    fmt = '.3f' if normalize else 'd'\n",
    "    thresh = cm.max() / 2.\n",
    "    for i, j in itertools.product(range(cm.shape[0]), range(cm.shape[1])):\n",
    "        plt.text(j, i, format(cm[i, j], fmt),\n",
    "                 horizontalalignment=\"center\",\n",
    "                 color=\"white\" if cm[i, j] > thresh else \"black\")\n",
    "\n",
    "    plt.tight_layout()\n",
    "    plt.ylabel('True label')\n",
    "    plt.xlabel('Predicted label')"
   ]
  },
  {
   "cell_type": "code",
   "execution_count": 15,
   "metadata": {},
   "outputs": [
    {
     "name": "stdout",
     "output_type": "stream",
     "text": [
      "[[ 0.8  0.2]\n",
      " [ 0.4  0.6]]\n"
     ]
    },
    {
     "data": {
      "image/png": "[encoded data removed]",
      "text/plain": [
       "<matplotlib.figure.Figure at 0x7f36c7d78978>"
      ]
     },
     "metadata": {},
     "output_type": "display_data"
    }
   ],
   "source": [
    "cnf_matrix = np.array([[8,2],[8,12]])\n",
    "# [TP, FN], [FP, TN]\n",
    "class_names = [\"Positive\", \"Negative\"]\n",
    "\n",
    "np.set_printoptions(precision=3)\n",
    "# Plot normalized confusion matrix\n",
    "\n",
    "plt.Figure()\n",
    "plot_confusion_matrix(cnf_matrix, classes=class_names, normalize=True,\n",
    "                      title='Normalized confusion matrix, Dummy Values')\n",
    "\n",
    "plt.show()"
   ]
  },
  {
   "cell_type": "markdown",
   "metadata": {},
   "source": [
    "Now, let's reload our model from disk, and run it on the test set:"
   ]
  },
  {
   "cell_type": "code",
   "execution_count": 21,
   "metadata": {},
   "outputs": [
    {
     "name": "stdout",
     "output_type": "stream",
     "text": [
      "INFO:tensorflow:Restoring parameters from checkpoints/sentiment.ckpt\n",
      "Test loss: 0.119 accuracy: 0.851 precision: 0.884 recall: 0.810 f1: 0.845\n"
     ]
    }
   ],
   "source": [
    "running_stats = []\n",
    "with tf.Session(graph=graph) as sess:\n",
    "    saver.restore(sess, tf.train.latest_checkpoint('checkpoints'))\n",
    "    conf_mat = np.zeros(4, dtype=int)\n",
    "    running_stats = []\n",
    "    for i, (x, y) in enumerate(get_batches(test_x, test_y, batch_size), 1):\n",
    "        feed = {inputs: x,\n",
    "                labels: y[:, None],\n",
    "                keep_prob: 1}\n",
    "        v_loss, v_acc, v_prec, v_rec, v_f1, true_pos, false_neg, false_pos, true_neg = \\\n",
    "            sess.run([loss, accuracy, precision, recall, f1, TP, FN, FP, TN], feed_dict=feed)\n",
    "        running_stats.append([v_loss, v_acc, v_prec, v_rec, v_f1])\n",
    "        conf_mat += (true_pos, false_neg, false_pos, true_neg)\n",
    "        \n",
    "    running_stats = np.array(running_stats)\n",
    "    test_averages = running_stats.mean(axis=0)\n",
    "    print(\"Test loss: {:.3f}\".format(test_averages[0]),\n",
    "                 \"accuracy: {:.3f}\".format(test_averages[1]),\n",
    "                 \"precision: {:.3f}\".format(test_averages[2]),\n",
    "                 \"recall: {:.3f}\".format(test_averages[3]),\n",
    "                 \"f1: {:.3f}\".format(test_averages[4]))"
   ]
  },
  {
   "cell_type": "code",
   "execution_count": 22,
   "metadata": {},
   "outputs": [
    {
     "name": "stdout",
     "output_type": "stream",
     "text": [
      "[[ 0.808  0.192]\n",
      " [ 0.107  0.893]]\n"
     ]
    },
    {
     "data": {
      "image/png": "[encoded data removed]",
      "text/plain": [
       "<matplotlib.figure.Figure at 0x7f36c4337940>"
      ]
     },
     "metadata": {},
     "output_type": "display_data"
    }
   ],
   "source": [
    "# Reshape into 2 x 2 matrix\n",
    "conf_mat = conf_mat.reshape((2,2))\n",
    "\n",
    "class_names = [\"Positive\", \"Negative\"]\n",
    "\n",
    "# Plot normalized confusion matrix\n",
    "\n",
    "plt.Figure()\n",
    "plot_confusion_matrix(conf_mat, classes=class_names, normalize=True,\n",
    "                      title='Normalized confusion matrix, Test Set')\n",
    "\n",
    "plt.show()"
   ]
  },
  {
   "cell_type": "markdown",
   "metadata": {},
   "source": [
    "# Conclusion\n",
    "As can be seen above, when the model is given a negative review, it classifies that review correctly almost 90% of the time!\n",
    "\n",
    "When the model is given a positive review, its accurate only about 80% of the time, but still that is an incredible first pass.\n",
    "\n",
    "As can also be seen above, we've taken care to gather information about true positives, true negatives, false positives, and false negatives.\n",
    "\n",
    "This allows us to relate the following metrics:\n",
    "\n",
    "![Precision](https://wikimedia.org/api/rest_v1/media/math/render/svg/26106935459abe7c266f7b1ebfa2a824b334c807)\n",
    "\n",
    "![Recall](https://wikimedia.org/api/rest_v1/media/math/render/svg/4c233366865312bc99c832d1475e152c5074891b)\n",
    "\n",
    "![Accuracy](https://wikimedia.org/api/rest_v1/media/math/render/svg/e2e427ec6dcf2d7882c3bbdc659a8204cba59dcc)\n",
    "\n",
    "![F1 Score](https://wikimedia.org/api/rest_v1/media/math/render/svg/dd577aee2dd35c5b0e349327528a5ac606c7bbbf)\n",
    "\n",
    "As can be seen from running the test set above, precision was **0.884**.  \n",
    "Also, recall was **0.810**, accuracy was **0.851**, and the F1 score was **0.845**."
   ]
  }
 ],
 "metadata": {
  "kernelspec": {
   "display_name": "Python 3",
   "language": "python",
   "name": "python3"
  },
  "language_info": {
   "codemirror_mode": {
    "name": "ipython",
    "version": 3
   },
   "file_extension": ".py",
   "mimetype": "text/x-python",
   "name": "python",
   "nbconvert_exporter": "python",
   "pygments_lexer": "ipython3",
   "version": "3.6.3"
  }
 },
 "nbformat": 4,
 "nbformat_minor": 2
}
